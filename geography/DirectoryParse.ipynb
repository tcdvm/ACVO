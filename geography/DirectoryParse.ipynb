{
 "metadata": {
  "name": "Test"
 },
 "nbformat": 3,
 "nbformat_minor": 0,
 "worksheets": [
  {
   "cells": [
    {
     "cell_type": "code",
     "collapsed": false,
     "input": "import re\nfrom pandas import DataFrame, Series\nimport pandas as pd; import numpy as np\nfrom collections import defaultdict\nfrom pygeocoder import Geocoder\nimport json\n\nimport dataset\n%cd /Users/thomas/dev/acvo/membership_by_year/\n\ndb = dataset.connect('sqlite:///acvodips.db')\nacvodips = db['acvodips']\n",
     "language": "python",
     "metadata": {},
     "outputs": [
      {
       "output_type": "stream",
       "stream": "stdout",
       "text": "/Users/thomas/dev/acvo/membership_by_year\n"
      }
     ],
     "prompt_number": 4
    },
    {
     "cell_type": "code",
     "collapsed": false,
     "input": "directorytext = !pdf2txt.py directory14.pdf",
     "language": "python",
     "metadata": {},
     "outputs": [],
     "prompt_number": 5
    },
    {
     "cell_type": "raw",
     "metadata": {},
     "source": "Parse directory text for diplomate name & year, then grab all lines that aren't just artifacts of the conversion from the pdf file.\nExamples of artifacts are:\nPage numbers\nACVO 2014 DIRECTORY\nSingle letters (alphabetically organized file tabs or from MEMBERS BY LAST NAME backgwards and in a vertical column)\nAll lines after dip info stored for separate parsing\nDiplomate Class \n  Name\n  DipYear\n  ToParse[]"
    },
    {
     "cell_type": "code",
     "collapsed": false,
     "input": "def ignoreText(line):\n    r'^\\d+$'  # Page numbers\n    r'^\\w$'   # Single letters\n    r'ACVO 2014 DIRECTORY' # ACVO 2014 Directory (duh)\n    r'^\\s+$' # Just white space\n    r'^$'    # Empty line\n    return re.match(r'^\\d+$|^\\s*\\w$|ACVO 2014 DIRECTORY|^\\s+$|^$', strip_control_characters(line))\n\ndef strip_control_characters(input):  \n      \n    if input:  \n              \n        import re  \n          \n        # unicode invalid characters  \n        RE_XML_ILLEGAL = u'([\\u0000-\\u0008\\u000b-\\u000c\\u000e-\\u001f\\ufffe-\\uffff])' + \\\n                         u'|' + \\\n                         u'([%s-%s][^%s-%s])|([^%s-%s][%s-%s])|([%s-%s]$)|(^[%s-%s])' % \\\n                          (unichr(0xd800),unichr(0xdbff),unichr(0xdc00),unichr(0xdfff),  \n                           unichr(0xd800),unichr(0xdbff),unichr(0xdc00),unichr(0xdfff),  \n                           unichr(0xd800),unichr(0xdbff),unichr(0xdc00),unichr(0xdfff),  \n                           )  \n        input = re.sub(RE_XML_ILLEGAL, \"\", input)  \n                          \n        # ascii control characters  \n        input = re.sub(r\"[\\x01-\\x1F\\x7F]\", \"\", input)  \n              \n    return input \n\nclass addressLocation:\n    worknumber = \"\"\n    faxnumber = \"\"\n    webaddress = \"\"\n    geocode_results = \"\"\n    \n    def __init__(self):\n        self.address = []\n        \n    def to_string(self):\n        return \"Address: \" + ', '.join(self.address)\n\nclass AcvoDip:\n    name = \"\"\n    year = \"\"\n    homephone = \"\"\n    email = \"\"\n\n    def __init__(self):\n        self.toparse = []\n        self.addressLocations = []\n        \n    def __init__(self, directoryline):\n        self.toparse = []\n        self.addressLocations = []\n        self.name = directoryline.group(1).rstrip()\n        \n        if directoryline.group(2) != \"*\":\n            if int(directoryline.group(2)) > 13:\n                self.year = \"19\" + directoryline.group(2)\n            else:\n                self.year = \"20\" + directoryline.group(2)\n        else:\n            self.year = \"*\"\n    \n    def setHomePhone(self):\n        for line in self.toparse:\n            matchHphone = re.match(r'^H (.+)', line)\n            if matchHphone: \n                self.homephone = matchHphone.group(1)\n                self.toparse.remove(line)\n    \n    def setEmail(self):\n        for line in self.toparse:\n            matchEmail = re.match(r'^Email (.+)', line)\n            if matchEmail:\n                self.email = matchEmail.group(1)\n                self.toparse.remove(line)\n\n    def setAddresses(self):\n        # Determine if foreign country address\n        print \"Parsing data for \" + self.name + \"\\n\"\n        alocation = addressLocation()\n        index = 0\n        while (index <= len(self.toparse)-1):\n            matchEmail = re.match(r'^Email (.+)$', self.toparse[index])\n            if matchEmail:\n                print \"Email address: \" + matchEmail.group(1)\n                alocation.email = matchEmail.group(1)\n                index += 1\n                continue\n            matchFax = re.match(r'Fax (.*)', self.toparse[index])\n            if matchFax:\n                print \"Fax number: \" + matchFax.group(1)\n                alocation.faxnumber = matchFax.group(1)\n                index += 1\n                continue\n            matchWork = re.match(r'W (\\(?\\d\\d.*)', self.toparse[index])\n            if matchWork:\n                print \"Work number: \" + matchWork.group(1)\n                alocation.worknumber = matchWork.group(1)\n                index += 1\n                continue\n            matchWeb = re.match(r'Web (.*)', self.toparse[index])\n            if matchWeb:\n                print \"Web: \" + matchWeb.group(1)\n                alocation.webaddress = matchWeb.group(1)\n                index += 1\n                continue\n            matchNewAddress = re.match(r'^2nd|3rd|4th|5th|6th|7th Address Location', self.toparse[index])\n            if matchNewAddress:\n                print \"Another address for \" + self.name + \"\\n\"\n                self.addressLocations.append(alocation)\n                alocation = addressLocation()\n                index += 1\n                continue\n            alocation.address.append(self.toparse[index])\n            index += 1\n        self.addressLocations.append(alocation)\n        \n    def geocodeAddresses(self):\n        for al in self.addressLocations:\n            try:\n                al.geocode_results = Geocoder.geocode(', '.join(al.address))\n                print al.geocode_results[0].coordinates\n            except Exception as inst:\n                print type(inst)\n                print \"Geocode error for: \" + self.name + \"\\n\"",
     "language": "python",
     "metadata": {},
     "outputs": [],
     "prompt_number": 6
    },
    {
     "cell_type": "code",
     "collapsed": false,
     "input": "yearcounts = defaultdict()\ndips = []\ndip  = \"\"\nfor line in directorytext:\n    if ignoreText(line):\n        continue\n\n    matchDip = re.match(r'Dr\\.\\s(.+)\\s+\\((\\d\\d|\\*)\\)', line)\n    if matchDip:\n        if dip: \n            dips.append(dip)   # Add previous dip, need if statement to ignore initialized dip\n            \n        dip = AcvoDip(matchDip)    # Create new dip\n        \n        yearcounts[dip.name] = dip.year\n    else:\n        if dip:\n            dip.toparse.append(line)      # If not a new dip, then associate all subsequent lines to the \"toparse\" array\n\nprint \"Number of ACVO dips:\", len(dips)        \n        #         print \"Nothing found!!\"\n#        matchDip = re.match(r'Dr. (\\w+)\\*s\\(\\d\\d|\\*\\)', line)",
     "language": "python",
     "metadata": {},
     "outputs": [
      {
       "output_type": "stream",
       "stream": "stdout",
       "text": "Number of ACVO dips: 414\n"
      }
     ],
     "prompt_number": 7
    },
    {
     "cell_type": "code",
     "collapsed": false,
     "input": "for d in dips:\n    d.setHomePhone()\n    d.setEmail()\n    d.setAddresses()\n    d.geocodeAddresses()",
     "language": "python",
     "metadata": {},
     "outputs": [
      {
       "output_type": "stream",
       "stream": "stdout",
       "text": "Parsing data for Eva Abarca-Piedra\ufb01 ta\n\nWork number: 334-321-7873\n(32.5909562, -85.49297849999999)"
      },
      {
       "output_type": "stream",
       "stream": "stdout",
       "text": "\nParsing data for Kenneth Abrams\n\nWork number: 401-738-7337\nFax number: 401-738-4540\nWeb: www.eyecareforanimals.com\nAnother address for Kenneth Abrams\n\n<class 'pygeolib.GeocoderError'>"
      },
      {
       "output_type": "stream",
       "stream": "stdout",
       "text": "\nGeocode error for: Kenneth Abrams\n\n(55.419025, -3.15069)"
      },
      {
       "output_type": "stream",
       "stream": "stdout",
       "text": "\nParsing data for Peter Accola\n\nWork number: 262-542-3241\nFax number: 262-542-0805\nWeb: www.wvrc.com\n(43.042323, -88.2235199)"
      },
      {
       "output_type": "stream",
       "stream": "stdout",
       "text": "\nParsing data for Gregory M. Acland\n\nWork number: 610-444-4510\n(39.8940664, -75.7299519)"
      },
      {
       "output_type": "stream",
       "stream": "stdout",
       "text": "\nParsing data for Elizabeth Adkins\n\nWork number: 703-281-2277\nFax number: 703-242-4777\nWeb: www.hopecenter.com\n(38.902473, -77.261112)"
      },
      {
       "output_type": "stream",
       "stream": "stdout",
       "text": "\nParsing data for Debra Agapito\n\nWork number: 44-0-1253-895-899\n(53.8501319, -2.990942)"
      },
      {
       "output_type": "stream",
       "stream": "stdout",
       "text": "\nParsing data for Gustavo D. Aguirre\n\nWork number: 215-898-4667\nFax number: 215-573-6050\nWeb: www.vet.upenn.edu/ryanveterinaryhospital\n(39.9583587, -75.1953934)"
      },
      {
       "output_type": "stream",
       "stream": "stdout",
       "text": "\nParsing data for Terri Alessio\n\nWork number: 509-335-0711\nFax number: 509-335-3330\nWeb: www.vetmed.wsu.edu\n(46.7288342, -117.1590185)"
      },
      {
       "output_type": "stream",
       "stream": "stdout",
       "text": "\nParsing data for Rachel Allbaugh\n\nWork number: 515-294-4900\nFax number: 515-294-7520\nWeb: www.vetmed.iastate.edu/users/allbaugh\n(42.0082591, -93.5904288)"
      },
      {
       "output_type": "stream",
       "stream": "stdout",
       "text": "\nParsing data for Stacy Andrew\n\nWork number: 404-459-0903\nFax number: 404-459-6462\nWeb: www.bluepearlvet.com\n(33.936791, -84.373155)"
      },
      {
       "output_type": "stream",
       "stream": "stdout",
       "text": "\nParsing data for Matt Annear\n\nWork number: 856-429-4394\nWeb: www.rbvhcherryhill.net\n(40.3470543, -74.0643065)"
      },
      {
       "output_type": "stream",
       "stream": "stdout",
       "text": "\nParsing data for Susette Aquino\n\nWork number: 248-354-6660\nFax number: 248-354-0303\nWeb: www.michvet.com\n(42.4966195, -83.2880591)"
      },
      {
       "output_type": "stream",
       "stream": "stdout",
       "text": "\nParsing data for Anna-Michelle (Micki) Armour\n\nWork number: 571-209-1190\nFax number: 571-209-1191\nWeb: www.eyecareforanimals.com\n(39.109101, -77.5402)"
      },
      {
       "output_type": "stream",
       "stream": "stdout",
       "text": "\nParsing data for Trevor Arnold\n\nWork number: 970-461-0909\nFax number: 970-461-0027\n(40.46122030000001, -105.0791772)"
      },
      {
       "output_type": "stream",
       "stream": "stdout",
       "text": "\nParsing data for Marcella Ashton\n\nWork number: (951)-600-9803\nFax number: (951)-600-7758\nWeb: www.calvetspec.com\nAnother address for Marcella Ashton\n\nWork number: (760)-431-2273\nFax number: (760)-431-1084\nWeb: www.calvetspec.com\n(33.5262326, -117.3381427)"
      },
      {
       "output_type": "stream",
       "stream": "stdout",
       "text": "\n(33.135968, -117.276268)"
      },
      {
       "output_type": "stream",
       "stream": "stdout",
       "text": "\nParsing data for Marcia Aubin\n\nWork number: 401-886-6787\nFax number: 401-886-8998\nAnother address for Marcia Aubin\n\n(41.6562756, -71.49656689999999)"
      },
      {
       "output_type": "stream",
       "stream": "stdout",
       "text": "\n(41.6662679, -70.195457)"
      },
      {
       "output_type": "stream",
       "stream": "stdout",
       "text": "\nParsing data for Alan Bachrach, Jr\n\nWork number: 978-724-0300\nFax number: 978-724-3384\n<class 'pygeolib.GeocoderError'>"
      },
      {
       "output_type": "stream",
       "stream": "stdout",
       "text": "\nGeocode error for: Alan Bachrach, Jr\n\nParsing data for Larry Bagley\n\nWork number: 412-366-3400\nFax number: 412-366-3489\nWeb: www.pvs-ec.com\n(40.52307, -80.075268)"
      },
      {
       "output_type": "stream",
       "stream": "stdout",
       "text": "\nParsing data for Terri Baldwin\n\nWork number: 972-267-4100\nFax number: 972-267-4200\nWeb: www.eyedvm.com\n(32.98915600000001, -96.832466)"
      },
      {
       "output_type": "stream",
       "stream": "stdout",
       "text": "\nParsing data for Laura Barnes\n\nWork number: 512-892-9038\nFax number: 512-892-7811\nWeb: www.ctvsh.com/services/ophthalmology\nAnother address for Laura Barnes\n\nWork number: 512-892-9038\n(30.23142, -97.79574900000001)"
      },
      {
       "output_type": "stream",
       "stream": "stdout",
       "text": "\n(30.507974, -97.68897199999999)"
      },
      {
       "output_type": "stream",
       "stream": "stdout",
       "text": "\nParsing data for Paul M. Barrett\n\nWork number: 602-995-2871\nFax number: 602-995-1770\nWeb: www.eyecareforanimals.com\nAnother address for Paul M. Barrett\n\nWork number: 480-424-3947\nFax number: 480-429-6277\nAnother address for Paul M. Barrett\n\nWork number: 619-702-3937\nWeb: www.eyecareforanimals.com\n(33.5543055, -112.1096701)"
      },
      {
       "output_type": "stream",
       "stream": "stdout",
       "text": "\n(33.5243639, -111.8985922)"
      },
      {
       "output_type": "stream",
       "stream": "stdout",
       "text": "\n(32.833539, -117.15374)"
      },
      {
       "output_type": "stream",
       "stream": "stdout",
       "text": "\nParsing data for Kathleen Barrie\n\nWork number: 813-885-7071\nFax number: 813-884-0714\nWeb: www.sunshineanimalhospital.com\n(28.0258489, -82.5696536)"
      },
      {
       "output_type": "stream",
       "stream": "stdout",
       "text": "\nParsing data for Joshua Bartoe\n\nWork number: 517-353-5420\nFax number: 517-355-6570\nWeb: www.cvm.msu.edu\n(42.7215465, -84.46972749999999)"
      },
      {
       "output_type": "stream",
       "stream": "stdout",
       "text": "\nParsing data for Bianca Bauer\n\nWork number: 306-966-7126\n(52.1333827, -106.6308117)"
      },
      {
       "output_type": "stream",
       "stream": "stdout",
       "text": "\nParsing data for Brady Beale\n\nWork number: 610-647-2950\nFax number: 610-300-5056\nWeb: www.vetreferral.com\n(40.0379999, -75.551704)"
      },
      {
       "output_type": "stream",
       "stream": "stdout",
       "text": "\nParsing data for Stephanie Beaumont\n\nWork number: 972-437-3937\nFax number: 972-437-3938\nWeb: www.PetEyeVet.com\n(32.97602940000001, -96.7386946)"
      },
      {
       "output_type": "stream",
       "stream": "stdout",
       "text": "\nParsing data for Ellen Belknap\n\nWork number: 614-588-6852\nFax number: 614-310-6167\n(40.160585, -83.059429)"
      },
      {
       "output_type": "stream",
       "stream": "stdout",
       "text": "\nParsing data for Roy Bellhorn\n\n(38.5265287, -122.0196604)"
      },
      {
       "output_type": "stream",
       "stream": "stdout",
       "text": "\nParsing data for Gil Ben-Shlomo\n\nWork number: 515-290-1060\nWeb: www.vetmed.iastate.edu/vmc/small-animal/\n(41.8780025, -93.097702)"
      },
      {
       "output_type": "stream",
       "stream": "stdout",
       "text": "\nParsing data for Ellison Bentley\n\nWork number: 608-262-6366\nFax number: 608-263-7930\n(43.0750758, -89.42018379999999)"
      },
      {
       "output_type": "stream",
       "stream": "stdout",
       "text": "\nParsing data for Andrew Berdoulay\n\nWork number: 757-873-9060\nFax number: 757-596-6060\nWeb: www.aecassociates.com\n(37.1224466, -76.4447397)"
      },
      {
       "output_type": "stream",
       "stream": "stdout",
       "text": "\nParsing data for Caroline Betbeze\n\nWork number: 662-325-3432\nFax number: 665-325-4011\nAnother address for Caroline Betbeze\n\nWork number: 662-325-7339\n(33.45622, -88.79570799999999)"
      },
      {
       "output_type": "stream",
       "stream": "stdout",
       "text": "\n(33.4626679, -88.8954662)"
      },
      {
       "output_type": "stream",
       "stream": "stdout",
       "text": "\nParsing data for Daniel M. Betts\n\nWork number: 515-275-2943\n(42.0009662, -93.9443517)"
      },
      {
       "output_type": "stream",
       "stream": "stdout",
       "text": "\nParsing data for Daniel Binder\n\nWork number: 410-414-8060\nFax number: 410-702-5021\nWeb: www.aecassociates.com\nAnother address for Daniel Binder\n\nWork number: 410-244-4260\nFax number: 410-224-4946\nWeb: www.aecassociates.com/directions_Annapolis.html\n(38.621077, -76.612776)"
      },
      {
       "output_type": "stream",
       "stream": "stdout",
       "text": "\n(38.9859565, -76.5622065)"
      },
      {
       "output_type": "stream",
       "stream": "stdout",
       "text": "\nParsing data for David P. Bingaman\n\nWork number: 817-597-1902\nFax number: 817-597-1902\n(32.79513, -97.8323209)"
      },
      {
       "output_type": "stream",
       "stream": "stdout",
       "text": "\nParsing data for Daniel Biros\n\nWork number: 617-541-5095\nWeb: www.mspca.org\n(42.32321779999999, -71.1111603)"
      },
      {
       "output_type": "stream",
       "stream": "stdout",
       "text": "\nParsing data for Stephen I. Bistner\n\nWork number: 612-382-0342\n(45.0956029, -93.5115409)"
      },
      {
       "output_type": "stream",
       "stream": "stdout",
       "text": "\nParsing data for Sarah Blackwood\n\nWork number: 305-652-0448\nFax number: 306-652-0425\nAnother address for Sarah Blackwood\n\nWork number: 954-421-5099\nFax number: 954-421-9339\n(25.9615546, -80.20583309999999)"
      },
      {
       "output_type": "stream",
       "stream": "stdout",
       "text": "\n(26.3042864, -80.15402259999999)"
      },
      {
       "output_type": "stream",
       "stream": "stdout",
       "text": "\nParsing data for Michael J. Blair\n\nWork number: 804-355-5594\nFax number: 804-213-0339\nWeb: www.aecrichmond.com\n(37.554826, -77.48452999999999)"
      },
      {
       "output_type": "stream",
       "stream": "stdout",
       "text": "\nParsing data for Cassandra Bliss\n\nWork number: 616-284-5300\nFax number: 616-284-5320\n(42.9709019, -85.63366970000001)"
      },
      {
       "output_type": "stream",
       "stream": "stdout",
       "text": "\nParsing data for Tiffany Blocker\n\n(33.736508, -117.764646)"
      },
      {
       "output_type": "stream",
       "stream": "stdout",
       "text": "\nParsing data for Rowan Blogg\n\nWork number: 61-3-95009915\n(-37.863538, 145.047806)"
      },
      {
       "output_type": "stream",
       "stream": "stdout",
       "text": "\nParsing data for Paule Blouin\n\nWork number: 450-923-0103\nFax number: 450-923-0861\n(45.4820101, -73.4843776)"
      },
      {
       "output_type": "stream",
       "stream": "stdout",
       "text": "\nParsing data for Mark Bobofchak\n\nWork number: 330-670-1300\nFax number: 330-670-8062\nWeb: www.eyecareforanimals.com\n(41.099817, -81.64900999999999)"
      },
      {
       "output_type": "stream",
       "stream": "stdout",
       "text": "\nParsing data for Kathleen Boldy\n\nWork number: 310-571-9151\nFax number: 310-571-9171\n(34.0533807, -118.4661954)"
      },
      {
       "output_type": "stream",
       "stream": "stdout",
       "text": "\nParsing data for Ann Bosiack\n\nWork number: 804-355-5594\nWeb: www.aecrichmond.com\n<class 'pygeolib.GeocoderError'>"
      },
      {
       "output_type": "stream",
       "stream": "stdout",
       "text": "\nGeocode error for: Ann Bosiack\n\nParsing data for Shannon Boveland\n\nWork number: 334-727-8436\nFax number: 334-724-4305\n(32.63857780000001, -85.44129029999999)"
      },
      {
       "output_type": "stream",
       "stream": "stdout",
       "text": "\nParsing data for Jeff Bowersox\n\nWork number: 302-322-6933\nFax number: 302-322-6883\nWeb: www.vscdel.com\nAnother address for Jeff Bowersox\n\nWork number: 302-387-1160\nWeb: www.vscdel.com\n(39.6751845, -75.62238359999999)"
      },
      {
       "output_type": "stream",
       "stream": "stdout",
       "text": "\n(39.1184855, -75.5045648)"
      },
      {
       "output_type": "stream",
       "stream": "stdout",
       "text": "\nParsing data for Dineli Bras\n\nWork number: 787-708-4545\nFax number: 787-708-4878\nWeb: www.cevet.net\n<class 'pygeolib.GeocoderError'>"
      },
      {
       "output_type": "stream",
       "stream": "stdout",
       "text": "\nGeocode error for: Dineli Bras\n\nParsing data for Carrie Breaux\n\nWork number: 208-375-1600\nFax number: 208-375-1606\nWeb: www.westvet.net\n(43.643789, -116.266167)"
      },
      {
       "output_type": "stream",
       "stream": "stdout",
       "text": "\nParsing data for Alan H. Brightman\n\nWork number: 920-843-2200\nAnother address for Alan H. Brightman\n\nWork number: 319 364-7149\nFax number: 319 364-4736\nWeb: www.freypethospital.com\nAnother address for Alan H. Brightman\n\nWork number: 907-274-5636\nFax number: 907-344-0561\nWeb: www.highlandanimalclinic.com\n(30.045513, -95.169072)"
      },
      {
       "output_type": "stream",
       "stream": "stdout",
       "text": "\n(41.9628482, -91.70317659999999)"
      },
      {
       "output_type": "stream",
       "stream": "stdout",
       "text": "\n(61.1148306, -149.8644934)"
      },
      {
       "output_type": "stream",
       "stream": "stdout",
       "text": "\nParsing data for Julius Brinkis\n\nWork number: 949-733-8271\nFax number: 949-733-8270\nWeb: www.eyecareforanimals.com\n(33.7071227, -117.8062205)"
      },
      {
       "output_type": "stream",
       "stream": "stdout",
       "text": "\nParsing data for Michael C. Brinkmann\n\nWork number: 702-457-6523\nFax number: 702-457-8247\nWeb: www.voslasvegas.net\n(36.144528, -115.122512)"
      },
      {
       "output_type": "stream",
       "stream": "stdout",
       "text": "\nParsing data for Josh Broadwater\n\nWork number: 561-967-5966\nFax number: 561-967-9490\n(26.6511849, -80.09480669999999)"
      },
      {
       "output_type": "stream",
       "stream": "stdout",
       "text": "\nParsing data for J. Daniel Brogdon\n\nWork number: 912-236-2050\nFax number: 912-236-2097\nWeb: www.georgiaeyevet.com\nAnother address for J. Daniel Brogdon\n\nWork number: 770-778-1013\nWeb: www.georgiaeyevet.com\n(32.0625918, -81.1591387)"
      },
      {
       "output_type": "stream",
       "stream": "stdout",
       "text": "\n(33.4601242, -84.4212715)"
      },
      {
       "output_type": "stream",
       "stream": "stdout",
       "text": "\nParsing data for Nancy Bromberg\n\nWork number: 703-752-9100\nFax number: 703-752-9207\nWeb: www.vcasouthpaws.com\nAnother address for Nancy Bromberg\n\nWork number: 540-286-2855\n(38.866321, -77.23673)"
      },
      {
       "output_type": "stream",
       "stream": "stdout",
       "text": "\n(38.35615, -77.5247289)"
      },
      {
       "output_type": "stream",
       "stream": "stdout",
       "text": "\nParsing data for Dennis E. Brooks\n\nWork number: 352-392-2235\nWeb: www.vetmed.u\ufb02 .edu\nAnother address for Dennis E. Brooks\n\n(29.632096, -82.3490638)"
      },
      {
       "output_type": "stream",
       "stream": "stdout",
       "text": "\n(29.739061, -82.515745)"
      },
      {
       "output_type": "stream",
       "stream": "stdout",
       "text": "\nParsing data for Daniel J. Brown\n\nWork number: 904-998-7805\nFax number: 904-998-8705\nWeb: www.animaleyevets.com\nAnother address for Daniel J. Brown\n\nWork number: 904-278-7850\nFax number: 904-278-7803\nWeb: www.animaleyevets.com\n(30.283077, -81.560051)"
      },
      {
       "output_type": "stream",
       "stream": "stdout",
       "text": "\n(30.188781, -81.712537)"
      },
      {
       "output_type": "stream",
       "stream": "stdout",
       "text": "\nParsing data for Michael H. Brown\n\nWork number: 973-890-4430\nFax number: 973-890-4876\nWeb: www.animaleyesofnj.com\nAnother address for Michael H. Brown\n\nWork number: 201-262-0010\nFax number: 201-262-4275\nWeb: www.oradell.com\nAnother address for Michael H. Brown\n\nWork number: 908-707-9077\nFax number: 908-707-4146\nWeb: www.animerge.net\n(40.87537, -74.202389)"
      },
      {
       "output_type": "stream",
       "stream": "stdout",
       "text": "\n(40.9603589, -74.070871)"
      },
      {
       "output_type": "stream",
       "stream": "stdout",
       "text": "\n(40.57152, -74.62651699999999)"
      },
      {
       "output_type": "stream",
       "stream": "stdout",
       "text": "\nParsing data for Gary M. Bryan\n\nWork number: 208-882-9350\nFax number: 208-882-7155\nWeb: www.vetospec.com\n(46.73238749999999, -117.0001651)"
      },
      {
       "output_type": "stream",
       "stream": "stdout",
       "text": "\nParsing data for Carl Budelsky\n\nWork number: 317-578-4100\nFax number: 317-578-4900\nWeb: www.vcaspecialtyvets.com\n(39.9288658, -86.03458959999999)"
      },
      {
       "output_type": "stream",
       "stream": "stdout",
       "text": "\nParsing data for Kent Burgesser\n\nWork number: 585-424-1260\nFax number: 585-424-1335\nWeb: www.vetspecialistsofrochester.com\nAnother address for Kent Burgesser\n\nWork number: 315-446-7933\nFax number: 315-446-0920\n(43.10301219999999, -77.6159953)"
      },
      {
       "output_type": "stream",
       "stream": "stdout",
       "text": "\n(43.0968443, -76.0507949)"
      },
      {
       "output_type": "stream",
       "stream": "stdout",
       "text": "\nParsing data for Kristina Burling\n\nWork number: 408-871-2100\nFax number: 408-871-2288\nWeb: www.animaleyespecialists.com\n(37.2746345, -121.9505799)"
      },
      {
       "output_type": "stream",
       "stream": "stdout",
       "text": "\nParsing data for Rebecca Burwell\n\nWork number: 707-571-8442\nFax number: 707-571-8475\nWeb: www.eyecareforanimals.com\nAnother address for Rebecca Burwell\n\nWork number: 707-571-8442\nFax number: 707-571-8475\n(38.4666235, -122.7281477)"
      },
      {
       "output_type": "stream",
       "stream": "stdout",
       "text": "\n(37.9232678, -122.5122737)"
      },
      {
       "output_type": "stream",
       "stream": "stdout",
       "text": "\nParsing data for Dylan Buss\n\nWork number: 780-587-1540\nWeb: www.guardianvetcentre.com/index.cfm\nAnother address for Dylan Buss\n\nWork number: 780-436-5880\nWeb: www.guardianvetcentre.com/index.cfm\n(53.4582636, -113.5108928)"
      },
      {
       "output_type": "stream",
       "stream": "stdout",
       "text": "\n(53.4927144, -113.4871181)"
      },
      {
       "output_type": "stream",
       "stream": "stdout",
       "text": "\nParsing data for Martin Bussieres\n\nWork number: 514-880-0221\n(45.4245101, -74.18238649999999)"
      },
      {
       "output_type": "stream",
       "stream": "stdout",
       "text": "\nParsing data for Nedim C. Buyukmihci\n\n(55.378051, -3.435973)"
      },
      {
       "output_type": "stream",
       "stream": "stdout",
       "text": "\nParsing data for Sara Calvarese\n\nWork number: 909-949-9200\nFax number: 909-949-4230\nWeb: www.eyecareforanimals.com\n(34.0886165, -117.6517589)"
      },
      {
       "output_type": "stream",
       "stream": "stdout",
       "text": "\nParsing data for David D. Canton\n\nWork number: 707-449-8092\nFax number: 707-449-8468\nWeb: www.vet4eyes.com\n(38.348533, -121.9847235)"
      },
      {
       "output_type": "stream",
       "stream": "stdout",
       "text": "\nParsing data for Susan M. Carastro\n\nWork number: 561-967-5966\nFax number: 561-967-9490\nAnother address for Susan M. Carastro\n\nWork number: 954-421-5099\nFax number: 954-421-9339\n(26.6511849, -80.09480669999999)"
      },
      {
       "output_type": "stream",
       "stream": "stdout",
       "text": "\n(26.3042864, -80.15402259999999)"
      },
      {
       "output_type": "stream",
       "stream": "stdout",
       "text": "\nParsing data for Michel Carrier\n\nWork number: 450-773-8521 x8246\nFax number: 450-778-8101\nWeb: www.medvet.umontreal.ca\n(45.6234751, -72.949617)"
      },
      {
       "output_type": "stream",
       "stream": "stdout",
       "text": "\nParsing data for James D. Carter\n\nWork number: 850-460-2045\n(30.3772626, -86.3743186)"
      },
      {
       "output_type": "stream",
       "stream": "stdout",
       "text": "\nParsing data for Renee Carter\n\nWork number: 225-227-2967\nFax number: 225-636-5768\nWeb: www.brvetspecialists.com\n(30.41870979999999, -91.0514791)"
      },
      {
       "output_type": "stream",
       "stream": "stdout",
       "text": "\nParsing data for Kelly Caruso\n\nWork number: 417688383\nAnother address for Kelly Caruso\n\nWork number: 02-9436-4884\n(-33.735109, 151.035951)"
      },
      {
       "output_type": "stream",
       "stream": "stdout",
       "text": "\n(-33.8227739, 151.1988729)"
      },
      {
       "output_type": "stream",
       "stream": "stdout",
       "text": "\nParsing data for Nicholas Cassotis\n\nWork number: 603-433-0056\nFax number: 603-433-0029\nWeb: www.ivghospitals.com/hospital/port-city-veterinary-\n<class 'pygeolib.GeocoderError'>"
      },
      {
       "output_type": "stream",
       "stream": "stdout",
       "text": "\nGeocode error for: Nicholas Cassotis\n\nParsing data for Erin Champagne\n\nWork number: 540-231-4621\nFax number: 540-231-1676\n(37.2217458, -80.42759339999999)"
      },
      {
       "output_type": "stream",
       "stream": "stdout",
       "text": "\nParsing data for Matthew Chandler\n\nWork number: 904-998-7805\nFax number: 904-998-8705\nWeb: www.animaleyevets.com\nAnother address for Matthew Chandler\n\nWork number: 904-278-7850\nFax number: 904-278-7803\n(30.2833767, -81.5596647)"
      },
      {
       "output_type": "stream",
       "stream": "stdout",
       "text": "\n(30.188781, -81.712537)"
      },
      {
       "output_type": "stream",
       "stream": "stdout",
       "text": "\nParsing data for K. Michael Chang\n\nWork number: 310-473-2951\nFax number: 310-979-5400\nWeb: http://www.vcahospitals.com/west-los-angeles\n(34.045854, -118.442363)"
      },
      {
       "output_type": "stream",
       "stream": "stdout",
       "text": "\nParsing data for Christin Chapman\n\nWork number: 310-533-3937\nFax number: 323-638-0381\nWeb: www.eyecareforanimals.com\n(33.8725684, -118.3500888)"
      },
      {
       "output_type": "stream",
       "stream": "stdout",
       "text": "\nParsing data for Matthew Chavkin\n\nWork number: 303-874-2070\nFax number: 303-874-3204\nWeb: www.vrcc.com\n(39.6523287, -104.9988105)"
      },
      {
       "output_type": "stream",
       "stream": "stdout",
       "text": "\nParsing data for Thomas Chen\n\nWork number: 770-277-8600\n(34.0000951, -84.03850659999999)"
      },
      {
       "output_type": "stream",
       "stream": "stdout",
       "text": "\nParsing data for Jane Cho\n\nWork number: 914-674-4141\nFax number: 914-674-4140\nWeb: www.vesny.com\n(41.0180413, -73.84409149999999)"
      },
      {
       "output_type": "stream",
       "stream": "stdout",
       "text": "\nParsing data for Melanie Church\n\nWork number: 401-738-7337\nFax number: 401-738-4540\n<class 'pygeolib.GeocoderError'>"
      },
      {
       "output_type": "stream",
       "stream": "stdout",
       "text": "\nGeocode error for: Melanie Church\n\nParsing data for James M. Clinton\n\nWork number: 609-654-0300\nFax number: 609-714-1479\nWeb: www.animaleyeclinic.us\n<class 'pygeolib.GeocoderError'>"
      },
      {
       "output_type": "stream",
       "stream": "stdout",
       "text": "\nGeocode error for: James M. Clinton\n\nParsing data for Alison Clode\n\nWork number: 919-513-6659\nFax number: 919-513-6711\n(35.7968851, -78.7040425)"
      },
      {
       "output_type": "stream",
       "stream": "stdout",
       "text": "\nParsing data for Carmen Colitz\n\nWork number: 561-741-4041\nFax number: 561-741-4043\nWeb: www.jupiterpet.com and www.ocuglo.com\n(26.930945, -80.134838)"
      },
      {
       "output_type": "stream",
       "stream": "stdout",
       "text": "\nParsing data for Linda L. Collier\n\nWork number: 509-547-2272\nFax number: 509-547-9630\nAnother address for Linda L. Collier\n\n(46.2786105, -119.2071823)"
      },
      {
       "output_type": "stream",
       "stream": "stdout",
       "text": "\n(46.198606, -119.250553)"
      },
      {
       "output_type": "stream",
       "stream": "stdout",
       "text": "\nParsing data for Keith Collins\n\nWork number: 262-754-3550\nFax number: 262-754-3551\nWeb: www.eyecareforanimals.com\n(43.084782, -88.17457300000001)"
      },
      {
       "output_type": "stream",
       "stream": "stdout",
       "text": "\nParsing data for Anne Grimsley Cook\n\nWork number: 843-881-2242\nFax number: 843-881-2243\nWeb: www.animaleyecareofthelowcountry.com\nAnother address for Anne Grimsley Cook\n\nWork number: 843-881-2242\nFax number: 843-881-2243\nWeb: animaleyecareofthelowcountry.com\n(32.813896, -79.867215)"
      },
      {
       "output_type": "stream",
       "stream": "stdout",
       "text": "\n(33.7070405, -78.8948741)"
      },
      {
       "output_type": "stream",
       "stream": "stdout",
       "text": "\nParsing data for Cynthia Cook\n\nWork number: 650-551-1115\nFax number: 650-551-0100\nWeb: www.veterinaryvision.com\nAnother address for Cynthia Cook\n\nWork number: 650-551-1115\nFax number: 650-551-0100\nWeb: www.veterinaryvision.com\n(37.5181194, -122.2646941)"
      },
      {
       "output_type": "stream",
       "stream": "stdout",
       "text": "\n(37.7432421, -122.497668)"
      },
      {
       "output_type": "stream",
       "stream": "stdout",
       "text": "\nParsing data for Pennie Cooley\n\nWork number: 360-866-0931\nFax number: 360-867-1269\n(47.0581594, -122.9417669)"
      },
      {
       "output_type": "stream",
       "stream": "stdout",
       "text": "\nParsing data for Christa Robinson Corbett\n\nWork number: 518-783-3198\nFax number: 518-783-3199\nWeb: www.uvsonline.com\n(42.7401245, -73.7380275)"
      },
      {
       "output_type": "stream",
       "stream": "stdout",
       "text": "\nParsing data for Kelley Corcoran\n\nWork number: 703-246-0009\n(38.8515707, -77.33126759999999)"
      },
      {
       "output_type": "stream",
       "stream": "stdout",
       "text": "\nParsing data for Amanda Corr\n\nWork number: 610-666-1050\nFax number: 610-666-1199\n(40.1232721, -75.41602879999999)"
      },
      {
       "output_type": "stream",
       "stream": "stdout",
       "text": "\nParsing data for Martin Coster\n\nWork number: 617-541-5095\nFax number: 617-989-1674\nWeb: www.angell.org/eyes\n(42.32321779999999, -71.1111603)"
      },
      {
       "output_type": "stream",
       "stream": "stdout",
       "text": "\nParsing data for Nancy B. Cottrill\n\nWork number: 781-932-5802\nFax number: 781-932-5837\nWeb: www.ivghospitals.com\n(42.50852099999999, -71.135705)"
      },
      {
       "output_type": "stream",
       "stream": "stdout",
       "text": "\nParsing data for Bill Crumley\n\nWork number: 215-746-8387\nFax number: 215-573-9457\nWeb: www.vet.upenn.edu\n(39.9499109, -75.2000152)"
      },
      {
       "output_type": "stream",
       "stream": "stdout",
       "text": "\nParsing data for Cheryl L. Cullen\n\nWork number: 506-204-8433\nFax number: 506-204-8633\nWeb: www.cullenwebb.com\n(46.0517255, -64.7948333)"
      },
      {
       "output_type": "stream",
       "stream": "stdout",
       "text": "\nParsing data for Tim J. Cutler\n\nWork number: 561-603-1115\nFax number: 866-751-4980\nWeb: www.equineeyecare.com\nAnother address for Tim J. Cutler\n\nWork number: 561-434-5700\nFax number: 866-751-4980\nWeb: www.palmbeachvetspecialists.com\nAnother address for Tim J. Cutler\n\nWork number: 561-434-5700\nFax number: 866-751-4980\nWeb: www.coralspringsanimalhosp.com\n(26.6800469, -80.294867)"
      },
      {
       "output_type": "stream",
       "stream": "stdout",
       "text": "\n(26.6512576, -80.10210479999999)"
      },
      {
       "output_type": "stream",
       "stream": "stdout",
       "text": "\n(26.257594, -80.251278)"
      },
      {
       "output_type": "stream",
       "stream": "stdout",
       "text": "\nParsing data for Katherine Cutter\n\nWork number: 505-292-3600\n(35.626219, -105.941569)"
      },
      {
       "output_type": "stream",
       "stream": "stdout",
       "text": "\nParsing data for Paul D. da Costa\n\nWork number: 504-460-7358\nFax number: 504-483-8706\nWeb: www.eyecenterforanimals.com\nAnother address for Paul D. da Costa\n\nWork number: 504-483-8704\nFax number: 504-483-8706\n(29.9919028, -90.0795843)"
      },
      {
       "output_type": "stream",
       "stream": "stdout",
       "text": "\n(29.9738923, -90.09077049999999)"
      },
      {
       "output_type": "stream",
       "stream": "stdout",
       "text": "\nParsing data for Jeannette M. A. da Silva Curiel\n\nWork number: 805-388-3933\nFax number: 805-383-6687\nWeb: www.eyevet.com\nWork number: 0044 1833741440\nAnother address for Jeannette M. A. da Silva Curiel\n\n(51.2502098, -0.1044575)"
      },
      {
       "output_type": "stream",
       "stream": "stdout",
       "text": "\n(33.9336259, -83.3845259)"
      },
      {
       "output_type": "stream",
       "stream": "stdout",
       "text": "\nParsing data for Dennis Donohue\n\nWork number: 508-897-0505\nFax number: 508-897-0404\nWeb: www.vet-eyespecialists.com\n<class 'pygeolib.GeocoderError'>"
      },
      {
       "output_type": "stream",
       "stream": "stdout",
       "text": "\nGeocode error for: Dennis Donohue\n\nParsing data for Steven J. Dugan\n\nWork number: 303-759-0862\nFax number: 303-759-1032\nWeb: www.eyespecialistsforanimals.com\nAnother address for Steven J. Dugan\n\nWork number: 719-597-9393\nFax number: 719-597-6410\n(39.675241, -104.9387689)"
      },
      {
       "output_type": "stream",
       "stream": "stdout",
       "text": "\n(38.8890818, -104.7618213)"
      },
      {
       "output_type": "stream",
       "stream": "stdout",
       "text": "\nParsing data for J. Seth Eaton\n\nWork number: 530-219-6047\nWeb: www.ocularservices.com\n(33.530204, -117.759266)"
      },
      {
       "output_type": "stream",
       "stream": "stdout",
       "text": "\nParsing data for Jesse Eichenbaum\n\nWork number: 704-504-9608\nFax number: 704-504-9606\nWeb: www.carolinavet.com\n(35.132522, -80.942032)"
      },
      {
       "output_type": "stream",
       "stream": "stdout",
       "text": "\nParsing data for Harriet J. Davidson\n\nWork number: 616-538-9700 \n(42.8948162, -85.6897121)"
      },
      {
       "output_type": "stream",
       "stream": "stdout",
       "text": "\nParsing data for Michael Davidson\n\nWork number: 919-513-6211\nFax number: 919-513-6452\nWeb: www.cvm.ncsu.edu/vth/clinical_services/ophthal/\n(35.79849430000001, -78.7040856)"
      },
      {
       "output_type": "stream",
       "stream": "stdout",
       "text": "\nParsing data for Dustin Dees\n\nWork number: 512-335-3937\nFax number: 512-628-9006\nWeb: www.eyecareforanimals.com\n(30.4114162, -97.6915904)"
      },
      {
       "output_type": "stream",
       "stream": "stdout",
       "text": "\nParsing data for Heidi Denis\n\nWork number: 407-629-0044\nFax number: 407-629-0602\n(28.6277767, -81.36312439999999)"
      },
      {
       "output_type": "stream",
       "stream": "stdout",
       "text": "\nParsing data for Kathryn Diehl\n\nWork number: 608-274-7772\nFax number: 608-274-5771\nWeb: www.mvsvets.com\n(43.0371397, -89.386556)"
      },
      {
       "output_type": "stream",
       "stream": "stdout",
       "text": "\nParsing data for Ursula Dietrich\n\n<class 'pygeolib.GeocoderError'>"
      },
      {
       "output_type": "stream",
       "stream": "stdout",
       "text": "\nGeocode error for: Ursula Dietrich\n\nParsing data for Robert English\n\nWork number: 919-319-3348\nFax number: 919-319-3371\nWeb: www.animaleyecarenc.com\nAnother address for Robert English\n\nWork number: 919-319-3348\nFax number: 919-319-3371\nWeb: www.animaleyecarenc.com\n(35.743796, -78.759385)"
      },
      {
       "output_type": "stream",
       "stream": "stdout",
       "text": "\n(36.0138517, -78.9571271)"
      },
      {
       "output_type": "stream",
       "stream": "stdout",
       "text": "\nParsing data for Filipe Espinheira\n\nWork number: 225-478-9600\nFax number: 225-578-9559\n(30.4119806, -91.1909785)"
      },
      {
       "output_type": "stream",
       "stream": "stdout",
       "text": "\nParsing data for Doug Esson\n\nWork number: 949-733-8271\nFax number: 909-949-4230\nWeb: www.eyecareforanimals.com\n(33.7071227, -117.8062205)"
      },
      {
       "output_type": "stream",
       "stream": "stdout",
       "text": "\nParsing data for Paige Evans\n\nWork number: 310-558-6150\nFax number: 310-558-6151\nWeb: www.eyecareforanimals.com\nAnother address for Paige Evans\n\nWork number: 310-558-6150\nWeb: www.eyecareforanimals.com\n(34.017277, -118.3880272)"
      },
      {
       "output_type": "stream",
       "stream": "stdout",
       "text": "\n(34.171751, -118.5704275)"
      },
      {
       "output_type": "stream",
       "stream": "stdout",
       "text": "\nParsing data for Nick Faber\n\nWork number: 916-364-1888\nFax number: 916-364-1880\nWeb: www.animalvisioncenter.com\n(38.57542, -121.308553)"
      },
      {
       "output_type": "stream",
       "stream": "stdout",
       "text": "\nParsing data for Christin Fahrer\n\nWork number: 310-558-6150\nFax number: 310-558-6151\nWeb: www.eyecareforanimals.com\n(34.017277, -118.3880272)"
      },
      {
       "output_type": "stream",
       "stream": "stdout",
       "text": "\nParsing data for Lisa Felchle\n\nWork number: 480-635-1110\nFax number: 480-365-0680\nWeb: www.eyecareforanimals.com\n(33.360087, -111.791687)"
      },
      {
       "output_type": "stream",
       "stream": "stdout",
       "text": "\nParsing data for Matthew Fife\n\nWork number: 407-329-3336\nFax number: 407-329-3337\nWeb: www.vocorlando.com\n(28.545628, -81.22205199999999)"
      },
      {
       "output_type": "stream",
       "stream": "stdout",
       "text": "\nParsing data for Tina Fife\n\nWeb: www.carolinavet.com\n(35.132522, -80.942032)"
      },
      {
       "output_type": "stream",
       "stream": "stdout",
       "text": "\nParsing data for Michael Finn\n\nWork number: 412-366-3400\nFax number: 412-366-3489\nWeb: www.pvs-ec.com\n(40.52307, -80.075268)"
      },
      {
       "output_type": "stream",
       "stream": "stdout",
       "text": "\nParsing data for Craig Fischer\n\nWork number: 336-309-1101\n(35.969699, -80.005436)"
      },
      {
       "output_type": "stream",
       "stream": "stdout",
       "text": "\nParsing data for Kristin Fischer\n\nWork number: 803-798-0803\nFax number: 803-798-7916\n(34.0668174, -81.1387065)"
      },
      {
       "output_type": "stream",
       "stream": "stdout",
       "text": "\nParsing data for James E. Gaarder\n\nWork number: 914-674-4141\nFax number: 914-674-4140\nWeb: www.vesny.com\n(41.0180413, -73.84409149999999)"
      },
      {
       "output_type": "stream",
       "stream": "stdout",
       "text": "\nParsing data for Laurence E. Galle\n\nWork number: 228-872-2755\nFax number: 228-872-3846\nWeb: www.peteyecare.com\nAnother address for Laurence E. Galle\n\nWork number: 251-633-9633\nFax number: 228-872-3846\nWeb: www.peteyecare.com\n(30.417186, -88.815377)"
      },
      {
       "output_type": "stream",
       "stream": "stdout",
       "text": "\n(30.650064, -88.225764)"
      },
      {
       "output_type": "stream",
       "stream": "stdout",
       "text": "\nParsing data for Enry Garcia\n\nWork number: 630-301-6100\nFax number: 630-301-6137\n(41.7648623, -88.38529779999999)"
      },
      {
       "output_type": "stream",
       "stream": "stdout",
       "text": "\nParsing data for Gustavo A. Garcia Sanchez\n\nWork number: 011-5255-5559-9291\nFax number: 011-5255-5575-2032\nWeb: www.laboratoriosantgar.com\n(19.2456456, -99.07901489999999)"
      },
      {
       "output_type": "stream",
       "stream": "stdout",
       "text": "\nParsing data for Patricia Gearhart\n\nWork number: 720-269-4836\n(39.640809, -105.324521)"
      },
      {
       "output_type": "stream",
       "stream": "stdout",
       "text": "\nParsing data for Duane Flemming\n\nWork number: 925-798-5830\nFax number: 925-798-5830\n(37.95788100000001, -121.991844)"
      },
      {
       "output_type": "stream",
       "stream": "stdout",
       "text": "\nParsing data for Jennifer Fontenelle\n\nWork number: 919-319-5348\nFax number: 919-319-3371\nWeb: www.aecassociates.com\n(35.743796, -78.759385)"
      },
      {
       "output_type": "stream",
       "stream": "stdout",
       "text": "\nParsing data for Margaret Foss\n\nWork number: 330-829-0107\n(40.871436, -81.123693)"
      },
      {
       "output_type": "stream",
       "stream": "stdout",
       "text": "\nParsing data for Kate Freeman\n\nWork number: 970-297-5000\n(40.5546582, -105.0834697)"
      },
      {
       "output_type": "stream",
       "stream": "stdout",
       "text": "\nParsing data for Deborah S. Friedman\n\nWork number: 925-827-2257\nFax number: 925-827-0675\nWeb: www.animaleyecare.com\n(37.945622, -122.053057)"
      },
      {
       "output_type": "stream",
       "stream": "stdout",
       "text": "\nParsing data for Kevin Fritz\n\n(33.7071227, -117.8062205)"
      },
      {
       "output_type": "stream",
       "stream": "stdout",
       "text": "\nParsing data for Kirk N. Gelatt\n\nWork number: 352-294-4441\nFax number: 352-392-6125\n(29.705456, -82.40364799999999)"
      },
      {
       "output_type": "stream",
       "stream": "stdout",
       "text": "\nParsing data for Paul A. Gerding\n\nFax number: 815-324-9398\n(41.3413978, -88.859201)"
      },
      {
       "output_type": "stream",
       "stream": "stdout",
       "text": "\nParsing data for Beth Gibbins\n\nWork number: 205-967-3931\nFax number: 205-967-9148\nWeb: www.theanimaleyecenter.com\n(33.429214, -86.741664)"
      },
      {
       "output_type": "stream",
       "stream": "stdout",
       "text": "\nParsing data for Terri Gibson\n\nWork number: 562-943-3728\nFax number: 562-943-2835\nWeb: www.americananimaleye.com\n(33.9149589, -117.9707952)"
      },
      {
       "output_type": "stream",
       "stream": "stdout",
       "text": "\nParsing data for Barrett Gift\n\nWork number: 910-392-6373\nFax number: 910-392-6375\nWeb: www.aecassociates.com\n(34.211885, -77.837501)"
      },
      {
       "output_type": "stream",
       "stream": "stdout",
       "text": "\nParsing data for Brian C. Gilger\n\nWork number: 919-513-1273\nFax number: 919-513-6711 \n(35.79849430000001, -78.7040856)"
      },
      {
       "output_type": "stream",
       "stream": "stdout",
       "text": "\nParsing data for Margi Gilmour\n\nWork number: 405-744-7000\nFax number: 405-744-6265\n(36.1198996, -97.0888415)"
      },
      {
       "output_type": "stream",
       "stream": "stdout",
       "text": "\nParsing data for Julie Gionfriddo\n\nWork number: 970-297-4137\nWeb: www.csuvets.colostate.edu\n(40.5546582, -105.0834697)"
      },
      {
       "output_type": "stream",
       "stream": "stdout",
       "text": "\nParsing data for Elizabeth A. Giuliano\n\nWork number: 573-882-7821\nFax number: 573-884-5444\nWeb: www.vmth.missouri.edu/giuliano_elizabeth.htm\n(38.9382838, -92.3172317)"
      },
      {
       "output_type": "stream",
       "stream": "stdout",
       "text": "\nParsing data for Mary Belle Glaze\n\nWork number: 713-461-3132\nFax number: 713-464-7438\n(29.798764, -95.514369)"
      },
      {
       "output_type": "stream",
       "stream": "stdout",
       "text": "\nParsing data for Tony Glover\n\nWork number: 704-612-3896\n(34.968081, -80.79558)"
      },
      {
       "output_type": "stream",
       "stream": "stdout",
       "text": "\nParsing data for Kathryn Good\n\nWork number: 530-752-1393\nFax number: 530-752-0454\nWeb: www.vetmed.ucdavis.edu\n(38.558127, -121.779179)"
      },
      {
       "output_type": "stream",
       "stream": "stdout",
       "text": "\nParsing data for Brad Graham\n\nWork number: 303-874-2070\nFax number: 303-874-3204\nWeb: www.vrcc.com\n(39.6523287, -104.9988105)"
      },
      {
       "output_type": "stream",
       "stream": "stdout",
       "text": "\nParsing data for Bruce Grahn\n\nWork number: 306-966-7409\n(52.1333827, -106.6308117)"
      },
      {
       "output_type": "stream",
       "stream": "stdout",
       "text": "\nParsing data for Ann Gratzek\n\nWork number: 831-685-3321\nFax number: 831-685-3363\nWeb: www.ofora.com\nAnother address for Ann Gratzek\n\nWork number: 831-685-3321\nFax number: 831-685-3363\n(36.977642, -121.899052)"
      },
      {
       "output_type": "stream",
       "stream": "stdout",
       "text": "\n(36.5737367, -121.8109627)"
      },
      {
       "output_type": "stream",
       "stream": "stdout",
       "text": "\nParsing data for Heather Gray\n\nWork number: 416-920-2002\nFax number: 416-920-6185\nWeb: www.vectoronto.com\nAnother address for Heather Gray\n\nWork number: 905-576-3344\nFax number: 905-576-3353\nAnother address for Heather Gray\n\nWork number: 416-247-VETS\n(43.6743524, -79.38863529999999)"
      },
      {
       "output_type": "stream",
       "stream": "stdout",
       "text": "\n(43.9070541, -78.8134184)"
      },
      {
       "output_type": "stream",
       "stream": "stdout",
       "text": "\n(43.7646178, -79.29314320000002)"
      },
      {
       "output_type": "stream",
       "stream": "stdout",
       "text": "\nParsing data for Shari Greenberg\n\nWork number: 860-688-8400\nFax number: 860-688-8401\nWeb: www.nevccc.com\n<class 'pygeolib.GeocoderError'>"
      },
      {
       "output_type": "stream",
       "stream": "stdout",
       "text": "\nGeocode error for: Shari Greenberg\n\nParsing data for William Greentree\n\nWork number: 614-846-5800\nFax number: 614-846-5803\nWeb: www.medvetforpets.com\n(40.110279, -83.006224)"
      },
      {
       "output_type": "stream",
       "stream": "stdout",
       "text": "\nParsing data for Andrew Greller\n\nWork number: 210-930-8383\nFax number: 210-858-0196\nWeb: www.stvophtho.com\n(29.616298, -98.486357)"
      },
      {
       "output_type": "stream",
       "stream": "stdout",
       "text": "\nParsing data for Stephen L. Gross\n\nWork number: 610-666-1050\nFax number: 610-666-1199\nWeb: www.metro-vet.com\n(40.123257, -75.416046)"
      },
      {
       "output_type": "stream",
       "stream": "stdout",
       "text": "\nParsing data for Allyson Groth\n\nWork number: 61298890289\nFax number: 61298890431\nWeb: www.sashvets.com\n(-33.7958673, 151.1231712)"
      },
      {
       "output_type": "stream",
       "stream": "stdout",
       "text": "\nParsing data for Sinisa Grozdanic\n\nFax number: 877-516-6277\nWeb: www.animal-eye-iowa.com\nWork number: 217-333-7451\nFax number: 217-244-1475\nWeb: www.vetmed.illinois.edu\n(40.1105875, -88.2072697)"
      },
      {
       "output_type": "stream",
       "stream": "stdout",
       "text": "\nParsing data for Erin Gunderson\n\nWork number: 262-754-3550\nFax number: 262-754-3551\nWeb: www.eyecareforanimals.com\n(43.084782, -88.17457300000001)"
      },
      {
       "output_type": "stream",
       "stream": "stdout",
       "text": "\nParsing data for Robert M. Gwin\n\nWork number: 405-751-3821\nFax number: 405-751-3921\n(35.5950142, -97.5684758)"
      },
      {
       "output_type": "stream",
       "stream": "stdout",
       "text": "\nParsing data for Dennis Hacker\n\nWork number: 510-559-1755\nFax number: 510-559-1757\nWeb: www.animal-eye-specialists.com\n(37.906692, -122.305058)"
      },
      {
       "output_type": "stream",
       "stream": "stdout",
       "text": "\nParsing data for Holly L. Hamilton\n\nWork number: 858-875-7500\nFax number: 858-875-7525\nWeb: www.vshsd.com\n(32.8952209, -117.2160995)"
      },
      {
       "output_type": "stream",
       "stream": "stdout",
       "text": "\nParsing data for Todd Hammond\n\nWork number: 303-422-7444\nFax number: 303-422-7474\n(39.770938, -105.082109)"
      },
      {
       "output_type": "stream",
       "stream": "stdout",
       "text": "\nParsing data for Ralph E. Hamor\n\n(40.1105875, -88.2072697)"
      },
      {
       "output_type": "stream",
       "stream": "stdout",
       "text": "\nParsing data for David Harling\n\nWork number: 336-349-3194\nFax number: 336-643-0503\n(36.3229196, -79.6373581)"
      },
      {
       "output_type": "stream",
       "stream": "stdout",
       "text": "\nParsing data for Jay Harrington\n\nWork number: 718-522-9400\nFax number: 718-522-9755\nWeb: www.verg-brooklyn.com\nAnother address for Jay Harrington\n\nWork number: 718-677-6700\nFax number: 718-677-6725\nWeb: www.verg-brooklyn.com\n(40.6855144, -73.99199589999999)"
      },
      {
       "output_type": "stream",
       "stream": "stdout",
       "text": "\n(40.6156892, -73.9292538)"
      },
      {
       "output_type": "stream",
       "stream": "stdout",
       "text": "\nParsing data for Lloyd Helper\n\nWork number: 970-282-0621\nFax number: 970-282-0621\n(40.515158, -105.056047)"
      },
      {
       "output_type": "stream",
       "stream": "stdout",
       "text": "\nParsing data for Julie Hempstead\n\n(35.7995953, -78.700841)"
      },
      {
       "output_type": "stream",
       "stream": "stdout",
       "text": "\nParsing data for Diane V.H. Hendrix\n\nWork number: 865-974-8387\nFax number: 865-974-5554 \n(35.9451209, -83.9406407)"
      },
      {
       "output_type": "stream",
       "stream": "stdout",
       "text": "\nParsing data for Ian Herring\n\nWork number: 540-231-3016\nFax number: 540-231-1676 \nAnother address for Ian Herring\n\nWork number: 201-262-0010\nFax number: 201-262-4275\nWeb: www.oradell.com\nAnother address for Ian Herring\n\nWork number: 908-707-9077\nWeb: www.animerge.net\n(37.2220827, -80.4218679)"
      },
      {
       "output_type": "stream",
       "stream": "stdout",
       "text": "\n(40.9603589, -74.070871)"
      },
      {
       "output_type": "stream",
       "stream": "stdout",
       "text": "\n(40.57152, -74.62651699999999)"
      },
      {
       "output_type": "stream",
       "stream": "stdout",
       "text": "\nParsing data for Elaine Holt\n\nWork number: 441883 741 440 \n(51.2705144, -0.3211391)"
      },
      {
       "output_type": "stream",
       "stream": "stdout",
       "text": "\nParsing data for Amy Hom\n\nWork number: 630-444-0393\nFax number: 630-444-0394\nWeb: http://www.eyecareforanimals.com\n(41.9132222, -88.3392355)"
      },
      {
       "output_type": "stream",
       "stream": "stdout",
       "text": "\nParsing data for Sarah Stone Hoy\n\nWork number: 802-878-2022\nFax number: 802-878-1524\n(44.5588028, -72.57784149999999)"
      },
      {
       "output_type": "stream",
       "stream": "stdout",
       "text": "\nParsing data for Amy Hunkeler\n\nWork number: 913-381-3937\nFax number: 913-906-9277\nWeb: www.eyecareforanimals.com\nAnother address for Amy Hunkeler\n\nWork number: 913-381-3937\nFax number: 913-906-9277\nWeb: www.eyecareforanimals.com\n(39.0226, -94.654291)"
      },
      {
       "output_type": "stream",
       "stream": "stdout",
       "text": "\n(38.975454, -94.35781)"
      },
      {
       "output_type": "stream",
       "stream": "stdout",
       "text": "\nParsing data for M. Kohle Herrmann\n\nWork number: 713-461-3132\nFax number: 713-464-7438\n(29.798764, -95.514369)"
      },
      {
       "output_type": "stream",
       "stream": "stdout",
       "text": "\nParsing data for James Histed\n\nWork number: 416-232-0211\nFax number: 416-232-0080\nWeb: www.animaleyeclinic.ca\n(43.6338482, -79.5209039)"
      },
      {
       "output_type": "stream",
       "stream": "stdout",
       "text": "\nParsing data for Allison Hoffman\n\nWork number: 626-564-0202\nFax number: 626-564-0209\nWeb: www.eyecareforanimals.com\n(34.1484308, -118.0936537)"
      },
      {
       "output_type": "stream",
       "stream": "stdout",
       "text": "\nParsing data for Steven Hollingsworth\n\nWork number: 530-752-6037 \nFax number: 530-752-0454\n(38.5449065, -121.7405167)"
      },
      {
       "output_type": "stream",
       "stream": "stdout",
       "text": "\nParsing data for Brad Holmberg\n\nWork number: 973-890-4430\nFax number: 973-890-4876\nWeb: www.animaleyesofnj.com\nAnother address for Brad Holmberg\n\nWork number: 913-381-3937\nFax number: 913-906-9277\nWeb: www.eyecareforanimals.com\n<class 'pygeolib.GeocoderError'>"
      },
      {
       "output_type": "stream",
       "stream": "stdout",
       "text": "\nGeocode error for: Brad Holmberg\n\n(37.1953893, -93.3892894)"
      },
      {
       "output_type": "stream",
       "stream": "stdout",
       "text": "\nParsing data for Amity Huskey\n\nWork number: 615-690-9399\nFax number: 615-690-9398\n(35.89150619999999, -86.56569739999999)"
      },
      {
       "output_type": "stream",
       "stream": "stdout",
       "text": "\nParsing data for Jennifer Hyman\n\nWork number: 410-224-4470\nFax number: 410-224-3115\nWeb: www.eyecareforanimals.com\n(38.995306, -76.53711299999999)"
      },
      {
       "output_type": "stream",
       "stream": "stdout",
       "text": "\nParsing data for Nita Irby\n\n(42.4474803, -76.46456359999999)"
      },
      {
       "output_type": "stream",
       "stream": "stdout",
       "text": "\nParsing data for Janet Isherwood\n\nWork number: 410-744-8938\nFax number: 410-747-6864\nAnother address for Janet Isherwood\n\nWork number: 717-767-5355\nFax number: 717-764-8725\n(39.270597, -76.73405199999999)"
      },
      {
       "output_type": "stream",
       "stream": "stdout",
       "text": "\n(39.9430679, -76.706289)"
      },
      {
       "output_type": "stream",
       "stream": "stdout",
       "text": "\nParsing data for Susan Jacobi\n\nWork number: 510-623-0444\nWeb: www.animaleyecare.com\nAnother address for Susan Jacobi\n\nWork number: 925-827-2257\n(37.5312068, -121.936119)"
      },
      {
       "output_type": "stream",
       "stream": "stdout",
       "text": "\n(37.945622, -122.053057)"
      },
      {
       "output_type": "stream",
       "stream": "stdout",
       "text": "\nParsing data for Vivian E. Jamieson\n\n(44.438023, -72.699928)"
      },
      {
       "output_type": "stream",
       "stream": "stdout",
       "text": "\nParsing data for Ben W. Johnson\n\nWork number: 314-966-2111\nFax number: 314-966-4124\nWeb: www.animaleyeassociatesstl.com\n(38.6000693, -90.3977716)"
      },
      {
       "output_type": "stream",
       "stream": "stdout",
       "text": "\nParsing data for Victoria L. Jones\n\nWork number: 425-827-3966\nFax number: 425-827-1422\nWeb: www.northwestanimaleye.com\nAnother address for Victoria L. Jones\n\nWork number: 425-827-3966\nFax number: 425-827-1422\nWeb: www.northwestanimaleye.com\nAnother address for Victoria L. Jones\n\n(47.679766, -122.1658311)"
      },
      {
       "output_type": "stream",
       "stream": "stdout",
       "text": "\n(47.679766, -122.1658311)"
      },
      {
       "output_type": "stream",
       "stream": "stdout",
       "text": "\n(47.44161219999999, -122.2234273)"
      },
      {
       "output_type": "stream",
       "stream": "stdout",
       "text": "\nParsing data for Isabel Jurk\n\nWork number: 413-397-3540\nFax number: 413-397-3542\nWeb: www.animaleyecareofne.com\n<class 'pygeolib.GeocoderError'>"
      },
      {
       "output_type": "stream",
       "stream": "stdout",
       "text": "\nGeocode error for: Isabel Jurk\n\nParsing data for Heather Kaese\n\nWork number: 913-381-3937\nFax number: 913-906-9277\nWeb: www.eyecareforanimals.com\nAnother address for Heather Kaese\n\nWork number: 913-381-3937\nFax number: 913-906-9277\nWeb: www.eyecareforanimals.com\nAnother address for Heather Kaese\n\nWork number: 913-381-3937\nFax number: 913-906-9277\nWeb: www.eyecareforanimals.com\n(38.930651, -94.72520899999999)"
      },
      {
       "output_type": "stream",
       "stream": "stdout",
       "text": "\n(38.975454, -94.35781)"
      },
      {
       "output_type": "stream",
       "stream": "stdout",
       "text": "\n<class 'pygeolib.GeocoderError'>"
      },
      {
       "output_type": "stream",
       "stream": "stdout",
       "text": "\nGeocode error for: Heather Kaese\n\nParsing data for Kevin Kaiser\n\nWork number: 509-368-6800\nFax number: 509-368-6810\nWeb: www.animaleyeclinicspokane.com\n(47.66016459999999, -117.4062782)"
      },
      {
       "output_type": "stream",
       "stream": "stdout",
       "text": "\nParsing data for Maria Kallberg\n\nWork number: 46-220-45800\nFax number: 46-220-43826\n(59.5212629, 16.250685)"
      },
      {
       "output_type": "stream",
       "stream": "stdout",
       "text": "\nParsing data for Lorraine G. Karpinski\n\nWork number: 305-278-1300\nFax number: 305-278-1400\nWeb: www.pinecrestvets.com\n(25.6577149, -80.3274977)"
      },
      {
       "output_type": "stream",
       "stream": "stdout",
       "text": "\nParsing data for Susan Keil\n\nWork number: 913.599.6656\nFax number: 913.599.6655\nWeb: www.keileyevet.com\nAnother address for Susan Keil\n\nWork number: 9138569660\nWeb: www.keileyevet.com\nAnother address for Susan Keil\n\nWork number: 785-331-4600\n(38.9776675, -94.71892869999999)"
      },
      {
       "output_type": "stream",
       "stream": "stdout",
       "text": "\n(38.709307, -94.9438162)"
      },
      {
       "output_type": "stream",
       "stream": "stdout",
       "text": "\n(37.9642529, -91.8318334)"
      },
      {
       "output_type": "stream",
       "stream": "stdout",
       "text": "\nParsing data for Charlotte B. Keller\n\nWork number: 604-549-4944\nFax number: 604-549-4941\nWeb: www.bcanimaleyes.com\n(49.230504, -122.8926605)"
      },
      {
       "output_type": "stream",
       "stream": "stdout",
       "text": "\nParsing data for Rachel Keller\n\nWork number: 412-366-3400\nFax number: 412-366-3489\nWeb: www.pvs-ec.com\n(40.52307, -80.075268)"
      },
      {
       "output_type": "stream",
       "stream": "stdout",
       "text": "\nParsing data for Gavin Kennard\n\nWork number: 505-292-3600\nFax number: 505-898-0310\nWeb: www.eyecareforanimals.com\n(35.1808064, -106.519036)"
      },
      {
       "output_type": "stream",
       "stream": "stdout",
       "text": "\nParsing data for Thomas J. Kern\n\nWork number: 607-253-3029\nFax number: 607-253-3534\n(42.4467049, -76.48305789999999)"
      },
      {
       "output_type": "stream",
       "stream": "stdout",
       "text": "\nParsing data for Kerry Ketring\n\nWork number: 513-739-4705\nFax number: 231-893-3301\nWeb: www.allanimaleyeclinic.com\n(43.4100107, -86.34867919999999)"
      },
      {
       "output_type": "stream",
       "stream": "stdout",
       "text": "\nParsing data for Nathan Kice\n\nWork number: 636-536-4991\nFax number: 636-536-4951\nWeb: www.midwestvetreferral.com\n(38.6299452, -90.6962853)"
      },
      {
       "output_type": "stream",
       "stream": "stdout",
       "text": "\nParsing data for Kay Kim\n\nWork number: 516-501-1700\nFax number: 516-501-1169 \n(40.785717, -73.4492175)"
      },
      {
       "output_type": "stream",
       "stream": "stdout",
       "text": "\nParsing data for Christina King\n\nWork number: 604-549-4944\nFax number: 604-549-4941\nWeb: www.bcanimaleyes.com\n(49.230504, -122.8926605)"
      },
      {
       "output_type": "stream",
       "stream": "stdout",
       "text": "\nParsing data for Tracey C. King-Hill\n\nWork number: 770-427-3199\nFax number: 770-427-3689\n(33.967241, -84.534958)"
      },
      {
       "output_type": "stream",
       "stream": "stdout",
       "text": "\nParsing data for Susan E. Kirschner\n\nWork number: 503-641-7777\nFax number: 503-643-3100\n(45.4856541, -122.8076397)"
      },
      {
       "output_type": "stream",
       "stream": "stdout",
       "text": "\nParsing data for Gia Klauss\n\nWork number: 360-694-3007\nWeb: www.columbiarivervetspecialists.com\n(45.6447086, -122.6007956)"
      },
      {
       "output_type": "stream",
       "stream": "stdout",
       "text": "\nParsing data for Heidi Klein Weddle\n\nWork number: 317-782-4484\nFax number: 317-786-4484\nWeb: www.indyvet.com\n(39.701561, -86.074389)"
      },
      {
       "output_type": "stream",
       "stream": "stdout",
       "text": "\nParsing data for Amy Knollinger\n\nWork number: 801-942-3937\nFax number: 801-942-4302\nWeb: www.eyecareforanimals.com\nAnother address for Amy Knollinger\n\nWork number: (801) 728-9225\nWeb: http://www.eyecareforanimals.com/\n(40.7003976, -111.8619746)"
      },
      {
       "output_type": "stream",
       "stream": "stdout",
       "text": "\n(41.1333549, -112.0595603)"
      },
      {
       "output_type": "stream",
       "stream": "stdout",
       "text": "\nParsing data for Seth A. Koch\n\nWork number: 215-546-1609\nWeb: www.animaleyedr.com\n(39.9556241, -75.1647529)"
      },
      {
       "output_type": "stream",
       "stream": "stdout",
       "text": "\nParsing data for Andras Komaromy\n\nWork number: 517-353-5420\nFax number: 517-355-5164\nWeb: www.cvm.msu.edu\n(42.7247832, -84.4832117)"
      },
      {
       "output_type": "stream",
       "stream": "stdout",
       "text": "\nParsing data for Kricket Konrade\n\nWork number: 626-564-0202\nFax number: 626-564-0209\nWeb: www.eyecareforanimals.com\n(34.1484308, -118.0936537)"
      },
      {
       "output_type": "stream",
       "stream": "stdout",
       "text": "\nParsing data for Sheryl Krohne\n\nWork number: 509-290-7439 \nAnother address for Sheryl Krohne\n\nWork number: 509-368-6800\nFax number: 509-368-6810\nWeb: www.animaleyeclinicspokane.com\n(47.79953, -117.439358)"
      },
      {
       "output_type": "stream",
       "stream": "stdout",
       "text": "\n(47.6568696, -117.3719973)"
      },
      {
       "output_type": "stream",
       "stream": "stdout",
       "text": "\nParsing data for Vanessa J. Kuonen Cavens\n\nWork number: 513-561-0069\nFax number: 513-561-5688\nWeb: www.medvetohio.com\nAnother address for Vanessa J. Kuonen Cavens\n\nWork number: 937-293-2714\nWeb: www.medvetohio.com\nAnother address for Vanessa J. Kuonen Cavens\n\nWork number: (800) 891-9010\nWeb: www.medvetohio.com\n(39.14823690000001, -84.4045804)"
      },
      {
       "output_type": "stream",
       "stream": "stdout",
       "text": "\n(39.7142973, -84.218802)"
      },
      {
       "output_type": "stream",
       "stream": "stdout",
       "text": "\n(40.110279, -83.006224)"
      },
      {
       "output_type": "stream",
       "stream": "stdout",
       "text": "\nParsing data for Noelle La Croix\n\nWork number: 631-587-0800\nFax number: 631-587-2006\nWeb: www.vmcli.com\n(40.7189259, -73.3104335)"
      },
      {
       "output_type": "stream",
       "stream": "stdout",
       "text": "\nParsing data for Amber Labelle\n\nWork number: 217-244-3364\nFax number: 217-244-9554\nWeb: www.vetmed.illinois.edu\n(40.090953, -88.2191903)"
      },
      {
       "output_type": "stream",
       "stream": "stdout",
       "text": "\nParsing data for Petra Lackner\n\nWork number: 413-665-4911\nWeb: www.veshdeer\ufb01 eld.com\n<class 'pygeolib.GeocoderError'>"
      },
      {
       "output_type": "stream",
       "stream": "stdout",
       "text": "\nGeocode error for: Petra Lackner\n\nParsing data for Matthew Landry\n\nWork number: 206-524-8822\nFax number: 206-524-3551\nWeb: www.seattleaec.com\n(47.6684947, -122.3175207)"
      },
      {
       "output_type": "stream",
       "stream": "stdout",
       "text": "\nParsing data for Elise Laperriere\n\nWork number: 450-781-1200\nFax number: 450-781-4500\nWeb: www.cvlaval.com\nAnother address for Elise Laperriere\n\nWork number: 450-656-3660\nFax number: 450-656-5708\nWeb: www.cvrivesud.com\n(45.5602249, -73.7884172)"
      },
      {
       "output_type": "stream",
       "stream": "stdout",
       "text": "\n(45.4585641, -73.46409020000002)"
      },
      {
       "output_type": "stream",
       "stream": "stdout",
       "text": "\nParsing data for Louis Laratta\n\nWork number: 615-690-9399\nFax number: 615-690-9398\nWeb: www.vostn.com\n(36.092411, -86.761546)"
      },
      {
       "output_type": "stream",
       "stream": "stdout",
       "text": "\nParsing data for Robert Larocca\n\nWork number: 763-767-3937\nFax number: 763-767-6176\nWeb: www.animaleyespecialtycenter.com\n(45.2204989, -93.309105)"
      },
      {
       "output_type": "stream",
       "stream": "stdout",
       "text": "\nParsing data for Claire A. Latimer\n\nWork number: 859-233-0371\nWeb: www.roodandriddle.com\n(38.14, -84.47)"
      },
      {
       "output_type": "stream",
       "stream": "stdout",
       "text": "\nParsing data for J. Dan Lavach\n\nWork number: 775-852-1155\nFax number: 775-851-1146\nWeb: www.eyecareforanimals.com\n(39.4442031, -119.7710658)"
      },
      {
       "output_type": "stream",
       "stream": "stdout",
       "text": "\nParsing data for Eric C. Ledbetter\n\nWork number: 607-253-3060\n(42.4467049, -76.48305789999999)"
      },
      {
       "output_type": "stream",
       "stream": "stdout",
       "text": "\nParsing data for Graham Lewis\n\nWork number: 604-476-1171\nFax number: 604-476-1172\n(49.2176243, -122.6452047)"
      },
      {
       "output_type": "stream",
       "stream": "stdout",
       "text": "\nParsing data for Christine Lim\n\nWork number: 612-625-9272\nFax number: 612-624-8779\nWeb: http://www.cvm.umn.edu/vmc/specialties/\n<class 'pygeolib.GeocoderError'>"
      },
      {
       "output_type": "stream",
       "stream": "stdout",
       "text": "\nGeocode error for: Christine Lim\n\nParsing data for Denise M. Lindley\n\nWork number: 847-695-1111\nFax number: 847-695-4060\nWeb: www.animaleyeconsultant.com\nAnother address for Denise M. Lindley\n\nWork number: 708-388-3793\nFax number: 708-388-9995\nWeb: www.animaleyeconsultant.com\nAnother address for Denise M. Lindley\n\nWork number: 630-369-3333\nFax number: 630-369-3338\nWeb: www.animaleyeconsultant.com\n(42.0470275, -88.38219889999999)"
      },
      {
       "output_type": "stream",
       "stream": "stdout",
       "text": "\n(41.6433293, -87.7368935)"
      },
      {
       "output_type": "stream",
       "stream": "stdout",
       "text": "\n(41.7942563, -88.2021623)"
      },
      {
       "output_type": "stream",
       "stream": "stdout",
       "text": "\nParsing data for Lana Linton\n\nWork number: 916-624-4364\nFax number: 916-632-9138\nWeb: www.animaleyecenterrocklin.com\n(38.7870973, -121.2282958)"
      },
      {
       "output_type": "stream",
       "stream": "stdout",
       "text": "\nParsing data for Dan W. Lorimer\n\nWork number: 248-354-6640\nFax number: 248-354-6566\nWeb: www.bluepearlvet.com\nAnother address for Dan W. Lorimer\n\nWork number: 248-371-3713\nWeb: www.bluepearlvet.com\nAnother address for Dan W. Lorimer\n\nWork number: 989-348-8622\nWeb: www.michvet.com\n(42.4966195, -83.2880591)"
      },
      {
       "output_type": "stream",
       "stream": "stdout",
       "text": "\n(42.678393, -83.22318)"
      },
      {
       "output_type": "stream",
       "stream": "stdout",
       "text": "\n(44.6614039, -84.7147512)"
      },
      {
       "output_type": "stream",
       "stream": "stdout",
       "text": "\nParsing data for Heather Low\n\nWork number: 541-550-5969\nFax number: 541-318-1665\nWeb: www.bendeyevet.com\n(44.0365091, -121.306411)"
      },
      {
       "output_type": "stream",
       "stream": "stdout",
       "text": "\nParsing data for Martha Low\n\nWork number: 215-750-2774\nFax number: 215-750-3623\nWeb: www.vetcares.com\nAnother address for Martha Low\n\nWork number: 717-767-5355\nWeb: www.animalerofyork.com\n(40.1910645, -74.8782063)"
      },
      {
       "output_type": "stream",
       "stream": "stdout",
       "text": "\n(39.9430679, -76.706289)"
      },
      {
       "output_type": "stream",
       "stream": "stdout",
       "text": "\nParsing data for Gwendolyn Lynch\n\nWork number: 650-551-1115\nFax number: 650-551-0100\nWeb: www.veterinaryvision.com\nAnother address for Gwendolyn Lynch\n\nWork number: 650-551-1115\nFax number: 650-551-0100\nWeb: www.veterinaryvision.com\n(37.5181194, -122.2646941)"
      },
      {
       "output_type": "stream",
       "stream": "stdout",
       "text": "\n(37.7427841, -122.4795909)"
      },
      {
       "output_type": "stream",
       "stream": "stdout",
       "text": "\nParsing data for Nicole MacLaren\n\nWork number: 801-942-3937\nFax number: 801-942-4302\nWeb: www.eyecareforanimals.com\n(40.7003976, -111.8619746)"
      },
      {
       "output_type": "stream",
       "stream": "stdout",
       "text": "\nParsing data for Alan D. MacMillan\n\n(20.776989, -156.332715)"
      },
      {
       "output_type": "stream",
       "stream": "stdout",
       "text": "\nParsing data for Federica Maggio\n\nWork number: 508-668-5454\nFax number: 508-850-9809\nWeb: http://tuftsvets.org/\nAnother address for Federica Maggio\n\nWork number: 508-668-5454\nFax number: 508-850-9809\nWeb: www.tuftsvets.org\n<class 'pygeolib.GeocoderError'>"
      },
      {
       "output_type": "stream",
       "stream": "stdout",
       "text": "\nGeocode error for: Federica Maggio\n\n<class 'pygeolib.GeocoderError'>"
      },
      {
       "output_type": "stream",
       "stream": "stdout",
       "text": "\nGeocode error for: Federica Maggio\n\nParsing data for David J. Maggs\n\nWork number: 530-752-1393\nFax number: 530-752-6042\nWeb: www.vetmed.ucdavis.edu/vmth/small_animal/\n<class 'pygeolib.GeocoderError'>"
      },
      {
       "output_type": "stream",
       "stream": "stdout",
       "text": "\nGeocode error for: David J. Maggs\n\nParsing data for Brendan Mangan\n\nWork number: 352-392-2235\nWeb: www.vetmed.u\ufb02 .edu\n(29.6667841, -82.3489499)"
      },
      {
       "output_type": "stream",
       "stream": "stdout",
       "text": "\nParsing data for Cindy Mar\n\nWork number: 949-833-9020\nFax number: 949-833-7530\n(33.696765, -117.854932)"
      },
      {
       "output_type": "stream",
       "stream": "stdout",
       "text": "\nParsing data for Brian Marchione\n\nWork number: 310-473-2951\nFax number: 310-477-7412\nWeb: www.vcahospitals.com/west-los-angeles\n(34.045854, -118.442363)"
      },
      {
       "output_type": "stream",
       "stream": "stdout",
       "text": "\nParsing data for Annajane (AJ) Marlar\n\nWork number: 817-759-7147\nFax number: 817-759-7132\n(32.7234669, -97.356759)"
      },
      {
       "output_type": "stream",
       "stream": "stdout",
       "text": "\nParsing data for Ruth Marrion\n\nWork number: 978-725-5544\nFax number: 978-975-0133\n<class 'pygeolib.GeocoderError'>"
      },
      {
       "output_type": "stream",
       "stream": "stdout",
       "text": "\nGeocode error for: Ruth Marrion\n\nParsing data for Charles Martin\n\nWork number: 706-310-0444\n(33.87888, -83.37201999999999)"
      },
      {
       "output_type": "stream",
       "stream": "stdout",
       "text": "\nParsing data for Franziska Matheis\n\nWork number: 41-79-2989760\nWeb: www.vetaugendoc.ch\n(47.3237404, 8.5502729)"
      },
      {
       "output_type": "stream",
       "stream": "stdout",
       "text": "\nParsing data for Rachel Mathes\n\nWork number: 207-780-0271\nFax number: 207-780-0272\nWeb: www.portlandvetspecialists.com\n(45.5234515, -122.6762071)"
      },
      {
       "output_type": "stream",
       "stream": "stdout",
       "text": "\nParsing data for Sarah A. Maxwell\n\nWork number: 541-752-3786\nFax number: 541-758-1256\nWeb: www.sarahmaxwelldvm.com\nAnother address for Sarah A. Maxwell\n\nWork number: 541-726-1100\nFax number: 541-726-4269\n(44.5630479, -123.2350529)"
      },
      {
       "output_type": "stream",
       "stream": "stdout",
       "text": "\n(44.059912, -123.0179348)"
      },
      {
       "output_type": "stream",
       "stream": "stdout",
       "text": "\nParsing data for Terri McCalla\n\nWork number: 360-676-7770\nFax number: 360-676-7776\nWeb: www.animaleyecare.net\n(48.7304903, -122.4737812)"
      },
      {
       "output_type": "stream",
       "stream": "stdout",
       "text": "\nParsing data for Patrick McCallum\n\nWork number: 408-871-2100\nFax number: 408-871-2288\nWeb: www.animaleyespecialists.com\n(37.2746345, -121.9505799)"
      },
      {
       "output_type": "stream",
       "stream": "stdout",
       "text": "\nParsing data for Tonya McIlnay\n\nWork number: 402-496-0555\nFax number: 402-496-0777\nWeb: www.vesnebraska.com\n(41.307769, -96.075513)"
      },
      {
       "output_type": "stream",
       "stream": "stdout",
       "text": "\nParsing data for Carey McInnis\n\nWork number: 301-362-5252\nFax number: 301-362-5512\nWeb: www.aecassociates.com/directions_laurel.html\n(39.0891337, -76.8550216)"
      },
      {
       "output_type": "stream",
       "stream": "stdout",
       "text": "\nParsing data for Jo-Ann McKinnon\n\nWork number: 248-334-6877\nFax number: 2483343693\nWeb: www.ovrs.com\n(42.5805638, -83.3041061)"
      },
      {
       "output_type": "stream",
       "stream": "stdout",
       "text": "\nParsing data for Susan A. McLaughlin\n\nWork number: 765-743-6469\nWork number: 317-770-9556\n(40.469216, -86.90420999999999)"
      },
      {
       "output_type": "stream",
       "stream": "stdout",
       "text": "\nParsing data for Nancy McLean\n\nWork number: 505-296-2982\nAnother address for Nancy McLean\n\nWork number: 505-296-2982\nFax number: 866-822-2573\nWeb: www.vcaspecialtyvets.com/veterinary-care\n(35.131256, -106.529625)"
      },
      {
       "output_type": "stream",
       "stream": "stdout",
       "text": "\n(35.131256, -106.529625)"
      },
      {
       "output_type": "stream",
       "stream": "stdout",
       "text": "\nParsing data for Gillian McLellan\n\nWork number: 608-263-6649\n(43.0750758, -89.42018379999999)"
      },
      {
       "output_type": "stream",
       "stream": "stdout",
       "text": "\nParsing data for Richard McMullen Jr.\n\nFax number: +49(0)89-945 00011\nWeb: www.pferdeklinik-muenchen.de\n<class 'pygeolib.GeocoderError'>"
      },
      {
       "output_type": "stream",
       "stream": "stdout",
       "text": "\nGeocode error for: Richard McMullen Jr.\n\nParsing data for Noelle McNabb\n\nWork number: 407-629-0044\nFax number: 407-629-0602\nAnother address for Noelle McNabb\n\nWork number: 941-321-0704\n(28.6277767, -81.36312439999999)"
      },
      {
       "output_type": "stream",
       "stream": "stdout",
       "text": "\n(27.281175, -82.529995)"
      },
      {
       "output_type": "stream",
       "stream": "stdout",
       "text": "\nParsing data for Lisa A. Meek\n\n(40.0686472, -85.9222027)"
      },
      {
       "output_type": "stream",
       "stream": "stdout",
       "text": "\nParsing data for Reuben Merideth\n\nWork number: 520-888-3177\nFax number: 520-887-9137\nWeb: www.eyecareforanimals.com\nAnother address for Reuben Merideth\n\nWork number: 480-424-3947\nFax number: 480-429-6277\nWeb: www.eyecareforanimals.com\nAnother address for Reuben Merideth\n\nWork number: 619-702-3937\nFax number: 619-414-5073\nWeb: www.eyecareforanimals.com\n(32.2645443, -110.9507222)"
      },
      {
       "output_type": "stream",
       "stream": "stdout",
       "text": "\n(33.5243639, -111.8985922)"
      },
      {
       "output_type": "stream",
       "stream": "stdout",
       "text": "\n(32.833539, -117.15374)"
      },
      {
       "output_type": "stream",
       "stream": "stdout",
       "text": "\nParsing data for Anne Gemensky Metzler\n\nWork number: 614-292-3551\nFax number: 614-292-7667\nWeb: www.vet.osu.edu/gemensky-metzler-anne\n(40.001559, -83.0264108)"
      },
      {
       "output_type": "stream",
       "stream": "stdout",
       "text": "\nParsing data for Tammy Michau\n\nWork number: 813-933-8944\nFax number: 813-594-8456\nWeb: www.\ufb02 orida.blueperalvet.com\nAnother address for Tammy Michau\n\nWork number: 813-643-7177\nWeb: http://www.surgi-carecenter.com/equine-services/\n(28.0354862, -82.4920877)"
      },
      {
       "output_type": "stream",
       "stream": "stdout",
       "text": "\n<class 'pygeolib.GeocoderError'>"
      },
      {
       "output_type": "stream",
       "stream": "stdout",
       "text": "\nGeocode error for: Tammy Michau\n\nParsing data for Melanie Mineo\n\nWork number: 716-608-7700\nFax number: 716-608-7788\nWeb: www.animaleyecareofwny.com\n(42.874841, -78.695036)"
      },
      {
       "output_type": "stream",
       "stream": "stdout",
       "text": "\nParsing data for Emily Moeller\n\nWork number: 520-888-3177\nFax number: 520-886-2436\nWeb: www.eyecareforanimals.com\n(32.265217, -110.969746)"
      },
      {
       "output_type": "stream",
       "stream": "stdout",
       "text": "\nParsing data for Peter Mohoric\n\nWork number: 571-209-1190\nFax number: 571-204-1191\nWeb: www.eyecareforanimals.com\nAnother address for Peter Mohoric\n\nWork number: 410-224-9470\nFax number: 410-224-3115\nWeb: www.eyecareforanimals.com\n(39.109101, -77.5402)"
      },
      {
       "output_type": "stream",
       "stream": "stdout",
       "text": "\n(38.995306, -76.53711299999999)"
      },
      {
       "output_type": "stream",
       "stream": "stdout",
       "text": "\nParsing data for Keith Montgomery\n\nWork number: (919) 513-6659\nFax number: (919) 513-6711\n(35.7968851, -78.7040425)"
      },
      {
       "output_type": "stream",
       "stream": "stdout",
       "text": "\nParsing data for Paul E. Miller\n\nWork number: 608-263-7600\n(42.999243, -89.5686271)"
      },
      {
       "output_type": "stream",
       "stream": "stdout",
       "text": "\nParsing data for Thomas R. Miller\n\nWork number: 727-535-3500\nFax number: 727-539-7865\nWeb: www.tbvsecc.com\n(27.900377, -82.745206)"
      },
      {
       "output_type": "stream",
       "stream": "stdout",
       "text": "\nParsing data for William Miller\n\nWork number: 901-323-5203\nFax number: 662-323-5091\nWeb: www.advancedanimaleyecare.com\nAnother address for William Miller\n\nWork number: 901-624-9002\nWeb: www.memphisveterinaryspecialists.com\n(35.1407458, -89.80078519999999)"
      },
      {
       "output_type": "stream",
       "stream": "stdout",
       "text": "\n(35.1407458, -89.80078519999999)"
      },
      {
       "output_type": "stream",
       "stream": "stdout",
       "text": "\nParsing data for Nicholas Millichamp\n\nWork number: 281-820-3937\nFax number: 713-456-3323\nWeb: www.eyecareforanimals.com\nAnother address for Nicholas Millichamp\n\nWork number: 512-335-3937\nWeb: www.eyecareforanimals.com\nAnother address for Nicholas Millichamp\n\nWork number: 979-778-2529\nFax number: 979-778-4358\n(30.0171733, -95.5930465)"
      },
      {
       "output_type": "stream",
       "stream": "stdout",
       "text": "\n(30.4114162, -97.6915904)"
      },
      {
       "output_type": "stream",
       "stream": "stdout",
       "text": "\n(30.7675415, -96.48461809999999)"
      },
      {
       "output_type": "stream",
       "stream": "stdout",
       "text": "\nParsing data for Cecil P. Moore\n\nWork number: 573-882-7821\nFax number: 573-884-5444\nWeb: www.vmth.missouri.edu\nAnother address for Cecil P. Moore\n\nWork number: 636-536-4991\nFax number: 636-536-4951\nWeb: www.midwestvetreferral.com\n(38.9382838, -92.3172317)"
      },
      {
       "output_type": "stream",
       "stream": "stdout",
       "text": "\n(38.6299452, -90.6962853)"
      },
      {
       "output_type": "stream",
       "stream": "stdout",
       "text": "\nParsing data for Phillip Anthony Moore\n\nWork number: 706-542-6484\nFax number: 706-542-5523\n(33.954258, -83.37493219999999)"
      },
      {
       "output_type": "stream",
       "stream": "stdout",
       "text": "\nParsing data for Rhea V. Morgan\n\nWork number: 865-966-8900\nFax number: 865-675-4297\nWeb: www.villagevetclinic.com\n(35.882834, -84.158591)"
      },
      {
       "output_type": "stream",
       "stream": "stdout",
       "text": "\nParsing data for Cory Mosunic\n\nWork number: 203-270-8387\nFax number: 203-792-3104\n(-33.8965493, 151.1799632)"
      },
      {
       "output_type": "stream",
       "stream": "stdout",
       "text": "\nParsing data for Meredith Mouney\n\nWork number: 504-872-9898\nFax number: 504-835-4306\nWeb: mvosinfo@gmail.com\n(29.9794411, -90.1252763)"
      },
      {
       "output_type": "stream",
       "stream": "stdout",
       "text": "\nParsing data for Albert Mughannam\n\nWork number: 650-551-1115\nFax number: 650-551-0100\nWeb: www.veterinaryvision.com\nAnother address for Albert Mughannam\n\nWork number: 650-551-1115\nFax number: 650-551-0100\nWeb: www.veterinaryvision.com\n(37.5181194, -122.2646941)"
      },
      {
       "output_type": "stream",
       "stream": "stdout",
       "text": "\n(37.7427841, -122.4795909)"
      },
      {
       "output_type": "stream",
       "stream": "stdout",
       "text": "\nParsing data for Robert (Bob) J. Munger\n\nWork number: 972-267-4100\nFax number: 972-267-4200\nWeb: www.eyedvm.com\nAnother address for Robert (Bob) J. Munger\n\nWork number: 682-223-9730\nFax number: 682-223-9731\nWeb: www.eyedvm.com\n(32.98915600000001, -96.832466)"
      },
      {
       "output_type": "stream",
       "stream": "stdout",
       "text": "\n(32.9342919, -97.0780654)"
      },
      {
       "output_type": "stream",
       "stream": "stdout",
       "text": "\nParsing data for Christopher J. Murphy\n\nWork number: 530-754-0216\n(38.5449065, -121.7405167)"
      },
      {
       "output_type": "stream",
       "stream": "stdout",
       "text": "\nParsing data for Kathern Myrna\n\nWork number: 706-542-3221\nFax number: 706-542-5355\nWeb: http://www.vet.uga.edu/hospital/services/\n<class 'pygeolib.GeocoderError'>"
      },
      {
       "output_type": "stream",
       "stream": "stdout",
       "text": "\nGeocode error for: Kathern Myrna\n\nParsing data for Bradley Nadelstein\n\nWork number: 757-366-9060\nFax number: 757-366-9030\nWeb: www.aecassociates.com\nAnother address for Bradley Nadelstein\n\nWork number: 757-368-9060\nFax number: 757-368-9062\n(36.766716, -76.260316)"
      },
      {
       "output_type": "stream",
       "stream": "stdout",
       "text": "\n(36.802073, -76.083356)"
      },
      {
       "output_type": "stream",
       "stream": "stdout",
       "text": "\nParsing data for Mark P. Nasisse\n\nWork number: 336-314-5159\n(36.1637709, -80.007593)"
      },
      {
       "output_type": "stream",
       "stream": "stdout",
       "text": "\nParsing data for Marjorie H. Neaderland\n\nWork number: 203-855-1533\nFax number: 203-838-5956\nWeb: www.eyecareforanimals.com\n<class 'pygeolib.GeocoderError'>"
      },
      {
       "output_type": "stream",
       "stream": "stdout",
       "text": "\nGeocode error for: Marjorie H. Neaderland\n\nParsing data for Susan Nelms\n\nWork number: 205-428-5256\nFax number: 205-428-8704\nWeb: www.alabamaveterinaryspecialists.com\n(33.342506, -86.910656)"
      },
      {
       "output_type": "stream",
       "stream": "stdout",
       "text": "\nParsing data for Darien Nelson\n\n(20.776989, -156.332715)"
      },
      {
       "output_type": "stream",
       "stream": "stdout",
       "text": "\nParsing data for Sylvia Neumann\n\nWork number: 707-523-3937\nFax number: 707-523-3930\nWeb: www.allanimaleyecare.com\nAnother address for Sylvia Neumann\n\nWork number: 707-523-3937\nFax number: 707-523-3930\n(38.500006, -122.753392)"
      },
      {
       "output_type": "stream",
       "stream": "stdout",
       "text": "\n(37.9476041, -122.5110647)"
      },
      {
       "output_type": "stream",
       "stream": "stdout",
       "text": "\nParsing data for Joanna Norman\n\nWork number: 623-872-3937\nFax number: 623-792-6301\nWeb: www.eyecareforanimals.com\n(33.4616871, -112.3364359)"
      },
      {
       "output_type": "stream",
       "stream": "stdout",
       "text": "\nParsing data for Tanja Nuhsbaum\n\nWork number: 303-874-2070\nFax number: 303-874-3204\nWeb: www.vrcc.com\n(39.6523287, -104.9988105)"
      },
      {
       "output_type": "stream",
       "stream": "stdout",
       "text": "\nParsing data for Catherine Nunnery\n\nWork number: 301-926-3300\nFax number: 301-977-1308\nWeb: www.vcavra.com\nAnother address for Catherine Nunnery\n\nWork number: 540-364-4950\nWeb: www.equineveterinaryvision.com\n(39.1478744, -77.2146085)"
      },
      {
       "output_type": "stream",
       "stream": "stdout",
       "text": "\n(38.869888, -77.819037)"
      },
      {
       "output_type": "stream",
       "stream": "stdout",
       "text": "\nParsing data for Dennis Dwight Olin\n\nWork number: 209-951-5180\nFax number: 209-951-1240\nWeb: www.villagevetstockton.com\nAnother address for Dennis Dwight Olin\n\n(38.005738, -121.353285)"
      },
      {
       "output_type": "stream",
       "stream": "stdout",
       "text": "\n(38.011315, -121.361769)"
      },
      {
       "output_type": "stream",
       "stream": "stdout",
       "text": "\nParsing data for Dennis Olivero\n\nWork number: 952-929-8299\nFax number: 952-929-8399\nWeb: www.peteyeclinic.com\n(44.9443048, -93.3458577)"
      },
      {
       "output_type": "stream",
       "stream": "stdout",
       "text": "\nParsing data for Franck Ollivier\n\nWork number: 514-633-8888\nWeb: www.centredmv.com\nAnother address for Franck Ollivier\n\nWeb: www.animaleyedoctor.eu\n(45.458839, -73.72056599999999)"
      },
      {
       "output_type": "stream",
       "stream": "stdout",
       "text": "\n(32.672966, -97.197014)"
      },
      {
       "output_type": "stream",
       "stream": "stdout",
       "text": "\nParsing data for Juri Ota-Kuroki\n\nWork number: 636-536-4991\nFax number: 636-536-4951\n(38.6299452, -90.6962853)"
      },
      {
       "output_type": "stream",
       "stream": "stdout",
       "text": "\nParsing data for Danielle Paglia\n\nWork number: 512-335-3937\nFax number: 512-628-9006\nWeb: http://www.eyecareforanimals.com/locations/\n<class 'pygeolib.GeocoderError'>"
      },
      {
       "output_type": "stream",
       "stream": "stdout",
       "text": "\nGeocode error for: Danielle Paglia\n\nParsing data for Nancy Park\n\n(34.0522342, -118.2436849)"
      },
      {
       "output_type": "stream",
       "stream": "stdout",
       "text": "\nParsing data for Charles J. Parshall\n\nWork number: 330-659-4451\nFax number: 330-659-4451\n(41.2274088, -81.63638689999999)"
      },
      {
       "output_type": "stream",
       "stream": "stdout",
       "text": "\nParsing data for Diana Pate\n\nWork number: 864-233-7650\nFax number: 864-233-7631\nWeb: www.upstatevet.com\nAnother address for Diana Pate\n\nWork number: 828-210-8285\nWeb: www.upstatevet.com\n(34.8538542, -82.34240299999999)"
      },
      {
       "output_type": "stream",
       "stream": "stdout",
       "text": "\n(35.56714230000001, -82.5437614)"
      },
      {
       "output_type": "stream",
       "stream": "stdout",
       "text": "\nParsing data for Amy Pauli\n\nWork number: 608-724-7772\nFax number: 608-274-5771\nWeb: www.mvsvets.com\n(43.037139, -89.386556)"
      },
      {
       "output_type": "stream",
       "stream": "stdout",
       "text": "\nParsing data for Michael Paulsen\n\nWork number: 817-483-8762\nFax number: 817-478-3692\nWeb: www.texaseyevet.com\n(32.672966, -97.197014)"
      },
      {
       "output_type": "stream",
       "stream": "stdout",
       "text": "\nParsing data for Jacqueline Pearce\n\nWork number: 573-882-7821\nFax number: 573-884-5444\nWeb: www.vmth.missouri.edu/ophthamology.htm\nAnother address for Jacqueline Pearce\n\nWork number: 847-695-1111\nWeb: www.animaleyeconsultant.com\n(38.9331391, -92.3738037)"
      },
      {
       "output_type": "stream",
       "stream": "stdout",
       "text": "\n(42.0372487, -88.2811895)"
      },
      {
       "output_type": "stream",
       "stream": "stdout",
       "text": "\nParsing data for Robert L. Peiffer\n\nWork number: 215-380-6111\nFax number: 215-766-9818\nWeb: www.buckseyes.org\n(40.3608841, -75.1076106)"
      },
      {
       "output_type": "stream",
       "stream": "stdout",
       "text": "\nParsing data for Christina Pellicane\n\nWork number: 954-473-0765\nFax number: 954-476-0173\n(26.066489, -80.286529)"
      },
      {
       "output_type": "stream",
       "stream": "stdout",
       "text": "\nParsing data for Victoria Pentlarge\n\nWork number: 706-548-9102\nFax number: 706-548-1052\n(33.936745, -83.3872899)"
      },
      {
       "output_type": "stream",
       "stream": "stdout",
       "text": "\nParsing data for Stacy A. Peterson\n\nWork number: 505-908-0026\nAnother address for Stacy A. Peterson\n\nWork number: 505-296-2982\n(35.3148451, -106.5425863)"
      },
      {
       "output_type": "stream",
       "stream": "stdout",
       "text": "\n(35.131256, -106.529625)"
      },
      {
       "output_type": "stream",
       "stream": "stdout",
       "text": "\nParsing data for J. Phillip Pickett\n\nWork number: 540-231-4621\nFax number: 540-231-1676\nWeb: www.vetmed.vt.edu\n(37.2220827, -80.4218679)"
      },
      {
       "output_type": "stream",
       "stream": "stdout",
       "text": "\nParsing data for Kenneth Pierce\n\nWork number: 732-922-0011\nFax number: 732-922-0991\nWeb: www.gsvs.org\n(40.2381971, -74.08241459999999)"
      },
      {
       "output_type": "stream",
       "stream": "stdout",
       "text": "\nParsing data for Chantale Pinard\n\nWork number: 519-824-4120 ext 54148\nFax number: 519-767-0311\n(43.5353897, -80.219583)"
      },
      {
       "output_type": "stream",
       "stream": "stdout",
       "text": "\nParsing data for Chris Pirie\n\nWork number: 508-835-5395\nWeb: www.tufts.edu/vet\n<class 'pygeolib.GeocoderError'>"
      },
      {
       "output_type": "stream",
       "stream": "stdout",
       "text": "\nGeocode error for: Chris Pirie\n\nParsing data for Stefano Pizzirani\n\nWork number: 508-839-5395\nFax number: 508-839-7922\nWeb: www.tufts.edu/vet\n<class 'pygeolib.GeocoderError'>"
      },
      {
       "output_type": "stream",
       "stream": "stdout",
       "text": "\nGeocode error for: Stefano Pizzirani\n\nParsing data for Robert Playter\n\n(30.705633, -97.728984)"
      },
      {
       "output_type": "stream",
       "stream": "stdout",
       "text": "\nParsing data for Caryn Plummer\n\nWork number: 352-392-2235\nFax number: 352-392-6125\nWeb: www.vetmed.u\ufb02 .edu\n(29.632242, -82.34517699999999)"
      },
      {
       "output_type": "stream",
       "stream": "stdout",
       "text": "\nParsing data for Simon Pot\n\nWork number: 41446359030\nFax number: 41446358940\nWeb: http://www.tierspital.uzh.ch/Pferde/\n<class 'pygeolib.GeocoderError'>"
      },
      {
       "output_type": "stream",
       "stream": "stdout",
       "text": "\nGeocode error for: Simon Pot\n\nParsing data for Cynthia Powell\n\nWork number: 970-297-1259\nFax number: 970-297-1275\nWeb: www.csuvets.colostate.edu/\n(40.57, -105.09)"
      },
      {
       "output_type": "stream",
       "stream": "stdout",
       "text": "\nParsing data for Daniel Priehs\n\nWork number: 407-629-0044\nFax number: 407-629-0602\nWeb: www.veterinaryspecialists.com\n(28.6277767, -81.36312439999999)"
      },
      {
       "output_type": "stream",
       "stream": "stdout",
       "text": "\nParsing data for Jonathan Pucket\n\nWork number: 405-744-8757\nFax number: 405-744-6265\n(36.1198996, -97.0888415)"
      },
      {
       "output_type": "stream",
       "stream": "stdout",
       "text": "\nParsing data for Stephanie Pumphrey\n\nWork number: 781-337-6622\nFax number: 781-337-0069\nWeb: http://www.vcaspecialtyvets.com/\n(42.1846057, -70.9738534)"
      },
      {
       "output_type": "stream",
       "stream": "stdout",
       "text": "\nParsing data for Art J. Quinn\n\nWork number: 918-865-3419\nAnother address for Art J. Quinn\n\nWork number: 248-354-6660\nFax number: 248-354-0303\nWeb: www.michvet.com\n(36.1661529, -96.2569293)"
      },
      {
       "output_type": "stream",
       "stream": "stdout",
       "text": "\n(42.4966195, -83.2880591)"
      },
      {
       "output_type": "stream",
       "stream": "stdout",
       "text": "\nParsing data for Richard F. Quinn\n\nWork number: 519-666-3937\nFax number: 519-666-3483\nWeb: www.theeyevet.com\n<class 'pygeolib.GeocoderError'>"
      },
      {
       "output_type": "stream",
       "stream": "stdout",
       "text": "\nGeocode error for: Richard F. Quinn\n\nParsing data for Marc Rainbow\n\nWork number: 210-930-8383\nFax number: 210-930-8040\nWeb: www.stvophtho.com\nAnother address for Marc Rainbow\n\nWork number: 832-616-5000\nWeb: www.stvophtho.com\n(29.616298, -98.486357)"
      },
      {
       "output_type": "stream",
       "stream": "stdout",
       "text": "\n(30.0734705, -95.4390056)"
      },
      {
       "output_type": "stream",
       "stream": "stdout",
       "text": "\nParsing data for Kelli Ramey\n\nWork number: 403-770-1340\nFax number: 403-770-1344\nWeb: www.westernvet.ca\n(51.0447632, -114.1040936)"
      },
      {
       "output_type": "stream",
       "stream": "stdout",
       "text": "\nParsing data for David T. Ramsey\n\nWork number: 517-655-2777\nFax number: 517-655-2723\nWeb: www.eye-vet.com\n(42.6902516, -84.30759530000002)"
      },
      {
       "output_type": "stream",
       "stream": "stdout",
       "text": "\nParsing data for Amy Rankin\n\nWork number: 785-532-5690\nFax number: 785-532-4309\nWeb: www.vet.k-state.edu\n(39.1994585, -96.5838174)"
      },
      {
       "output_type": "stream",
       "stream": "stdout",
       "text": "\nParsing data for Shelby Reinstein\n\nWork number: 215-750-7884\nFax number: 215-752-3156\nWeb: http://www.vsecvet.com/bio/sReinstein.shtml\n(40.155426, -74.8828754)"
      },
      {
       "output_type": "stream",
       "stream": "stdout",
       "text": "\nParsing data for Tara Richards\n\nWork number: 519-222-7770\nAnother address for Tara Richards\n\nWork number: 416-920-2002\n(43.44320099999999, -80.4429356)"
      },
      {
       "output_type": "stream",
       "stream": "stdout",
       "text": "\n(43.6740624, -79.38922989999999)"
      },
      {
       "output_type": "stream",
       "stream": "stdout",
       "text": "\nParsing data for Ron C. Riis\n\nWork number: 607-844-9421\n(42.475831, -76.288352)"
      },
      {
       "output_type": "stream",
       "stream": "stdout",
       "text": "\nParsing data for Rachel D. Ring\n\nWork number: 972-267-4100\nFax number: 972-267-4200\nWeb: www.eyedvm.com\n(32.98915600000001, -96.832466)"
      },
      {
       "output_type": "stream",
       "stream": "stdout",
       "text": "\nParsing data for Michael J. Ringle\n\nWork number: 732-747-3636\nFax number: 732-747-6562\n(40.329871, -74.083777)"
      },
      {
       "output_type": "stream",
       "stream": "stdout",
       "text": "\nParsing data for Steven M. Roberts\n\nWork number: 970-461-0909\nFax number: 970-461-0027\nWeb: www.animaleyecenter.com\n(40.46122030000001, -105.0791772)"
      },
      {
       "output_type": "stream",
       "stream": "stdout",
       "text": "\nParsing data for Deborah Rowley\n\nWork number: 801-871-0600\nFax number: 801-566-1155\nWeb: www.utahveterinarycenter.com\n(40.6210656, -111.8171374)"
      },
      {
       "output_type": "stream",
       "stream": "stdout",
       "text": "\nParsing data for Nicole Roybal\n\nWork number: 760-466-0600\nFax number: 760-466-0660\nAnother address for Nicole Roybal\n\nWork number: 858-875-7500\nFax number: 858-875-7525\n(33.132091, -117.118932)"
      },
      {
       "output_type": "stream",
       "stream": "stdout",
       "text": "\n(32.8952209, -117.2160995)"
      },
      {
       "output_type": "stream",
       "stream": "stdout",
       "text": "\nParsing data for Lionel F. Rubin\n\nWork number: 215-557-0237\n(39.95038630000001, -75.1750569)"
      },
      {
       "output_type": "stream",
       "stream": "stdout",
       "text": "\nParsing data for M. A. Salisbury\n\nWork number: 941-379-3937\nFax number: 941-378-3547\nWeb: www.animaleyecare-sarasota.com\n(27.299331, -82.475478)"
      },
      {
       "output_type": "stream",
       "stream": "stdout",
       "text": "\nParsing data for Lynne Sandmeyer\n\nWork number: 306-966-1336\n(52.1333827, -106.6308117)"
      },
      {
       "output_type": "stream",
       "stream": "stdout",
       "text": "\nParsing data for John S. Sapienza\n\nWork number: 516-501-1700\nFax number: 516-501-1169\nWeb: www.livs.org\n(40.785717, -73.4492175)"
      },
      {
       "output_type": "stream",
       "stream": "stdout",
       "text": "\nParsing data for Randy Scagliotti\n\nWork number: 949-733-8271\nFax number: 949-733-8270\nWeb: www.eyecareforanimals.com\nAnother address for Randy Scagliotti\n\nWork number: 480-424-3947\nFax number: 480-429-6277\nWeb: www.eyecareforanimals.com\n(33.7071227, -117.8062205)"
      },
      {
       "output_type": "stream",
       "stream": "stdout",
       "text": "\n(33.5243639, -111.8985922)"
      },
      {
       "output_type": "stream",
       "stream": "stdout",
       "text": "\nParsing data for Gretchen M. Schmidt\n\nWork number: 920-863-3160\nFax number: 920-863-3709\n(44.4437132, -87.791513)"
      },
      {
       "output_type": "stream",
       "stream": "stdout",
       "text": "\nParsing data for Kristiane Schmidt\n\nWork number: 805-473-3332\nFax number: 805-473-3335\nWeb: www.centralcoasteyevet.com\n(35.125162, -120.576944)"
      },
      {
       "output_type": "stream",
       "stream": "stdout",
       "text": "\nParsing data for Jamie Schorling\n\nWork number: 858-502-1277\nFax number: 858-502-1340\nWeb: www.eyeclinicforanimals.org\n(32.8361504, -117.1385594)"
      },
      {
       "output_type": "stream",
       "stream": "stdout",
       "text": "\nParsing data for James Schoster\n\nWork number: 651-341-8494\nWeb: www.schostercerf.com\n(45.033342, -93.18050699999999)"
      },
      {
       "output_type": "stream",
       "stream": "stdout",
       "text": "\nParsing data for Glenn A. Severin\n\nWork number: 970-482-7061\nFax number: 970-490-5954\n(40.565496, -105.087165)"
      },
      {
       "output_type": "stream",
       "stream": "stdout",
       "text": "\nParsing data for Don Shaw\n\nWork number: 218-681-6627\n(48.1126786, -96.1706437)"
      },
      {
       "output_type": "stream",
       "stream": "stdout",
       "text": "\nParsing data for Kelly Sigle\n\nWork number: 336-632-0605\nFax number: 336-632-0703\nWeb: www.carolinavet.com\nAnother address for Kelly Sigle\n\nWork number: 336-896-0902\nFax number: 336-896-1969\n(36.062007, -79.90954599999999)"
      },
      {
       "output_type": "stream",
       "stream": "stdout",
       "text": "\n(36.071392, -80.33702)"
      },
      {
       "output_type": "stream",
       "stream": "stdout",
       "text": "\nParsing data for Ron L. Sigler\n\nWork number: 602-995-2871\nFax number: 602-995-1770\nWeb: www.eyecareforanimals.com\n(33.5543055, -112.1096701)"
      },
      {
       "output_type": "stream",
       "stream": "stdout",
       "text": "\nParsing data for Gwen Sila\n\nWork number: 248-354-6660\nAnother address for Gwen Sila\n\nWork number: 734-971-8774\nWeb: www.michigan.bluepearlvet.com\n(42.4966195, -83.2880591)"
      },
      {
       "output_type": "stream",
       "stream": "stdout",
       "text": "\n(42.2451278, -83.6776811)"
      },
      {
       "output_type": "stream",
       "stream": "stdout",
       "text": "\nParsing data for Steve Sisler\n\nWork number: 847-215-3933\nFax number: 847-215-3984\nWeb: www.eyecareforanimals.com\n(42.13412599999999, -87.90333690000001)"
      },
      {
       "output_type": "stream",
       "stream": "stdout",
       "text": "\nParsing data for Brian J. Skorobohach\n\nWork number: 403-520-8387\nWeb: www.carecentre.ca\nAnother address for Brian J. Skorobohach\n\nWork number: 403-998-8387\nWeb: www.carecentre.ca\n(50.9902391, -114.0362048)"
      },
      {
       "output_type": "stream",
       "stream": "stdout",
       "text": "\n(51.072565, -114.0782593)"
      },
      {
       "output_type": "stream",
       "stream": "stdout",
       "text": "\nParsing data for Jessica Slack\n\nWork number: 785-532-5690\nFax number: 785-532-4309\nWeb: www.vet.k-state.edu/depts/clinicalsciences/faculty\n(39.1994585, -96.5838174)"
      },
      {
       "output_type": "stream",
       "stream": "stdout",
       "text": "\nParsing data for Stephanie L. Smedes\n\nWork number: 425-239-3063\n(41.920872, -74.016465)"
      },
      {
       "output_type": "stream",
       "stream": "stdout",
       "text": "\nParsing data for Eric Smith\n\nWork number: 301-990-6373\nFax number: 301-990-1522\n(39.117501, -77.1850372)"
      },
      {
       "output_type": "stream",
       "stream": "stdout",
       "text": "\nParsing data for Jeffrey Smith\n\nWork number: 61-2-94364884\nFax number: 61-2-99065710\n(-33.8227739, 151.1988729)"
      },
      {
       "output_type": "stream",
       "stream": "stdout",
       "text": "\nParsing data for Patricia J. Smith\n\nWork number: 510-623-0444\nFax number: 510-657-6855\nWeb: www.animaleyecare.com\n(37.5312068, -121.936119)"
      },
      {
       "output_type": "stream",
       "stream": "stdout",
       "text": "\nParsing data for Bernhard M. Spiess\n\nWork number: 41-44-6358404\nFax number: 41-44-6358949\nWeb: www.tierspital.uzh.ch/kleintiere/ophthalmologie.html\nAnother address for Bernhard M. Spiess\n\nWork number: 41-61-9769709\nFax number: 41-61-9731414\n(47.400848, 8.5511134)"
      },
      {
       "output_type": "stream",
       "stream": "stdout",
       "text": "\n(47.4372352, 7.810314699999999)"
      },
      {
       "output_type": "stream",
       "stream": "stdout",
       "text": "\nParsing data for Kimberly M. Stanz\n\nWork number: 716-608-7700\nFax number: 716-608-7788\nWeb: www.animaleyecareofwny.com\n(42.874841, -78.695036)"
      },
      {
       "output_type": "stream",
       "stream": "stdout",
       "text": "\nParsing data for Barbara Steele\n\nWork number: 858-442-1813\nAnother address for Barbara Steele\n\nWork number: 858-442-1813\n(32.805898, -117.212493)"
      },
      {
       "output_type": "stream",
       "stream": "stdout",
       "text": "\n(42.56910999999999, -123.307631)"
      },
      {
       "output_type": "stream",
       "stream": "stdout",
       "text": "\nParsing data for Kirsten Steele\n\nWork number: 775-851-1155\nFax number: 775-852-1146\nWeb: www.eyecareforanimals.com\n(39.4442031, -119.7710658)"
      },
      {
       "output_type": "stream",
       "stream": "stdout",
       "text": "\nParsing data for Michele Stengard\n\nWork number: 727-572-0132\nFax number: 727-572-4365\nWeb: www.bluepearlvet.com\n(27.894486, -82.69551899999999)"
      },
      {
       "output_type": "stream",
       "stream": "stdout",
       "text": "\nParsing data for Jean Stiles\n\nWork number: 765-494-1107\nFax number: 765-496-1108\n(40.4194823, -86.9147859)"
      },
      {
       "output_type": "stream",
       "stream": "stdout",
       "text": "\nParsing data for Eric Storey\n\nWork number: 225-578-9600\nFax number: 225-578-9559\nWeb: www1.vetmed.lsu.edu//VTHC\n(30.4119806, -91.1909785)"
      },
      {
       "output_type": "stream",
       "stream": "stdout",
       "text": "\nParsing data for Dennis Todd Strubbe\n\nWork number: 772-220-8485\nFax number: 772-220-5943\nWeb: www.animaleyedocs.com\n(27.1775848, -80.25300639999999)"
      },
      {
       "output_type": "stream",
       "stream": "stdout",
       "text": "\nParsing data for J. Jeff Studer\n\nWork number: 682-223-9730\nFax number: 682-223-9731\nWeb: www.eyedvm.com\nAnother address for J. Jeff Studer\n\nWork number: 972-267-4100\nFax number: 972-267-4200\nWeb: www.eyedvm.com\n(32.9342919, -97.0780654)"
      },
      {
       "output_type": "stream",
       "stream": "stdout",
       "text": "\n(32.98915600000001, -96.832466)"
      },
      {
       "output_type": "stream",
       "stream": "stdout",
       "text": "\nParsing data for Charles M. Stuhr\n\nWork number: 203-762-9399\nWeb: www.aecwilton.com\n(41.2478547, -73.434781)"
      },
      {
       "output_type": "stream",
       "stream": "stdout",
       "text": "\nParsing data for Rustin Sturgeon\n\nWork number: 913-381-3937\nFax number: 913-906-9277\nWeb: www.eyecareforanimals.com\nAnother address for Rustin Sturgeon\n\nWork number: 913-381-3937\nFax number: 913-906-9277\nWeb: www.eyecareforanimals.com\n(38.930651, -94.72520899999999)"
      },
      {
       "output_type": "stream",
       "stream": "stdout",
       "text": "\n(38.975454, -94.35781)"
      },
      {
       "output_type": "stream",
       "stream": "stdout",
       "text": "\nParsing data for Thomas C. Sullivan\n\nWork number: 206-524-8822\nFax number: 206-524-3551\nWeb: www.seattleaec.com\n(47.66833159999999, -122.3175979)"
      },
      {
       "output_type": "stream",
       "stream": "stdout",
       "text": "\nParsing data for James F. Swanson\n\nWork number: 713-461-3132\nFax number: 713-464-7438\n(29.7923005, -95.5139567)"
      },
      {
       "output_type": "stream",
       "stream": "stdout",
       "text": "\nParsing data for Rob Swinger\n\nWork number: 954-826-8871\nFax number: 786-219-3222\nAnother address for Rob Swinger\n\n(26.010537, -80.165179)"
      },
      {
       "output_type": "stream",
       "stream": "stdout",
       "text": "\n(53.59819299999999, -113.48786)"
      },
      {
       "output_type": "stream",
       "stream": "stdout",
       "text": "\nParsing data for Erica Tolar\n\nWork number: 502-220-7488\nAnother address for Erica Tolar\n\nWork number: 502-244-3036\nFax number: 502-244-3046\nWeb: www.bluepearlvet.com\n(38.2540362, -85.3348563)"
      },
      {
       "output_type": "stream",
       "stream": "stdout",
       "text": "\n(38.268036, -85.507852)"
      },
      {
       "output_type": "stream",
       "stream": "stdout",
       "text": "\nParsing data for Wendy Townsend\n\nWork number: 765-494-1107\nFax number: 765-496-1108\nWeb: www.vet.purdue.edu/vth\n(40.4203001, -86.9137878)"
      },
      {
       "output_type": "stream",
       "stream": "stdout",
       "text": "\nParsing data for Amy Treadwell\n\nWork number: 704-504-9608\nFax number: 704-504-9606\nWeb: www.carolinavet.com\n(35.132522, -80.942032)"
      },
      {
       "output_type": "stream",
       "stream": "stdout",
       "text": "\nParsing data for Robert C. Trucksa\n\n(35.179697, -106.486254)"
      },
      {
       "output_type": "stream",
       "stream": "stdout",
       "text": "\nParsing data for Nicole Scotty Trumble\n\nWork number: 952-942-8272\nFax number: 952-829-4089\nWeb: www.bluepearlvet.com\nWork number: 954-895-5448\nAnother address for Nicole Scotty Trumble\n\nWork number: 305-318-0422\nFax number: 786-219-3222\nWeb: www.animaleyeguys.com\n(26.118737, -80.1494249)"
      },
      {
       "output_type": "stream",
       "stream": "stdout",
       "text": "\n(25.69766, -80.296988)"
      },
      {
       "output_type": "stream",
       "stream": "stdout",
       "text": "\nParsing data for Carol Szymanski\n\nWork number: 650-551-1115\nFax number: 650-551-0100\nWeb: www.veterinaryvision.com\n(37.5181194, -122.2646941)"
      },
      {
       "output_type": "stream",
       "stream": "stdout",
       "text": "\nParsing data for Michelle Taylor\n\nWork number: 503-656-3999\nFax number: 503-557-8672\n(45.4008128, -122.5681033)"
      },
      {
       "output_type": "stream",
       "stream": "stdout",
       "text": "\nParsing data for Sara Thomasy\n\nWork number: 530-752-1770\nFax number: 530-752-3708\nWeb: www.vetmed.ucdavis.edu\n(38.5449065, -121.7405167)"
      },
      {
       "output_type": "stream",
       "stream": "stdout",
       "text": "\nParsing data for David Tinsley\n\nWork number: 613-520-2214\nFax number: 613-731-2315\nWeb: www.altavistaanimalhospital.com\nAnother address for David Tinsley\n\n(45.3530126, -75.6385499)"
      },
      {
       "output_type": "stream",
       "stream": "stdout",
       "text": "\n(45.3499701, -75.6437876)"
      },
      {
       "output_type": "stream",
       "stream": "stdout",
       "text": "\nParsing data for Hiroki Tsujita\n\nWork number: 81-80-8313-3066\nFax number: 81-72-331-3688\n<class 'pygeolib.GeocoderError'>"
      },
      {
       "output_type": "stream",
       "stream": "stdout",
       "text": "\nGeocode error for: Hiroki Tsujita\n\nParsing data for Teresa Tucci\n\nWork number: 305-246-1701\nFax number: 305-246-1712\nWeb: www.vetsi.com\n(25.475528, -80.476005)"
      },
      {
       "output_type": "stream",
       "stream": "stdout",
       "text": "\nParsing data for Jennifer L. Urbanz\n\nWork number: 480-948-2362\nFax number: 480-367-6929\nWeb: www.eyecareforanimals.com\n(33.6910087, -111.9244293)"
      },
      {
       "output_type": "stream",
       "stream": "stdout",
       "text": "\nParsing data for Mary Utter\n\nWork number: 610-925-6111\nFax number: 610-925-6800\nWeb: www.vet.upenn.edu\n(39.8467767, -75.7116032)"
      },
      {
       "output_type": "stream",
       "stream": "stdout",
       "text": "\nParsing data for Samuel J. Vainisi\n\nWork number: 920-863-3160\nFax number: 920-863-3709\n(44.4437132, -87.791513)"
      },
      {
       "output_type": "stream",
       "stream": "stdout",
       "text": "\nParsing data for Gabriel Van Brunt\n\nWork number: 985-400-5333\nFax number: 985-746-9393\nWeb: www.SouthernVeterinaryEyeCare.com\n(30.41883829999999, -90.0419591)"
      },
      {
       "output_type": "stream",
       "stream": "stdout",
       "text": "\nParsing data for Alexandra van der Woerdt\n\nWork number: 212-329-8729\nFax number: 212-752-2592\nWeb: www.amcny.org\n(40.760016, -73.958086)"
      },
      {
       "output_type": "stream",
       "stream": "stdout",
       "text": "\nParsing data for William Ardene Vestre\n\nWork number: 858-502-1277\nFax number: 858-502-1340\nWeb: www.eyeclinicforanimals.org\nAnother address for William Ardene Vestre\n\nWork number: 858-502-1277\nFax number: 858-502-1340\n(32.8361504, -117.1385594)"
      },
      {
       "output_type": "stream",
       "stream": "stdout",
       "text": "\n(32.732242, -117.163329)"
      },
      {
       "output_type": "stream",
       "stream": "stdout",
       "text": "\nParsing data for Kristina Vygantas\n\nWork number: 609-259-8300\nFax number: 609-259-8484\nWeb: www.northstarvets.com\n(40.1931576, -74.5942385)"
      },
      {
       "output_type": "stream",
       "stream": "stdout",
       "text": "\nParsing data for Lynsey Smith Wagner\n\nWork number: 218-820-3937\nFax number: 713-456-3323\nWeb: www.eyecareforanimals.com\n(29.9161683, -95.5302337)"
      },
      {
       "output_type": "stream",
       "stream": "stdout",
       "text": "\nParsing data for Nils Wallin-Hakansson\n\nFax number: +46-220-43826\nWeb: www.regdjsh.se\n(59.5212629, 16.250685)"
      },
      {
       "output_type": "stream",
       "stream": "stdout",
       "text": "\nParsing data for Dan Ward\n\nWork number: 865-974-8387\nFax number: 865-974-5554\n(35.9451209, -83.9406407)"
      },
      {
       "output_type": "stream",
       "stream": "stdout",
       "text": "\nParsing data for Christi Warren\n\nWork number: 239-948-3937\nFax number: 239-948-1902\nWeb: www.animaleyedoctors.com\n(26.4308402, -81.8023904)"
      },
      {
       "output_type": "stream",
       "stream": "stdout",
       "text": "\nParsing data for John Warren\n\nWork number: 972-727-2020\nFax number: 877-367-4640\nWeb: www.veterinaryeyeinstitute.com\n(33.1195921, -96.73372189999999)"
      },
      {
       "output_type": "stream",
       "stream": "stdout",
       "text": "\nParsing data for Neal Wasserman\n\nWork number: 773-388-3937\nFax number: 773-388-0929\nWeb: www.eyecareforanimals.com/locations/\n<class 'pygeolib.GeocoderError'>"
      },
      {
       "output_type": "stream",
       "stream": "stdout",
       "text": "\nGeocode error for: Neal Wasserman\n\nParsing data for Terah Webb\n\nWork number: 614-846-5800\nFax number: 614-846-5803\nWeb: www.medvetohio.com\nAnother address for Terah Webb\n\nWork number: 937-293-2714\nFax number: 937-293-2787\nWeb: www.medvetohio.com\n(40.0931191, -83.017962)"
      },
      {
       "output_type": "stream",
       "stream": "stdout",
       "text": "\n(39.7142973, -84.218802)"
      },
      {
       "output_type": "stream",
       "stream": "stdout",
       "text": "\nParsing data for Anne Weigt\n\nWork number: 410-224-4260\nFax number: 410-224-4946\nWeb: www.aecassociates.com\nAnother address for Anne Weigt\n\nWork number: 410-224-4260\nFax number: 410-224-4946\n(38.9859565, -76.5622065)"
      },
      {
       "output_type": "stream",
       "stream": "stdout",
       "text": "\n(39.5151798, -76.3697461)"
      },
      {
       "output_type": "stream",
       "stream": "stdout",
       "text": "\nParsing data for William Weinstein\n\nWork number: 702-871-1152\nFax number: 702-262-7000\nWeb: www.lvvsc.com\n(36.1005395, -115.2809227)"
      },
      {
       "output_type": "stream",
       "stream": "stdout",
       "text": "\nParsing data for Patrick Welch\n\nWork number: 781-932-5802\nWeb: www.ivghospitals.com\n(42.4072107, -71.3824374)"
      },
      {
       "output_type": "stream",
       "stream": "stdout",
       "text": "\nParsing data for Anja Welihozkiy\n\nWork number: 508-319-2117\nFax number: 508-319-2118\nWeb: www.ivghospitals.com\n(42.29525599999999, -71.38945199999999)"
      },
      {
       "output_type": "stream",
       "stream": "stdout",
       "text": "\nParsing data for Jennifer Welser\n\nWork number: 212-767-0099\nFax number: 212-767-0098\nWeb: www.bluepearlvet.com\n(40.7669247, -73.9876561)"
      },
      {
       "output_type": "stream",
       "stream": "stdout",
       "text": "\nParsing data for C. Sue West\n\nWork number: 705-526-6411\nFax number: 705-526-9815\nAnother address for C. Sue West\n\nWork number: 705-526-6411\nFax number: 705-526-9815\nAnother address for C. Sue West\n\nWork number: 705-733-1422\nFax number: 705-733-5034\n(44.7191952, -79.9880788)"
      },
      {
       "output_type": "stream",
       "stream": "stdout",
       "text": "\n(44.7513096, -79.88430009999999)"
      },
      {
       "output_type": "stream",
       "stream": "stdout",
       "text": "\n(44.3373526, -79.6934055)"
      },
      {
       "output_type": "stream",
       "stream": "stdout",
       "text": "\nParsing data for Hans Westermeyer\n\nWork number: 852 3650 3000\n(22.318929, 114.174346)"
      },
      {
       "output_type": "stream",
       "stream": "stdout",
       "text": "\nParsing data for Nick Whelan\n\nWork number: 519-654-2040\nFax number: 519-658-5060\nWeb: www.myeyevet.ca\n(43.421632, -80.382414)"
      },
      {
       "output_type": "stream",
       "stream": "stdout",
       "text": "\nParsing data for R. David Whitley\n\nWork number: 515-294-4900\nFax number: 515-294-7520\nWeb: www.vetmed.iastate.edu\n(42.0082591, -93.5904288)"
      },
      {
       "output_type": "stream",
       "stream": "stdout",
       "text": "\nParsing data for Cameron Whittaker\n\nWork number: 61 2943 64884\n(-33.8227739, 151.1988729)"
      },
      {
       "output_type": "stream",
       "stream": "stdout",
       "text": "\nParsing data for David A. Wilkie\n\nWork number: 614-292-8664\nFax number: 614-292-7667\nWeb: www.vet.osu.edu/davidwilkie\n(40.0009402, -83.0276177)"
      },
      {
       "output_type": "stream",
       "stream": "stdout",
       "text": "\nParsing data for Clara O. Williams\n\nAnother address for Clara O. Williams\n\nWork number: 781-932-5802\nFax number: 781-932-5837\n(42.52703349999999, -71.1216419)"
      },
      {
       "output_type": "stream",
       "stream": "stdout",
       "text": "\n<class 'pygeolib.GeocoderError'>"
      },
      {
       "output_type": "stream",
       "stream": "stdout",
       "text": "\nGeocode error for: Clara O. Williams\n\nParsing data for Leslie W. Williams\n\nWork number: 573-624-0762\n(36.7958866, -89.9578688)"
      },
      {
       "output_type": "stream",
       "stream": "stdout",
       "text": "\nParsing data for Michelle Willis\n\nWork number: 781-641-3673\n<class 'pygeolib.GeocoderError'>"
      },
      {
       "output_type": "stream",
       "stream": "stdout",
       "text": "\nGeocode error for: Michelle Willis\n\nParsing data for Susan Winston\n\nWork number: 770 867-2665\n(33.942995, -83.778224)"
      },
      {
       "output_type": "stream",
       "stream": "stdout",
       "text": "\nParsing data for E. Dan Wolf\n\nWork number: 813-881-9799\nFax number: 813-881-9099\nWeb: www.eyevettampa.com\n(27.997965, -82.53483399999999)"
      },
      {
       "output_type": "stream",
       "stream": "stdout",
       "text": "\nParsing data for Joe Wolfer\n\nWork number: 416-232-0211\nFax number: 416-232-0080\nWeb: www.animaleyeclinic.ca\n(43.6338482, -79.5209039)"
      },
      {
       "output_type": "stream",
       "stream": "stdout",
       "text": "\nParsing data for Kathryn Wotman\n\nWork number: 302-322-6933\nFax number: 302-322-6883\nWeb: www.vscdel.com\nAnother address for Kathryn Wotman\n\nWork number: 610-444-5800\nFax number: 610-347-0420\n(39.6751845, -75.62238359999999)"
      },
      {
       "output_type": "stream",
       "stream": "stdout",
       "text": "\n(39.8467767, -75.7116032)"
      },
      {
       "output_type": "stream",
       "stream": "stdout",
       "text": "\nParsing data for Milton Wyman\n\nWork number: 740-881-5600\n(40.181323, -83.07619299999999)"
      },
      {
       "output_type": "stream",
       "stream": "stdout",
       "text": "\nParsing data for William Yakely\n\nWork number: 509-368-6800\nFax number: 509-368-6810\nWeb: www.animaleyeclinicspokane.com\n(47.660085, -117.4069663)"
      },
      {
       "output_type": "stream",
       "stream": "stdout",
       "text": "\nParsing data for Maya Yamagata\n\nWork number: 808-593-7777\nFax number: 808-589-2267\n(21.2997453, -157.8421353)"
      },
      {
       "output_type": "stream",
       "stream": "stdout",
       "text": "\nParsing data for Audrey Yu-Speight\n\nWork number: 512-255-8700\nFax number: 512-255-3737\nWeb: www.VetEyeCenter.com\n(30.357919, -97.761358)"
      },
      {
       "output_type": "stream",
       "stream": "stdout",
       "text": "\nParsing data for Mitzi Zarfoss\n\n(37.9161326, -122.310765)"
      },
      {
       "output_type": "stream",
       "stream": "stdout",
       "text": "\nParsing data for Dara Zirofsky\n\nWork number: 425-827-3966\nFax number: 425-827-1422\nWeb: www.northwestanimaleye.com\n<class 'pygeolib.GeocoderError'>"
      },
      {
       "output_type": "stream",
       "stream": "stdout",
       "text": "\nGeocode error for: Dara Zirofsky\n\nParsing data for Sheri Berger\n\n<class 'pygeolib.GeocoderError'>"
      },
      {
       "output_type": "stream",
       "stream": "stdout",
       "text": "\nGeocode error for: Sheri Berger\n\nParsing data for Lewis H. Campbell\n\n<class 'pygeolib.GeocoderError'>"
      },
      {
       "output_type": "stream",
       "stream": "stdout",
       "text": "\nGeocode error for: Lewis H. Campbell\n\nParsing data for Anita Dutton\n\n<class 'pygeolib.GeocoderError'>"
      },
      {
       "output_type": "stream",
       "stream": "stdout",
       "text": "\nGeocode error for: Anita Dutton\n\nParsing data for Renee Kaswan\n\n<class 'pygeolib.GeocoderError'>"
      },
      {
       "output_type": "stream",
       "stream": "stdout",
       "text": "\nGeocode error for: Renee Kaswan\n\nParsing data for Jana Korsch\n\n<class 'pygeolib.GeocoderError'>"
      },
      {
       "output_type": "stream",
       "stream": "stdout",
       "text": "\nGeocode error for: Jana Korsch\n\nParsing data for George McKie\n\n<class 'pygeolib.GeocoderError'>"
      },
      {
       "output_type": "stream",
       "stream": "stdout",
       "text": "\nGeocode error for: George McKie\n\nParsing data for Joyce Murphy\n\n<class 'pygeolib.GeocoderError'>"
      },
      {
       "output_type": "stream",
       "stream": "stdout",
       "text": "\nGeocode error for: Joyce Murphy\n\nParsing data for Kay Schwink\n\n<class 'pygeolib.GeocoderError'>"
      },
      {
       "output_type": "stream",
       "stream": "stdout",
       "text": "\nGeocode error for: Kay Schwink\n\n"
      }
     ],
     "prompt_number": 8
    },
    {
     "cell_type": "code",
     "collapsed": false,
     "input": "count = 0\nfor d in dips:\n    for alocation in d.addressLocations:\n        if alocation.geocode_results:\n            print d.name + \": \" + str(alocation.geocode_results[0].coordinates)\n        else:\n            print d.name + \": No address!\"\n            count += 1\n\nprint \"Addresses not found: \" + str(count)",
     "language": "python",
     "metadata": {},
     "outputs": [
      {
       "output_type": "stream",
       "stream": "stdout",
       "text": "Eva Abarca-Piedra\ufb01 ta: (32.5909562, -85.49297849999999)\nKenneth Abrams: No address!\nKenneth Abrams: (55.419025, -3.15069)\nPeter Accola: (43.042323, -88.2235199)\nGregory M. Acland: (39.8940664, -75.7299519)\nElizabeth Adkins: (38.902473, -77.261112)\nDebra Agapito: (53.8501319, -2.990942)\nGustavo D. Aguirre: (39.9583587, -75.1953934)\nTerri Alessio: (46.7288342, -117.1590185)\nRachel Allbaugh: (42.0082591, -93.5904288)\nStacy Andrew: (33.936791, -84.373155)\nMatt Annear: (40.3470543, -74.0643065)\nSusette Aquino: (42.4966195, -83.2880591)\nAnna-Michelle (Micki) Armour: (39.109101, -77.5402)\nTrevor Arnold: (40.46122030000001, -105.0791772)\nMarcella Ashton: (33.5262326, -117.3381427)\nMarcella Ashton: (33.135968, -117.276268)\nMarcia Aubin: (41.6562756, -71.49656689999999)\nMarcia Aubin: (41.6662679, -70.195457)\nAlan Bachrach, Jr: No address!\nLarry Bagley: (40.52307, -80.075268)\nTerri Baldwin: (32.98915600000001, -96.832466)\nLaura Barnes: (30.23142, -97.79574900000001)\nLaura Barnes: (30.507974, -97.68897199999999)\nPaul M. Barrett: (33.5543055, -112.1096701)\nPaul M. Barrett: (33.5243639, -111.8985922)\nPaul M. Barrett: (32.833539, -117.15374)\nKathleen Barrie: (28.0258489, -82.5696536)\nJoshua Bartoe: (42.7215465, -84.46972749999999)\nBianca Bauer: (52.1333827, -106.6308117)\nBrady Beale: (40.0379999, -75.551704)\nStephanie Beaumont: (32.97602940000001, -96.7386946)\nEllen Belknap: (40.160585, -83.059429)\nRoy Bellhorn: (38.5265287, -122.0196604)\nGil Ben-Shlomo: (41.8780025, -93.097702)\nEllison Bentley: (43.0750758, -89.42018379999999)\nAndrew Berdoulay: (37.1224466, -76.4447397)\nCaroline Betbeze: (33.45622, -88.79570799999999)\nCaroline Betbeze: (33.4626679, -88.8954662)\nDaniel M. Betts: (42.0009662, -93.9443517)\nDaniel Binder: (38.621077, -76.612776)\nDaniel Binder: (38.9859565, -76.5622065)\nDavid P. Bingaman: (32.79513, -97.8323209)\nDaniel Biros: (42.32321779999999, -71.1111603)\nStephen I. Bistner: (45.0956029, -93.5115409)\nSarah Blackwood: (25.9615546, -80.20583309999999)\nSarah Blackwood: (26.3042864, -80.15402259999999)\nMichael J. Blair: (37.554826, -77.48452999999999)\nCassandra Bliss: (42.9709019, -85.63366970000001)\nTiffany Blocker: (33.736508, -117.764646)\nRowan Blogg: (-37.863538, 145.047806)\nPaule Blouin: (45.4820101, -73.4843776)\nMark Bobofchak: (41.099817, -81.64900999999999)\nKathleen Boldy: (34.0533807, -118.4661954)\nAnn Bosiack: No address!\nShannon Boveland: (32.63857780000001, -85.44129029999999)\nJeff Bowersox: (39.6751845, -75.62238359999999)\nJeff Bowersox: (39.1184855, -75.5045648)\nDineli Bras: No address!\nCarrie Breaux: (43.643789, -116.266167)\nAlan H. Brightman: (30.045513, -95.169072)\nAlan H. Brightman: (41.9628482, -91.70317659999999)\nAlan H. Brightman: (61.1148306, -149.8644934)\nJulius Brinkis: (33.7071227, -117.8062205)\nMichael C. Brinkmann: (36.144528, -115.122512)\nJosh Broadwater: (26.6511849, -80.09480669999999)\nJ. Daniel Brogdon: (32.0625918, -81.1591387)\nJ. Daniel Brogdon: (33.4601242, -84.4212715)\nNancy Bromberg: (38.866321, -77.23673)\nNancy Bromberg: (38.35615, -77.5247289)\nDennis E. Brooks: (29.632096, -82.3490638)\nDennis E. Brooks: (29.739061, -82.515745)\nDaniel J. Brown: (30.283077, -81.560051)\nDaniel J. Brown: (30.188781, -81.712537)\nMichael H. Brown: (40.87537, -74.202389)\nMichael H. Brown: (40.9603589, -74.070871)\nMichael H. Brown: (40.57152, -74.62651699999999)\nGary M. Bryan: (46.73238749999999, -117.0001651)\nCarl Budelsky: (39.9288658, -86.03458959999999)\nKent Burgesser: (43.10301219999999, -77.6159953)\nKent Burgesser: (43.0968443, -76.0507949)\nKristina Burling: (37.2746345, -121.9505799)\nRebecca Burwell: (38.4666235, -122.7281477)\nRebecca Burwell: (37.9232678, -122.5122737)\nDylan Buss: (53.4582636, -113.5108928)\nDylan Buss: (53.4927144, -113.4871181)\nMartin Bussieres: (45.4245101, -74.18238649999999)\nNedim C. Buyukmihci: (55.378051, -3.435973)\nSara Calvarese: (34.0886165, -117.6517589)\nDavid D. Canton: (38.348533, -121.9847235)\nSusan M. Carastro: (26.6511849, -80.09480669999999)\nSusan M. Carastro: (26.3042864, -80.15402259999999)\nMichel Carrier: (45.6234751, -72.949617)\nJames D. Carter: (30.3772626, -86.3743186)\nRenee Carter: (30.41870979999999, -91.0514791)\nKelly Caruso: (-33.735109, 151.035951)\nKelly Caruso: (-33.8227739, 151.1988729)\nNicholas Cassotis: No address!\nErin Champagne: (37.2217458, -80.42759339999999)\nMatthew Chandler: (30.2833767, -81.5596647)\nMatthew Chandler: (30.188781, -81.712537)\nK. Michael Chang: (34.045854, -118.442363)\nChristin Chapman: (33.8725684, -118.3500888)\nMatthew Chavkin: (39.6523287, -104.9988105)\nThomas Chen: (34.0000951, -84.03850659999999)\nJane Cho: (41.0180413, -73.84409149999999)\nMelanie Church: No address!\nJames M. Clinton: No address!\nAlison Clode: (35.7968851, -78.7040425)\nCarmen Colitz: (26.930945, -80.134838)\nLinda L. Collier: (46.2786105, -119.2071823)\nLinda L. Collier: (46.198606, -119.250553)\nKeith Collins: (43.084782, -88.17457300000001)\nAnne Grimsley Cook: (32.813896, -79.867215)\nAnne Grimsley Cook: (33.7070405, -78.8948741)\nCynthia Cook: (37.5181194, -122.2646941)\nCynthia Cook: (37.7432421, -122.497668)\nPennie Cooley: (47.0581594, -122.9417669)\nChrista Robinson Corbett: (42.7401245, -73.7380275)\nKelley Corcoran: (38.8515707, -77.33126759999999)\nAmanda Corr: (40.1232721, -75.41602879999999)\nMartin Coster: (42.32321779999999, -71.1111603)\nNancy B. Cottrill: (42.50852099999999, -71.135705)\nBill Crumley: (39.9499109, -75.2000152)\nCheryl L. Cullen: (46.0517255, -64.7948333)\nTim J. Cutler: (26.6800469, -80.294867)\nTim J. Cutler: (26.6512576, -80.10210479999999)\nTim J. Cutler: (26.257594, -80.251278)\nKatherine Cutter: (35.626219, -105.941569)\nPaul D. da Costa: (29.9919028, -90.0795843)\nPaul D. da Costa: (29.9738923, -90.09077049999999)\nJeannette M. A. da Silva Curiel: (51.2502098, -0.1044575)\nJeannette M. A. da Silva Curiel: (33.9336259, -83.3845259)\nDennis Donohue: No address!\nSteven J. Dugan: (39.675241, -104.9387689)\nSteven J. Dugan: (38.8890818, -104.7618213)\nJ. Seth Eaton: (33.530204, -117.759266)\nJesse Eichenbaum: (35.132522, -80.942032)\nHarriet J. Davidson: (42.8948162, -85.6897121)\nMichael Davidson: (35.79849430000001, -78.7040856)\nDustin Dees: (30.4114162, -97.6915904)\nHeidi Denis: (28.6277767, -81.36312439999999)\nKathryn Diehl: (43.0371397, -89.386556)\nUrsula Dietrich: No address!\nRobert English: (35.743796, -78.759385)\nRobert English: (36.0138517, -78.9571271)\nFilipe Espinheira: (30.4119806, -91.1909785)\nDoug Esson: (33.7071227, -117.8062205)\nPaige Evans: (34.017277, -118.3880272)\nPaige Evans: (34.171751, -118.5704275)\nNick Faber: (38.57542, -121.308553)\nChristin Fahrer: (34.017277, -118.3880272)\nLisa Felchle: (33.360087, -111.791687)\nMatthew Fife: (28.545628, -81.22205199999999)\nTina Fife: (35.132522, -80.942032)\nMichael Finn: (40.52307, -80.075268)\nCraig Fischer: (35.969699, -80.005436)\nKristin Fischer: (34.0668174, -81.1387065)\nJames E. Gaarder: (41.0180413, -73.84409149999999)\nLaurence E. Galle: (30.417186, -88.815377)\nLaurence E. Galle: (30.650064, -88.225764)\nEnry Garcia: (41.7648623, -88.38529779999999)\nGustavo A. Garcia Sanchez: (19.2456456, -99.07901489999999)\nPatricia Gearhart: (39.640809, -105.324521)\nDuane Flemming: (37.95788100000001, -121.991844)\nJennifer Fontenelle: (35.743796, -78.759385)\nMargaret Foss: (40.871436, -81.123693)\nKate Freeman: (40.5546582, -105.0834697)\nDeborah S. Friedman: (37.945622, -122.053057)\nKevin Fritz: (33.7071227, -117.8062205)\nKirk N. Gelatt: (29.705456, -82.40364799999999)\nPaul A. Gerding: (41.3413978, -88.859201)\nBeth Gibbins: (33.429214, -86.741664)\nTerri Gibson: (33.9149589, -117.9707952)\nBarrett Gift: (34.211885, -77.837501)\nBrian C. Gilger: (35.79849430000001, -78.7040856)\nMargi Gilmour: (36.1198996, -97.0888415)\nJulie Gionfriddo: (40.5546582, -105.0834697)\nElizabeth A. Giuliano: (38.9382838, -92.3172317)\nMary Belle Glaze: (29.798764, -95.514369)\nTony Glover: (34.968081, -80.79558)\nKathryn Good: (38.558127, -121.779179)\nBrad Graham: (39.6523287, -104.9988105)\nBruce Grahn: (52.1333827, -106.6308117)\nAnn Gratzek: (36.977642, -121.899052)\nAnn Gratzek: (36.5737367, -121.8109627)\nHeather Gray: (43.6743524, -79.38863529999999)\nHeather Gray: (43.9070541, -78.8134184)\nHeather Gray: (43.7646178, -79.29314320000002)\nShari Greenberg: No address!\nWilliam Greentree: (40.110279, -83.006224)\nAndrew Greller: (29.616298, -98.486357)\nStephen L. Gross: (40.123257, -75.416046)\nAllyson Groth: (-33.7958673, 151.1231712)\nSinisa Grozdanic: (40.1105875, -88.2072697)\nErin Gunderson: (43.084782, -88.17457300000001)\nRobert M. Gwin: (35.5950142, -97.5684758)\nDennis Hacker: (37.906692, -122.305058)\nHolly L. Hamilton: (32.8952209, -117.2160995)\nTodd Hammond: (39.770938, -105.082109)\nRalph E. Hamor: (40.1105875, -88.2072697)\nDavid Harling: (36.3229196, -79.6373581)\nJay Harrington: (40.6855144, -73.99199589999999)\nJay Harrington: (40.6156892, -73.9292538)\nLloyd Helper: (40.515158, -105.056047)\nJulie Hempstead: (35.7995953, -78.700841)\nDiane V.H. Hendrix: (35.9451209, -83.9406407)\nIan Herring: (37.2220827, -80.4218679)\nIan Herring: (40.9603589, -74.070871)\nIan Herring: (40.57152, -74.62651699999999)\nElaine Holt: (51.2705144, -0.3211391)\nAmy Hom: (41.9132222, -88.3392355)\nSarah Stone Hoy: (44.5588028, -72.57784149999999)\nAmy Hunkeler: (39.0226, -94.654291)\nAmy Hunkeler: (38.975454, -94.35781)\nM. Kohle Herrmann: (29.798764, -95.514369)\nJames Histed: (43.6338482, -79.5209039)\nAllison Hoffman: (34.1484308, -118.0936537)\nSteven Hollingsworth: (38.5449065, -121.7405167)\nBrad Holmberg: No address!\nBrad Holmberg: (37.1953893, -93.3892894)\nAmity Huskey: (35.89150619999999, -86.56569739999999)\nJennifer Hyman: (38.995306, -76.53711299999999)\nNita Irby: (42.4474803, -76.46456359999999)\nJanet Isherwood: (39.270597, -76.73405199999999)\nJanet Isherwood: (39.9430679, -76.706289)\nSusan Jacobi: (37.5312068, -121.936119)\nSusan Jacobi: (37.945622, -122.053057)\nVivian E. Jamieson: (44.438023, -72.699928)\nBen W. Johnson: (38.6000693, -90.3977716)\nVictoria L. Jones: (47.679766, -122.1658311)\nVictoria L. Jones: (47.679766, -122.1658311)\nVictoria L. Jones: (47.44161219999999, -122.2234273)\nIsabel Jurk: No address!\nHeather Kaese: (38.930651, -94.72520899999999)\nHeather Kaese: (38.975454, -94.35781)\nHeather Kaese: No address!\nKevin Kaiser: (47.66016459999999, -117.4062782)\nMaria Kallberg: (59.5212629, 16.250685)\nLorraine G. Karpinski: (25.6577149, -80.3274977)\nSusan Keil: (38.9776675, -94.71892869999999)\nSusan Keil: (38.709307, -94.9438162)\nSusan Keil: (37.9642529, -91.8318334)\nCharlotte B. Keller: (49.230504, -122.8926605)\nRachel Keller: (40.52307, -80.075268)\nGavin Kennard: (35.1808064, -106.519036)\nThomas J. Kern: (42.4467049, -76.48305789999999)\nKerry Ketring: (43.4100107, -86.34867919999999)\nNathan Kice: (38.6299452, -90.6962853)\nKay Kim: (40.785717, -73.4492175)\nChristina King: (49.230504, -122.8926605)\nTracey C. King-Hill: (33.967241, -84.534958)\nSusan E. Kirschner: (45.4856541, -122.8076397)\nGia Klauss: (45.6447086, -122.6007956)\nHeidi Klein Weddle: (39.701561, -86.074389)\nAmy Knollinger: (40.7003976, -111.8619746)\nAmy Knollinger: (41.1333549, -112.0595603)\nSeth A. Koch: (39.9556241, -75.1647529)\nAndras Komaromy: (42.7247832, -84.4832117)\nKricket Konrade: (34.1484308, -118.0936537)\nSheryl Krohne: (47.79953, -117.439358)\nSheryl Krohne: (47.6568696, -117.3719973)\nVanessa J. Kuonen Cavens: (39.14823690000001, -84.4045804)\nVanessa J. Kuonen Cavens: (39.7142973, -84.218802)\nVanessa J. Kuonen Cavens: (40.110279, -83.006224)\nNoelle La Croix: (40.7189259, -73.3104335)\nAmber Labelle: (40.090953, -88.2191903)\nPetra Lackner: No address!\nMatthew Landry: (47.6684947, -122.3175207)\nElise Laperriere: (45.5602249, -73.7884172)\nElise Laperriere: (45.4585641, -73.46409020000002)\nLouis Laratta: (36.092411, -86.761546)\nRobert Larocca: (45.2204989, -93.309105)\nClaire A. Latimer: (38.14, -84.47)\nJ. Dan Lavach: (39.4442031, -119.7710658)\nEric C. Ledbetter: (42.4467049, -76.48305789999999)\nGraham Lewis: (49.2176243, -122.6452047)\nChristine Lim: No address!\nDenise M. Lindley: (42.0470275, -88.38219889999999)\nDenise M. Lindley: (41.6433293, -87.7368935)\nDenise M. Lindley: (41.7942563, -88.2021623)\nLana Linton: (38.7870973, -121.2282958)\nDan W. Lorimer: (42.4966195, -83.2880591)\nDan W. Lorimer: (42.678393, -83.22318)\nDan W. Lorimer: (44.6614039, -84.7147512)\nHeather Low: (44.0365091, -121.306411)\nMartha Low: (40.1910645, -74.8782063)\nMartha Low: (39.9430679, -76.706289)\nGwendolyn Lynch: (37.5181194, -122.2646941)\nGwendolyn Lynch: (37.7427841, -122.4795909)\nNicole MacLaren: (40.7003976, -111.8619746)\nAlan D. MacMillan: (20.776989, -156.332715)\nFederica Maggio: No address!\nFederica Maggio: No address!\nDavid J. Maggs: No address!\nBrendan Mangan: (29.6667841, -82.3489499)\nCindy Mar: (33.696765, -117.854932)\nBrian Marchione: (34.045854, -118.442363)\nAnnajane (AJ) Marlar: (32.7234669, -97.356759)\nRuth Marrion: No address!\nCharles Martin: (33.87888, -83.37201999999999)\nFranziska Matheis: (47.3237404, 8.5502729)\nRachel Mathes: (45.5234515, -122.6762071)\nSarah A. Maxwell: (44.5630479, -123.2350529)\nSarah A. Maxwell: (44.059912, -123.0179348)\nTerri McCalla: (48.7304903, -122.4737812)\nPatrick McCallum: (37.2746345, -121.9505799)\nTonya McIlnay: (41.307769, -96.075513)\nCarey McInnis: (39.0891337, -76.8550216)\nJo-Ann McKinnon: (42.5805638, -83.3041061)\nSusan A. McLaughlin: (40.469216, -86.90420999999999)\nNancy McLean: (35.131256, -106.529625)\nNancy McLean: (35.131256, -106.529625)\nGillian McLellan: (43.0750758, -89.42018379999999)\nRichard McMullen Jr.: No address!\nNoelle McNabb: (28.6277767, -81.36312439999999)\nNoelle McNabb: (27.281175, -82.529995)\nLisa A. Meek: (40.0686472, -85.9222027)\nReuben Merideth: (32.2645443, -110.9507222)\nReuben Merideth: (33.5243639, -111.8985922)\nReuben Merideth: (32.833539, -117.15374)\nAnne Gemensky Metzler: (40.001559, -83.0264108)\nTammy Michau: (28.0354862, -82.4920877)\nTammy Michau: No address!\nMelanie Mineo: (42.874841, -78.695036)\nEmily Moeller: (32.265217, -110.969746)\nPeter Mohoric: (39.109101, -77.5402)\nPeter Mohoric: (38.995306, -76.53711299999999)\nKeith Montgomery: (35.7968851, -78.7040425)\nPaul E. Miller: (42.999243, -89.5686271)\nThomas R. Miller: (27.900377, -82.745206)\nWilliam Miller: (35.1407458, -89.80078519999999)\nWilliam Miller: (35.1407458, -89.80078519999999)\nNicholas Millichamp: (30.0171733, -95.5930465)\nNicholas Millichamp: (30.4114162, -97.6915904)\nNicholas Millichamp: (30.7675415, -96.48461809999999)\nCecil P. Moore: (38.9382838, -92.3172317)\nCecil P. Moore: (38.6299452, -90.6962853)\nPhillip Anthony Moore: (33.954258, -83.37493219999999)\nRhea V. Morgan: (35.882834, -84.158591)\nCory Mosunic: (-33.8965493, 151.1799632)\nMeredith Mouney: (29.9794411, -90.1252763)\nAlbert Mughannam: (37.5181194, -122.2646941)\nAlbert Mughannam: (37.7427841, -122.4795909)\nRobert (Bob) J. Munger: (32.98915600000001, -96.832466)\nRobert (Bob) J. Munger: (32.9342919, -97.0780654)\nChristopher J. Murphy: (38.5449065, -121.7405167)\nKathern Myrna: No address!\nBradley Nadelstein: (36.766716, -76.260316)\nBradley Nadelstein: (36.802073, -76.083356)\nMark P. Nasisse: (36.1637709, -80.007593)\nMarjorie H. Neaderland: No address!\nSusan Nelms: (33.342506, -86.910656)\nDarien Nelson: (20.776989, -156.332715)\nSylvia Neumann: (38.500006, -122.753392)\nSylvia Neumann: (37.9476041, -122.5110647)\nJoanna Norman: (33.4616871, -112.3364359)\nTanja Nuhsbaum: (39.6523287, -104.9988105)\nCatherine Nunnery: (39.1478744, -77.2146085)\nCatherine Nunnery: (38.869888, -77.819037)\nDennis Dwight Olin: (38.005738, -121.353285)\nDennis Dwight Olin: (38.011315, -121.361769)\nDennis Olivero: (44.9443048, -93.3458577)\nFranck Ollivier: (45.458839, -73.72056599999999)\nFranck Ollivier: (32.672966, -97.197014)\nJuri Ota-Kuroki: (38.6299452, -90.6962853)\nDanielle Paglia: No address!\nNancy Park: (34.0522342, -118.2436849)\nCharles J. Parshall: (41.2274088, -81.63638689999999)\nDiana Pate: (34.8538542, -82.34240299999999)\nDiana Pate: (35.56714230000001, -82.5437614)\nAmy Pauli: (43.037139, -89.386556)\nMichael Paulsen: (32.672966, -97.197014)\nJacqueline Pearce: (38.9331391, -92.3738037)\nJacqueline Pearce: (42.0372487, -88.2811895)\nRobert L. Peiffer: (40.3608841, -75.1076106)\nChristina Pellicane: (26.066489, -80.286529)\nVictoria Pentlarge: (33.936745, -83.3872899)\nStacy A. Peterson: (35.3148451, -106.5425863)\nStacy A. Peterson: (35.131256, -106.529625)\nJ. Phillip Pickett: (37.2220827, -80.4218679)\nKenneth Pierce: (40.2381971, -74.08241459999999)\nChantale Pinard: (43.5353897, -80.219583)\nChris Pirie: No address!\nStefano Pizzirani: No address!\nRobert Playter: (30.705633, -97.728984)\nCaryn Plummer: (29.632242, -82.34517699999999)\nSimon Pot: No address!\nCynthia Powell: (40.57, -105.09)\nDaniel Priehs: (28.6277767, -81.36312439999999)\nJonathan Pucket: (36.1198996, -97.0888415)\nStephanie Pumphrey: (42.1846057, -70.9738534)\nArt J. Quinn: (36.1661529, -96.2569293)\nArt J. Quinn: (42.4966195, -83.2880591)\nRichard F. Quinn: No address!\nMarc Rainbow: (29.616298, -98.486357)\nMarc Rainbow: (30.0734705, -95.4390056)\nKelli Ramey: (51.0447632, -114.1040936)\nDavid T. Ramsey: (42.6902516, -84.30759530000002)\nAmy Rankin: (39.1994585, -96.5838174)\nShelby Reinstein: (40.155426, -74.8828754)\nTara Richards: (43.44320099999999, -80.4429356)\nTara Richards: (43.6740624, -79.38922989999999)\nRon C. Riis: (42.475831, -76.288352)\nRachel D. Ring: (32.98915600000001, -96.832466)\nMichael J. Ringle: (40.329871, -74.083777)\nSteven M. Roberts: (40.46122030000001, -105.0791772)\nDeborah Rowley: (40.6210656, -111.8171374)\nNicole Roybal: (33.132091, -117.118932)\nNicole Roybal: (32.8952209, -117.2160995)\nLionel F. Rubin: (39.95038630000001, -75.1750569)\nM. A. Salisbury: (27.299331, -82.475478)\nLynne Sandmeyer: (52.1333827, -106.6308117)\nJohn S. Sapienza: (40.785717, -73.4492175)\nRandy Scagliotti: (33.7071227, -117.8062205)\nRandy Scagliotti: (33.5243639, -111.8985922)\nGretchen M. Schmidt: (44.4437132, -87.791513)\nKristiane Schmidt: (35.125162, -120.576944)\nJamie Schorling: (32.8361504, -117.1385594)\nJames Schoster: (45.033342, -93.18050699999999)\nGlenn A. Severin: (40.565496, -105.087165)\nDon Shaw: (48.1126786, -96.1706437)\nKelly Sigle: (36.062007, -79.90954599999999)\nKelly Sigle: (36.071392, -80.33702)\nRon L. Sigler: (33.5543055, -112.1096701)\nGwen Sila: (42.4966195, -83.2880591)\nGwen Sila: (42.2451278, -83.6776811)\nSteve Sisler: (42.13412599999999, -87.90333690000001)\nBrian J. Skorobohach: (50.9902391, -114.0362048)\nBrian J. Skorobohach: (51.072565, -114.0782593)\nJessica Slack: (39.1994585, -96.5838174)\nStephanie L. Smedes: (41.920872, -74.016465)\nEric Smith: (39.117501, -77.1850372)\nJeffrey Smith: (-33.8227739, 151.1988729)\nPatricia J. Smith: (37.5312068, -121.936119)\nBernhard M. Spiess: (47.400848, 8.5511134)\nBernhard M. Spiess: (47.4372352, 7.810314699999999)\nKimberly M. Stanz: (42.874841, -78.695036)\nBarbara Steele: (32.805898, -117.212493)\nBarbara Steele: (42.56910999999999, -123.307631)\nKirsten Steele: (39.4442031, -119.7710658)\nMichele Stengard: (27.894486, -82.69551899999999)\nJean Stiles: (40.4194823, -86.9147859)\nEric Storey: (30.4119806, -91.1909785)\nDennis Todd Strubbe: (27.1775848, -80.25300639999999)\nJ. Jeff Studer: (32.9342919, -97.0780654)\nJ. Jeff Studer: (32.98915600000001, -96.832466)\nCharles M. Stuhr: (41.2478547, -73.434781)\nRustin Sturgeon: (38.930651, -94.72520899999999)\nRustin Sturgeon: (38.975454, -94.35781)\nThomas C. Sullivan: (47.66833159999999, -122.3175979)\nJames F. Swanson: (29.7923005, -95.5139567)\nRob Swinger: (26.010537, -80.165179)\nRob Swinger: (53.59819299999999, -113.48786)\nErica Tolar: (38.2540362, -85.3348563)\nErica Tolar: (38.268036, -85.507852)\nWendy Townsend: (40.4203001, -86.9137878)\nAmy Treadwell: (35.132522, -80.942032)\nRobert C. Trucksa: (35.179697, -106.486254)\nNicole Scotty Trumble: (26.118737, -80.1494249)\nNicole Scotty Trumble: (25.69766, -80.296988)\nCarol Szymanski: (37.5181194, -122.2646941)\nMichelle Taylor: (45.4008128, -122.5681033)\nSara Thomasy: (38.5449065, -121.7405167)\nDavid Tinsley: (45.3530126, -75.6385499)\nDavid Tinsley: (45.3499701, -75.6437876)\nHiroki Tsujita: No address!\nTeresa Tucci: (25.475528, -80.476005)\nJennifer L. Urbanz: (33.6910087, -111.9244293)\nMary Utter: (39.8467767, -75.7116032)\nSamuel J. Vainisi: (44.4437132, -87.791513)\nGabriel Van Brunt: (30.41883829999999, -90.0419591)\nAlexandra van der Woerdt: (40.760016, -73.958086)\nWilliam Ardene Vestre: (32.8361504, -117.1385594)\nWilliam Ardene Vestre: (32.732242, -117.163329)\nKristina Vygantas: (40.1931576, -74.5942385)\nLynsey Smith Wagner: (29.9161683, -95.5302337)\nNils Wallin-Hakansson: (59.5212629, 16.250685)\nDan Ward: (35.9451209, -83.9406407)\nChristi Warren: (26.4308402, -81.8023904)\nJohn Warren: (33.1195921, -96.73372189999999)\nNeal Wasserman: No address!\nTerah Webb: (40.0931191, -83.017962)\nTerah Webb: (39.7142973, -84.218802)\nAnne Weigt: (38.9859565, -76.5622065)\nAnne Weigt: (39.5151798, -76.3697461)\nWilliam Weinstein: (36.1005395, -115.2809227)\nPatrick Welch: (42.4072107, -71.3824374)\nAnja Welihozkiy: (42.29525599999999, -71.38945199999999)\nJennifer Welser: (40.7669247, -73.9876561)\nC. Sue West: (44.7191952, -79.9880788)\nC. Sue West: (44.7513096, -79.88430009999999)\nC. Sue West: (44.3373526, -79.6934055)\nHans Westermeyer: (22.318929, 114.174346)\nNick Whelan: (43.421632, -80.382414)\nR. David Whitley: (42.0082591, -93.5904288)\nCameron Whittaker: (-33.8227739, 151.1988729)\nDavid A. Wilkie: (40.0009402, -83.0276177)\nClara O. Williams: (42.52703349999999, -71.1216419)\nClara O. Williams: No address!\nLeslie W. Williams: (36.7958866, -89.9578688)\nMichelle Willis: No address!\nSusan Winston: (33.942995, -83.778224)\nE. Dan Wolf: (27.997965, -82.53483399999999)\nJoe Wolfer: (43.6338482, -79.5209039)\nKathryn Wotman: (39.6751845, -75.62238359999999)\nKathryn Wotman: (39.8467767, -75.7116032)\nMilton Wyman: (40.181323, -83.07619299999999)\nWilliam Yakely: (47.660085, -117.4069663)\nMaya Yamagata: (21.2997453, -157.8421353)\nAudrey Yu-Speight: (30.357919, -97.761358)\nMitzi Zarfoss: (37.9161326, -122.310765)\nDara Zirofsky: No address!\nSheri Berger: No address!\nLewis H. Campbell: No address!\nAnita Dutton: No address!\nRenee Kaswan: No address!\nJana Korsch: No address!\nGeorge McKie: No address!\nJoyce Murphy: No address!\nKay Schwink: No address!\nAddresses not found: 41\n"
      }
     ],
     "prompt_number": 9
    },
    {
     "cell_type": "code",
     "collapsed": false,
     "input": "acvo_us = open(\"/Users/thomas/dev/acvo/geography/acvo_geo_US.json\")\nus_dips = json.load(acvo_us)\nacvo_us.close()",
     "language": "python",
     "metadata": {},
     "outputs": [],
     "prompt_number": 11
    },
    {
     "cell_type": "code",
     "collapsed": false,
     "input": "index = 10\nprint dips[index].name\nprint dips[index].addressLocations[0].address\nprint dips[index].addressLocations[0].geocode_results[0].formatted_address",
     "language": "python",
     "metadata": {},
     "outputs": [
      {
       "output_type": "stream",
       "stream": "stdout",
       "text": "Matt Annear\n['Red Bank Veterinary Hospital', '1425 E. Marlton Pike', 'Cherry Hill NJ 8034']\nRed Bank, NJ, USA\n"
      }
     ],
     "prompt_number": 492
    },
    {
     "cell_type": "code",
     "collapsed": false,
     "input": "acvo_us = open(\"/Users/thomas/dev/acvo/geography/acvo_geo_US.json\")\nus_dips = json.load(acvo_us)\nacvo_us.close()",
     "language": "python",
     "metadata": {},
     "outputs": [],
     "prompt_number": 39
    },
    {
     "cell_type": "code",
     "collapsed": false,
     "input": "us_dips_pandas = pd.read_json(\"/Users/thomas/dev/acvo/geography/acvo_geo_US.json\")",
     "language": "python",
     "metadata": {},
     "outputs": [],
     "prompt_number": 38
    },
    {
     "cell_type": "code",
     "collapsed": false,
     "input": "regexdr = re.compile(r'Dr\\.\\s(.+)\\s+\\((\\d\\d|\\*)\\)')",
     "language": "python",
     "metadata": {},
     "outputs": [],
     "prompt_number": 44
    },
    {
     "cell_type": "code",
     "collapsed": false,
     "input": "acvodips.drop()\nacvodips = db['acvodips']\nprint (db.tables)\nacvodips.insert_many(us_dips)",
     "language": "python",
     "metadata": {},
     "outputs": [
      {
       "output_type": "stream",
       "stream": "stdout",
       "text": "[u'acvodips']\n"
      }
     ],
     "prompt_number": 23
    },
    {
     "cell_type": "code",
     "collapsed": false,
     "input": "",
     "language": "python",
     "metadata": {},
     "outputs": [
      {
       "output_type": "stream",
       "stream": "stdout",
       "text": "OrderedDict([(u'id', 1), (u'city', u'Vancouver'), (u'uid', u'986'), (u'title', u'GKlauss'), (u'country', u'USA'), (u'profile_image', u'sites/default/files/pictures/user-986-profile_image.jpg'), (u'nid', u'1006'), (u'state', u'WA'), (u'full_name', u'Dr. Gia Klauss'), (u'lat', u'45.6447'), (u'lng', u'-122.601')])\n"
      }
     ],
     "prompt_number": 32
    },
    {
     "cell_type": "markdown",
     "metadata": {},
     "source": "Name - Year stuff\n==================================="
    },
    {
     "cell_type": "code",
     "collapsed": false,
     "input": "dataframe = DataFrame(yearcounts.items(), columns=[\"name\", \"year\"])",
     "language": "python",
     "metadata": {},
     "outputs": [],
     "prompt_number": 212
    },
    {
     "cell_type": "code",
     "collapsed": false,
     "input": "dataframe.tail()",
     "language": "python",
     "metadata": {},
     "outputs": [
      {
       "html": "<div style=\"max-height:1000px;max-width:1500px;overflow:auto;\">\n<table border=\"1\" class=\"dataframe\">\n  <thead>\n    <tr style=\"text-align: right;\">\n      <th></th>\n      <th>name</th>\n      <th>year</th>\n    </tr>\n  </thead>\n  <tbody>\n    <tr>\n      <th>410</th>\n      <td>     Daniel M. Betts</td>\n      <td> 1979</td>\n    </tr>\n    <tr>\n      <th>411</th>\n      <td>        Bill Crumley</td>\n      <td> 2011</td>\n    </tr>\n    <tr>\n      <th>412</th>\n      <td>       Rachel Keller</td>\n      <td> 2006</td>\n    </tr>\n    <tr>\n      <th>413</th>\n      <td> Nedim C. Buyukmihci</td>\n      <td> 1975</td>\n    </tr>\n    <tr>\n      <th>414</th>\n      <td>      Robert M. Gwin</td>\n      <td> 1977</td>\n    </tr>\n  </tbody>\n</table>\n<p>5 rows \u00d7 2 columns</p>\n</div>",
       "metadata": {},
       "output_type": "pyout",
       "prompt_number": 213,
       "text": "                    name  year\n410      Daniel M. Betts  1979\n411         Bill Crumley  2011\n412        Rachel Keller  2006\n413  Nedim C. Buyukmihci  1975\n414       Robert M. Gwin  1977\n\n[5 rows x 2 columns]"
      }
     ],
     "prompt_number": 213
    },
    {
     "cell_type": "code",
     "collapsed": false,
     "input": "dataframe[\"year\"].value_counts().sort_index()",
     "language": "python",
     "metadata": {},
     "outputs": [
      {
       "metadata": {},
       "output_type": "pyout",
       "prompt_number": 38,
       "text": "*       13\n1970     1\n1972     2\n1973     4\n1974     1\n1975     2\n1976     6\n1977     6\n1978     4\n1979     8\n1980     3\n1981     5\n1982     5\n1983     3\n1984     4\n1985     5\n1986     7\n1987     4\n1988     3\n1989    10\n1990    14\n1991    13\n1992     5\n1993    10\n1994    12\n1995     8\n1996     8\n1997     8\n1998    10\n1999    11\n2000     7\n2001    11\n2002     9\n2003    11\n2004    13\n2005    21\n2006    16\n2007    17\n2008    21\n2009     8\n2010    14\n2011    26\n2012    25\n2013    21\ndtype: int64"
      }
     ],
     "prompt_number": 38
    },
    {
     "cell_type": "code",
     "collapsed": false,
     "input": "dataframe[\"year\"].value_counts().sort_index().plot(kind='bar')",
     "language": "python",
     "metadata": {},
     "outputs": [
      {
       "metadata": {},
       "output_type": "pyout",
       "prompt_number": 39,
       "text": "<matplotlib.axes.AxesSubplot at 0x105529b10>"
      },
      {
       "metadata": {},
       "output_type": "display_data",
       "png": "[encoded data removed]",
       "text": "<matplotlib.figure.Figure at 0x105526090>"
      }
     ],
     "prompt_number": 39
    },
    {
     "cell_type": "code",
     "collapsed": true,
     "input": "",
     "language": "python",
     "metadata": {},
     "outputs": []
    }
   ],
   "metadata": {}
  }
 ]
}