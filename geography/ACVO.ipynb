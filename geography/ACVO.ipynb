{
 "metadata": {
  "name": "ACVO"
 },
 "nbformat": 3,
 "nbformat_minor": 0,
 "worksheets": [
  {
   "cells": [
    {
     "cell_type": "markdown",
     "metadata": {},
     "source": "Data from ACVO (http://member.acvo.org/search_results?country=USA&state=&city=&map=1&list=1) - 04/20/14"
    },
    {
     "cell_type": "code",
     "collapsed": false,
     "input": "import json\nfrom pprint import pprint\n\n%cd /Users/thomas/dev/acvo/geography\nacvo_us = open(\"/Users/thomas/dev/acvo/geography/acvo_geo_US.json\")\n\nus_dips = json.load(acvo_us)",
     "language": "python",
     "metadata": {},
     "outputs": [
      {
       "output_type": "stream",
       "stream": "stdout",
       "text": "/Users/thomas/dev/acvo/geography\n"
      }
     ],
     "prompt_number": 3
    },
    {
     "cell_type": "code",
     "collapsed": false,
     "input": "",
     "language": "python",
     "metadata": {},
     "outputs": [
      {
       "metadata": {},
       "output_type": "pyout",
       "prompt_number": 6,
       "text": "399"
      }
     ],
     "prompt_number": 6
    },
    {
     "cell_type": "markdown",
     "metadata": {},
     "source": "Get coordinates from Google maps api (can't get coordinates from datasciencetoolkit (dstk)\nSubset to all coordinates without continental US\nConvert coordinates to county FIPS code and county name"
    },
    {
     "cell_type": "code",
     "collapsed": false,
     "input": "from pygeocoder import Geocoder\nimport dstk\ndstk = dstk.DSTK()\nfor zc in zip_dict:\n    try:\n        results = Geocoder.geocode(zc)\n        lat = results[0].coordinates[0]\n        lon = results[0].coordinates[1]\n        zip_dict[zc][\"lat\"] = lat\n        zip_dict[zc][\"lon\"] = lon\n        results = dstk.coordinates2politics([lat, lon])\n        if results[0]['politics'][0]['code'] != 'usa':\n            continue\n        for pdb in results[0]['politics']:\n            if pdb[\"friendly_type\"] == \"county\":\n                zip_dict[zc][\"fips_county\"] = pdb[\"code\"].replace(\"_\", \"\")\n                zip_dict[zc][\"county_name\"] = pdb[\"name\"]\n            elif pdb[\"friendly_type\"] == \"state\":\n                zip_dict[zc][\"state\"] = pdb[\"name\"]\n        print \"zc %s: %s/%s, %s/%s %s\" % (zc, lat, lon, zip_dict[zc][\"fips_county\"], zip_dict[zc][\"county_name\"], zip_dict[zc][\"state\"])\n    except:\n        pass\n        print \"Exception!\"",
     "language": "python",
     "metadata": {},
     "outputs": [
      {
       "output_type": "stream",
       "stream": "stdout",
       "text": "zc 14853: 42.4467049/-76.4830579, 36109/Tompkins New York\nzc 44286: 41.2274088/-81.6363869, 39153/Summit Ohio"
      },
      {
       "output_type": "stream",
       "stream": "stdout",
       "text": "\nzc 33328: 26.0725672/-80.2711588, 12011/Broward Florida"
      },
      {
       "output_type": "stream",
       "stream": "stdout",
       "text": "\nzc 14850: 42.435511/-76.5257007, 36109/Tompkins New York"
      },
      {
       "output_type": "stream",
       "stream": "stdout",
       "text": "\nzc 55344: 44.865243/-93.4094629, 27053/Hennepin Minnesota"
      },
      {
       "output_type": "stream",
       "stream": "stdout",
       "text": "\nzc 74063: 36.1464769/-96.195132, 40143/Tulsa Oklahoma"
      },
      {
       "output_type": "stream",
       "stream": "stdout",
       "text": "\nzc 48118: 42.2980829/-84.0378894, 26161/Washtenaw Michigan"
      },
      {
       "output_type": "stream",
       "stream": "stdout",
       "text": "\nzc 65802: 37.1953893/-93.3892894, 29077/Greene Missouri"
      },
      {
       "output_type": "stream",
       "stream": "stdout",
       "text": "\nzc 21401: 38.979434/-76.4919706, 24003/Anne Arundel Maryland"
      },
      {
       "output_type": "stream",
       "stream": "stdout",
       "text": "\nzc 21403: 38.9359831/-76.4910093, 24003/Anne Arundel Maryland"
      },
      {
       "output_type": "stream",
       "stream": "stdout",
       "text": "\nzc 78258: 29.6451457/-98.4732718, 48029/Bexar Texas"
      },
      {
       "output_type": "stream",
       "stream": "stdout",
       "text": "\nzc 73120: 35.578861/-97.5788975, 40109/Oklahoma Oklahoma"
      },
      {
       "output_type": "stream",
       "stream": "stdout",
       "text": "\nzc 22180: 38.8950354/-77.2577571, 51059/Fairfax Virginia"
      },
      {
       "output_type": "stream",
       "stream": "stdout",
       "text": "\nzc 54914: 44.26558/-88.4306955, 55087/Outagamie Wisconsin"
      },
      {
       "output_type": "stream",
       "stream": "stdout",
       "text": "\nzc 19403: 40.1403357/-75.3995089, 42091/Montgomery Pennsylvania"
      },
      {
       "output_type": "stream",
       "stream": "stdout",
       "text": "\nzc 33030: 25.4802746/-80.5271756, 12086/Miami-Dade Florida"
      },
      {
       "output_type": "stream",
       "stream": "stdout",
       "text": "\nzc 48895: 42.702277/-84.2910759, 26065/Ingham Michigan"
      },
      {
       "output_type": "stream",
       "stream": "stdout",
       "text": "\nzc 33558: 28.1762931/-82.5077593, 12057/Hillsborough Florida"
      },
      {
       "output_type": "stream",
       "stream": "stdout",
       "text": "\nzc 32653: 29.7429556/-82.3777335, 12001/Alachua Florida"
      },
      {
       "output_type": "stream",
       "stream": "stdout",
       "text": "\nzc 33928: 26.4273206/-81.7239979, 12071/Lee Florida"
      },
      {
       "output_type": "stream",
       "stream": "stdout",
       "text": "\nzc 33556: 28.1222486/-82.5834947, 12057/Hillsborough Florida"
      },
      {
       "output_type": "stream",
       "stream": "stdout",
       "text": "\nzc 27409: 36.0896801/-79.9528451, 37081/Guilford North Carolina"
      },
      {
       "output_type": "stream",
       "stream": "stdout",
       "text": "\nzc 97015: 45.4120158/-122.54578, 41005/Clackamas Oregon"
      },
      {
       "output_type": "stream",
       "stream": "stdout",
       "text": "\nzc 94804: 37.9158152/-122.3390936, 06013/Contra Costa California"
      },
      {
       "output_type": "stream",
       "stream": "stdout",
       "text": "\nzc 29451: 32.8203378/-79.7455956, 45019/Charleston South Carolina"
      },
      {
       "output_type": "stream",
       "stream": "stdout",
       "text": "\nzc 33634: 28.01574/-82.5510469, 12057/Hillsborough Florida"
      },
      {
       "output_type": "stream",
       "stream": "stdout",
       "text": "\nzc 30677: 33.7764415/-83.4003037, 13219/Oconee Georgia"
      },
      {
       "output_type": "stream",
       "stream": "stdout",
       "text": "\nzc 98502: 47.0670291/-123.0511606, 53067/Thurston Washington"
      },
      {
       "output_type": "stream",
       "stream": "stdout",
       "text": "\nzc 76110: 32.7011609/-97.3354531, 48439/Tarrant Texas"
      },
      {
       "output_type": "stream",
       "stream": "stdout",
       "text": "\nzc 60506: 41.7691984/-88.3821989, 17089/Kane Illinois"
      },
      {
       "output_type": "stream",
       "stream": "stdout",
       "text": "\nzc 92117: 32.8250767/-117.2029363, 06073/San Diego California"
      },
      {
       "output_type": "stream",
       "stream": "stdout",
       "text": "\nzc 28403: 34.2253022/-77.8710285, 37129/New Hanover North Carolina"
      },
      {
       "output_type": "stream",
       "stream": "stdout",
       "text": "\nzc 39564: 30.4069394/-88.7686382, 28059/Jackson Mississippi"
      },
      {
       "output_type": "stream",
       "stream": "stdout",
       "text": "\nzc 97339: 44.5619717/-123.2608574, 41003/Benton Oregon"
      },
      {
       "output_type": "stream",
       "stream": "stdout",
       "text": "\nzc 98105: 47.6614244/-122.2683743, 53033/King Washington"
      },
      {
       "output_type": "stream",
       "stream": "stdout",
       "text": "\nzc 30602: 33.954258/-83.3749322, 13059/Clarke Georgia"
      },
      {
       "output_type": "stream",
       "stream": "stdout",
       "text": "\nzc 30606: 33.9448436/-83.4323375, 13059/Clarke Georgia"
      },
      {
       "output_type": "stream",
       "stream": "stdout",
       "text": "\nzc 83714: 43.7235259/-116.2692976, 16001/Ada Idaho"
      },
      {
       "output_type": "stream",
       "stream": "stdout",
       "text": "\nzc 97702: 43.9657221/-121.2196397, 41017/Deschutes Oregon"
      },
      {
       "output_type": "stream",
       "stream": "stdout",
       "text": "\nzc 96790: 20.7278194/-156.3081217, 15009/Maui Hawaii"
      },
      {
       "output_type": "stream",
       "stream": "stdout",
       "text": "\nzc 97526: 42.5052649/-123.3273155, 41033/Josephine Oregon"
      },
      {
       "output_type": "stream",
       "stream": "stdout",
       "text": "\nzc 23693: 37.1224466/-76.4447397, 51199/York Virginia"
      },
      {
       "output_type": "stream",
       "stream": "stdout",
       "text": "\nzc 99202: 47.6568696/-117.3719973, 53063/Spokane Washington"
      },
      {
       "output_type": "stream",
       "stream": "stdout",
       "text": "\nzc 34119: 26.2632309/-81.7239979, 12021/Collier Florida"
      },
      {
       "output_type": "stream",
       "stream": "stdout",
       "text": "\nzc 06897: 41.2077334/-73.4415929, 09001/Fairfield Connecticut"
      },
      {
       "output_type": "stream",
       "stream": "stdout",
       "text": "\nzc 99208: 47.7872368/-117.4644801, 53063/Spokane Washington"
      },
      {
       "output_type": "stream",
       "stream": "stdout",
       "text": "\nzc 63841: 36.7604012/-89.9813445, 29207/Stoddard Missouri"
      },
      {
       "output_type": "stream",
       "stream": "stdout",
       "text": "\nzc 02379: 42.0302666/-71.014118, 25023/Plymouth Massachusetts"
      },
      {
       "output_type": "stream",
       "stream": "stdout",
       "text": "\nzc 85021: 33.563442/-112.0893682, 04013/Maricopa Arizona"
      },
      {
       "output_type": "stream",
       "stream": "stdout",
       "text": "\nzc 66206: 38.9538595/-94.6192114, 20091/Johnson Kansas"
      },
      {
       "output_type": "stream",
       "stream": "stdout",
       "text": "\nzc 97202: 45.4807521/-122.6427372, 41051/Multnomah Oregon"
      },
      {
       "output_type": "stream",
       "stream": "stdout",
       "text": "\nzc 80110: 39.6487896/-105.0148322, 08005/Arapahoe Colorado"
      },
      {
       "output_type": "stream",
       "stream": "stdout",
       "text": "\nzc 02818: 41.6496052/-71.4893013, 44003/Kent Rhode Island"
      },
      {
       "output_type": "stream",
       "stream": "stdout",
       "text": "\nzc 77833: 30.2352956/-96.365157, 48477/Washington Texas"
      },
      {
       "output_type": "stream",
       "stream": "stdout",
       "text": "\nzc 49461: 43.376782/-86.3275351, 26121/Muskegon Michigan"
      },
      {
       "output_type": "stream",
       "stream": "stdout",
       "text": "\nzc 23320: 36.7578013/-76.2131474, 51550/Chesapeake Virginia"
      },
      {
       "output_type": "stream",
       "stream": "stdout",
       "text": "\nzc 77084: 29.8296506/-95.6668306, 48201/Harris Texas"
      },
      {
       "output_type": "stream",
       "stream": "stdout",
       "text": "\nzc 99515: 61.1199289/-149.8936503, 02020/Anchorage Alaska"
      },
      {
       "output_type": "stream",
       "stream": "stdout",
       "text": "\nzc 10023: 40.7769059/-73.9800645, 36061/New York New York"
      },
      {
       "output_type": "stream",
       "stream": "stdout",
       "text": "\nzc 33071: 26.2480143/-80.2711588, 12011/Broward Florida"
      },
      {
       "output_type": "stream",
       "stream": "stdout",
       "text": "\nzc 14623: 43.0915814/-77.6421577, 36055/Monroe New York"
      },
      {
       "output_type": "stream",
       "stream": "stdout",
       "text": "\nzc 32610: 29.63923/-82.34331, 12001/Alachua Florida"
      },
      {
       "output_type": "stream",
       "stream": "stdout",
       "text": "\nzc 32615: 29.8303455/-82.4969331, 12001/Alachua Florida"
      },
      {
       "output_type": "stream",
       "stream": "stdout",
       "text": "\nzc 70803: 30.41/-91.18, 22033/East Baton Rouge Louisiana"
      },
      {
       "output_type": "stream",
       "stream": "stdout",
       "text": "\nzc 44601: 40.9202113/-81.1416691, 39151/Stark Ohio"
      },
      {
       "output_type": "stream",
       "stream": "stdout",
       "text": "\nzc 95677: 38.7870973/-121.2282958, 06061/Placer California"
      },
      {
       "output_type": "stream",
       "stream": "stdout",
       "text": "\nzc 33771: 27.9046811/-82.7616822, 12103/Pinellas Florida"
      },
      {
       "output_type": "stream",
       "stream": "stdout",
       "text": "\nzc 55304: 45.2713588/-93.2743378, 27003/Anoka Minnesota"
      },
      {
       "output_type": "stream",
       "stream": "stdout",
       "text": "\nzc 13053: 42.4709592/-76.2594981, 36023/Cortland New York"
      },
      {
       "output_type": "stream",
       "stream": "stdout",
       "text": "\nzc 13057: 43.0968443/-76.0507949, 36067/Onondaga New York"
      },
      {
       "output_type": "stream",
       "stream": "stdout",
       "text": "\nzc 30328: 33.9253024/-84.3857442, 13121/Fulton Georgia"
      },
      {
       "output_type": "stream",
       "stream": "stdout",
       "text": "\nzc 76017: 32.6614911/-97.1467072, 48439/Tarrant Texas"
      },
      {
       "output_type": "stream",
       "stream": "stdout",
       "text": "\nzc 98033: 47.6688298/-122.1923875, 53033/King Washington"
      },
      {
       "output_type": "stream",
       "stream": "stdout",
       "text": "\nzc 01801: 42.4884618/-71.1329685, 25017/Middlesex Massachusetts"
      },
      {
       "output_type": "stream",
       "stream": "stdout",
       "text": "\nzc 43017: 40.115674/-83.1327332, 39049/Franklin Ohio"
      },
      {
       "output_type": "stream",
       "stream": "stdout",
       "text": "\nzc 94939: 37.938818/-122.5344456, 06041/Marin California"
      },
      {
       "output_type": "stream",
       "stream": "stdout",
       "text": "\nzc 87106: 35.0729762/-106.6173415, 35001/Bernalillo New Mexico"
      },
      {
       "output_type": "stream",
       "stream": "stdout",
       "text": "\nzc 32751: 28.6366753/-81.3674389, 12095/Orange Florida"
      },
      {
       "output_type": "stream",
       "stream": "stdout",
       "text": "\nzc 08055: 39.8630611/-74.8156199, 34005/Burlington New Jersey"
      },
      {
       "output_type": "stream",
       "stream": "stdout",
       "text": "\nzc 87109: 35.1590068/-106.5760857, 35001/Bernalillo New Mexico"
      },
      {
       "output_type": "stream",
       "stream": "stdout",
       "text": "\nzc 20878: 39.1048032/-77.2520101, 24031/Montgomery Maryland"
      },
      {
       "output_type": "stream",
       "stream": "stdout",
       "text": "\nzc 01366: 42.4861078/-72.2126905, 25027/Worcester Massachusetts"
      },
      {
       "output_type": "stream",
       "stream": "stdout",
       "text": "\nzc 20877: 39.1438746/-77.1887747, 24031/Montgomery Maryland"
      },
      {
       "output_type": "stream",
       "stream": "stdout",
       "text": "\nzc 20707: 39.1043687/-76.8836261, 24033/Prince George's Maryland"
      },
      {
       "output_type": "stream",
       "stream": "stdout",
       "text": "\nzc 76088: 32.8495562/-97.9374948, 48367/Parker Texas"
      },
      {
       "output_type": "stream",
       "stream": "stdout",
       "text": "\nzc 30214: 33.473501/-84.5012435, 13113/Fayette Georgia"
      },
      {
       "output_type": "stream",
       "stream": "stdout",
       "text": "\nzc 84047: 40.6112959/-111.8985922, 49035/Salt Lake Utah"
      },
      {
       "output_type": "stream",
       "stream": "stdout",
       "text": "\nzc 90504: 33.8673266/-118.3286614, 06037/Los Angeles California"
      },
      {
       "output_type": "stream",
       "stream": "stdout",
       "text": "\nzc 95065: 37.0353977/-121.9871217, 06087/Santa Cruz California"
      },
      {
       "output_type": "stream",
       "stream": "stdout",
       "text": "\nzc 61801: 40.1060728/-88.2217733, 17019/Champaign Illinois"
      },
      {
       "output_type": "stream",
       "stream": "stdout",
       "text": "\nzc 61802: 40.110052/-88.148657, 17019/Champaign Illinois"
      },
      {
       "output_type": "stream",
       "stream": "stdout",
       "text": "\nzc 67211: 37.67231/-97.3138554, 20173/Sedgwick Kansas"
      },
      {
       "output_type": "stream",
       "stream": "stdout",
       "text": "\nzc 34474: 29.1561929/-82.2039882, 12083/Marion Florida"
      },
      {
       "output_type": "stream",
       "stream": "stdout",
       "text": "\nzc 05672: 44.4835983/-72.7045432, 50015/Lamoille Vermont"
      },
      {
       "output_type": "stream",
       "stream": "stdout",
       "text": "\nzc 10065: 40.7645239/-73.9624327, 36061/New York New York"
      },
      {
       "output_type": "stream",
       "stream": "stdout",
       "text": "\nzc 64064: 38.9791799/-94.3667907, 29095/Jackson Missouri"
      },
      {
       "output_type": "stream",
       "stream": "stdout",
       "text": "\nzc 68134: 41.2921503/-96.0573302, 31055/Douglas Nebraska"
      },
      {
       "output_type": "stream",
       "stream": "stdout",
       "text": "\nzc 75093: 33.0386278/-96.8243812, 48085/Collin Texas"
      },
      {
       "output_type": "stream",
       "stream": "stdout",
       "text": "\nzc 55113: 45.0122826/-93.1640525, 27123/Ramsey Minnesota"
      },
      {
       "output_type": "stream",
       "stream": "stdout",
       "text": "\nzc 48824: 42.7247832/-84.4832117, 26065/Ingham Michigan"
      },
      {
       "output_type": "stream",
       "stream": "stdout",
       "text": "\nzc 60445: 41.6339479/-87.7418842, 17031/Cook Illinois"
      },
      {
       "output_type": "stream",
       "stream": "stdout",
       "text": "\nzc 84015: 41.1333549/-112.0595603, 49011/Davis Utah"
      },
      {
       "output_type": "stream",
       "stream": "stdout",
       "text": "\nzc 12401: 41.9511782/-74.006509, 36111/Ulster New York"
      },
      {
       "output_type": "stream",
       "stream": "stdout",
       "text": "\nzc 94116: 37.7432421/-122.497668, 06075/San Francisco California"
      },
      {
       "output_type": "stream",
       "stream": "stdout",
       "text": "\nzc 70119: 29.9798109/-90.0793488, 22071/Orleans Louisiana"
      },
      {
       "output_type": "stream",
       "stream": "stdout",
       "text": "\nzc 06854: 41.0924881/-73.4239143, 09001/Fairfield Connecticut"
      },
      {
       "output_type": "stream",
       "stream": "stdout",
       "text": "\nzc 80538: 40.4853645/-105.2428853, 08069/Larimer Colorado"
      },
      {
       "output_type": "stream",
       "stream": "stdout",
       "text": "\nzc 91364: 34.1544724/-118.5914696, 06037/Los Angeles California"
      },
      {
       "output_type": "stream",
       "stream": "stdout",
       "text": "\nzc 03801: 43.0874906/-70.8357792, 33015/Rockingham New Hampshire"
      },
      {
       "output_type": "stream",
       "stream": "stdout",
       "text": "\nzc 48326: 42.6742723/-83.2398943, 26125/Oakland Michigan"
      },
      {
       "output_type": "stream",
       "stream": "stdout",
       "text": "\nzc 77055: 29.7970042/-95.4830243, 48201/Harris Texas"
      },
      {
       "output_type": "stream",
       "stream": "stdout",
       "text": "\nzc 54208: 44.3591968/-87.7960067, 55009/Brown Wisconsin"
      },
      {
       "output_type": "stream",
       "stream": "stdout",
       "text": "\nzc 05495: 44.4315664/-73.1059193, 50007/Chittenden Vermont"
      },
      {
       "output_type": "stream",
       "stream": "stdout",
       "text": "\nzc 19380: 39.986277/-75.6091696, 42029/Chester Pennsylvania"
      },
      {
       "output_type": "stream",
       "stream": "stdout",
       "text": "\nzc 53792: 43.0772547/-89.430773, 55025/Dane Wisconsin"
      },
      {
       "output_type": "stream",
       "stream": "stdout",
       "text": "\nzc 60612: 41.8816606/-87.6926257, 17031/Cook Illinois"
      },
      {
       "output_type": "stream",
       "stream": "stdout",
       "text": "\nzc 87508: 35.4578674/-105.7585908, 35049/Santa Fe New Mexico"
      },
      {
       "output_type": "stream",
       "stream": "stdout",
       "text": "\nzc 75025: 33.0869379/-96.7601057, 48085/Collin Texas"
      },
      {
       "output_type": "stream",
       "stream": "stdout",
       "text": "\nzc 87505: 35.616067/-105.8525154, 35049/Santa Fe New Mexico"
      },
      {
       "output_type": "stream",
       "stream": "stdout",
       "text": "\nzc 63122: 38.5787831/-90.4219444, 29189/St. Louis Missouri"
      },
      {
       "output_type": "stream",
       "stream": "stdout",
       "text": "\nzc 90049: 34.0963058/-118.4980744, 06037/Los Angeles California"
      },
      {
       "output_type": "stream",
       "stream": "stdout",
       "text": "\nzc 32825: 28.5417016/-81.2408689, 12095/Orange Florida"
      },
      {
       "output_type": "stream",
       "stream": "stdout",
       "text": "\nzc 85705: 32.2680738/-110.9923904, 04019/Pima Arizona"
      },
      {
       "output_type": "stream",
       "stream": "stdout",
       "text": "\nzc 19486: 40.206625/-75.2984702, 42091/Montgomery Pennsylvania"
      },
      {
       "output_type": "stream",
       "stream": "stdout",
       "text": "\nzc 27406: 36.0196499/-79.7624177, 37081/Guilford North Carolina"
      },
      {
       "output_type": "stream",
       "stream": "stdout",
       "text": "\nzc 91107: 34.1642396/-118.0830047, 06037/Los Angeles California"
      },
      {
       "output_type": "stream",
       "stream": "stdout",
       "text": "\nzc 22406: 38.3836812/-77.5390127, 51179/Stafford Virginia"
      },
      {
       "output_type": "stream",
       "stream": "stdout",
       "text": "\nzc 01845: 42.6696364/-71.0854325, 25009/Essex Massachusetts"
      },
      {
       "output_type": "stream",
       "stream": "stdout",
       "text": "\nzc 95124: 37.2583724/-121.918866, 06085/Santa Clara California"
      },
      {
       "output_type": "stream",
       "stream": "stdout",
       "text": "\nzc 20198: 38.8991212/-77.7223162, 51061/Fauquier Virginia"
      },
      {
       "output_type": "stream",
       "stream": "stdout",
       "text": "\nzc 33317: 26.1218038/-80.2209773, 12011/Broward Florida"
      },
      {
       "output_type": "stream",
       "stream": "stdout",
       "text": "\nzc 32223: 30.1588305/-81.6582994, 12031/Duval Florida"
      },
      {
       "output_type": "stream",
       "stream": "stdout",
       "text": "\nzc 27262: 35.9679365/-80.0423151, 37057/Davidson North Carolina"
      },
      {
       "output_type": "stream",
       "stream": "stdout",
       "text": "\nzc 78758: 30.3870686/-97.7036561, 48453/Travis Texas"
      },
      {
       "output_type": "stream",
       "stream": "stdout",
       "text": "\nzc 60123: 42.0361546/-88.314212, 17089/Kane Illinois"
      },
      {
       "output_type": "stream",
       "stream": "stdout",
       "text": "\nzc 75287: 32.9985237/-96.84046, 48121/Denton Texas"
      },
      {
       "output_type": "stream",
       "stream": "stdout",
       "text": "\nzc 52404: 41.9270157/-91.6955092, 19113/Linn Iowa"
      },
      {
       "output_type": "stream",
       "stream": "stdout",
       "text": "\nzc 94301: 37.4457966/-122.1575745, 06085/Santa Clara California"
      },
      {
       "output_type": "stream",
       "stream": "stdout",
       "text": "\nzc 85233: 33.3519301/-111.8210866, 04013/Maricopa Arizona"
      },
      {
       "output_type": "stream",
       "stream": "stdout",
       "text": "\nzc 85331: 33.8752397/-111.9284017, 04013/Maricopa Arizona"
      },
      {
       "output_type": "stream",
       "stream": "stdout",
       "text": "\nzc 34231: 27.2612782/-82.5131717, 12115/Sarasota Florida"
      },
      {
       "output_type": "stream",
       "stream": "stdout",
       "text": "\nzc 34232: 27.3346138/-82.4644445, 12115/Sarasota Florida"
      },
      {
       "output_type": "stream",
       "stream": "stdout",
       "text": "\nzc 27312: 35.7524399/-79.1774268, 37037/Chatham North Carolina"
      },
      {
       "output_type": "stream",
       "stream": "stdout",
       "text": "\nzc 27310: 36.1794934/-79.9975916, 37081/Guilford North Carolina"
      },
      {
       "output_type": "stream",
       "stream": "stdout",
       "text": "\nzc 34994: 27.1916272/-80.2488596, 12085/Martin Florida"
      },
      {
       "output_type": "stream",
       "stream": "stdout",
       "text": "\nzc 76051: 32.9464268/-97.0713572, 48439/Tarrant Texas"
      },
      {
       "output_type": "stream",
       "stream": "stdout",
       "text": "\nzc 20639: 38.6115662/-76.6181655, 24009/Calvert Maryland"
      },
      {
       "output_type": "stream",
       "stream": "stdout",
       "text": "\nzc 77339: 30.0442264/-95.2162283, 48201/Harris Texas"
      },
      {
       "output_type": "stream",
       "stream": "stdout",
       "text": "\nzc 77338: 29.9956304/-95.2788926, 48201/Harris Texas"
      },
      {
       "output_type": "stream",
       "stream": "stdout",
       "text": "\nzc 40511: 38.1248882/-84.5012435, 21067/Fayette Kentucky"
      },
      {
       "output_type": "stream",
       "stream": "stdout",
       "text": "\nzc 40510: 38.0765476/-84.5955732, 21067/Fayette Kentucky"
      },
      {
       "output_type": "stream",
       "stream": "stdout",
       "text": "\nzc 23452: 36.849734/-76.097201, 51810/Virginia Beach Virginia"
      },
      {
       "output_type": "stream",
       "stream": "stdout",
       "text": "\nzc 92103: 32.749789/-117.1676501, 06073/San Diego California"
      },
      {
       "output_type": "stream",
       "stream": "stdout",
       "text": "\nzc 77077: 29.7451163/-95.6195112, 48201/Harris Texas"
      },
      {
       "output_type": "stream",
       "stream": "stdout",
       "text": "\nzc 77807: 30.665991/-96.471658, 48041/Brazos Texas"
      },
      {
       "output_type": "stream",
       "stream": "stdout",
       "text": "\nzc 33442: 26.3042864/-80.1540226, 12011/Broward Florida"
      },
      {
       "output_type": "stream",
       "stream": "stdout",
       "text": "\nzc 10019: 40.7686973/-73.9918181, 36061/New York New York"
      },
      {
       "output_type": "stream",
       "stream": "stdout",
       "text": "\nzc 89104: 36.149751/-115.0762536, 32003/Clark Nevada"
      },
      {
       "output_type": "stream",
       "stream": "stdout",
       "text": "\nzc 32550: 30.374367/-86.3585578, 12131/Walton Florida"
      },
      {
       "output_type": "stream",
       "stream": "stdout",
       "text": "\nzc 89511: 39.3809028/-119.9277947, 32031/Washoe Nevada"
      },
      {
       "output_type": "stream",
       "stream": "stdout",
       "text": "\nzc 19102: 39.9556241/-75.1647529, 42101/Philadelphia Pennsylvania"
      },
      {
       "output_type": "stream",
       "stream": "stdout",
       "text": "\nzc 19103: 39.9531865/-75.1749671, 42101/Philadelphia Pennsylvania"
      },
      {
       "output_type": "stream",
       "stream": "stdout",
       "text": "\nzc 92602: 33.7514861/-117.7549295, 06059/Orange California"
      },
      {
       "output_type": "stream",
       "stream": "stdout",
       "text": "\nzc 28173: 34.9274555/-80.7436141, 37179/Union North Carolina"
      },
      {
       "output_type": "stream",
       "stream": "stdout",
       "text": "\nzc 19104: 39.9583587/-75.1953934, 42101/Philadelphia Pennsylvania"
      },
      {
       "output_type": "stream",
       "stream": "stdout",
       "text": "\nzc 33169: 25.9400585/-80.2153998, 12086/Miami-Dade Florida"
      },
      {
       "output_type": "stream",
       "stream": "stdout",
       "text": "\nzc 92211: 33.7637689/-116.3426552, 06065/Riverside California"
      },
      {
       "output_type": "stream",
       "stream": "stdout",
       "text": "\nzc 35805: 34.6939733/-86.6107106, 01089/Madison Alabama"
      },
      {
       "output_type": "stream",
       "stream": "stdout",
       "text": "\nzc 55416: 44.9465193/-93.3439291, 27053/Hennepin Minnesota"
      },
      {
       "output_type": "stream",
       "stream": "stdout",
       "text": "\nzc 50036: 42.0528293/-93.8655303, 19015/Boone Iowa"
      },
      {
       "output_type": "stream",
       "stream": "stdout",
       "text": "\nzc 32608: 29.6156734/-82.3659168, 12001/Alachua Florida"
      },
      {
       "output_type": "stream",
       "stream": "stdout",
       "text": "\nzc 48034: 42.4966195/-83.2880591, 26125/Oakland Michigan"
      },
      {
       "output_type": "stream",
       "stream": "stdout",
       "text": "\nzc 33614: 28.0133862/-82.5077593, 12057/Hillsborough Florida"
      },
      {
       "output_type": "stream",
       "stream": "stdout",
       "text": "\nzc 32216: 30.2906907/-81.5706109, 12031/Duval Florida"
      },
      {
       "output_type": "stream",
       "stream": "stdout",
       "text": "\nzc 77064: 29.9161683/-95.5302337, 48201/Harris Texas"
      },
      {
       "output_type": "stream",
       "stream": "stdout",
       "text": "\nzc 27103: 36.0564654/-80.3324514, 37067/Forsyth North Carolina"
      },
      {
       "output_type": "stream",
       "stream": "stdout",
       "text": "\nzc 24061: 37.2332092/-80.4244805, 51121/Montgomery Virginia"
      },
      {
       "output_type": "stream",
       "stream": "stdout",
       "text": "\nzc 24060: 37.2724841/-80.4326521, 51121/Montgomery Virginia"
      },
      {
       "output_type": "stream",
       "stream": "stdout",
       "text": "\nzc 33762: 27.9006925/-82.6861446, 12103/Pinellas Florida"
      },
      {
       "output_type": "stream",
       "stream": "stdout",
       "text": "\nzc 23284: 37.5481822/-77.4533454, 51760/Richmond Virginia"
      },
      {
       "output_type": "stream",
       "stream": "stdout",
       "text": "\nzc 35243: 33.4514846/-86.7315785, 01073/Jefferson Alabama"
      },
      {
       "output_type": "stream",
       "stream": "stdout",
       "text": "\nzc 83467: 44.9479845/-113.9660111, 16059/Lemhi Idaho"
      },
      {
       "output_type": "stream",
       "stream": "stdout",
       "text": "\nzc 44321: 41.0875099/-81.6363869, 39153/Summit Ohio"
      },
      {
       "output_type": "stream",
       "stream": "stdout",
       "text": "\nzc 01373: 42.4657318/-72.6269437, 25011/Franklin Massachusetts"
      },
      {
       "output_type": "stream",
       "stream": "stdout",
       "text": "\nzc 01375: 42.4546495/-72.5559746, 25011/Franklin Massachusetts"
      },
      {
       "output_type": "stream",
       "stream": "stdout",
       "text": "\nzc 37167: 35.9632133/-86.5299673, 47149/Rutherford Tennessee"
      },
      {
       "output_type": "stream",
       "stream": "stdout",
       "text": "\nzc 87112: 35.1030501/-106.5171626, 35001/Bernalillo New Mexico"
      },
      {
       "output_type": "stream",
       "stream": "stdout",
       "text": "\nzc 87113: 35.1894316/-106.5878723, 35001/Bernalillo New Mexico"
      },
      {
       "output_type": "stream",
       "stream": "stdout",
       "text": "\nzc 87111: 35.1322706/-106.4994889, 35001/Bernalillo New Mexico"
      },
      {
       "output_type": "stream",
       "stream": "stdout",
       "text": "\nzc 11795: 40.7111586/-73.3060197, 36103/Suffolk New York"
      },
      {
       "output_type": "stream",
       "stream": "stdout",
       "text": "\nzc 78727: 30.432242/-97.7145152, 48453/Travis Texas"
      },
      {
       "output_type": "stream",
       "stream": "stdout",
       "text": "\nzc 40223: 38.2586184/-85.5457689, 21111/Jefferson Kentucky"
      },
      {
       "output_type": "stream",
       "stream": "stdout",
       "text": "\nzc 85392: 33.4763518/-112.2980119, 04013/Maricopa Arizona"
      },
      {
       "output_type": "stream",
       "stream": "stdout",
       "text": "\nzc 27606: 35.7418297/-78.713608, 37183/Wake North Carolina"
      },
      {
       "output_type": "stream",
       "stream": "stdout",
       "text": "\nzc 27607: 35.8019142/-78.6875364, 37183/Wake North Carolina"
      },
      {
       "output_type": "stream",
       "stream": "stdout",
       "text": "\nzc 01536: 42.2356407/-71.6969985, 25027/Worcester Massachusetts"
      },
      {
       "output_type": "stream",
       "stream": "stdout",
       "text": "\nzc 80222: 39.6696322/-104.9330448, 08031/Denver Colorado"
      },
      {
       "output_type": "stream",
       "stream": "stdout",
       "text": "\nzc 91775: 34.1232517/-118.0830047, 06037/Los Angeles California"
      },
      {
       "output_type": "stream",
       "stream": "stdout",
       "text": "\nzc 45439: 39.703893/-84.2173403, 39113/Montgomery Ohio"
      },
      {
       "output_type": "stream",
       "stream": "stdout",
       "text": "\nzc 77845: 30.5368372/-96.3013432, 48041/Brazos Texas"
      },
      {
       "output_type": "stream",
       "stream": "stdout",
       "text": "\nzc 53719: 43.0282084/-89.5214505, 55025/Dane Wisconsin"
      },
      {
       "output_type": "stream",
       "stream": "stdout",
       "text": "\nzc 45227: 39.1495912/-84.3909991, 39061/Hamilton Ohio"
      },
      {
       "output_type": "stream",
       "stream": "stdout",
       "text": "\nzc 02130: 42.3097365/-71.1151431, 25025/Suffolk Massachusetts"
      },
      {
       "output_type": "stream",
       "stream": "stdout",
       "text": "\nzc 53711: 43.0078309/-89.3321823, 55025/Dane Wisconsin"
      },
      {
       "output_type": "stream",
       "stream": "stdout",
       "text": "\nzc 02882: 41.3983403/-71.4893013, 44009/Washington Rhode Island"
      },
      {
       "output_type": "stream",
       "stream": "stdout",
       "text": "\nzc 02886: 41.7034769/-71.4655565, 44003/Kent Rhode Island"
      },
      {
       "output_type": "stream",
       "stream": "stdout",
       "text": "\nzc 63005: 38.6299452/-90.6962853, 29189/St. Louis Missouri"
      },
      {
       "output_type": "stream",
       "stream": "stdout",
       "text": "\nzc 48823: 42.758734/-84.448772, 26065/Ingham Michigan"
      },
      {
       "output_type": "stream",
       "stream": "stdout",
       "text": "\nzc 17403: 39.919617/-76.7221082, 42133/York Pennsylvania"
      },
      {
       "output_type": "stream",
       "stream": "stdout",
       "text": "\nzc 75229: 32.8958284/-96.8726295, 48113/Dallas Texas"
      },
      {
       "output_type": "stream",
       "stream": "stdout",
       "text": "\nzc 66083: 38.741877/-94.8313257, 20091/Johnson Kansas"
      },
      {
       "output_type": "stream",
       "stream": "stdout",
       "text": "\nzc 90631: 33.9226618/-117.9600466, 06059/Orange California"
      },
      {
       "output_type": "stream",
       "stream": "stdout",
       "text": "\nzc 80033: 39.7775841/-105.1083542, 08059/Jefferson Colorado"
      },
      {
       "output_type": "stream",
       "stream": "stdout",
       "text": "\nzc 55108: 44.9790183/-93.1855735, 27123/Ramsey Minnesota"
      },
      {
       "output_type": "stream",
       "stream": "stdout",
       "text": "\nzc 55109: 45.0155505/-93.0435224, 27123/Ramsey Minnesota"
      },
      {
       "output_type": "stream",
       "stream": "stdout",
       "text": "\nzc 07924: 40.7295773/-74.5814773, 34035/Somerset New Jersey"
      },
      {
       "output_type": "stream",
       "stream": "stdout",
       "text": "\nzc 80523: 40.57/-105.09, 08069/Larimer Colorado"
      },
      {
       "output_type": "stream",
       "stream": "stdout",
       "text": "\nzc 80526: 40.5293254/-105.1375908, 08069/Larimer Colorado"
      },
      {
       "output_type": "stream",
       "stream": "stdout",
       "text": "\nzc 35022: 33.2891965/-86.9624086, 01073/Jefferson Alabama"
      },
      {
       "output_type": "stream",
       "stream": "stdout",
       "text": "\nzc 80524: 40.6358803/-105.0089888, 08069/Larimer Colorado"
      },
      {
       "output_type": "stream",
       "stream": "stdout",
       "text": "\nzc 80525: 40.5417839/-105.044052, 08069/Larimer Colorado"
      },
      {
       "output_type": "stream",
       "stream": "stdout",
       "text": "\nzc 90025: 34.0448583/-118.4484367, 06037/Los Angeles California"
      },
      {
       "output_type": "stream",
       "stream": "stdout",
       "text": "\nzc 77345: 30.0522464/-95.1588464, 48201/Harris Texas"
      },
      {
       "output_type": "stream",
       "stream": "stdout",
       "text": "\nzc 11803: 40.7848157/-73.471054, 36059/Nassau New York"
      },
      {
       "output_type": "stream",
       "stream": "stdout",
       "text": "\nzc 43210: 39.9990626/-83.0173386, 39049/Franklin Ohio"
      },
      {
       "output_type": "stream",
       "stream": "stdout",
       "text": "\nzc 99164: 46.7287207/-117.1542743, 53075/Whitman Washington"
      },
      {
       "output_type": "stream",
       "stream": "stdout",
       "text": "\nzc 02081: 42.1470851/-71.2517835, 25021/Norfolk Massachusetts"
      },
      {
       "output_type": "stream",
       "stream": "stdout",
       "text": "\nzc 60622: 41.9013087/-87.6827676, 17031/Cook Illinois"
      },
      {
       "output_type": "stream",
       "stream": "stdout",
       "text": "\nzc 07724: 40.3038147/-74.0887576, 34025/Monmouth New Jersey"
      },
      {
       "output_type": "stream",
       "stream": "stdout",
       "text": "\nzc 85641: 32.0149212/-110.6645683, 04019/Pima Arizona"
      },
      {
       "output_type": "stream",
       "stream": "stdout",
       "text": "\nzc 61350: 41.375388/-88.8455037, 17099/La Salle Illinois"
      },
      {
       "output_type": "stream",
       "stream": "stdout",
       "text": "\nzc 33406: 26.6561841/-80.0926014, 12099/Palm Beach Florida"
      },
      {
       "output_type": "stream",
       "stream": "stdout",
       "text": "\nzc 33156: 25.6579955/-80.2878794, 12086/Miami-Dade Florida"
      },
      {
       "output_type": "stream",
       "stream": "stdout",
       "text": "\nzc 02451: 42.3971065/-71.2598997, 25017/Middlesex Massachusetts"
      },
      {
       "output_type": "stream",
       "stream": "stdout",
       "text": "\nzc 65211: 38.9331391/-92.3738037, 29019/Boone Missouri"
      },
      {
       "output_type": "stream",
       "stream": "stdout",
       "text": "\nzc 37934: 35.8722577/-84.1751648, 47093/Knox Tennessee"
      },
      {
       "output_type": "stream",
       "stream": "stdout",
       "text": "\nzc 77034: 29.6124152/-95.1901384, 48201/Harris Texas"
      },
      {
       "output_type": "stream",
       "stream": "stdout",
       "text": "\nzc 80917: 38.8825531/-104.7345937, 08041/El Paso Colorado"
      },
      {
       "output_type": "stream",
       "stream": "stdout",
       "text": "\nzc 06410: 41.5083668/-72.9106202, 09009/New Haven Connecticut"
      },
      {
       "output_type": "stream",
       "stream": "stdout",
       "text": "\nzc 98661: 45.6405414/-122.6204002, 53011/Clark Washington"
      },
      {
       "output_type": "stream",
       "stream": "stdout",
       "text": "\nzc 98668: 45.6405989/-122.6234603, 53011/Clark Washington"
      },
      {
       "output_type": "stream",
       "stream": "stdout",
       "text": "\nzc 92025: 33.090285/-117.0499859, 06073/San Diego California"
      },
      {
       "output_type": "stream",
       "stream": "stdout",
       "text": "\nzc 18902: 40.3610338/-75.0961549, 42017/Bucks Pennsylvania"
      },
      {
       "output_type": "stream",
       "stream": "stdout",
       "text": "\nzc 34293: 27.0236113/-82.3343375, 12115/Sarasota Florida"
      },
      {
       "output_type": "stream",
       "stream": "stdout",
       "text": "\nzc 18052: 40.6572331/-75.4985521, 42077/Lehigh Pennsylvania"
      },
      {
       "output_type": "stream",
       "stream": "stdout",
       "text": "\nzc 95032: 37.2260616/-121.9302449, 06085/Santa Clara California"
      },
      {
       "output_type": "stream",
       "stream": "stdout",
       "text": "\nzc 32073: 30.1643797/-81.7458845, 12019/Clay Florida"
      },
      {
       "output_type": "stream",
       "stream": "stdout",
       "text": "\nzc 27455: 36.1857974/-79.8184684, 37081/Guilford North Carolina"
      },
      {
       "output_type": "stream",
       "stream": "stdout",
       "text": "\nzc 46060: 40.0542448/-85.9508923, 18057/Hamilton Indiana"
      },
      {
       "output_type": "stream",
       "stream": "stdout",
       "text": "\nzc 27518: 35.7315398/-78.7759559, 37183/Wake North Carolina"
      },
      {
       "output_type": "stream",
       "stream": "stdout",
       "text": "\nzc 38018: 35.1376546/-89.7661527, 47157/Shelby Tennessee"
      },
      {
       "output_type": "stream",
       "stream": "stdout",
       "text": "\nzc 94523: 37.9448915/-122.0723816, 06013/Contra Costa California"
      },
      {
       "output_type": "stream",
       "stream": "stdout",
       "text": "\nzc 94521: 37.9538109/-121.9643745, 06013/Contra Costa California"
      },
      {
       "output_type": "stream",
       "stream": "stdout",
       "text": "\nzc 66506: 39.1998042/-96.581008, 20161/Riley Kansas"
      },
      {
       "output_type": "stream",
       "stream": "stdout",
       "text": "\nzc 52246: 41.6597963/-91.6080974, 19103/Johnson Iowa"
      },
      {
       "output_type": "stream",
       "stream": "stdout",
       "text": "\nzc 27320: 36.3790421/-79.6951103, 37157/Rockingham North Carolina"
      },
      {
       "output_type": "stream",
       "stream": "stdout",
       "text": "\nzc 20892: 39.0023604/-77.097455, 24031/Montgomery Maryland"
      },
      {
       "output_type": "stream",
       "stream": "stdout",
       "text": "\nzc 07652: 40.9445428/-74.0754189, 34003/Bergen New Jersey"
      },
      {
       "output_type": "stream",
       "stream": "stdout",
       "text": "\nzc 21228: 39.2724771/-76.745195, 24005/Baltimore Maryland"
      },
      {
       "output_type": "stream",
       "stream": "stdout",
       "text": "\nzc 92111: 32.8256427/-117.1558867, 06073/San Diego California"
      },
      {
       "output_type": "stream",
       "stream": "stdout",
       "text": "\nzc 84106: 40.7078639/-111.8508966, 49035/Salt Lake Utah"
      },
      {
       "output_type": "stream",
       "stream": "stdout",
       "text": "\nzc 14546: 43.0383054/-77.7680952, 36055/Monroe New York"
      },
      {
       "output_type": "stream",
       "stream": "stdout",
       "text": "\nzc 60090: 42.1335205/-87.9187711, 17031/Cook Illinois"
      },
      {
       "output_type": "stream",
       "stream": "stdout",
       "text": "\nzc 11738: 40.8380145/-73.0346244, 36103/Suffolk New York"
      },
      {
       "output_type": "stream",
       "stream": "stdout",
       "text": "\nzc 90069: 34.0931603/-118.3783347, 06037/Los Angeles California"
      },
      {
       "output_type": "stream",
       "stream": "stdout",
       "text": "\nzc 96814: 21.2966976/-157.8480364, 15003/Honolulu Hawaii"
      },
      {
       "output_type": "stream",
       "stream": "stdout",
       "text": "\nzc 95687: 38.3286205/-121.9359339, 06095/Solano California"
      },
      {
       "output_type": "stream",
       "stream": "stdout",
       "text": "\nzc 01719: 42.4955325/-71.5130445, 25017/Middlesex Massachusetts"
      },
      {
       "output_type": "stream",
       "stream": "stdout",
       "text": "\nzc 35080: 33.2543052/-86.9123217, 01117/Shelby Alabama"
      },
      {
       "output_type": "stream",
       "stream": "stdout",
       "text": "\nzc 23221: 37.5488885/-77.4874049, 51760/Richmond Virginia"
      },
      {
       "output_type": "stream",
       "stream": "stdout",
       "text": "\nzc 75275: 32.84/-96.78, 48113/Dallas Texas"
      },
      {
       "output_type": "stream",
       "stream": "stdout",
       "text": "\nzc 94070: 37.4975165/-122.2710602, 06081/San Mateo California"
      },
      {
       "output_type": "stream",
       "stream": "stdout",
       "text": "\nzc 01760: 42.2775281/-71.3468091, 25017/Middlesex Massachusetts"
      },
      {
       "output_type": "stream",
       "stream": "stdout",
       "text": "\nzc 48302: 42.5805638/-83.3041061, 26125/Oakland Michigan"
      },
      {
       "output_type": "stream",
       "stream": "stdout",
       "text": "\nzc 03820: 43.1819713/-70.8952337, 33017/Strafford New Hampshire"
      },
      {
       "output_type": "stream",
       "stream": "stdout",
       "text": "\nzc 70820: 30.372807/-91.1833043, 22033/East Baton Rouge Louisiana"
      },
      {
       "output_type": "stream",
       "stream": "stdout",
       "text": "\nzc 85704: 32.3395031/-110.9864294, 04019/Pima Arizona"
      },
      {
       "output_type": "stream",
       "stream": "stdout",
       "text": "\nzc 06902: 41.0411194/-73.541744, 09001/Fairfield Connecticut"
      },
      {
       "output_type": "stream",
       "stream": "stdout",
       "text": "\nzc 74078: 36.1198996/-97.0888415, 40119/Payne Oklahoma"
      },
      {
       "output_type": "stream",
       "stream": "stdout",
       "text": "\nzc 33626: 28.0658088/-82.6159271, 12057/Hillsborough Florida"
      },
      {
       "output_type": "stream",
       "stream": "stdout",
       "text": "\nzc 19720: 39.6317596/-75.5975296, 10003/New Castle Delaware"
      },
      {
       "output_type": "stream",
       "stream": "stdout",
       "text": "\nzc 83687: 43.6189362/-116.5346883, 16027/Canyon Idaho"
      },
      {
       "output_type": "stream",
       "stream": "stdout",
       "text": "\nzc 43085: 40.103832/-83.0200245, 39049/Franklin Ohio"
      },
      {
       "output_type": "stream",
       "stream": "stdout",
       "text": "\nzc 10502: 41.012961/-73.8389657, 36119/Westchester New York"
      },
      {
       "output_type": "stream",
       "stream": "stdout",
       "text": "\nzc 53574: 42.8047254/-89.6439924, 55045/Green Wisconsin"
      },
      {
       "output_type": "stream",
       "stream": "stdout",
       "text": "\nzc 10507: 41.2300691/-73.6948234, 36119/Westchester New York"
      },
      {
       "output_type": "stream",
       "stream": "stdout",
       "text": "\nzc 95618: 38.518893/-121.6511258, 06113/Yolo California"
      },
      {
       "output_type": "stream",
       "stream": "stdout",
       "text": "\nzc 95616: 38.5474428/-121.7765309, 06095/Solano California"
      },
      {
       "output_type": "stream",
       "stream": "stdout",
       "text": "\nzc 33458: 26.931397/-80.109357, 12099/Palm Beach Florida"
      },
      {
       "output_type": "stream",
       "stream": "stdout",
       "text": "\nzc 60563: 41.7962928/-88.1974148, 17043/DuPage Illinois"
      },
      {
       "output_type": "stream",
       "stream": "stdout",
       "text": "\nzc 03053: 42.8842866/-71.4061876, 33015/Rockingham New Hampshire"
      },
      {
       "output_type": "stream",
       "stream": "stdout",
       "text": "\nzc 92675: 33.5039207/-117.5613246, 06059/Orange California"
      },
      {
       "output_type": "stream",
       "stream": "stdout",
       "text": "\nzc 97005: 45.4923824/-122.8029665, 41067/Washington Oregon"
      },
      {
       "output_type": "stream",
       "stream": "stdout",
       "text": "\nzc 29464: 32.8234848/-79.8520818, 45019/Charleston South Carolina"
      },
      {
       "output_type": "stream",
       "stream": "stdout",
       "text": "\nzc 93420: 35.1777937/-120.4818446, 06079/San Luis Obispo California"
      },
      {
       "output_type": "stream",
       "stream": "stdout",
       "text": "\nzc 37204: 36.1003494/-86.7718017, 47037/Davidson Tennessee"
      },
      {
       "output_type": "stream",
       "stream": "stdout",
       "text": "\nzc 93012: 34.2295937/-118.9761519, 06111/Ventura California"
      },
      {
       "output_type": "stream",
       "stream": "stdout",
       "text": "\nzc 83025: 43.5918446/-110.8417411, 56039/Teton Wyoming"
      },
      {
       "output_type": "stream",
       "stream": "stdout",
       "text": "\nzc 99301: 46.3537739/-118.9197656, 53021/Franklin Washington"
      },
      {
       "output_type": "stream",
       "stream": "stdout",
       "text": "\nzc 49503: 42.9616689/-85.6588999, 26081/Kent Michigan"
      },
      {
       "output_type": "stream",
       "stream": "stdout",
       "text": "\nzc 78731: 30.3542409/-97.7742702, 48453/Travis Texas"
      },
      {
       "output_type": "stream",
       "stream": "stdout",
       "text": "\nzc 78733: 30.3315188/-97.8667182, 48453/Travis Texas"
      },
      {
       "output_type": "stream",
       "stream": "stdout",
       "text": "\nzc 33803: 28.0095179/-81.9261999, 12105/Polk Florida"
      },
      {
       "output_type": "stream",
       "stream": "stdout",
       "text": "\nzc 37996: 35.9433558/-83.9386991, 47093/Knox Tennessee"
      },
      {
       "output_type": "stream",
       "stream": "stdout",
       "text": "\nzc 89147: 36.1148054/-115.2778317, 32003/Clark Nevada"
      },
      {
       "output_type": "stream",
       "stream": "stdout",
       "text": "\nzc 15116: 40.5253926/-79.9472502, 42003/Allegheny Pennsylvania"
      },
      {
       "output_type": "stream",
       "stream": "stdout",
       "text": "\nzc 89146: 36.135635/-115.2304131, 32003/Clark Nevada"
      },
      {
       "output_type": "stream",
       "stream": "stdout",
       "text": "\nzc 36695: 30.620114/-88.2753144, 01097/Mobile Alabama"
      },
      {
       "output_type": "stream",
       "stream": "stdout",
       "text": "\nzc 43065: 40.1742648/-83.0898194, 39041/Delaware Ohio"
      },
      {
       "output_type": "stream",
       "stream": "stdout",
       "text": "\nzc 46038: 39.9645049/-86.0223611, 18057/Hamilton Indiana"
      },
      {
       "output_type": "stream",
       "stream": "stdout",
       "text": "\nzc 85251: 33.4986286/-111.9224398, 04013/Maricopa Arizona"
      },
      {
       "output_type": "stream",
       "stream": "stdout",
       "text": "\nzc 85250: 33.5243639/-111.8985922, 04013/Maricopa Arizona"
      },
      {
       "output_type": "stream",
       "stream": "stdout",
       "text": "\nzc 85254: 33.6071829/-111.9403254, 04013/Maricopa Arizona"
      },
      {
       "output_type": "stream",
       "stream": "stdout",
       "text": "\nzc 02190: 42.1707499/-70.9427914, 25021/Norfolk Massachusetts"
      },
      {
       "output_type": "stream",
       "stream": "stdout",
       "text": "\nzc 53706: 43.1054334/-89.4269287, 55025/Dane Wisconsin"
      },
      {
       "output_type": "stream",
       "stream": "stdout",
       "text": "\nzc 48377: 42.5123116/-83.4750241, 26125/Oakland Michigan"
      },
      {
       "output_type": "stream",
       "stream": "stdout",
       "text": "\nzc 27705: 36.025609/-78.9853813, 37135/Orange North Carolina"
      },
      {
       "output_type": "stream",
       "stream": "stdout",
       "text": "\nzc 95403: 38.4739555/-122.7520139, 06097/Sonoma California"
      },
      {
       "output_type": "stream",
       "stream": "stdout",
       "text": "\nzc 92121: 32.8981142/-117.2029363, 06073/San Diego California"
      },
      {
       "output_type": "stream",
       "stream": "stdout",
       "text": "\nzc 95219: 38.0268596/-121.5141615, 06077/San Joaquin California"
      },
      {
       "output_type": "stream",
       "stream": "stdout",
       "text": "\nzc 70179: 29.9919028/-90.0795843, 22071/Orleans Louisiana"
      },
      {
       "output_type": "stream",
       "stream": "stdout",
       "text": "\nzc 20854: 39.040746/-77.2290193, 24031/Montgomery Maryland"
      },
      {
       "output_type": "stream",
       "stream": "stdout",
       "text": "\nzc 90232: 34.0236878/-118.3900204, 06037/Los Angeles California"
      },
      {
       "output_type": "stream",
       "stream": "stdout",
       "text": "\nzc 14043: 42.9007932/-78.7079381, 36029/Erie New York"
      },
      {
       "output_type": "stream",
       "stream": "stdout",
       "text": "\nzc 95827: 38.5544039/-121.3255688, 06067/Sacramento California"
      },
      {
       "output_type": "stream",
       "stream": "stdout",
       "text": "\nzc 92614: 33.6832497/-117.8340735, 06059/Orange California"
      },
      {
       "output_type": "stream",
       "stream": "stdout",
       "text": "\nzc 19047: 40.196447/-74.9091853, 42017/Bucks Pennsylvania"
      },
      {
       "output_type": "stream",
       "stream": "stdout",
       "text": "\nzc 15237: 40.5569121/-80.0199562, 42003/Allegheny Pennsylvania"
      },
      {
       "output_type": "stream",
       "stream": "stdout",
       "text": "\nzc 92620: 33.7073908/-117.7666567, 06059/Orange California"
      },
      {
       "output_type": "stream",
       "stream": "stdout",
       "text": "\nzc 33414: 26.6374761/-80.2432839, 12099/Palm Beach Florida"
      },
      {
       "output_type": "stream",
       "stream": "stdout",
       "text": "\nzc 22030: 38.8454321/-77.3209555, 51059/Fairfax Virginia"
      },
      {
       "output_type": "stream",
       "stream": "stdout",
       "text": "\nzc 22031: 38.864187/-77.2577571, 51059/Fairfax Virginia"
      },
      {
       "output_type": "stream",
       "stream": "stdout",
       "text": "\nzc 19348: 39.8599257/-75.7255192, 42029/Chester Pennsylvania"
      },
      {
       "output_type": "stream",
       "stream": "stdout",
       "text": "\nzc 01867: 42.5412689/-71.1092012, 25017/Middlesex Massachusetts"
      },
      {
       "output_type": "stream",
       "stream": "stdout",
       "text": "\nzc 65203: 38.9538484/-92.3714428, 29019/Boone Missouri"
      },
      {
       "output_type": "stream",
       "stream": "stdout",
       "text": "\nzc 08691: 40.215546/-74.6049061, 34021/Mercer New Jersey"
      },
      {
       "output_type": "stream",
       "stream": "stdout",
       "text": "\nzc 99027: 47.7188906/-117.1509129, 53063/Spokane Washington"
      },
      {
       "output_type": "stream",
       "stream": "stdout",
       "text": "\nzc 87004: 35.3180691/-106.5466221, 35043/Sandoval New Mexico"
      },
      {
       "output_type": "stream",
       "stream": "stdout",
       "text": "\nzc 07424: 40.8811718/-74.2120629, 34031/Passaic New Jersey"
      },
      {
       "output_type": "stream",
       "stream": "stdout",
       "text": "\nzc 39759: 33.4776589/-88.8263006, 28105/Oktibbeha Mississippi"
      },
      {
       "output_type": "stream",
       "stream": "stdout",
       "text": "\nzc 55311: 45.1056514/-93.4892746, 27053/Hennepin Minnesota"
      },
      {
       "output_type": "stream",
       "stream": "stdout",
       "text": "\nzc 56701: 48.1129336/-96.1857655, 27113/Pennington Minnesota"
      },
      {
       "output_type": "stream",
       "stream": "stdout",
       "text": "\nzc 31405: 32.0371137/-81.1747498, 13051/Chatham Georgia"
      },
      {
       "output_type": "stream",
       "stream": "stdout",
       "text": "\nzc 39532: 30.5007553/-88.9605365, 28047/Harrison Mississippi"
      },
      {
       "output_type": "stream",
       "stream": "stdout",
       "text": "\nzc 94530: 37.9202057/-122.2937428, 06013/Contra Costa California"
      },
      {
       "output_type": "stream",
       "stream": "stdout",
       "text": "\nzc 95008: 37.2770029/-121.9529992, 06085/Santa Clara California"
      },
      {
       "output_type": "stream",
       "stream": "stdout",
       "text": "\nzc 94539: 37.5148444/-121.9131761, 06001/Alameda California"
      },
      {
       "output_type": "stream",
       "stream": "stdout",
       "text": "\nzc 94925: 37.920558/-122.5089856, 06041/Marin California"
      },
      {
       "output_type": "stream",
       "stream": "stdout",
       "text": "\nzc 37886: 35.7445072/-83.7942551, 47009/Blount Tennessee"
      },
      {
       "output_type": "stream",
       "stream": "stdout",
       "text": "\nzc 98225: 48.7562157/-122.4894588, 53073/Whatcom Washington"
      },
      {
       "output_type": "stream",
       "stream": "stdout",
       "text": "\nzc 91786: 34.1036996/-117.6610854, 06071/San Bernardino California"
      },
      {
       "output_type": "stream",
       "stream": "stdout",
       "text": "\nzc 46601: 41.6724038/-86.2539519, 18141/St. Joseph Indiana"
      },
      {
       "output_type": "stream",
       "stream": "stdout",
       "text": "\nzc 60174: 41.9169525/-88.2947675, 17089/Kane Illinois"
      },
      {
       "output_type": "stream",
       "stream": "stdout",
       "text": "\nzc 60076: 42.026064/-87.7271123, 17031/Cook Illinois"
      },
      {
       "output_type": "stream",
       "stream": "stdout",
       "text": "\nzc 66210: 38.9193108/-94.70189, 20091/Johnson Kansas"
      },
      {
       "output_type": "stream",
       "stream": "stdout",
       "text": "\nzc 28273: 35.1290557/-80.9539475, 37119/Mecklenburg North Carolina"
      },
      {
       "output_type": "stream",
       "stream": "stdout",
       "text": "\nzc 40580: 38.14/-84.47, 21067/Fayette Kentucky"
      },
      {
       "output_type": "stream",
       "stream": "stdout",
       "text": "\nzc 47907: 40.4401775/-86.9261008, 18157/Tippecanoe Indiana"
      },
      {
       "output_type": "stream",
       "stream": "stdout",
       "text": "\nzc 47906: 40.4932743/-86.9624086, 18157/Tippecanoe Indiana"
      },
      {
       "output_type": "stream",
       "stream": "stdout",
       "text": "\nzc 20816: 38.9516143/-77.1197521, 24031/Montgomery Virginia"
      },
      {
       "output_type": "stream",
       "stream": "stdout",
       "text": "\nzc 49331: 42.9440633/-85.3342973, 26081/Kent Michigan"
      },
      {
       "output_type": "stream",
       "stream": "stdout",
       "text": "\nzc 95694: 38.5600699/-122.0155491, 06113/Yolo California"
      },
      {
       "output_type": "stream",
       "stream": "stdout",
       "text": "\nzc 40067: 38.235851/-85.3652959, 21211/Shelby Kentucky"
      },
      {
       "output_type": "stream",
       "stream": "stdout",
       "text": "\nzc 92780: 33.7372177/-117.8135579, 06059/Orange California"
      },
      {
       "output_type": "stream",
       "stream": "stdout",
       "text": "\nzc 83843: 46.7251492/-116.9667226, 16057/Latah Idaho"
      },
      {
       "output_type": "stream",
       "stream": "stdout",
       "text": "\nzc 75080: 32.9481789/-96.7297205, 48113/Dallas Texas"
      },
      {
       "output_type": "stream",
       "stream": "stdout",
       "text": "\nzc 08869: 40.5747108/-74.6458987, 34035/Somerset New Jersey"
      },
      {
       "output_type": "stream",
       "stream": "stdout",
       "text": "\nzc 50011: 42.0288663/-93.6480307, 19169/Story Iowa"
      },
      {
       "output_type": "stream",
       "stream": "stdout",
       "text": "\nzc 97470: 43.1699202/-123.2374563, 41019/Douglas Oregon"
      },
      {
       "output_type": "stream",
       "stream": "stdout",
       "text": "\nzc 97477: 44.059912/-123.0179348, 41039/Lane Oregon"
      },
      {
       "output_type": "stream",
       "stream": "stdout",
       "text": "\n"
      }
     ],
     "prompt_number": 12
    },
    {
     "cell_type": "code",
     "collapsed": false,
     "input": "from collections import Counter\n\nstates = [zip_dict[zc][\"state\"] for zc in zip_dict]\nstatecounts = Counter(states)\n\ncounties = [zip_dict[zc][\"fips_county\"] for zc in zip_dict]\ncountycounts = Counter(counties)",
     "language": "python",
     "metadata": {},
     "outputs": []
    },
    {
     "cell_type": "code",
     "collapsed": false,
     "input": "from csv import DictWriter\nfieldnames = ['zip', 'count', 'lat', 'lon', 'fips_county', 'county_name', 'state']\ncsvfile = open('results.csv', 'wb')\ncsvwriter = DictWriter(csvfile, delimiter=',', fieldnames=fieldnames)\n\nfor key, value in zip_dict.items():\n    value['zip'] = key\n    csvwriter.writerow(value)",
     "language": "python",
     "metadata": {},
     "outputs": [],
     "prompt_number": 33
    },
    {
     "cell_type": "code",
     "collapsed": false,
     "input": "zip_dict?",
     "language": "python",
     "metadata": {},
     "outputs": [],
     "prompt_number": 35
    },
    {
     "cell_type": "code",
     "collapsed": false,
     "input": "from pandas import Series, DataFrame\nimport pandas as pd\nimport numpy as np\n\n#zipdf = DataFrame(zip_dict).T\nzipdf = pd.read_csv(\"results.csv\")\nzipdf = zipdf.set_index('zip')",
     "language": "python",
     "metadata": {},
     "outputs": [],
     "prompt_number": 5
    },
    {
     "cell_type": "code",
     "collapsed": false,
     "input": "zipdf[zipdf['state'] == ''] = np.nan\nzipdf = zipdf.dropna()",
     "language": "python",
     "metadata": {},
     "outputs": [],
     "prompt_number": 6
    },
    {
     "cell_type": "code",
     "collapsed": false,
     "input": "zipdf.head(5)",
     "language": "python",
     "metadata": {},
     "outputs": [
      {
       "html": "<div style=\"max-height:1000px;max-width:1500px;overflow:auto;\">\n<table border=\"1\" class=\"dataframe\">\n  <thead>\n    <tr style=\"text-align: right;\">\n      <th></th>\n      <th>count</th>\n      <th>lat</th>\n      <th>long</th>\n      <th>fips_county</th>\n      <th>county_name</th>\n      <th>state</th>\n    </tr>\n    <tr>\n      <th>zip</th>\n      <th></th>\n      <th></th>\n      <th></th>\n      <th></th>\n      <th></th>\n      <th></th>\n    </tr>\n  </thead>\n  <tbody>\n    <tr>\n      <th>14853</th>\n      <td> 5</td>\n      <td> 42.446705</td>\n      <td>-76.483058</td>\n      <td> 36109</td>\n      <td> Tompkins</td>\n      <td>  New York</td>\n    </tr>\n    <tr>\n      <th>44286</th>\n      <td> 2</td>\n      <td> 41.227409</td>\n      <td>-81.636387</td>\n      <td> 39153</td>\n      <td>   Summit</td>\n      <td>      Ohio</td>\n    </tr>\n    <tr>\n      <th>33328</th>\n      <td> 1</td>\n      <td> 26.072567</td>\n      <td>-80.271159</td>\n      <td> 12011</td>\n      <td>  Broward</td>\n      <td>   Florida</td>\n    </tr>\n    <tr>\n      <th>14850</th>\n      <td> 1</td>\n      <td> 42.435511</td>\n      <td>-76.525701</td>\n      <td> 36109</td>\n      <td> Tompkins</td>\n      <td>  New York</td>\n    </tr>\n    <tr>\n      <th>55344</th>\n      <td> 2</td>\n      <td> 44.865243</td>\n      <td>-93.409463</td>\n      <td> 27053</td>\n      <td> Hennepin</td>\n      <td> Minnesota</td>\n    </tr>\n  </tbody>\n</table>\n<p>5 rows \u00d7 6 columns</p>\n</div>",
       "metadata": {},
       "output_type": "pyout",
       "prompt_number": 8,
       "text": "       count        lat       long  fips_county county_name      state\nzip                                                                   \n14853      5  42.446705 -76.483058        36109    Tompkins   New York\n44286      2  41.227409 -81.636387        39153      Summit       Ohio\n33328      1  26.072567 -80.271159        12011     Broward    Florida\n14850      1  42.435511 -76.525701        36109    Tompkins   New York\n55344      2  44.865243 -93.409463        27053    Hennepin  Minnesota\n\n[5 rows x 6 columns]"
      }
     ],
     "prompt_number": 8
    },
    {
     "cell_type": "code",
     "collapsed": false,
     "input": "zipdf[['state', 'count']]",
     "language": "python",
     "metadata": {},
     "outputs": [
      {
       "html": "<div style=\"max-height:1000px;max-width:1500px;overflow:auto;\">\n<table border=\"1\" class=\"dataframe\">\n  <thead>\n    <tr style=\"text-align: right;\">\n      <th></th>\n      <th>state</th>\n      <th>count</th>\n    </tr>\n    <tr>\n      <th>zip</th>\n      <th></th>\n      <th></th>\n    </tr>\n  </thead>\n  <tbody>\n    <tr>\n      <th>14853</th>\n      <td>       New York</td>\n      <td> 5</td>\n    </tr>\n    <tr>\n      <th>44286</th>\n      <td>           Ohio</td>\n      <td> 2</td>\n    </tr>\n    <tr>\n      <th>33328</th>\n      <td>        Florida</td>\n      <td> 1</td>\n    </tr>\n    <tr>\n      <th>14850</th>\n      <td>       New York</td>\n      <td> 1</td>\n    </tr>\n    <tr>\n      <th>55344</th>\n      <td>      Minnesota</td>\n      <td> 2</td>\n    </tr>\n    <tr>\n      <th>74063</th>\n      <td>       Oklahoma</td>\n      <td> 2</td>\n    </tr>\n    <tr>\n      <th>48118</th>\n      <td>       Michigan</td>\n      <td> 1</td>\n    </tr>\n    <tr>\n      <th>65802</th>\n      <td>       Missouri</td>\n      <td> 1</td>\n    </tr>\n    <tr>\n      <th>21401</th>\n      <td>       Maryland</td>\n      <td> 5</td>\n    </tr>\n    <tr>\n      <th>21403</th>\n      <td>       Maryland</td>\n      <td> 1</td>\n    </tr>\n    <tr>\n      <th>78258</th>\n      <td>          Texas</td>\n      <td> 3</td>\n    </tr>\n    <tr>\n      <th>73120</th>\n      <td>       Oklahoma</td>\n      <td> 2</td>\n    </tr>\n    <tr>\n      <th>22180</th>\n      <td>       Virginia</td>\n      <td> 2</td>\n    </tr>\n    <tr>\n      <th>54914</th>\n      <td>      Wisconsin</td>\n      <td> 1</td>\n    </tr>\n    <tr>\n      <th>19403</th>\n      <td>   Pennsylvania</td>\n      <td> 1</td>\n    </tr>\n    <tr>\n      <th>33030</th>\n      <td>        Florida</td>\n      <td> 2</td>\n    </tr>\n    <tr>\n      <th>48895</th>\n      <td>       Michigan</td>\n      <td> 2</td>\n    </tr>\n    <tr>\n      <th>33558</th>\n      <td>        Florida</td>\n      <td> 1</td>\n    </tr>\n    <tr>\n      <th>32653</th>\n      <td>        Florida</td>\n      <td> 1</td>\n    </tr>\n    <tr>\n      <th>33928</th>\n      <td>        Florida</td>\n      <td> 1</td>\n    </tr>\n    <tr>\n      <th>33556</th>\n      <td>        Florida</td>\n      <td> 1</td>\n    </tr>\n    <tr>\n      <th>27409</th>\n      <td> North Carolina</td>\n      <td> 2</td>\n    </tr>\n    <tr>\n      <th>97015</th>\n      <td>         Oregon</td>\n      <td> 3</td>\n    </tr>\n    <tr>\n      <th>94804</th>\n      <td>     California</td>\n      <td> 1</td>\n    </tr>\n    <tr>\n      <th>29451</th>\n      <td> South Carolina</td>\n      <td> 1</td>\n    </tr>\n    <tr>\n      <th>33634</th>\n      <td>        Florida</td>\n      <td> 2</td>\n    </tr>\n    <tr>\n      <th>30677</th>\n      <td>        Georgia</td>\n      <td> 1</td>\n    </tr>\n    <tr>\n      <th>98502</th>\n      <td>     Washington</td>\n      <td> 1</td>\n    </tr>\n    <tr>\n      <th>76110</th>\n      <td>          Texas</td>\n      <td> 1</td>\n    </tr>\n    <tr>\n      <th>60506</th>\n      <td>       Illinois</td>\n      <td> 2</td>\n    </tr>\n    <tr>\n      <th>92117</th>\n      <td>     California</td>\n      <td> 1</td>\n    </tr>\n    <tr>\n      <th>28403</th>\n      <td> North Carolina</td>\n      <td> 2</td>\n    </tr>\n    <tr>\n      <th>39564</th>\n      <td>    Mississippi</td>\n      <td> 1</td>\n    </tr>\n    <tr>\n      <th>97339</th>\n      <td>         Oregon</td>\n      <td> 1</td>\n    </tr>\n    <tr>\n      <th>98105</th>\n      <td>     Washington</td>\n      <td> 4</td>\n    </tr>\n    <tr>\n      <th>30602</th>\n      <td>        Georgia</td>\n      <td> 1</td>\n    </tr>\n    <tr>\n      <th>30606</th>\n      <td>        Georgia</td>\n      <td> 3</td>\n    </tr>\n    <tr>\n      <th>83714</th>\n      <td>          Idaho</td>\n      <td> 2</td>\n    </tr>\n    <tr>\n      <th>97702</th>\n      <td>         Oregon</td>\n      <td> 2</td>\n    </tr>\n    <tr>\n      <th>96790</th>\n      <td>         Hawaii</td>\n      <td> 2</td>\n    </tr>\n    <tr>\n      <th>97526</th>\n      <td>         Oregon</td>\n      <td> 1</td>\n    </tr>\n    <tr>\n      <th>23693</th>\n      <td>       Virginia</td>\n      <td> 1</td>\n    </tr>\n    <tr>\n      <th>99202</th>\n      <td>     Washington</td>\n      <td> 3</td>\n    </tr>\n    <tr>\n      <th>34119</th>\n      <td>        Florida</td>\n      <td> 1</td>\n    </tr>\n    <tr>\n      <th>6897 </th>\n      <td>    Connecticut</td>\n      <td> 2</td>\n    </tr>\n    <tr>\n      <th>99208</th>\n      <td>     Washington</td>\n      <td> 1</td>\n    </tr>\n    <tr>\n      <th>63841</th>\n      <td>       Missouri</td>\n      <td> 1</td>\n    </tr>\n    <tr>\n      <th>2379 </th>\n      <td>  Massachusetts</td>\n      <td> 1</td>\n    </tr>\n    <tr>\n      <th>85021</th>\n      <td>        Arizona</td>\n      <td> 4</td>\n    </tr>\n    <tr>\n      <th>66206</th>\n      <td>         Kansas</td>\n      <td> 1</td>\n    </tr>\n    <tr>\n      <th>97202</th>\n      <td>         Oregon</td>\n      <td> 1</td>\n    </tr>\n    <tr>\n      <th>80110</th>\n      <td>       Colorado</td>\n      <td> 5</td>\n    </tr>\n    <tr>\n      <th>2818 </th>\n      <td>   Rhode Island</td>\n      <td> 1</td>\n    </tr>\n    <tr>\n      <th>77833</th>\n      <td>          Texas</td>\n      <td> 1</td>\n    </tr>\n    <tr>\n      <th>49461</th>\n      <td>       Michigan</td>\n      <td> 1</td>\n    </tr>\n    <tr>\n      <th>23320</th>\n      <td>       Virginia</td>\n      <td> 2</td>\n    </tr>\n    <tr>\n      <th>77084</th>\n      <td>          Texas</td>\n      <td> 1</td>\n    </tr>\n    <tr>\n      <th>99515</th>\n      <td>         Alaska</td>\n      <td> 1</td>\n    </tr>\n    <tr>\n      <th>10023</th>\n      <td>       New York</td>\n      <td> 2</td>\n    </tr>\n    <tr>\n      <th>33071</th>\n      <td>        Florida</td>\n      <td> 2</td>\n    </tr>\n    <tr>\n      <th></th>\n      <td>...</td>\n      <td>...</td>\n    </tr>\n  </tbody>\n</table>\n<p>349 rows \u00d7 2 columns</p>\n</div>",
       "metadata": {},
       "output_type": "pyout",
       "prompt_number": 9,
       "text": "                state  count\nzip                         \n14853        New York      5\n44286            Ohio      2\n33328         Florida      1\n14850        New York      1\n55344       Minnesota      2\n74063        Oklahoma      2\n48118        Michigan      1\n65802        Missouri      1\n21401        Maryland      5\n21403        Maryland      1\n78258           Texas      3\n73120        Oklahoma      2\n22180        Virginia      2\n54914       Wisconsin      1\n19403    Pennsylvania      1\n33030         Florida      2\n48895        Michigan      2\n33558         Florida      1\n32653         Florida      1\n33928         Florida      1\n33556         Florida      1\n27409  North Carolina      2\n97015          Oregon      3\n94804      California      1\n29451  South Carolina      1\n33634         Florida      2\n30677         Georgia      1\n98502      Washington      1\n76110           Texas      1\n60506        Illinois      2\n92117      California      1\n28403  North Carolina      2\n39564     Mississippi      1\n97339          Oregon      1\n98105      Washington      4\n30602         Georgia      1\n30606         Georgia      3\n83714           Idaho      2\n97702          Oregon      2\n96790          Hawaii      2\n97526          Oregon      1\n23693        Virginia      1\n99202      Washington      3\n34119         Florida      1\n6897      Connecticut      2\n99208      Washington      1\n63841        Missouri      1\n2379    Massachusetts      1\n85021         Arizona      4\n66206          Kansas      1\n97202          Oregon      1\n80110        Colorado      5\n2818     Rhode Island      1\n77833           Texas      1\n49461        Michigan      1\n23320        Virginia      2\n77084           Texas      1\n99515          Alaska      1\n10023        New York      2\n33071         Florida      2\n                  ...    ...\n\n[349 rows x 2 columns]"
      }
     ],
     "prompt_number": 9
    },
    {
     "cell_type": "code",
     "collapsed": false,
     "input": "zipdf = zipdf.reset_index()\nzipdf = zipdf.set_index(['fips_county', 'zip'])",
     "language": "python",
     "metadata": {},
     "outputs": [],
     "prompt_number": 10
    },
    {
     "cell_type": "code",
     "collapsed": false,
     "input": "fips_sum = zipdf.sum(level='fips_county')",
     "language": "python",
     "metadata": {},
     "outputs": [],
     "prompt_number": 11
    },
    {
     "cell_type": "code",
     "collapsed": false,
     "input": "fips_count = fips_sum['count']",
     "language": "python",
     "metadata": {},
     "outputs": [],
     "prompt_number": 12
    },
    {
     "cell_type": "code",
     "collapsed": false,
     "input": "fips_count.head(5)",
     "language": "python",
     "metadata": {},
     "outputs": [
      {
       "metadata": {},
       "output_type": "pyout",
       "prompt_number": 13,
       "text": "fips_county\n1073           5\n1089           1\n1097           1\n1117           1\n2020           1\nName: count, dtype: float64"
      }
     ],
     "prompt_number": 13
    },
    {
     "cell_type": "code",
     "collapsed": false,
     "input": "fips_count.to_csv(\"fips_count.txt\")",
     "language": "python",
     "metadata": {},
     "outputs": [],
     "prompt_number": 14
    },
    {
     "cell_type": "markdown",
     "metadata": {},
     "source": "Export county data to SVG county map\n===================================="
    },
    {
     "cell_type": "code",
     "collapsed": false,
     "input": "import csv\nfrom BeautifulSoup import BeautifulSoup",
     "language": "python",
     "metadata": {},
     "outputs": [],
     "prompt_number": 111
    },
    {
     "cell_type": "code",
     "collapsed": false,
     "input": "svg = open('counties.svg', 'r').read()\nsoup = BeautifulSoup(svg, selfClosingTags=['defs','sodipodi:namedview'])\npaths = soup.findAll('path')\ncolors = [\"#6baed6\", \"#3182bd\", \"#08519c\"]\ncolorcount = [0, 0, 0]\npath_style = 'font-size:12px;fill-rule:nonzero;stroke:#FFFFFF;stroke-opacity:1;stroke-width:0.1;stroke-miterlimit:4;stroke-dasharray:none;stroke-linecap:butt;marker-start:none;stroke-linejoin:bevel;fill:'\n\n# Color the counties based on unemployment rate\nfor p in paths:\n    \n    if p['id'] not in [\"State_Lines\", \"separator\"]:\n        # pass\n        try:\n            rate = int(fips_count[p['id']])\n        except:\n            continue\n            \n        if rate > 10:\n            color_class = 2\n        elif rate > 5:\n            color_class = 1\n        else:\n            color_class = 0\n\n\n        color = colors[color_class]\n        colorcount[color_class] = colorcount[color_class]+1;\n        p['style'] = path_style + color",
     "language": "python",
     "metadata": {},
     "outputs": [],
     "prompt_number": 136
    },
    {
     "cell_type": "code",
     "collapsed": false,
     "input": "newcountyfile = open('thematiccounty.svg', 'w+')\nprint >> newcountyfile, soup.prettify()",
     "language": "python",
     "metadata": {},
     "outputs": [],
     "prompt_number": 137
    },
    {
     "cell_type": "code",
     "collapsed": false,
     "input": "colorcount",
     "language": "python",
     "metadata": {},
     "outputs": [
      {
       "metadata": {},
       "output_type": "pyout",
       "prompt_number": 138,
       "text": "[178, 28, 5]"
      }
     ],
     "prompt_number": 138
    },
    {
     "cell_type": "markdown",
     "metadata": {},
     "source": "Stats by County\n================"
    },
    {
     "cell_type": "markdown",
     "metadata": {},
     "source": "Read county file POP1.csv (from http://www.census.gov/support/USACdataDownloads.html) - Population - Total and Selected Characteristics\t"
    },
    {
     "cell_type": "code",
     "collapsed": false,
     "input": "county_pop = pd.read_csv(\"POP01.csv\", \n                         dtype={\"STCOU\": str},\n                         usecols=[\"STCOU\", \"POP010210D\"])\ncounty_density = pd.read_csv(\"popdensity.csv\",\n                             dtype={\"STCOU\": str},\n                             usecols=[\"STCOU\", \"POP060210D\"])",
     "language": "python",
     "metadata": {},
     "outputs": [],
     "prompt_number": 28
    },
    {
     "cell_type": "code",
     "collapsed": false,
     "input": "county_pop.columns = ['fips_code', 'population']\ncounty_pop.head()\ncounty_density.columns = ['fips_code', 'pop_density']\ncounty_density.head()",
     "language": "python",
     "metadata": {},
     "outputs": [
      {
       "html": "<div style=\"max-height:1000px;max-width:1500px;overflow:auto;\">\n<table border=\"1\" class=\"dataframe\">\n  <thead>\n    <tr style=\"text-align: right;\">\n      <th></th>\n      <th>fips_code</th>\n      <th>pop_density</th>\n    </tr>\n  </thead>\n  <tbody>\n    <tr>\n      <th>0</th>\n      <td> 00000</td>\n      <td>  87.4</td>\n    </tr>\n    <tr>\n      <th>1</th>\n      <td> 01000</td>\n      <td>  94.4</td>\n    </tr>\n    <tr>\n      <th>2</th>\n      <td> 01001</td>\n      <td>  91.8</td>\n    </tr>\n    <tr>\n      <th>3</th>\n      <td> 01003</td>\n      <td> 114.6</td>\n    </tr>\n    <tr>\n      <th>4</th>\n      <td> 01005</td>\n      <td>  31.0</td>\n    </tr>\n  </tbody>\n</table>\n<p>5 rows \u00d7 2 columns</p>\n</div>",
       "metadata": {},
       "output_type": "pyout",
       "prompt_number": 34,
       "text": "  fips_code  pop_density\n0     00000         87.4\n1     01000         94.4\n2     01001         91.8\n3     01003        114.6\n4     01005         31.0\n\n[5 rows x 2 columns]"
      }
     ],
     "prompt_number": 34
    },
    {
     "cell_type": "code",
     "collapsed": false,
     "input": "county_info = pd.merge(county_pop, county_density)",
     "language": "python",
     "metadata": {},
     "outputs": [],
     "prompt_number": 38
    },
    {
     "cell_type": "code",
     "collapsed": false,
     "input": "county_info.head()",
     "language": "python",
     "metadata": {},
     "outputs": [
      {
       "html": "<div style=\"max-height:1000px;max-width:1500px;overflow:auto;\">\n<table border=\"1\" class=\"dataframe\">\n  <thead>\n    <tr style=\"text-align: right;\">\n      <th></th>\n      <th>fips_code</th>\n      <th>population</th>\n      <th>pop_density</th>\n    </tr>\n  </thead>\n  <tbody>\n    <tr>\n      <th>0</th>\n      <td> 00000</td>\n      <td> 308745538</td>\n      <td>  87.4</td>\n    </tr>\n    <tr>\n      <th>1</th>\n      <td> 01000</td>\n      <td>   4779736</td>\n      <td>  94.4</td>\n    </tr>\n    <tr>\n      <th>2</th>\n      <td> 01001</td>\n      <td>     54571</td>\n      <td>  91.8</td>\n    </tr>\n    <tr>\n      <th>3</th>\n      <td> 01003</td>\n      <td>    182265</td>\n      <td> 114.6</td>\n    </tr>\n    <tr>\n      <th>4</th>\n      <td> 01005</td>\n      <td>     27457</td>\n      <td>  31.0</td>\n    </tr>\n  </tbody>\n</table>\n<p>5 rows \u00d7 3 columns</p>\n</div>",
       "metadata": {},
       "output_type": "pyout",
       "prompt_number": 44,
       "text": "  fips_code  population  pop_density\n0     00000   308745538         87.4\n1     01000     4779736         94.4\n2     01001       54571         91.8\n3     01003      182265        114.6\n4     01005       27457         31.0\n\n[5 rows x 3 columns]"
      }
     ],
     "prompt_number": 44
    },
    {
     "cell_type": "code",
     "collapsed": false,
     "input": "acvodips = pd.read_csv(\"results.csv\", dtype={\"fips_county\": str})",
     "language": "python",
     "metadata": {},
     "outputs": [],
     "prompt_number": 39
    },
    {
     "cell_type": "code",
     "collapsed": false,
     "input": "acvodips[acvodips[\"fips_county\"] == \"04013\"]",
     "language": "python",
     "metadata": {},
     "outputs": [
      {
       "html": "<div style=\"max-height:1000px;max-width:1500px;overflow:auto;\">\n<table border=\"1\" class=\"dataframe\">\n  <thead>\n    <tr style=\"text-align: right;\">\n      <th></th>\n      <th>zip</th>\n      <th>count</th>\n      <th>lat</th>\n      <th>long</th>\n      <th>fips_county</th>\n      <th>county_name</th>\n      <th>state</th>\n    </tr>\n  </thead>\n  <tbody>\n    <tr>\n      <th>48 </th>\n      <td> 85021</td>\n      <td> 4</td>\n      <td> 33.563442</td>\n      <td>-112.089368</td>\n      <td> 04013</td>\n      <td> Maricopa</td>\n      <td> Arizona</td>\n    </tr>\n    <tr>\n      <th>138</th>\n      <td> 85233</td>\n      <td> 2</td>\n      <td> 33.351930</td>\n      <td>-111.821087</td>\n      <td> 04013</td>\n      <td> Maricopa</td>\n      <td> Arizona</td>\n    </tr>\n    <tr>\n      <th>139</th>\n      <td> 85331</td>\n      <td> 1</td>\n      <td> 33.875240</td>\n      <td>-111.928402</td>\n      <td> 04013</td>\n      <td> Maricopa</td>\n      <td> Arizona</td>\n    </tr>\n    <tr>\n      <th>192</th>\n      <td> 85392</td>\n      <td> 2</td>\n      <td> 33.476352</td>\n      <td>-112.298012</td>\n      <td> 04013</td>\n      <td> Maricopa</td>\n      <td> Arizona</td>\n    </tr>\n    <tr>\n      <th>310</th>\n      <td> 85251</td>\n      <td> 1</td>\n      <td> 33.498629</td>\n      <td>-111.922440</td>\n      <td> 04013</td>\n      <td> Maricopa</td>\n      <td> Arizona</td>\n    </tr>\n    <tr>\n      <th>311</th>\n      <td> 85250</td>\n      <td> 4</td>\n      <td> 33.524364</td>\n      <td>-111.898592</td>\n      <td> 04013</td>\n      <td> Maricopa</td>\n      <td> Arizona</td>\n    </tr>\n    <tr>\n      <th>312</th>\n      <td> 85254</td>\n      <td> 2</td>\n      <td> 33.607183</td>\n      <td>-111.940325</td>\n      <td> 04013</td>\n      <td> Maricopa</td>\n      <td> Arizona</td>\n    </tr>\n  </tbody>\n</table>\n<p>7 rows \u00d7 7 columns</p>\n</div>",
       "metadata": {},
       "output_type": "pyout",
       "prompt_number": 67,
       "text": "       zip  count        lat        long fips_county county_name    state\n48   85021      4  33.563442 -112.089368       04013    Maricopa  Arizona\n138  85233      2  33.351930 -111.821087       04013    Maricopa  Arizona\n139  85331      1  33.875240 -111.928402       04013    Maricopa  Arizona\n192  85392      2  33.476352 -112.298012       04013    Maricopa  Arizona\n310  85251      1  33.498629 -111.922440       04013    Maricopa  Arizona\n311  85250      4  33.524364 -111.898592       04013    Maricopa  Arizona\n312  85254      2  33.607183 -111.940325       04013    Maricopa  Arizona\n\n[7 rows x 7 columns]"
      }
     ],
     "prompt_number": 67
    },
    {
     "cell_type": "code",
     "collapsed": false,
     "input": "countbycounty = acvodips[[\"fips_county\", \"count\"]].groupby(\"fips_county\")",
     "language": "python",
     "metadata": {},
     "outputs": [],
     "prompt_number": 57
    },
    {
     "cell_type": "code",
     "collapsed": false,
     "input": "countbycounty = countbycounty.sum()",
     "language": "python",
     "metadata": {},
     "outputs": [],
     "prompt_number": 68
    },
    {
     "cell_type": "code",
     "collapsed": false,
     "input": "countbycounty",
     "language": "python",
     "metadata": {},
     "outputs": [
      {
       "html": "<div style=\"max-height:1000px;max-width:1500px;overflow:auto;\">\n<table border=\"1\" class=\"dataframe\">\n  <thead>\n    <tr style=\"text-align: right;\">\n      <th></th>\n      <th>count</th>\n    </tr>\n    <tr>\n      <th>fips_county</th>\n      <th></th>\n    </tr>\n  </thead>\n  <tbody>\n    <tr>\n      <th>01073</th>\n      <td>  5</td>\n    </tr>\n    <tr>\n      <th>01089</th>\n      <td>  1</td>\n    </tr>\n    <tr>\n      <th>01097</th>\n      <td>  1</td>\n    </tr>\n    <tr>\n      <th>01117</th>\n      <td>  1</td>\n    </tr>\n    <tr>\n      <th>02020</th>\n      <td>  1</td>\n    </tr>\n    <tr>\n      <th>04013</th>\n      <td> 16</td>\n    </tr>\n    <tr>\n      <th>04019</th>\n      <td>  5</td>\n    </tr>\n    <tr>\n      <th>06001</th>\n      <td>  3</td>\n    </tr>\n    <tr>\n      <th>06013</th>\n      <td>  9</td>\n    </tr>\n    <tr>\n      <th>06037</th>\n      <td> 15</td>\n    </tr>\n    <tr>\n      <th>06041</th>\n      <td>  2</td>\n    </tr>\n    <tr>\n      <th>06059</th>\n      <td>  6</td>\n    </tr>\n    <tr>\n      <th>06061</th>\n      <td>  3</td>\n    </tr>\n    <tr>\n      <th>06065</th>\n      <td>  1</td>\n    </tr>\n    <tr>\n      <th>06067</th>\n      <td>  2</td>\n    </tr>\n    <tr>\n      <th>06073</th>\n      <td>  9</td>\n    </tr>\n    <tr>\n      <th>06075</th>\n      <td>  3</td>\n    </tr>\n    <tr>\n      <th>06077</th>\n      <td>  3</td>\n    </tr>\n    <tr>\n      <th>06079</th>\n      <td>  2</td>\n    </tr>\n    <tr>\n      <th>06081</th>\n      <td>  8</td>\n    </tr>\n    <tr>\n      <th>06085</th>\n      <td>  5</td>\n    </tr>\n    <tr>\n      <th>06087</th>\n      <td>  2</td>\n    </tr>\n    <tr>\n      <th>06095</th>\n      <td> 11</td>\n    </tr>\n    <tr>\n      <th>06097</th>\n      <td>  4</td>\n    </tr>\n    <tr>\n      <th>06111</th>\n      <td>  3</td>\n    </tr>\n    <tr>\n      <th>06113</th>\n      <td>  1</td>\n    </tr>\n    <tr>\n      <th>08005</th>\n      <td>  5</td>\n    </tr>\n    <tr>\n      <th>08031</th>\n      <td>  2</td>\n    </tr>\n    <tr>\n      <th>08041</th>\n      <td>  1</td>\n    </tr>\n    <tr>\n      <th>08059</th>\n      <td>  1</td>\n    </tr>\n    <tr>\n      <th>08069</th>\n      <td>  9</td>\n    </tr>\n    <tr>\n      <th>09001</th>\n      <td>  5</td>\n    </tr>\n    <tr>\n      <th>09009</th>\n      <td>  1</td>\n    </tr>\n    <tr>\n      <th>10003</th>\n      <td>  2</td>\n    </tr>\n    <tr>\n      <th>12001</th>\n      <td>  5</td>\n    </tr>\n    <tr>\n      <th>12011</th>\n      <td>  6</td>\n    </tr>\n    <tr>\n      <th>12019</th>\n      <td>  3</td>\n    </tr>\n    <tr>\n      <th>12021</th>\n      <td>  1</td>\n    </tr>\n    <tr>\n      <th>12031</th>\n      <td>  3</td>\n    </tr>\n    <tr>\n      <th>12057</th>\n      <td>  6</td>\n    </tr>\n    <tr>\n      <th>12071</th>\n      <td>  1</td>\n    </tr>\n    <tr>\n      <th>12083</th>\n      <td>  1</td>\n    </tr>\n    <tr>\n      <th>12085</th>\n      <td>  1</td>\n    </tr>\n    <tr>\n      <th>12086</th>\n      <td>  4</td>\n    </tr>\n    <tr>\n      <th>12095</th>\n      <td>  5</td>\n    </tr>\n    <tr>\n      <th>12099</th>\n      <td>  8</td>\n    </tr>\n    <tr>\n      <th>12103</th>\n      <td>  2</td>\n    </tr>\n    <tr>\n      <th>12105</th>\n      <td>  1</td>\n    </tr>\n    <tr>\n      <th>12115</th>\n      <td>  4</td>\n    </tr>\n    <tr>\n      <th>12131</th>\n      <td>  2</td>\n    </tr>\n    <tr>\n      <th>13051</th>\n      <td>  2</td>\n    </tr>\n    <tr>\n      <th>13059</th>\n      <td>  4</td>\n    </tr>\n    <tr>\n      <th>13113</th>\n      <td>  2</td>\n    </tr>\n    <tr>\n      <th>13121</th>\n      <td>  4</td>\n    </tr>\n    <tr>\n      <th>13219</th>\n      <td>  1</td>\n    </tr>\n    <tr>\n      <th>15003</th>\n      <td>  1</td>\n    </tr>\n    <tr>\n      <th>15009</th>\n      <td>  2</td>\n    </tr>\n    <tr>\n      <th>16001</th>\n      <td>  2</td>\n    </tr>\n    <tr>\n      <th>16027</th>\n      <td>  1</td>\n    </tr>\n    <tr>\n      <th>16059</th>\n      <td>  1</td>\n    </tr>\n    <tr>\n      <th></th>\n      <td>...</td>\n    </tr>\n  </tbody>\n</table>\n<p>201 rows \u00d7 1 columns</p>\n</div>",
       "metadata": {},
       "output_type": "pyout",
       "prompt_number": 101,
       "text": "             count\nfips_county       \n01073            5\n01089            1\n01097            1\n01117            1\n02020            1\n04013           16\n04019            5\n06001            3\n06013            9\n06037           15\n06041            2\n06059            6\n06061            3\n06065            1\n06067            2\n06073            9\n06075            3\n06077            3\n06079            2\n06081            8\n06085            5\n06087            2\n06095           11\n06097            4\n06111            3\n06113            1\n08005            5\n08031            2\n08041            1\n08059            1\n08069            9\n09001            5\n09009            1\n10003            2\n12001            5\n12011            6\n12019            3\n12021            1\n12031            3\n12057            6\n12071            1\n12083            1\n12085            1\n12086            4\n12095            5\n12099            8\n12103            2\n12105            1\n12115            4\n12131            2\n13051            2\n13059            4\n13113            2\n13121            4\n13219            1\n15003            1\n15009            2\n16001            2\n16027            1\n16059            1\n               ...\n\n[201 rows x 1 columns]"
      }
     ],
     "prompt_number": 101
    },
    {
     "cell_type": "code",
     "collapsed": false,
     "input": "fcs = acvodips[[\"fips_county\", \"county_name\", \"state\"]]",
     "language": "python",
     "metadata": {},
     "outputs": [],
     "prompt_number": 93
    },
    {
     "cell_type": "code",
     "collapsed": false,
     "input": "fcs = fcs.drop_duplicates()",
     "language": "python",
     "metadata": {},
     "outputs": [],
     "prompt_number": 97
    },
    {
     "cell_type": "code",
     "collapsed": false,
     "input": "fcs",
     "language": "python",
     "metadata": {},
     "outputs": [
      {
       "html": "<div style=\"max-height:1000px;max-width:1500px;overflow:auto;\">\n<table border=\"1\" class=\"dataframe\">\n  <thead>\n    <tr style=\"text-align: right;\">\n      <th></th>\n      <th>fips_county</th>\n      <th>county_name</th>\n      <th>state</th>\n    </tr>\n  </thead>\n  <tbody>\n    <tr>\n      <th>0 </th>\n      <td> 36109</td>\n      <td>         Tompkins</td>\n      <td>       New York</td>\n    </tr>\n    <tr>\n      <th>1 </th>\n      <td> 39153</td>\n      <td>           Summit</td>\n      <td>           Ohio</td>\n    </tr>\n    <tr>\n      <th>2 </th>\n      <td> 12011</td>\n      <td>          Broward</td>\n      <td>        Florida</td>\n    </tr>\n    <tr>\n      <th>4 </th>\n      <td> 27053</td>\n      <td>         Hennepin</td>\n      <td>      Minnesota</td>\n    </tr>\n    <tr>\n      <th>5 </th>\n      <td> 40143</td>\n      <td>            Tulsa</td>\n      <td>       Oklahoma</td>\n    </tr>\n    <tr>\n      <th>6 </th>\n      <td> 26161</td>\n      <td>        Washtenaw</td>\n      <td>       Michigan</td>\n    </tr>\n    <tr>\n      <th>7 </th>\n      <td> 29077</td>\n      <td>           Greene</td>\n      <td>       Missouri</td>\n    </tr>\n    <tr>\n      <th>8 </th>\n      <td> 24003</td>\n      <td>     Anne Arundel</td>\n      <td>       Maryland</td>\n    </tr>\n    <tr>\n      <th>10</th>\n      <td> 48029</td>\n      <td>            Bexar</td>\n      <td>          Texas</td>\n    </tr>\n    <tr>\n      <th>11</th>\n      <td> 40109</td>\n      <td>         Oklahoma</td>\n      <td>       Oklahoma</td>\n    </tr>\n    <tr>\n      <th>12</th>\n      <td> 51059</td>\n      <td>          Fairfax</td>\n      <td>       Virginia</td>\n    </tr>\n    <tr>\n      <th>13</th>\n      <td> 55087</td>\n      <td>        Outagamie</td>\n      <td>      Wisconsin</td>\n    </tr>\n    <tr>\n      <th>14</th>\n      <td> 42091</td>\n      <td>       Montgomery</td>\n      <td>   Pennsylvania</td>\n    </tr>\n    <tr>\n      <th>15</th>\n      <td> 12086</td>\n      <td>       Miami-Dade</td>\n      <td>        Florida</td>\n    </tr>\n    <tr>\n      <th>16</th>\n      <td> 26065</td>\n      <td>           Ingham</td>\n      <td>       Michigan</td>\n    </tr>\n    <tr>\n      <th>17</th>\n      <td> 12057</td>\n      <td>     Hillsborough</td>\n      <td>        Florida</td>\n    </tr>\n    <tr>\n      <th>18</th>\n      <td> 12001</td>\n      <td>          Alachua</td>\n      <td>        Florida</td>\n    </tr>\n    <tr>\n      <th>19</th>\n      <td> 12071</td>\n      <td>              Lee</td>\n      <td>        Florida</td>\n    </tr>\n    <tr>\n      <th>21</th>\n      <td> 37081</td>\n      <td>         Guilford</td>\n      <td> North Carolina</td>\n    </tr>\n    <tr>\n      <th>22</th>\n      <td> 41005</td>\n      <td>        Clackamas</td>\n      <td>         Oregon</td>\n    </tr>\n    <tr>\n      <th>23</th>\n      <td> 06013</td>\n      <td>     Contra Costa</td>\n      <td>     California</td>\n    </tr>\n    <tr>\n      <th>24</th>\n      <td> 45019</td>\n      <td>       Charleston</td>\n      <td> South Carolina</td>\n    </tr>\n    <tr>\n      <th>26</th>\n      <td> 13219</td>\n      <td>           Oconee</td>\n      <td>        Georgia</td>\n    </tr>\n    <tr>\n      <th>27</th>\n      <td> 53067</td>\n      <td>         Thurston</td>\n      <td>     Washington</td>\n    </tr>\n    <tr>\n      <th>28</th>\n      <td> 48439</td>\n      <td>          Tarrant</td>\n      <td>          Texas</td>\n    </tr>\n    <tr>\n      <th>29</th>\n      <td> 17089</td>\n      <td>             Kane</td>\n      <td>       Illinois</td>\n    </tr>\n    <tr>\n      <th>30</th>\n      <td> 06073</td>\n      <td>        San Diego</td>\n      <td>     California</td>\n    </tr>\n    <tr>\n      <th>31</th>\n      <td> 37129</td>\n      <td>      New Hanover</td>\n      <td> North Carolina</td>\n    </tr>\n    <tr>\n      <th>32</th>\n      <td> 28059</td>\n      <td>          Jackson</td>\n      <td>    Mississippi</td>\n    </tr>\n    <tr>\n      <th>33</th>\n      <td> 41003</td>\n      <td>           Benton</td>\n      <td>         Oregon</td>\n    </tr>\n    <tr>\n      <th>34</th>\n      <td> 53033</td>\n      <td>             King</td>\n      <td>     Washington</td>\n    </tr>\n    <tr>\n      <th>35</th>\n      <td> 13059</td>\n      <td>           Clarke</td>\n      <td>        Georgia</td>\n    </tr>\n    <tr>\n      <th>37</th>\n      <td> 16001</td>\n      <td>              Ada</td>\n      <td>          Idaho</td>\n    </tr>\n    <tr>\n      <th>38</th>\n      <td> 41017</td>\n      <td>        Deschutes</td>\n      <td>         Oregon</td>\n    </tr>\n    <tr>\n      <th>39</th>\n      <td> 15009</td>\n      <td>             Maui</td>\n      <td>         Hawaii</td>\n    </tr>\n    <tr>\n      <th>40</th>\n      <td> 41033</td>\n      <td>        Josephine</td>\n      <td>         Oregon</td>\n    </tr>\n    <tr>\n      <th>41</th>\n      <td> 51199</td>\n      <td>             York</td>\n      <td>       Virginia</td>\n    </tr>\n    <tr>\n      <th>42</th>\n      <td> 53063</td>\n      <td>          Spokane</td>\n      <td>     Washington</td>\n    </tr>\n    <tr>\n      <th>43</th>\n      <td> 12021</td>\n      <td>          Collier</td>\n      <td>        Florida</td>\n    </tr>\n    <tr>\n      <th>44</th>\n      <td> 09001</td>\n      <td>        Fairfield</td>\n      <td>    Connecticut</td>\n    </tr>\n    <tr>\n      <th>46</th>\n      <td> 29207</td>\n      <td>         Stoddard</td>\n      <td>       Missouri</td>\n    </tr>\n    <tr>\n      <th>47</th>\n      <td> 25023</td>\n      <td>         Plymouth</td>\n      <td>  Massachusetts</td>\n    </tr>\n    <tr>\n      <th>48</th>\n      <td> 04013</td>\n      <td>         Maricopa</td>\n      <td>        Arizona</td>\n    </tr>\n    <tr>\n      <th>49</th>\n      <td> 20091</td>\n      <td>          Johnson</td>\n      <td>         Kansas</td>\n    </tr>\n    <tr>\n      <th>50</th>\n      <td> 41051</td>\n      <td>        Multnomah</td>\n      <td>         Oregon</td>\n    </tr>\n    <tr>\n      <th>51</th>\n      <td> 08005</td>\n      <td>         Arapahoe</td>\n      <td>       Colorado</td>\n    </tr>\n    <tr>\n      <th>52</th>\n      <td> 44003</td>\n      <td>             Kent</td>\n      <td>   Rhode Island</td>\n    </tr>\n    <tr>\n      <th>53</th>\n      <td> 48477</td>\n      <td>       Washington</td>\n      <td>          Texas</td>\n    </tr>\n    <tr>\n      <th>54</th>\n      <td> 26121</td>\n      <td>         Muskegon</td>\n      <td>       Michigan</td>\n    </tr>\n    <tr>\n      <th>55</th>\n      <td> 51550</td>\n      <td>       Chesapeake</td>\n      <td>       Virginia</td>\n    </tr>\n    <tr>\n      <th>56</th>\n      <td> 48201</td>\n      <td>           Harris</td>\n      <td>          Texas</td>\n    </tr>\n    <tr>\n      <th>57</th>\n      <td> 02020</td>\n      <td>        Anchorage</td>\n      <td>         Alaska</td>\n    </tr>\n    <tr>\n      <th>58</th>\n      <td> 36061</td>\n      <td>         New York</td>\n      <td>       New York</td>\n    </tr>\n    <tr>\n      <th>60</th>\n      <td> 36055</td>\n      <td>           Monroe</td>\n      <td>       New York</td>\n    </tr>\n    <tr>\n      <th>63</th>\n      <td> 22033</td>\n      <td> East Baton Rouge</td>\n      <td>      Louisiana</td>\n    </tr>\n    <tr>\n      <th>64</th>\n      <td> 39151</td>\n      <td>            Stark</td>\n      <td>           Ohio</td>\n    </tr>\n    <tr>\n      <th>65</th>\n      <td> 06061</td>\n      <td>           Placer</td>\n      <td>     California</td>\n    </tr>\n    <tr>\n      <th>66</th>\n      <td> 12103</td>\n      <td>         Pinellas</td>\n      <td>        Florida</td>\n    </tr>\n    <tr>\n      <th>67</th>\n      <td> 27003</td>\n      <td>            Anoka</td>\n      <td>      Minnesota</td>\n    </tr>\n    <tr>\n      <th>68</th>\n      <td> 36023</td>\n      <td>         Cortland</td>\n      <td>       New York</td>\n    </tr>\n    <tr>\n      <th></th>\n      <td>...</td>\n      <td>...</td>\n      <td>...</td>\n    </tr>\n  </tbody>\n</table>\n<p>201 rows \u00d7 3 columns</p>\n</div>",
       "metadata": {},
       "output_type": "pyout",
       "prompt_number": 98,
       "text": "   fips_county       county_name           state\n0        36109          Tompkins        New York\n1        39153            Summit            Ohio\n2        12011           Broward         Florida\n4        27053          Hennepin       Minnesota\n5        40143             Tulsa        Oklahoma\n6        26161         Washtenaw        Michigan\n7        29077            Greene        Missouri\n8        24003      Anne Arundel        Maryland\n10       48029             Bexar           Texas\n11       40109          Oklahoma        Oklahoma\n12       51059           Fairfax        Virginia\n13       55087         Outagamie       Wisconsin\n14       42091        Montgomery    Pennsylvania\n15       12086        Miami-Dade         Florida\n16       26065            Ingham        Michigan\n17       12057      Hillsborough         Florida\n18       12001           Alachua         Florida\n19       12071               Lee         Florida\n21       37081          Guilford  North Carolina\n22       41005         Clackamas          Oregon\n23       06013      Contra Costa      California\n24       45019        Charleston  South Carolina\n26       13219            Oconee         Georgia\n27       53067          Thurston      Washington\n28       48439           Tarrant           Texas\n29       17089              Kane        Illinois\n30       06073         San Diego      California\n31       37129       New Hanover  North Carolina\n32       28059           Jackson     Mississippi\n33       41003            Benton          Oregon\n34       53033              King      Washington\n35       13059            Clarke         Georgia\n37       16001               Ada           Idaho\n38       41017         Deschutes          Oregon\n39       15009              Maui          Hawaii\n40       41033         Josephine          Oregon\n41       51199              York        Virginia\n42       53063           Spokane      Washington\n43       12021           Collier         Florida\n44       09001         Fairfield     Connecticut\n46       29207          Stoddard        Missouri\n47       25023          Plymouth   Massachusetts\n48       04013          Maricopa         Arizona\n49       20091           Johnson          Kansas\n50       41051         Multnomah          Oregon\n51       08005          Arapahoe        Colorado\n52       44003              Kent    Rhode Island\n53       48477        Washington           Texas\n54       26121          Muskegon        Michigan\n55       51550        Chesapeake        Virginia\n56       48201            Harris           Texas\n57       02020         Anchorage          Alaska\n58       36061          New York        New York\n60       36055            Monroe        New York\n63       22033  East Baton Rouge       Louisiana\n64       39151             Stark            Ohio\n65       06061            Placer      California\n66       12103          Pinellas         Florida\n67       27003             Anoka       Minnesota\n68       36023          Cortland        New York\n           ...               ...             ...\n\n[201 rows x 3 columns]"
      }
     ],
     "prompt_number": 98
    },
    {
     "cell_type": "code",
     "collapsed": false,
     "input": "acvo_by_county = pd.merge(countbycounty, fcs, left_index=True, right_on=\"fips_county\")\n# acvo_by_county - fips_county, count, county_pop, county_density",
     "language": "python",
     "metadata": {},
     "outputs": [],
     "prompt_number": 106
    },
    {
     "cell_type": "code",
     "collapsed": false,
     "input": "",
     "language": "python",
     "metadata": {},
     "outputs": [
      {
       "html": "<div style=\"max-height:1000px;max-width:1500px;overflow:auto;\">\n<table border=\"1\" class=\"dataframe\">\n  <thead>\n    <tr style=\"text-align: right;\">\n      <th></th>\n      <th>count</th>\n      <th>fips_county</th>\n      <th>county_name</th>\n      <th>state</th>\n    </tr>\n  </thead>\n  <tbody>\n    <tr>\n      <th>180</th>\n      <td>  5</td>\n      <td> 01073</td>\n      <td>       Jefferson</td>\n      <td>     Alabama</td>\n    </tr>\n    <tr>\n      <th>167</th>\n      <td>  1</td>\n      <td> 01089</td>\n      <td>         Madison</td>\n      <td>     Alabama</td>\n    </tr>\n    <tr>\n      <th>307</th>\n      <td>  1</td>\n      <td> 01097</td>\n      <td>          Mobile</td>\n      <td>     Alabama</td>\n    </tr>\n    <tr>\n      <th>268</th>\n      <td>  1</td>\n      <td> 01117</td>\n      <td>          Shelby</td>\n      <td>     Alabama</td>\n    </tr>\n    <tr>\n      <th>57 </th>\n      <td>  1</td>\n      <td> 02020</td>\n      <td>       Anchorage</td>\n      <td>      Alaska</td>\n    </tr>\n    <tr>\n      <th>48 </th>\n      <td> 16</td>\n      <td> 04013</td>\n      <td>        Maricopa</td>\n      <td>     Arizona</td>\n    </tr>\n    <tr>\n      <th>122</th>\n      <td>  5</td>\n      <td> 04019</td>\n      <td>            Pima</td>\n      <td>     Arizona</td>\n    </tr>\n    <tr>\n      <th>346</th>\n      <td>  3</td>\n      <td> 06001</td>\n      <td>         Alameda</td>\n      <td>  California</td>\n    </tr>\n    <tr>\n      <th>23 </th>\n      <td>  9</td>\n      <td> 06013</td>\n      <td>    Contra Costa</td>\n      <td>  California</td>\n    </tr>\n    <tr>\n      <th>87 </th>\n      <td> 15</td>\n      <td> 06037</td>\n      <td>     Los Angeles</td>\n      <td>  California</td>\n    </tr>\n    <tr>\n      <th>75 </th>\n      <td>  2</td>\n      <td> 06041</td>\n      <td>           Marin</td>\n      <td>  California</td>\n    </tr>\n    <tr>\n      <th>162</th>\n      <td>  6</td>\n      <td> 06059</td>\n      <td>          Orange</td>\n      <td>  California</td>\n    </tr>\n    <tr>\n      <th>65 </th>\n      <td>  3</td>\n      <td> 06061</td>\n      <td>          Placer</td>\n      <td>  California</td>\n    </tr>\n    <tr>\n      <th>166</th>\n      <td>  1</td>\n      <td> 06065</td>\n      <td>       Riverside</td>\n      <td>  California</td>\n    </tr>\n    <tr>\n      <th>324</th>\n      <td>  2</td>\n      <td> 06067</td>\n      <td>      Sacramento</td>\n      <td>  California</td>\n    </tr>\n    <tr>\n      <th>30 </th>\n      <td>  9</td>\n      <td> 06073</td>\n      <td>       San Diego</td>\n      <td>  California</td>\n    </tr>\n    <tr>\n      <th>103</th>\n      <td>  3</td>\n      <td> 06075</td>\n      <td>   San Francisco</td>\n      <td>  California</td>\n    </tr>\n    <tr>\n      <th>319</th>\n      <td>  3</td>\n      <td> 06077</td>\n      <td>     San Joaquin</td>\n      <td>  California</td>\n    </tr>\n    <tr>\n      <th>294</th>\n      <td>  2</td>\n      <td> 06079</td>\n      <td> San Luis Obispo</td>\n      <td>  California</td>\n    </tr>\n    <tr>\n      <th>271</th>\n      <td>  8</td>\n      <td> 06081</td>\n      <td>       San Mateo</td>\n      <td>  California</td>\n    </tr>\n    <tr>\n      <th>128</th>\n      <td>  5</td>\n      <td> 06085</td>\n      <td>     Santa Clara</td>\n      <td>  California</td>\n    </tr>\n    <tr>\n      <th>88 </th>\n      <td>  2</td>\n      <td> 06087</td>\n      <td>      Santa Cruz</td>\n      <td>  California</td>\n    </tr>\n    <tr>\n      <th>266</th>\n      <td> 11</td>\n      <td> 06095</td>\n      <td>          Solano</td>\n      <td>  California</td>\n    </tr>\n    <tr>\n      <th>317</th>\n      <td>  4</td>\n      <td> 06097</td>\n      <td>          Sonoma</td>\n      <td>  California</td>\n    </tr>\n    <tr>\n      <th>296</th>\n      <td>  3</td>\n      <td> 06111</td>\n      <td>         Ventura</td>\n      <td>  California</td>\n    </tr>\n    <tr>\n      <th>286</th>\n      <td>  1</td>\n      <td> 06113</td>\n      <td>            Yolo</td>\n      <td>  California</td>\n    </tr>\n    <tr>\n      <th>51 </th>\n      <td>  5</td>\n      <td> 08005</td>\n      <td>        Arapahoe</td>\n      <td>    Colorado</td>\n    </tr>\n    <tr>\n      <th>196</th>\n      <td>  2</td>\n      <td> 08031</td>\n      <td>          Denver</td>\n      <td>    Colorado</td>\n    </tr>\n    <tr>\n      <th>237</th>\n      <td>  1</td>\n      <td> 08041</td>\n      <td>         El Paso</td>\n      <td>    Colorado</td>\n    </tr>\n    <tr>\n      <th>212</th>\n      <td>  1</td>\n      <td> 08059</td>\n      <td>       Jefferson</td>\n      <td>    Colorado</td>\n    </tr>\n    <tr>\n      <th>106</th>\n      <td>  9</td>\n      <td> 08069</td>\n      <td>         Larimer</td>\n      <td>    Colorado</td>\n    </tr>\n    <tr>\n      <th>44 </th>\n      <td>  5</td>\n      <td> 09001</td>\n      <td>       Fairfield</td>\n      <td> Connecticut</td>\n    </tr>\n    <tr>\n      <th>238</th>\n      <td>  1</td>\n      <td> 09009</td>\n      <td>       New Haven</td>\n      <td> Connecticut</td>\n    </tr>\n    <tr>\n      <th>280</th>\n      <td>  2</td>\n      <td> 10003</td>\n      <td>      New Castle</td>\n      <td>    Delaware</td>\n    </tr>\n    <tr>\n      <th>18 </th>\n      <td>  5</td>\n      <td> 12001</td>\n      <td>         Alachua</td>\n      <td>     Florida</td>\n    </tr>\n    <tr>\n      <th>2  </th>\n      <td>  6</td>\n      <td> 12011</td>\n      <td>         Broward</td>\n      <td>     Florida</td>\n    </tr>\n    <tr>\n      <th>246</th>\n      <td>  3</td>\n      <td> 12019</td>\n      <td>            Clay</td>\n      <td>     Florida</td>\n    </tr>\n    <tr>\n      <th>43 </th>\n      <td>  1</td>\n      <td> 12021</td>\n      <td>         Collier</td>\n      <td>     Florida</td>\n    </tr>\n    <tr>\n      <th>131</th>\n      <td>  3</td>\n      <td> 12031</td>\n      <td>           Duval</td>\n      <td>     Florida</td>\n    </tr>\n    <tr>\n      <th>17 </th>\n      <td>  6</td>\n      <td> 12057</td>\n      <td>    Hillsborough</td>\n      <td>     Florida</td>\n    </tr>\n    <tr>\n      <th>19 </th>\n      <td>  1</td>\n      <td> 12071</td>\n      <td>             Lee</td>\n      <td>     Florida</td>\n    </tr>\n    <tr>\n      <th>92 </th>\n      <td>  1</td>\n      <td> 12083</td>\n      <td>          Marion</td>\n      <td>     Florida</td>\n    </tr>\n    <tr>\n      <th>144</th>\n      <td>  1</td>\n      <td> 12085</td>\n      <td>          Martin</td>\n      <td>     Florida</td>\n    </tr>\n    <tr>\n      <th>15 </th>\n      <td>  4</td>\n      <td> 12086</td>\n      <td>      Miami-Dade</td>\n      <td>     Florida</td>\n    </tr>\n    <tr>\n      <th>77 </th>\n      <td>  5</td>\n      <td> 12095</td>\n      <td>          Orange</td>\n      <td>     Florida</td>\n    </tr>\n    <tr>\n      <th>231</th>\n      <td>  8</td>\n      <td> 12099</td>\n      <td>      Palm Beach</td>\n      <td>     Florida</td>\n    </tr>\n    <tr>\n      <th>66 </th>\n      <td>  2</td>\n      <td> 12103</td>\n      <td>        Pinellas</td>\n      <td>     Florida</td>\n    </tr>\n    <tr>\n      <th>302</th>\n      <td>  1</td>\n      <td> 12105</td>\n      <td>            Polk</td>\n      <td>     Florida</td>\n    </tr>\n    <tr>\n      <th>140</th>\n      <td>  4</td>\n      <td> 12115</td>\n      <td>        Sarasota</td>\n      <td>     Florida</td>\n    </tr>\n    <tr>\n      <th>158</th>\n      <td>  2</td>\n      <td> 12131</td>\n      <td>          Walton</td>\n      <td>     Florida</td>\n    </tr>\n    <tr>\n      <th>342</th>\n      <td>  2</td>\n      <td> 13051</td>\n      <td>         Chatham</td>\n      <td>     Georgia</td>\n    </tr>\n    <tr>\n      <th>35 </th>\n      <td>  4</td>\n      <td> 13059</td>\n      <td>          Clarke</td>\n      <td>     Georgia</td>\n    </tr>\n    <tr>\n      <th>85 </th>\n      <td>  2</td>\n      <td> 13113</td>\n      <td>         Fayette</td>\n      <td>     Georgia</td>\n    </tr>\n    <tr>\n      <th>70 </th>\n      <td>  4</td>\n      <td> 13121</td>\n      <td>          Fulton</td>\n      <td>     Georgia</td>\n    </tr>\n    <tr>\n      <th>26 </th>\n      <td>  1</td>\n      <td> 13219</td>\n      <td>          Oconee</td>\n      <td>     Georgia</td>\n    </tr>\n    <tr>\n      <th>265</th>\n      <td>  1</td>\n      <td> 15003</td>\n      <td>        Honolulu</td>\n      <td>      Hawaii</td>\n    </tr>\n    <tr>\n      <th>39 </th>\n      <td>  2</td>\n      <td> 15009</td>\n      <td>            Maui</td>\n      <td>      Hawaii</td>\n    </tr>\n    <tr>\n      <th>37 </th>\n      <td>  2</td>\n      <td> 16001</td>\n      <td>             Ada</td>\n      <td>       Idaho</td>\n    </tr>\n    <tr>\n      <th>281</th>\n      <td>  1</td>\n      <td> 16027</td>\n      <td>          Canyon</td>\n      <td>       Idaho</td>\n    </tr>\n    <tr>\n      <th>181</th>\n      <td>  1</td>\n      <td> 16059</td>\n      <td>           Lemhi</td>\n      <td>       Idaho</td>\n    </tr>\n    <tr>\n      <th></th>\n      <td>...</td>\n      <td>...</td>\n      <td>...</td>\n      <td>...</td>\n    </tr>\n  </tbody>\n</table>\n<p>201 rows \u00d7 4 columns</p>\n</div>",
       "metadata": {},
       "output_type": "pyout",
       "prompt_number": 108,
       "text": "     count fips_county      county_name        state\n180      5       01073        Jefferson      Alabama\n167      1       01089          Madison      Alabama\n307      1       01097           Mobile      Alabama\n268      1       01117           Shelby      Alabama\n57       1       02020        Anchorage       Alaska\n48      16       04013         Maricopa      Arizona\n122      5       04019             Pima      Arizona\n346      3       06001          Alameda   California\n23       9       06013     Contra Costa   California\n87      15       06037      Los Angeles   California\n75       2       06041            Marin   California\n162      6       06059           Orange   California\n65       3       06061           Placer   California\n166      1       06065        Riverside   California\n324      2       06067       Sacramento   California\n30       9       06073        San Diego   California\n103      3       06075    San Francisco   California\n319      3       06077      San Joaquin   California\n294      2       06079  San Luis Obispo   California\n271      8       06081        San Mateo   California\n128      5       06085      Santa Clara   California\n88       2       06087       Santa Cruz   California\n266     11       06095           Solano   California\n317      4       06097           Sonoma   California\n296      3       06111          Ventura   California\n286      1       06113             Yolo   California\n51       5       08005         Arapahoe     Colorado\n196      2       08031           Denver     Colorado\n237      1       08041          El Paso     Colorado\n212      1       08059        Jefferson     Colorado\n106      9       08069          Larimer     Colorado\n44       5       09001        Fairfield  Connecticut\n238      1       09009        New Haven  Connecticut\n280      2       10003       New Castle     Delaware\n18       5       12001          Alachua      Florida\n2        6       12011          Broward      Florida\n246      3       12019             Clay      Florida\n43       1       12021          Collier      Florida\n131      3       12031            Duval      Florida\n17       6       12057     Hillsborough      Florida\n19       1       12071              Lee      Florida\n92       1       12083           Marion      Florida\n144      1       12085           Martin      Florida\n15       4       12086       Miami-Dade      Florida\n77       5       12095           Orange      Florida\n231      8       12099       Palm Beach      Florida\n66       2       12103         Pinellas      Florida\n302      1       12105             Polk      Florida\n140      4       12115         Sarasota      Florida\n158      2       12131           Walton      Florida\n342      2       13051          Chatham      Georgia\n35       4       13059           Clarke      Georgia\n85       2       13113          Fayette      Georgia\n70       4       13121           Fulton      Georgia\n26       1       13219           Oconee      Georgia\n265      1       15003         Honolulu       Hawaii\n39       2       15009             Maui       Hawaii\n37       2       16001              Ada        Idaho\n281      1       16027           Canyon        Idaho\n181      1       16059            Lemhi        Idaho\n       ...         ...              ...          ...\n\n[201 rows x 4 columns]"
      }
     ],
     "prompt_number": 108
    },
    {
     "cell_type": "markdown",
     "metadata": {},
     "source": "Organize by State\n================="
    },
    {
     "cell_type": "code",
     "collapsed": false,
     "input": "groupedbystate = zipdf.groupby('state')",
     "language": "python",
     "metadata": {},
     "outputs": [],
     "prompt_number": 147
    },
    {
     "cell_type": "code",
     "collapsed": false,
     "input": "states_sum = groupedbystate.sum()",
     "language": "python",
     "metadata": {},
     "outputs": [],
     "prompt_number": 177
    },
    {
     "cell_type": "code",
     "collapsed": false,
     "input": "statesum = DataFrame(data=states_sum, columns=['count'])",
     "language": "python",
     "metadata": {},
     "outputs": [],
     "prompt_number": 178
    },
    {
     "cell_type": "code",
     "collapsed": false,
     "input": "statesum.to_csv('statecounts.csv')",
     "language": "python",
     "metadata": {},
     "outputs": [],
     "prompt_number": 279
    },
    {
     "cell_type": "code",
     "collapsed": false,
     "input": "import matplotlib.pyplot as plt\n#fig, axes = plt.subplots(1,1)\n",
     "language": "python",
     "metadata": {},
     "outputs": [],
     "prompt_number": 199
    },
    {
     "cell_type": "code",
     "collapsed": false,
     "input": "statesum['count'].astype(int).plot(kind='barh', alpha=0.7)",
     "language": "python",
     "metadata": {},
     "outputs": [
      {
       "metadata": {},
       "output_type": "pyout",
       "prompt_number": 208,
       "text": "<matplotlib.axes.AxesSubplot at 0x114677050>"
      },
      {
       "metadata": {},
       "output_type": "display_data",
       "png": "[encoded data removed]",
       "text": "<matplotlib.figure.Figure at 0x113182790>"
      }
     ],
     "prompt_number": 208
    },
    {
     "cell_type": "code",
     "collapsed": false,
     "input": "statesum['count'] = statesum['count'].astype(int)",
     "language": "python",
     "metadata": {},
     "outputs": [],
     "prompt_number": 214
    },
    {
     "cell_type": "code",
     "collapsed": false,
     "input": "DataFrame(statesum.sort(columns='count')).plot(kind='barh', alpha=0.7)",
     "language": "python",
     "metadata": {},
     "outputs": [
      {
       "metadata": {},
       "output_type": "pyout",
       "prompt_number": 225,
       "text": "<matplotlib.axes.AxesSubplot at 0x111dc75d0>"
      },
      {
       "metadata": {},
       "output_type": "display_data",
       "png": "[encoded data removed]",
       "text": "<matplotlib.figure.Figure at 0x111de7d50>"
      }
     ],
     "prompt_number": 225
    },
    {
     "cell_type": "markdown",
     "metadata": {},
     "source": "Baseline state info with population data\n=========================================\nObtained from: http://www.census.gov/2010census/csv/pop_density.csv (02/11/14)"
    },
    {
     "cell_type": "code",
     "collapsed": false,
     "input": "statepop = pd.read_csv(\"pop_density.csv\", skiprows=3)",
     "language": "python",
     "metadata": {},
     "outputs": [],
     "prompt_number": 233
    },
    {
     "cell_type": "code",
     "collapsed": false,
     "input": "state_info = pd.merge(statepop, statesum, right_index=True, left_on='STATE_OR_REGION')",
     "language": "python",
     "metadata": {},
     "outputs": [],
     "prompt_number": 242
    },
    {
     "cell_type": "code",
     "collapsed": false,
     "input": "percapita = state_info[['STATE_OR_REGION', 'count', '2010_POPULATION', '2010_DENSITY']]",
     "language": "python",
     "metadata": {},
     "outputs": [],
     "prompt_number": 250
    },
    {
     "cell_type": "code",
     "collapsed": false,
     "input": "percapita = percapita.set_index('STATE_OR_REGION')",
     "language": "python",
     "metadata": {},
     "outputs": [],
     "prompt_number": 266
    },
    {
     "cell_type": "code",
     "collapsed": false,
     "input": "DataFrame(percapita.sort(columns='per_capita'))['per_capita'].plot(kind='barh')",
     "language": "python",
     "metadata": {},
     "outputs": [
      {
       "metadata": {},
       "output_type": "pyout",
       "prompt_number": 270,
       "text": "<matplotlib.axes.AxesSubplot at 0x112a7edd0>"
      },
      {
       "metadata": {},
       "output_type": "display_data",
       "png": "[encoded data removed]",
       "text": "<matplotlib.figure.Figure at 0x112a80f90>"
      }
     ],
     "prompt_number": 270
    },
    {
     "cell_type": "code",
     "collapsed": false,
     "input": "statepop.head()",
     "language": "python",
     "metadata": {},
     "outputs": [
      {
       "html": "<div style=\"max-height:1000px;max-width:1500px;overflow:auto;\">\n<table border=\"1\" class=\"dataframe\">\n  <thead>\n    <tr style=\"text-align: right;\">\n      <th></th>\n      <th>STATE_OR_REGION</th>\n      <th>1910_POPULATION</th>\n      <th>1920_POPULATION</th>\n      <th>1930_POPULATION</th>\n      <th>1940_POPULATION</th>\n      <th>1950_POPULATION</th>\n      <th>1960_POPULATION</th>\n      <th>1970_POPULATION</th>\n      <th>1980_POPULATION</th>\n      <th>1990_POPULATION</th>\n      <th>2000_POPULATION</th>\n      <th>2010_POPULATION</th>\n      <th>1910_DENSITY</th>\n      <th>1920_DENSITY</th>\n      <th>1930_DENSITY</th>\n      <th>1940_DENSITY</th>\n      <th>1950_DENSITY</th>\n      <th>1960_DENSITY</th>\n      <th>1970_DENSITY</th>\n      <th>1980_DENSITY</th>\n      <th></th>\n    </tr>\n  </thead>\n  <tbody>\n    <tr>\n      <th>0</th>\n      <td> United States</td>\n      <td> 92228531</td>\n      <td> 106021568</td>\n      <td> 123202660</td>\n      <td> 132165129</td>\n      <td> 151325798</td>\n      <td> 179323175</td>\n      <td> 203211926</td>\n      <td> 226545805</td>\n      <td> 248709873</td>\n      <td> 281421906</td>\n      <td> 308745538</td>\n      <td>   26</td>\n      <td> 29.9</td>\n      <td> 34.7</td>\n      <td> 37.2</td>\n      <td> 42.6</td>\n      <td> 50.6</td>\n      <td> 57.5</td>\n      <td> 64.1</td>\n      <td>...</td>\n    </tr>\n    <tr>\n      <th>1</th>\n      <td>       Alabama</td>\n      <td>  2138093</td>\n      <td>   2348174</td>\n      <td>   2646248</td>\n      <td>   2832961</td>\n      <td>   3061743</td>\n      <td>   3266740</td>\n      <td>   3444165</td>\n      <td>   3893888</td>\n      <td>   4040587</td>\n      <td>   4447100</td>\n      <td>   4779736</td>\n      <td> 42.2</td>\n      <td> 46.4</td>\n      <td> 52.3</td>\n      <td> 55.9</td>\n      <td> 60.5</td>\n      <td> 64.5</td>\n      <td>   68</td>\n      <td> 76.9</td>\n      <td>...</td>\n    </tr>\n    <tr>\n      <th>2</th>\n      <td>        Alaska</td>\n      <td>    64356</td>\n      <td>     55036</td>\n      <td>     59278</td>\n      <td>     72524</td>\n      <td>    128643</td>\n      <td>    226167</td>\n      <td>    300382</td>\n      <td>    401851</td>\n      <td>    550043</td>\n      <td>    626932</td>\n      <td>    710231</td>\n      <td>  0.1</td>\n      <td>  0.1</td>\n      <td>  0.1</td>\n      <td>  0.1</td>\n      <td>  0.2</td>\n      <td>  0.4</td>\n      <td>  0.5</td>\n      <td>  0.7</td>\n      <td>...</td>\n    </tr>\n    <tr>\n      <th>3</th>\n      <td>       Arizona</td>\n      <td>   204354</td>\n      <td>    334162</td>\n      <td>    435573</td>\n      <td>    499261</td>\n      <td>    749587</td>\n      <td>   1302161</td>\n      <td>   1770900</td>\n      <td>   2718215</td>\n      <td>   3665228</td>\n      <td>   5130632</td>\n      <td>   6392017</td>\n      <td>  1.8</td>\n      <td>  2.9</td>\n      <td>  3.8</td>\n      <td>  4.4</td>\n      <td>  6.6</td>\n      <td> 11.5</td>\n      <td> 15.6</td>\n      <td> 23.9</td>\n      <td>...</td>\n    </tr>\n    <tr>\n      <th>4</th>\n      <td>      Arkansas</td>\n      <td>  1574449</td>\n      <td>   1752204</td>\n      <td>   1854482</td>\n      <td>   1949387</td>\n      <td>   1909511</td>\n      <td>   1786272</td>\n      <td>   1923295</td>\n      <td>   2286435</td>\n      <td>   2350725</td>\n      <td>   2673400</td>\n      <td>   2915918</td>\n      <td> 30.3</td>\n      <td> 33.7</td>\n      <td> 35.6</td>\n      <td> 37.5</td>\n      <td> 36.7</td>\n      <td> 34.3</td>\n      <td>   37</td>\n      <td> 43.9</td>\n      <td>...</td>\n    </tr>\n  </tbody>\n</table>\n<p>5 rows \u00d7 34 columns</p>\n</div>",
       "metadata": {},
       "output_type": "pyout",
       "prompt_number": 288,
       "text": "  STATE_OR_REGION  1910_POPULATION  1920_POPULATION  1930_POPULATION  \\\n0   United States         92228531        106021568        123202660   \n1         Alabama          2138093          2348174          2646248   \n2          Alaska            64356            55036            59278   \n3         Arizona           204354           334162           435573   \n4        Arkansas          1574449          1752204          1854482   \n\n   1940_POPULATION  1950_POPULATION  1960_POPULATION  1970_POPULATION  \\\n0        132165129        151325798        179323175        203211926   \n1          2832961          3061743          3266740          3444165   \n2            72524           128643           226167           300382   \n3           499261           749587          1302161          1770900   \n4          1949387          1909511          1786272          1923295   \n\n   1980_POPULATION  1990_POPULATION  2000_POPULATION  2010_POPULATION  \\\n0        226545805        248709873        281421906        308745538   \n1          3893888          4040587          4447100          4779736   \n2           401851           550043           626932           710231   \n3          2718215          3665228          5130632          6392017   \n4          2286435          2350725          2673400          2915918   \n\n  1910_DENSITY 1920_DENSITY 1930_DENSITY 1940_DENSITY 1950_DENSITY  \\\n0           26         29.9         34.7         37.2         42.6   \n1         42.2         46.4         52.3         55.9         60.5   \n2          0.1          0.1          0.1          0.1          0.2   \n3          1.8          2.9          3.8          4.4          6.6   \n4         30.3         33.7         35.6         37.5         36.7   \n\n  1960_DENSITY 1970_DENSITY 1980_DENSITY      \n0         50.6         57.5         64.1 ...  \n1         64.5           68         76.9 ...  \n2          0.4          0.5          0.7 ...  \n3         11.5         15.6         23.9 ...  \n4         34.3           37         43.9 ...  \n\n[5 rows x 34 columns]"
      }
     ],
     "prompt_number": 288
    },
    {
     "cell_type": "code",
     "collapsed": false,
     "input": "percapita['per_capita_density'] = percapita['count'].astype(int)/percapita['2010_DENSITY'].str.replace(\",\", \"\").astype(float)",
     "language": "python",
     "metadata": {},
     "outputs": [],
     "prompt_number": 315
    },
    {
     "cell_type": "code",
     "collapsed": false,
     "input": "percapita.head()",
     "language": "python",
     "metadata": {},
     "outputs": [
      {
       "html": "<div style=\"max-height:1000px;max-width:1500px;overflow:auto;\">\n<table border=\"1\" class=\"dataframe\">\n  <thead>\n    <tr style=\"text-align: right;\">\n      <th></th>\n      <th>count</th>\n      <th>2010_POPULATION</th>\n      <th>2010_DENSITY</th>\n      <th>per_capita</th>\n      <th>per_capita_density</th>\n    </tr>\n    <tr>\n      <th>STATE_OR_REGION</th>\n      <th></th>\n      <th></th>\n      <th></th>\n      <th></th>\n      <th></th>\n    </tr>\n  </thead>\n  <tbody>\n    <tr>\n      <th>Alabama</th>\n      <td>   8</td>\n      <td>  4779736</td>\n      <td>  94.4</td>\n      <td> 0.000002</td>\n      <td> 0.084746</td>\n    </tr>\n    <tr>\n      <th>Alaska</th>\n      <td>   1</td>\n      <td>   710231</td>\n      <td>   1.2</td>\n      <td> 0.000001</td>\n      <td> 0.833333</td>\n    </tr>\n    <tr>\n      <th>Arizona</th>\n      <td>  21</td>\n      <td>  6392017</td>\n      <td>  56.3</td>\n      <td> 0.000003</td>\n      <td> 0.373002</td>\n    </tr>\n    <tr>\n      <th>California</th>\n      <td> 102</td>\n      <td> 37253956</td>\n      <td> 239.1</td>\n      <td> 0.000003</td>\n      <td> 0.426600</td>\n    </tr>\n    <tr>\n      <th>Colorado</th>\n      <td>  18</td>\n      <td>  5029196</td>\n      <td>  48.5</td>\n      <td> 0.000004</td>\n      <td> 0.371134</td>\n    </tr>\n  </tbody>\n</table>\n<p>5 rows \u00d7 5 columns</p>\n</div>",
       "metadata": {},
       "output_type": "pyout",
       "prompt_number": 316,
       "text": "                 count  2010_POPULATION 2010_DENSITY  per_capita  \\\nSTATE_OR_REGION                                                    \nAlabama              8          4779736         94.4    0.000002   \nAlaska               1           710231          1.2    0.000001   \nArizona             21          6392017         56.3    0.000003   \nCalifornia         102         37253956        239.1    0.000003   \nColorado            18          5029196         48.5    0.000004   \n\n                 per_capita_density  \nSTATE_OR_REGION                      \nAlabama                    0.084746  \nAlaska                     0.833333  \nArizona                    0.373002  \nCalifornia                 0.426600  \nColorado                   0.371134  \n\n[5 rows x 5 columns]"
      }
     ],
     "prompt_number": 316
    },
    {
     "cell_type": "code",
     "collapsed": false,
     "input": "DataFrame(percapita.sort(columns='per_capita_density'))['per_capita_density'].plot(kind='barh')",
     "language": "python",
     "metadata": {},
     "outputs": [
      {
       "ename": "NameError",
       "evalue": "name 'percapita' is not defined",
       "output_type": "pyerr",
       "traceback": [
        "\u001b[0;31m---------------------------------------------------------------------------\u001b[0m\n\u001b[0;31mNameError\u001b[0m                                 Traceback (most recent call last)",
        "\u001b[0;32m<ipython-input-109-e6a4b567c1ae>\u001b[0m in \u001b[0;36m<module>\u001b[0;34m()\u001b[0m\n\u001b[0;32m----> 1\u001b[0;31m \u001b[0mDataFrame\u001b[0m\u001b[0;34m(\u001b[0m\u001b[0mpercapita\u001b[0m\u001b[0;34m.\u001b[0m\u001b[0msort\u001b[0m\u001b[0;34m(\u001b[0m\u001b[0mcolumns\u001b[0m\u001b[0;34m=\u001b[0m\u001b[0;34m'per_capita_density'\u001b[0m\u001b[0;34m)\u001b[0m\u001b[0;34m)\u001b[0m\u001b[0;34m[\u001b[0m\u001b[0;34m'per_capita_density'\u001b[0m\u001b[0;34m]\u001b[0m\u001b[0;34m.\u001b[0m\u001b[0mplot\u001b[0m\u001b[0;34m(\u001b[0m\u001b[0mkind\u001b[0m\u001b[0;34m=\u001b[0m\u001b[0;34m'barh'\u001b[0m\u001b[0;34m)\u001b[0m\u001b[0;34m\u001b[0m\u001b[0m\n\u001b[0m",
        "\u001b[0;31mNameError\u001b[0m: name 'percapita' is not defined"
       ]
      }
     ],
     "prompt_number": 109
    },
    {
     "cell_type": "code",
     "collapsed": false,
     "input": "s = Series(np.random.randn(10).cumsum(), index=np.arange(0,100,10))\ns.plot()",
     "language": "python",
     "metadata": {},
     "outputs": [
      {
       "metadata": {},
       "output_type": "pyout",
       "prompt_number": 110,
       "text": "<matplotlib.axes.AxesSubplot at 0x106b02610>"
      }
     ],
     "prompt_number": 110
    },
    {
     "cell_type": "code",
     "collapsed": false,
     "input": "",
     "language": "python",
     "metadata": {},
     "outputs": []
    }
   ],
   "metadata": {}
  }
 ]
}