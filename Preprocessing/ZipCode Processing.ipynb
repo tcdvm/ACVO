{
 "metadata": {
  "name": "ZipCode Processing"
 },
 "nbformat": 3,
 "nbformat_minor": 0,
 "worksheets": [
  {
   "cells": [
    {
     "cell_type": "heading",
     "level": 1,
     "metadata": {},
     "source": "Processing zipcodes into lat/lng"
    },
    {
     "cell_type": "markdown",
     "metadata": {},
     "source": "Read in file of list of zipcodes"
    },
    {
     "cell_type": "code",
     "collapsed": false,
     "input": "zip_list = []\nwith open(\"zips.txt\", \"r\") as zip_file:\n    zip_list = [x.strip() for x in zip_file.readlines()]",
     "language": "python",
     "metadata": {},
     "outputs": [],
     "prompt_number": 1
    },
    {
     "cell_type": "markdown",
     "metadata": {},
     "source": "Create dictionary with zipcode key count"
    },
    {
     "cell_type": "code",
     "collapsed": false,
     "input": "zip_dict = { zc : {\"count\": zip_list.count(zc), \"lat\": \"\", \"lon\": \"\", \"fips_county\": \"\", \"county_name\": \"\"} for zc in zip_list }\n",
     "language": "python",
     "metadata": {},
     "outputs": [],
     "prompt_number": 12
    },
    {
     "cell_type": "raw",
     "metadata": {},
     "source": "Get coordinates from Google maps api (can't get coordinates from datasciencetoolkit (dstk)"
    },
    {
     "cell_type": "code",
     "collapsed": false,
     "input": "from pygeocoder import Geocoder\nimport dstk\ndstk = dstk.DSTK()\nfor zc in zip_dict:\n    try:\n    results = Geocoder.geocode(zc)\n    lat = results[0].coordinates[0]\n    lon = results[0].coordinates[1]\n    zip_dict[zc][\"lat\"] = lat\n    zip_dict[zc][\"lon\"] = lon\n    print \"zc: %s %s\" % (lat, lon)\n    results = dstk.coordinates2politics([lat, lon])\n    for pdb in results[0]['politics']:\n        if pdb[\"friendly_type\"] == \"county\":\n            zip_dict[zc][\"fips_county\"] = pdb[\"code\"].replace(\"_\", \"\")\n            zip_dict[zc][\"county_name\"] = pdb[\"name\"]\n        print \"zc %s: %s/%s, %s/%s\" % (zc, lat, lon, zip_dict[zc][\"fips_county\"], zip_dict[zc][\"county_name\"])\n    except:\n        pass\n        print \"Exception!\"",
     "language": "python",
     "metadata": {},
     "outputs": [
      {
       "output_type": "stream",
       "stream": "stdout",
       "text": "zc: 42.4467049 -76.4830579\nzc 14853: 42.4467049/-76.4830579, 36109/Tompkins"
      },
      {
       "output_type": "stream",
       "stream": "stdout",
       "text": "\nzc: 41.2274088 -81.6363869"
      },
      {
       "output_type": "stream",
       "stream": "stdout",
       "text": "\nzc 44286: 41.2274088/-81.6363869, 39153/Summit"
      },
      {
       "output_type": "stream",
       "stream": "stdout",
       "text": "\nzc: 26.0725672 -80.2711588"
      },
      {
       "output_type": "stream",
       "stream": "stdout",
       "text": "\nzc 33328: 26.0725672/-80.2711588, 12011/Broward"
      },
      {
       "output_type": "stream",
       "stream": "stdout",
       "text": "\nzc: 42.435511 -76.5257007"
      },
      {
       "output_type": "stream",
       "stream": "stdout",
       "text": "\nzc 14850: 42.435511/-76.5257007, 36109/Tompkins"
      },
      {
       "output_type": "stream",
       "stream": "stdout",
       "text": "\nzc: 44.865243 -93.4094629"
      },
      {
       "output_type": "stream",
       "stream": "stdout",
       "text": "\nzc 55344: 44.865243/-93.4094629, 27053/Hennepin"
      },
      {
       "output_type": "stream",
       "stream": "stdout",
       "text": "\nzc: 36.1464769 -96.195132"
      },
      {
       "output_type": "stream",
       "stream": "stdout",
       "text": "\nzc 74063: 36.1464769/-96.195132, 40143/Tulsa"
      },
      {
       "output_type": "stream",
       "stream": "stdout",
       "text": "\nzc: 42.2980829 -84.0378894"
      },
      {
       "output_type": "stream",
       "stream": "stdout",
       "text": "\nzc 48118: 42.2980829/-84.0378894, 26161/Washtenaw"
      },
      {
       "output_type": "stream",
       "stream": "stdout",
       "text": "\nzc: 30.5074556 41.8948341"
      },
      {
       "output_type": "stream",
       "stream": "stdout",
       "text": "\nzc 73494: 30.5074556/41.8948341, /"
      },
      {
       "output_type": "stream",
       "stream": "stdout",
       "text": "\nzc: 37.1953893 -93.3892894"
      },
      {
       "output_type": "stream",
       "stream": "stdout",
       "text": "\nzc 65802: 37.1953893/-93.3892894, 29077/Greene"
      },
      {
       "output_type": "stream",
       "stream": "stdout",
       "text": "\nzc: 38.9851115 -76.5603828"
      },
      {
       "output_type": "stream",
       "stream": "stdout",
       "text": "\nzc 21401: 38.9851115/-76.5603828, 24003/Anne Arundel"
      },
      {
       "output_type": "stream",
       "stream": "stdout",
       "text": "\nzc: 38.9359831 -76.4910093"
      },
      {
       "output_type": "stream",
       "stream": "stdout",
       "text": "\nzc 21403: 38.9359831/-76.4910093, 24003/Anne Arundel"
      },
      {
       "output_type": "stream",
       "stream": "stdout",
       "text": "\nzc: 29.6451457 -98.4732718"
      },
      {
       "output_type": "stream",
       "stream": "stdout",
       "text": "\nzc 78258: 29.6451457/-98.4732718, 48029/Bexar"
      },
      {
       "output_type": "stream",
       "stream": "stdout",
       "text": "\nzc: 35.578861 -97.5788975"
      },
      {
       "output_type": "stream",
       "stream": "stdout",
       "text": "\nzc 73120: 35.578861/-97.5788975, 40109/Oklahoma"
      },
      {
       "output_type": "stream",
       "stream": "stdout",
       "text": "\nzc: 38.8950354 -77.2577571"
      },
      {
       "output_type": "stream",
       "stream": "stdout",
       "text": "\nzc 22180: 38.8950354/-77.2577571, 51059/Fairfax"
      },
      {
       "output_type": "stream",
       "stream": "stdout",
       "text": "\nzc: 44.26558 -88.4306955"
      },
      {
       "output_type": "stream",
       "stream": "stdout",
       "text": "\nzc 54914: 44.26558/-88.4306955, 55087/Outagamie"
      },
      {
       "output_type": "stream",
       "stream": "stdout",
       "text": "\nzc: 40.1403357 -75.3995089"
      },
      {
       "output_type": "stream",
       "stream": "stdout",
       "text": "\nzc 19403: 40.1403357/-75.3995089, 42091/Montgomery"
      },
      {
       "output_type": "stream",
       "stream": "stdout",
       "text": "\nzc: 25.4802746 -80.5271756"
      },
      {
       "output_type": "stream",
       "stream": "stdout",
       "text": "\nzc 33030: 25.4802746/-80.5271756, 12086/Miami-Dade"
      },
      {
       "output_type": "stream",
       "stream": "stdout",
       "text": "\nzc: 42.702277 -84.2910759"
      },
      {
       "output_type": "stream",
       "stream": "stdout",
       "text": "\nzc 48895: 42.702277/-84.2910759, 26065/Ingham"
      },
      {
       "output_type": "stream",
       "stream": "stdout",
       "text": "\nzc: 28.1762931 -82.5077593"
      },
      {
       "output_type": "stream",
       "stream": "stdout",
       "text": "\nzc 33558: 28.1762931/-82.5077593, 12057/Hillsborough"
      },
      {
       "output_type": "stream",
       "stream": "stdout",
       "text": "\nzc: 29.7429556 -82.3777335"
      },
      {
       "output_type": "stream",
       "stream": "stdout",
       "text": "\nzc 32653: 29.7429556/-82.3777335, 12001/Alachua"
      },
      {
       "output_type": "stream",
       "stream": "stdout",
       "text": "\nzc: 26.4273206 -81.7239979"
      },
      {
       "output_type": "stream",
       "stream": "stdout",
       "text": "\nzc 33928: 26.4273206/-81.7239979, 12071/Lee"
      },
      {
       "output_type": "stream",
       "stream": "stdout",
       "text": "\nzc: 28.1222486 -82.5834947"
      },
      {
       "output_type": "stream",
       "stream": "stdout",
       "text": "\nzc 33556: 28.1222486/-82.5834947, 12057/Hillsborough"
      },
      {
       "output_type": "stream",
       "stream": "stdout",
       "text": "\nzc: 36.0896801 -79.9528451"
      },
      {
       "output_type": "stream",
       "stream": "stdout",
       "text": "\nzc 27409: 36.0896801/-79.9528451, 37081/Guilford"
      },
      {
       "output_type": "stream",
       "stream": "stdout",
       "text": "\nzc: 45.4120158 -122.54578"
      },
      {
       "output_type": "stream",
       "stream": "stdout",
       "text": "\nzc 97015: 45.4120158/-122.54578, 41005/Clackamas"
      },
      {
       "output_type": "stream",
       "stream": "stdout",
       "text": "\nzc: 37.9158152 -122.3390936"
      },
      {
       "output_type": "stream",
       "stream": "stdout",
       "text": "\nzc 94804: 37.9158152/-122.3390936, 06013/Contra Costa"
      },
      {
       "output_type": "stream",
       "stream": "stdout",
       "text": "\nzc: 32.8203378 -79.7455956"
      },
      {
       "output_type": "stream",
       "stream": "stdout",
       "text": "\nzc 29451: 32.8203378/-79.7455956, 45019/Charleston"
      },
      {
       "output_type": "stream",
       "stream": "stdout",
       "text": "\nzc: 28.01574 -82.5510469"
      },
      {
       "output_type": "stream",
       "stream": "stdout",
       "text": "\nzc 33634: 28.01574/-82.5510469, 12057/Hillsborough"
      },
      {
       "output_type": "stream",
       "stream": "stdout",
       "text": "\nzc: 33.7764415 -83.4003037"
      },
      {
       "output_type": "stream",
       "stream": "stdout",
       "text": "\nzc 30677: 33.7764415/-83.4003037, 13219/Oconee"
      },
      {
       "output_type": "stream",
       "stream": "stdout",
       "text": "\nzc: 47.0670291 -123.0511606"
      },
      {
       "output_type": "stream",
       "stream": "stdout",
       "text": "\nzc 98502: 47.0670291/-123.0511606, 53067/Thurston"
      },
      {
       "output_type": "stream",
       "stream": "stdout",
       "text": "\nzc: 32.7011609 -97.3354531"
      },
      {
       "output_type": "stream",
       "stream": "stdout",
       "text": "\nzc 76110: 32.7011609/-97.3354531, 48439/Tarrant"
      },
      {
       "output_type": "stream",
       "stream": "stdout",
       "text": "\nzc: 41.7691984 -88.3821989"
      },
      {
       "output_type": "stream",
       "stream": "stdout",
       "text": "\nzc 60506: 41.7691984/-88.3821989, 17089/Kane"
      },
      {
       "output_type": "stream",
       "stream": "stdout",
       "text": "\nzc: 32.8250767 -117.2029363"
      },
      {
       "output_type": "stream",
       "stream": "stdout",
       "text": "\nzc 92117: 32.8250767/-117.2029363, 06073/San Diego"
      },
      {
       "output_type": "stream",
       "stream": "stdout",
       "text": "\nzc: 34.2253022 -77.8710285"
      },
      {
       "output_type": "stream",
       "stream": "stdout",
       "text": "\nzc 28403: 34.2253022/-77.8710285, 37129/New Hanover"
      },
      {
       "output_type": "stream",
       "stream": "stdout",
       "text": "\nzc: 30.4069394 -88.7686382"
      },
      {
       "output_type": "stream",
       "stream": "stdout",
       "text": "\nzc 39564: 30.4069394/-88.7686382, 28059/Jackson"
      },
      {
       "output_type": "stream",
       "stream": "stdout",
       "text": "\nzc: 44.5619717 -123.2608574"
      },
      {
       "output_type": "stream",
       "stream": "stdout",
       "text": "\nzc 97339: 44.5619717/-123.2608574, 41003/Benton"
      },
      {
       "output_type": "stream",
       "stream": "stdout",
       "text": "\nzc: 47.6614244 -122.2683743"
      },
      {
       "output_type": "stream",
       "stream": "stdout",
       "text": "\nzc 98105: 47.6614244/-122.2683743, 53033/King"
      },
      {
       "output_type": "stream",
       "stream": "stdout",
       "text": "\nzc: 33.954258 -83.3749322"
      },
      {
       "output_type": "stream",
       "stream": "stdout",
       "text": "\nzc 30602: 33.954258/-83.3749322, 13059/Clarke"
      },
      {
       "output_type": "stream",
       "stream": "stdout",
       "text": "\nzc: 33.9448436 -83.4323375"
      },
      {
       "output_type": "stream",
       "stream": "stdout",
       "text": "\nzc 30606: 33.9448436/-83.4323375, 13059/Clarke"
      },
      {
       "output_type": "stream",
       "stream": "stdout",
       "text": "\nzc: 43.7235259 -116.2692976"
      },
      {
       "output_type": "stream",
       "stream": "stdout",
       "text": "\nzc 83714: 43.7235259/-116.2692976, 16001/Ada"
      },
      {
       "output_type": "stream",
       "stream": "stdout",
       "text": "\nzc: 43.9657221 -121.2196397"
      },
      {
       "output_type": "stream",
       "stream": "stdout",
       "text": "\nzc 97702: 43.9657221/-121.2196397, 41017/Deschutes"
      },
      {
       "output_type": "stream",
       "stream": "stdout",
       "text": "\nzc: 20.7278194 -156.3081217"
      },
      {
       "output_type": "stream",
       "stream": "stdout",
       "text": "\nzc 96790: 20.7278194/-156.3081217, 15009/Maui"
      },
      {
       "output_type": "stream",
       "stream": "stdout",
       "text": "\nzc: 42.5052649 -123.3273155"
      },
      {
       "output_type": "stream",
       "stream": "stdout",
       "text": "\nzc 97526: 42.5052649/-123.3273155, 41033/Josephine"
      },
      {
       "output_type": "stream",
       "stream": "stdout",
       "text": "\nzc: 37.1224466 -76.4447397"
      },
      {
       "output_type": "stream",
       "stream": "stdout",
       "text": "\nzc 23693: 37.1224466/-76.4447397, 51199/York"
      },
      {
       "output_type": "stream",
       "stream": "stdout",
       "text": "\nzc: 47.6568696 -117.3719973"
      },
      {
       "output_type": "stream",
       "stream": "stdout",
       "text": "\nzc 99202: 47.6568696/-117.3719973, 53063/Spokane"
      },
      {
       "output_type": "stream",
       "stream": "stdout",
       "text": "\nzc: 26.2632309 -81.7239979"
      },
      {
       "output_type": "stream",
       "stream": "stdout",
       "text": "\nzc 34119: 26.2632309/-81.7239979, 12021/Collier"
      },
      {
       "output_type": "stream",
       "stream": "stdout",
       "text": "\nzc: 41.2077334 -73.4415929"
      },
      {
       "output_type": "stream",
       "stream": "stdout",
       "text": "\nzc 06897: 41.2077334/-73.4415929, 09001/Fairfield"
      },
      {
       "output_type": "stream",
       "stream": "stdout",
       "text": "\nzc: 47.7872368 -117.4644801"
      },
      {
       "output_type": "stream",
       "stream": "stdout",
       "text": "\nzc 99208: 47.7872368/-117.4644801, 53063/Spokane"
      },
      {
       "output_type": "stream",
       "stream": "stdout",
       "text": "\nzc: 36.7604012 -89.9813445"
      },
      {
       "output_type": "stream",
       "stream": "stdout",
       "text": "\nzc 63841: 36.7604012/-89.9813445, 29207/Stoddard"
      },
      {
       "output_type": "stream",
       "stream": "stdout",
       "text": "\nzc: 42.0302666 -71.014118"
      },
      {
       "output_type": "stream",
       "stream": "stdout",
       "text": "\nzc 02379: 42.0302666/-71.014118, 25023/Plymouth"
      },
      {
       "output_type": "stream",
       "stream": "stdout",
       "text": "\nzc: 33.563442 -112.0893682"
      },
      {
       "output_type": "stream",
       "stream": "stdout",
       "text": "\nzc 85021: 33.563442/-112.0893682, 04013/Maricopa"
      },
      {
       "output_type": "stream",
       "stream": "stdout",
       "text": "\nzc: 38.9538595 -94.6192114"
      },
      {
       "output_type": "stream",
       "stream": "stdout",
       "text": "\nzc 66206: 38.9538595/-94.6192114, 20091/Johnson"
      },
      {
       "output_type": "stream",
       "stream": "stdout",
       "text": "\nzc: 45.4807521 -122.6427372"
      },
      {
       "output_type": "stream",
       "stream": "stdout",
       "text": "\nzc 97202: 45.4807521/-122.6427372, 41051/Multnomah"
      },
      {
       "output_type": "stream",
       "stream": "stdout",
       "text": "\nzc: 39.6487896 -105.0148322"
      },
      {
       "output_type": "stream",
       "stream": "stdout",
       "text": "\nzc 80110: 39.6487896/-105.0148322, 08005/Arapahoe"
      },
      {
       "output_type": "stream",
       "stream": "stdout",
       "text": "\nzc: 41.6496052 -71.4893013"
      },
      {
       "output_type": "stream",
       "stream": "stdout",
       "text": "\nzc 02818: 41.6496052/-71.4893013, 44003/Kent"
      },
      {
       "output_type": "stream",
       "stream": "stdout",
       "text": "\nzc: 30.2352956 -96.365157"
      },
      {
       "output_type": "stream",
       "stream": "stdout",
       "text": "\nzc 77833: 30.2352956/-96.365157, 48477/Washington"
      },
      {
       "output_type": "stream",
       "stream": "stdout",
       "text": "\nzc: 43.376782 -86.3275351"
      },
      {
       "output_type": "stream",
       "stream": "stdout",
       "text": "\nzc 49461: 43.376782/-86.3275351, 26121/Muskegon"
      },
      {
       "output_type": "stream",
       "stream": "stdout",
       "text": "\nzc: 36.7578013 -76.2131474"
      },
      {
       "output_type": "stream",
       "stream": "stdout",
       "text": "\nzc 23320: 36.7578013/-76.2131474, 51550/Chesapeake"
      },
      {
       "output_type": "stream",
       "stream": "stdout",
       "text": "\nzc: 29.8296506 -95.6668306"
      },
      {
       "output_type": "stream",
       "stream": "stdout",
       "text": "\nzc 77084: 29.8296506/-95.6668306, 48201/Harris"
      },
      {
       "output_type": "stream",
       "stream": "stdout",
       "text": "\nzc: 61.1199289 -149.8936503"
      },
      {
       "output_type": "stream",
       "stream": "stdout",
       "text": "\nzc 99515: 61.1199289/-149.8936503, 02020/Anchorage"
      },
      {
       "output_type": "stream",
       "stream": "stdout",
       "text": "\nzc: 40.7769059 -73.9800645"
      },
      {
       "output_type": "stream",
       "stream": "stdout",
       "text": "\nzc 10023: 40.7769059/-73.9800645, 36061/New York"
      },
      {
       "output_type": "stream",
       "stream": "stdout",
       "text": "\nzc: 26.2480143 -80.2711588"
      },
      {
       "output_type": "stream",
       "stream": "stdout",
       "text": "\nzc 33071: 26.2480143/-80.2711588, 12011/Broward"
      },
      {
       "output_type": "stream",
       "stream": "stdout",
       "text": "\nzc: 43.0915814 -77.6421577"
      },
      {
       "output_type": "stream",
       "stream": "stdout",
       "text": "\nzc 14623: 43.0915814/-77.6421577, 36055/Monroe"
      },
      {
       "output_type": "stream",
       "stream": "stdout",
       "text": "\nzc: 29.63923 -82.34331"
      },
      {
       "output_type": "stream",
       "stream": "stdout",
       "text": "\nzc 32610: 29.63923/-82.34331, 12001/Alachua"
      },
      {
       "output_type": "stream",
       "stream": "stdout",
       "text": "\nzc: 29.8303455 -82.4969331"
      },
      {
       "output_type": "stream",
       "stream": "stdout",
       "text": "\nzc 32615: 29.8303455/-82.4969331, 12001/Alachua"
      },
      {
       "output_type": "stream",
       "stream": "stdout",
       "text": "\nzc: 30.41 -91.18"
      },
      {
       "output_type": "stream",
       "stream": "stdout",
       "text": "\nzc 70803: 30.41/-91.18, 22033/East Baton Rouge"
      },
      {
       "output_type": "stream",
       "stream": "stdout",
       "text": "\nzc: 40.9202113 -81.1416691"
      },
      {
       "output_type": "stream",
       "stream": "stdout",
       "text": "\nzc 44601: 40.9202113/-81.1416691, 39151/Stark"
      },
      {
       "output_type": "stream",
       "stream": "stdout",
       "text": "\nzc: 38.7870973 -121.2282958"
      },
      {
       "output_type": "stream",
       "stream": "stdout",
       "text": "\nzc 95677: 38.7870973/-121.2282958, 06061/Placer"
      },
      {
       "output_type": "stream",
       "stream": "stdout",
       "text": "\nzc: 27.9046811 -82.7616822"
      },
      {
       "output_type": "stream",
       "stream": "stdout",
       "text": "\nzc 33771: 27.9046811/-82.7616822, 12103/Pinellas"
      },
      {
       "output_type": "stream",
       "stream": "stdout",
       "text": "\nzc: 45.2713588 -93.2743378"
      },
      {
       "output_type": "stream",
       "stream": "stdout",
       "text": "\nzc 55304: 45.2713588/-93.2743378, 27003/Anoka"
      },
      {
       "output_type": "stream",
       "stream": "stdout",
       "text": "\nzc: 42.4709592 -76.2594981"
      },
      {
       "output_type": "stream",
       "stream": "stdout",
       "text": "\nzc 13053: 42.4709592/-76.2594981, 36023/Cortland"
      },
      {
       "output_type": "stream",
       "stream": "stdout",
       "text": "\nzc: 43.0968443 -76.0507949"
      },
      {
       "output_type": "stream",
       "stream": "stdout",
       "text": "\nzc 13057: 43.0968443/-76.0507949, 36067/Onondaga"
      },
      {
       "output_type": "stream",
       "stream": "stdout",
       "text": "\nzc: 33.9253024 -84.3857442"
      },
      {
       "output_type": "stream",
       "stream": "stdout",
       "text": "\nzc 30328: 33.9253024/-84.3857442, 13121/Fulton"
      },
      {
       "output_type": "stream",
       "stream": "stdout",
       "text": "\nzc: 32.6614911 -97.1467072"
      },
      {
       "output_type": "stream",
       "stream": "stdout",
       "text": "\nzc 76017: 32.6614911/-97.1467072, 48439/Tarrant"
      },
      {
       "output_type": "stream",
       "stream": "stdout",
       "text": "\nzc: 47.6688298 -122.1923875"
      },
      {
       "output_type": "stream",
       "stream": "stdout",
       "text": "\nzc 98033: 47.6688298/-122.1923875, 53033/King"
      },
      {
       "output_type": "stream",
       "stream": "stdout",
       "text": "\nzc: 42.4884618 -71.1329685"
      },
      {
       "output_type": "stream",
       "stream": "stdout",
       "text": "\nzc 01801: 42.4884618/-71.1329685, 25017/Middlesex"
      },
      {
       "output_type": "stream",
       "stream": "stdout",
       "text": "\nzc: 40.115674 -83.1327332"
      },
      {
       "output_type": "stream",
       "stream": "stdout",
       "text": "\nzc 43017: 40.115674/-83.1327332, 39049/Franklin"
      },
      {
       "output_type": "stream",
       "stream": "stdout",
       "text": "\nzc: 37.938818 -122.5344456"
      },
      {
       "output_type": "stream",
       "stream": "stdout",
       "text": "\nzc 94939: 37.938818/-122.5344456, 06041/Marin"
      },
      {
       "output_type": "stream",
       "stream": "stdout",
       "text": "\nzc: 35.0729762 -106.6173415"
      },
      {
       "output_type": "stream",
       "stream": "stdout",
       "text": "\nzc 87106: 35.0729762/-106.6173415, 35001/Bernalillo"
      },
      {
       "output_type": "stream",
       "stream": "stdout",
       "text": "\nzc: 28.6366753 -81.3674389"
      },
      {
       "output_type": "stream",
       "stream": "stdout",
       "text": "\nzc 32751: 28.6366753/-81.3674389, 12095/Orange"
      },
      {
       "output_type": "stream",
       "stream": "stdout",
       "text": "\nzc: 39.8630611 -74.8156199"
      },
      {
       "output_type": "stream",
       "stream": "stdout",
       "text": "\nzc 08055: 39.8630611/-74.8156199, 34005/Burlington"
      },
      {
       "output_type": "stream",
       "stream": "stdout",
       "text": "\nzc: 35.1590068 -106.5760857"
      },
      {
       "output_type": "stream",
       "stream": "stdout",
       "text": "\nzc 87109: 35.1590068/-106.5760857, 35001/Bernalillo"
      },
      {
       "output_type": "stream",
       "stream": "stdout",
       "text": "\nzc: 39.1048032 -77.2520101"
      },
      {
       "output_type": "stream",
       "stream": "stdout",
       "text": "\nzc 20878: 39.1048032/-77.2520101, 24031/Montgomery"
      },
      {
       "output_type": "stream",
       "stream": "stdout",
       "text": "\nzc: 42.4861078 -72.2126905"
      },
      {
       "output_type": "stream",
       "stream": "stdout",
       "text": "\nzc 01366: 42.4861078/-72.2126905, 25027/Worcester"
      },
      {
       "output_type": "stream",
       "stream": "stdout",
       "text": "\nzc: 39.1438746 -77.1887747"
      },
      {
       "output_type": "stream",
       "stream": "stdout",
       "text": "\nzc 20877: 39.1438746/-77.1887747, 24031/Montgomery"
      },
      {
       "output_type": "stream",
       "stream": "stdout",
       "text": "\nzc: 39.1043687 -76.8836261"
      },
      {
       "output_type": "stream",
       "stream": "stdout",
       "text": "\nzc 20707: 39.1043687/-76.8836261, 24033/Prince George's"
      },
      {
       "output_type": "stream",
       "stream": "stdout",
       "text": "\nzc: 32.8495562 -97.9374948"
      },
      {
       "output_type": "stream",
       "stream": "stdout",
       "text": "\nzc 76088: 32.8495562/-97.9374948, 48367/Parker"
      },
      {
       "output_type": "stream",
       "stream": "stdout",
       "text": "\nzc: 33.473501 -84.5012435"
      },
      {
       "output_type": "stream",
       "stream": "stdout",
       "text": "\nzc 30214: 33.473501/-84.5012435, 13113/Fayette"
      },
      {
       "output_type": "stream",
       "stream": "stdout",
       "text": "\nzc: 40.6112959 -111.8985922"
      },
      {
       "output_type": "stream",
       "stream": "stdout",
       "text": "\nzc 84047: 40.6112959/-111.8985922, 49035/Salt Lake"
      },
      {
       "output_type": "stream",
       "stream": "stdout",
       "text": "\nzc: 33.8673266 -118.3286614"
      },
      {
       "output_type": "stream",
       "stream": "stdout",
       "text": "\nzc 90504: 33.8673266/-118.3286614, 06037/Los Angeles"
      },
      {
       "output_type": "stream",
       "stream": "stdout",
       "text": "\nzc: 37.0353977 -121.9871217"
      },
      {
       "output_type": "stream",
       "stream": "stdout",
       "text": "\nzc 95065: 37.0353977/-121.9871217, 06087/Santa Cruz"
      },
      {
       "output_type": "stream",
       "stream": "stdout",
       "text": "\nzc: 40.1060728 -88.2217733"
      },
      {
       "output_type": "stream",
       "stream": "stdout",
       "text": "\nzc 61801: 40.1060728/-88.2217733, 17019/Champaign"
      },
      {
       "output_type": "stream",
       "stream": "stdout",
       "text": "\nzc: 40.110052 -88.148657"
      },
      {
       "output_type": "stream",
       "stream": "stdout",
       "text": "\nzc 61802: 40.110052/-88.148657, 17019/Champaign"
      },
      {
       "output_type": "stream",
       "stream": "stdout",
       "text": "\nzc: 37.67231 -97.3138554"
      },
      {
       "output_type": "stream",
       "stream": "stdout",
       "text": "\nzc 67211: 37.67231/-97.3138554, 20173/Sedgwick"
      },
      {
       "output_type": "stream",
       "stream": "stdout",
       "text": "\nzc: 29.1561929 -82.2039882"
      },
      {
       "output_type": "stream",
       "stream": "stdout",
       "text": "\nzc 34474: 29.1561929/-82.2039882, 12083/Marion"
      },
      {
       "output_type": "stream",
       "stream": "stdout",
       "text": "\nzc: 44.4835983 -72.7045432"
      },
      {
       "output_type": "stream",
       "stream": "stdout",
       "text": "\nzc 05672: 44.4835983/-72.7045432, 50015/Lamoille"
      },
      {
       "output_type": "stream",
       "stream": "stdout",
       "text": "\nzc: 40.7645239 -73.9624327"
      },
      {
       "output_type": "stream",
       "stream": "stdout",
       "text": "\nzc 10065: 40.7645239/-73.9624327, 36061/New York"
      },
      {
       "output_type": "stream",
       "stream": "stdout",
       "text": "\nzc: 38.9791799 -94.3667907"
      },
      {
       "output_type": "stream",
       "stream": "stdout",
       "text": "\nzc 64064: 38.9791799/-94.3667907, 29095/Jackson"
      },
      {
       "output_type": "stream",
       "stream": "stdout",
       "text": "\nzc: 41.2921503 -96.0573302"
      },
      {
       "output_type": "stream",
       "stream": "stdout",
       "text": "\nzc 68134: 41.2921503/-96.0573302, 31055/Douglas"
      },
      {
       "output_type": "stream",
       "stream": "stdout",
       "text": "\nzc: 33.0386278 -96.8243812"
      },
      {
       "output_type": "stream",
       "stream": "stdout",
       "text": "\nzc 75093: 33.0386278/-96.8243812, 48085/Collin"
      },
      {
       "output_type": "stream",
       "stream": "stdout",
       "text": "\nzc: 45.0122826 -93.1640525"
      },
      {
       "output_type": "stream",
       "stream": "stdout",
       "text": "\nzc 55113: 45.0122826/-93.1640525, 27123/Ramsey"
      },
      {
       "output_type": "stream",
       "stream": "stdout",
       "text": "\nzc: 42.7247832 -84.4832117"
      },
      {
       "output_type": "stream",
       "stream": "stdout",
       "text": "\nzc 48824: 42.7247832/-84.4832117, 26065/Ingham"
      },
      {
       "output_type": "stream",
       "stream": "stdout",
       "text": "\nzc: 41.6339479 -87.7418842"
      },
      {
       "output_type": "stream",
       "stream": "stdout",
       "text": "\nzc 60445: 41.6339479/-87.7418842, 17031/Cook"
      },
      {
       "output_type": "stream",
       "stream": "stdout",
       "text": "\nzc: 41.1333549 -112.0595603"
      },
      {
       "output_type": "stream",
       "stream": "stdout",
       "text": "\nzc 84015: 41.1333549/-112.0595603, 49011/Davis"
      },
      {
       "output_type": "stream",
       "stream": "stdout",
       "text": "\nzc: 41.9511782 -74.006509"
      },
      {
       "output_type": "stream",
       "stream": "stdout",
       "text": "\nzc 12401: 41.9511782/-74.006509, 36111/Ulster"
      },
      {
       "output_type": "stream",
       "stream": "stdout",
       "text": "\nzc: 37.7432421 -122.497668"
      },
      {
       "output_type": "stream",
       "stream": "stdout",
       "text": "\nzc 94116: 37.7432421/-122.497668, 06075/San Francisco"
      },
      {
       "output_type": "stream",
       "stream": "stdout",
       "text": "\nzc: 29.9798109 -90.0793488"
      },
      {
       "output_type": "stream",
       "stream": "stdout",
       "text": "\nzc 70119: 29.9798109/-90.0793488, 22071/Orleans"
      },
      {
       "output_type": "stream",
       "stream": "stdout",
       "text": "\nzc: 41.0924881 -73.4239143"
      },
      {
       "output_type": "stream",
       "stream": "stdout",
       "text": "\nzc 06854: 41.0924881/-73.4239143, 09001/Fairfield"
      },
      {
       "output_type": "stream",
       "stream": "stdout",
       "text": "\nzc: 40.4853645 -105.2428853"
      },
      {
       "output_type": "stream",
       "stream": "stdout",
       "text": "\nzc 80538: 40.4853645/-105.2428853, 08069/Larimer"
      },
      {
       "output_type": "stream",
       "stream": "stdout",
       "text": "\nzc: 34.1544724 -118.5914696"
      },
      {
       "output_type": "stream",
       "stream": "stdout",
       "text": "\nzc 91364: 34.1544724/-118.5914696, 06037/Los Angeles"
      },
      {
       "output_type": "stream",
       "stream": "stdout",
       "text": "\nzc: 43.0874906 -70.8357792"
      },
      {
       "output_type": "stream",
       "stream": "stdout",
       "text": "\nzc 03801: 43.0874906/-70.8357792, 33015/Rockingham"
      },
      {
       "output_type": "stream",
       "stream": "stdout",
       "text": "\nzc: 42.6742723 -83.2398943"
      },
      {
       "output_type": "stream",
       "stream": "stdout",
       "text": "\nzc 48326: 42.6742723/-83.2398943, 26125/Oakland"
      },
      {
       "output_type": "stream",
       "stream": "stdout",
       "text": "\nzc: 29.7970042 -95.4830243"
      },
      {
       "output_type": "stream",
       "stream": "stdout",
       "text": "\nzc 77055: 29.7970042/-95.4830243, 48201/Harris"
      },
      {
       "output_type": "stream",
       "stream": "stdout",
       "text": "\nzc: 44.3591968 -87.7960067"
      },
      {
       "output_type": "stream",
       "stream": "stdout",
       "text": "\nzc 54208: 44.3591968/-87.7960067, 55009/Brown"
      },
      {
       "output_type": "stream",
       "stream": "stdout",
       "text": "\nzc: 44.4315664 -73.1059193"
      },
      {
       "output_type": "stream",
       "stream": "stdout",
       "text": "\nzc 05495: 44.4315664/-73.1059193, 50007/Chittenden"
      },
      {
       "output_type": "stream",
       "stream": "stdout",
       "text": "\nzc: 39.986277 -75.6091696"
      },
      {
       "output_type": "stream",
       "stream": "stdout",
       "text": "\nzc 19380: 39.986277/-75.6091696, 42029/Chester"
      },
      {
       "output_type": "stream",
       "stream": "stdout",
       "text": "\nzc: 43.0772547 -89.430773"
      },
      {
       "output_type": "stream",
       "stream": "stdout",
       "text": "\nzc 53792: 43.0772547/-89.430773, 55025/Dane"
      },
      {
       "output_type": "stream",
       "stream": "stdout",
       "text": "\nzc: 41.8816606 -87.6926257"
      },
      {
       "output_type": "stream",
       "stream": "stdout",
       "text": "\nzc 60612: 41.8816606/-87.6926257, 17031/Cook"
      },
      {
       "output_type": "stream",
       "stream": "stdout",
       "text": "\nzc: 35.4578674 -105.7585908"
      },
      {
       "output_type": "stream",
       "stream": "stdout",
       "text": "\nzc 87508: 35.4578674/-105.7585908, 35049/Santa Fe"
      },
      {
       "output_type": "stream",
       "stream": "stdout",
       "text": "\nzc: 33.0869379 -96.7601057"
      },
      {
       "output_type": "stream",
       "stream": "stdout",
       "text": "\nzc 75025: 33.0869379/-96.7601057, 48085/Collin"
      },
      {
       "output_type": "stream",
       "stream": "stdout",
       "text": "\nzc: 35.616067 -105.8525154"
      },
      {
       "output_type": "stream",
       "stream": "stdout",
       "text": "\nzc 87505: 35.616067/-105.8525154, 35049/Santa Fe"
      },
      {
       "output_type": "stream",
       "stream": "stdout",
       "text": "\nzc: 38.5787831 -90.4219444"
      },
      {
       "output_type": "stream",
       "stream": "stdout",
       "text": "\nzc 63122: 38.5787831/-90.4219444, 29189/St. Louis"
      },
      {
       "output_type": "stream",
       "stream": "stdout",
       "text": "\nzc: 34.0963058 -118.4980744"
      },
      {
       "output_type": "stream",
       "stream": "stdout",
       "text": "\nzc 90049: 34.0963058/-118.4980744, 06037/Los Angeles"
      },
      {
       "output_type": "stream",
       "stream": "stdout",
       "text": "\nzc: 28.5417016 -81.2408689"
      },
      {
       "output_type": "stream",
       "stream": "stdout",
       "text": "\nzc 32825: 28.5417016/-81.2408689, 12095/Orange"
      },
      {
       "output_type": "stream",
       "stream": "stdout",
       "text": "\nzc: 32.2680738 -110.9923904"
      },
      {
       "output_type": "stream",
       "stream": "stdout",
       "text": "\nzc 85705: 32.2680738/-110.9923904, 04019/Pima"
      },
      {
       "output_type": "stream",
       "stream": "stdout",
       "text": "\nzc: 40.206625 -75.2984702"
      },
      {
       "output_type": "stream",
       "stream": "stdout",
       "text": "\nzc 19486: 40.206625/-75.2984702, 42091/Montgomery"
      },
      {
       "output_type": "stream",
       "stream": "stdout",
       "text": "\nzc: 36.0196499 -79.7624177"
      },
      {
       "output_type": "stream",
       "stream": "stdout",
       "text": "\nzc 27406: 36.0196499/-79.7624177, 37081/Guilford"
      },
      {
       "output_type": "stream",
       "stream": "stdout",
       "text": "\nzc: 34.1642396 -118.0830047"
      },
      {
       "output_type": "stream",
       "stream": "stdout",
       "text": "\nzc 91107: 34.1642396/-118.0830047, 06037/Los Angeles"
      },
      {
       "output_type": "stream",
       "stream": "stdout",
       "text": "\nzc: 38.3836812 -77.5390127"
      },
      {
       "output_type": "stream",
       "stream": "stdout",
       "text": "\nzc 22406: 38.3836812/-77.5390127, 51179/Stafford"
      },
      {
       "output_type": "stream",
       "stream": "stdout",
       "text": "\nzc: 42.6696364 -71.0854325"
      },
      {
       "output_type": "stream",
       "stream": "stdout",
       "text": "\nzc 01845: 42.6696364/-71.0854325, 25009/Essex"
      },
      {
       "output_type": "stream",
       "stream": "stdout",
       "text": "\nzc: 37.2583724 -121.918866"
      },
      {
       "output_type": "stream",
       "stream": "stdout",
       "text": "\nzc 95124: 37.2583724/-121.918866, 06085/Santa Clara"
      },
      {
       "output_type": "stream",
       "stream": "stdout",
       "text": "\nzc: 38.8991212 -77.7223162"
      },
      {
       "output_type": "stream",
       "stream": "stdout",
       "text": "\nzc 20198: 38.8991212/-77.7223162, 51061/Fauquier"
      },
      {
       "output_type": "stream",
       "stream": "stdout",
       "text": "\nzc: 26.1218038 -80.2209773"
      },
      {
       "output_type": "stream",
       "stream": "stdout",
       "text": "\nzc 33317: 26.1218038/-80.2209773, 12011/Broward"
      },
      {
       "output_type": "stream",
       "stream": "stdout",
       "text": "\nzc: 30.1588305 -81.6582994"
      },
      {
       "output_type": "stream",
       "stream": "stdout",
       "text": "\nzc 32223: 30.1588305/-81.6582994, 12031/Duval"
      },
      {
       "output_type": "stream",
       "stream": "stdout",
       "text": "\nzc: 35.9679365 -80.0423151"
      },
      {
       "output_type": "stream",
       "stream": "stdout",
       "text": "\nzc 27262: 35.9679365/-80.0423151, 37057/Davidson"
      },
      {
       "output_type": "stream",
       "stream": "stdout",
       "text": "\nzc: 30.3870686 -97.7036561"
      },
      {
       "output_type": "stream",
       "stream": "stdout",
       "text": "\nzc 78758: 30.3870686/-97.7036561, 48453/Travis"
      },
      {
       "output_type": "stream",
       "stream": "stdout",
       "text": "\nzc: 42.0361546 -88.314212"
      },
      {
       "output_type": "stream",
       "stream": "stdout",
       "text": "\nzc 60123: 42.0361546/-88.314212, 17089/Kane"
      },
      {
       "output_type": "stream",
       "stream": "stdout",
       "text": "\nzc: 32.9985237 -96.84046"
      },
      {
       "output_type": "stream",
       "stream": "stdout",
       "text": "\nzc 75287: 32.9985237/-96.84046, 48121/Denton"
      },
      {
       "output_type": "stream",
       "stream": "stdout",
       "text": "\nzc: 41.9270157 -91.6955092"
      },
      {
       "output_type": "stream",
       "stream": "stdout",
       "text": "\nzc 52404: 41.9270157/-91.6955092, 19113/Linn"
      },
      {
       "output_type": "stream",
       "stream": "stdout",
       "text": "\nzc: 37.4457966 -122.1575745"
      },
      {
       "output_type": "stream",
       "stream": "stdout",
       "text": "\nzc 94301: 37.4457966/-122.1575745, 06085/Santa Clara"
      },
      {
       "output_type": "stream",
       "stream": "stdout",
       "text": "\nzc: 33.3519301 -111.8210866"
      },
      {
       "output_type": "stream",
       "stream": "stdout",
       "text": "\nzc 85233: 33.3519301/-111.8210866, 04013/Maricopa"
      },
      {
       "output_type": "stream",
       "stream": "stdout",
       "text": "\nzc: 33.8752397 -111.9284017"
      },
      {
       "output_type": "stream",
       "stream": "stdout",
       "text": "\nzc 85331: 33.8752397/-111.9284017, 04013/Maricopa"
      },
      {
       "output_type": "stream",
       "stream": "stdout",
       "text": "\nzc: 27.2612782 -82.5131717"
      },
      {
       "output_type": "stream",
       "stream": "stdout",
       "text": "\nzc 34231: 27.2612782/-82.5131717, 12115/Sarasota"
      },
      {
       "output_type": "stream",
       "stream": "stdout",
       "text": "\nzc: 27.3346138 -82.4644445"
      },
      {
       "output_type": "stream",
       "stream": "stdout",
       "text": "\nzc 34232: 27.3346138/-82.4644445, 12115/Sarasota"
      },
      {
       "output_type": "stream",
       "stream": "stdout",
       "text": "\nzc: 35.7524399 -79.1774268"
      },
      {
       "output_type": "stream",
       "stream": "stdout",
       "text": "\nzc 27312: 35.7524399/-79.1774268, 37037/Chatham"
      },
      {
       "output_type": "stream",
       "stream": "stdout",
       "text": "\nzc: 36.1794934 -79.9975916"
      },
      {
       "output_type": "stream",
       "stream": "stdout",
       "text": "\nzc 27310: 36.1794934/-79.9975916, 37081/Guilford"
      },
      {
       "output_type": "stream",
       "stream": "stdout",
       "text": "\nzc: 27.1916272 -80.2488596"
      },
      {
       "output_type": "stream",
       "stream": "stdout",
       "text": "\nzc 34994: 27.1916272/-80.2488596, 12085/Martin"
      },
      {
       "output_type": "stream",
       "stream": "stdout",
       "text": "\nzc: 32.9464268 -97.0713572"
      },
      {
       "output_type": "stream",
       "stream": "stdout",
       "text": "\nzc 76051: 32.9464268/-97.0713572, 48439/Tarrant"
      },
      {
       "output_type": "stream",
       "stream": "stdout",
       "text": "\nzc: 38.6115662 -76.6181655"
      },
      {
       "output_type": "stream",
       "stream": "stdout",
       "text": "\nzc 20639: 38.6115662/-76.6181655, 24009/Calvert"
      },
      {
       "output_type": "stream",
       "stream": "stdout",
       "text": "\nzc: 30.0442264 -95.2162283"
      },
      {
       "output_type": "stream",
       "stream": "stdout",
       "text": "\nzc 77339: 30.0442264/-95.2162283, 48201/Harris"
      },
      {
       "output_type": "stream",
       "stream": "stdout",
       "text": "\nzc: 29.9956304 -95.2788926"
      },
      {
       "output_type": "stream",
       "stream": "stdout",
       "text": "\nzc 77338: 29.9956304/-95.2788926, 48201/Harris"
      },
      {
       "output_type": "stream",
       "stream": "stdout",
       "text": "\nzc: 38.1248882 -84.5012435"
      },
      {
       "output_type": "stream",
       "stream": "stdout",
       "text": "\nzc 40511: 38.1248882/-84.5012435, 21067/Fayette"
      },
      {
       "output_type": "stream",
       "stream": "stdout",
       "text": "\nzc: 38.0765476 -84.5955732"
      },
      {
       "output_type": "stream",
       "stream": "stdout",
       "text": "\nzc 40510: 38.0765476/-84.5955732, 21067/Fayette"
      },
      {
       "output_type": "stream",
       "stream": "stdout",
       "text": "\nzc: 36.849734 -76.097201"
      },
      {
       "output_type": "stream",
       "stream": "stdout",
       "text": "\nzc 23452: 36.849734/-76.097201, 51810/Virginia Beach"
      },
      {
       "output_type": "stream",
       "stream": "stdout",
       "text": "\nzc: 32.749789 -117.1676501"
      },
      {
       "output_type": "stream",
       "stream": "stdout",
       "text": "\nzc 92103: 32.749789/-117.1676501, 06073/San Diego"
      },
      {
       "output_type": "stream",
       "stream": "stdout",
       "text": "\nzc: 29.7451163 -95.6195112"
      },
      {
       "output_type": "stream",
       "stream": "stdout",
       "text": "\nzc 77077: 29.7451163/-95.6195112, 48201/Harris"
      },
      {
       "output_type": "stream",
       "stream": "stdout",
       "text": "\nzc: 30.665991 -96.471658"
      },
      {
       "output_type": "stream",
       "stream": "stdout",
       "text": "\nzc 77807: 30.665991/-96.471658, 48041/Brazos"
      },
      {
       "output_type": "stream",
       "stream": "stdout",
       "text": "\nzc: 26.3042864 -80.1540226"
      },
      {
       "output_type": "stream",
       "stream": "stdout",
       "text": "\nzc 33442: 26.3042864/-80.1540226, 12011/Broward"
      },
      {
       "output_type": "stream",
       "stream": "stdout",
       "text": "\nzc: 40.7686973 -73.9918181"
      },
      {
       "output_type": "stream",
       "stream": "stdout",
       "text": "\nzc 10019: 40.7686973/-73.9918181, 36061/New York"
      },
      {
       "output_type": "stream",
       "stream": "stdout",
       "text": "\nzc: 36.149751 -115.0762536"
      },
      {
       "output_type": "stream",
       "stream": "stdout",
       "text": "\nzc 89104: 36.149751/-115.0762536, 32003/Clark"
      },
      {
       "output_type": "stream",
       "stream": "stdout",
       "text": "\nzc: 30.374367 -86.3585578"
      },
      {
       "output_type": "stream",
       "stream": "stdout",
       "text": "\nzc 32550: 30.374367/-86.3585578, 12131/Walton"
      },
      {
       "output_type": "stream",
       "stream": "stdout",
       "text": "\nzc: 39.3809028 -119.9277947"
      },
      {
       "output_type": "stream",
       "stream": "stdout",
       "text": "\nzc 89511: 39.3809028/-119.9277947, 32031/Washoe"
      },
      {
       "output_type": "stream",
       "stream": "stdout",
       "text": "\nzc: 39.9556241 -75.1647529"
      },
      {
       "output_type": "stream",
       "stream": "stdout",
       "text": "\nzc 19102: 39.9556241/-75.1647529, 42101/Philadelphia"
      },
      {
       "output_type": "stream",
       "stream": "stdout",
       "text": "\nzc: 39.9531865 -75.1749671"
      },
      {
       "output_type": "stream",
       "stream": "stdout",
       "text": "\nzc 19103: 39.9531865/-75.1749671, 42101/Philadelphia"
      },
      {
       "output_type": "stream",
       "stream": "stdout",
       "text": "\nzc: 33.7514861 -117.7549295"
      },
      {
       "output_type": "stream",
       "stream": "stdout",
       "text": "\nzc 92602: 33.7514861/-117.7549295, 06059/Orange"
      },
      {
       "output_type": "stream",
       "stream": "stdout",
       "text": "\nzc: 34.9274555 -80.7436141"
      },
      {
       "output_type": "stream",
       "stream": "stdout",
       "text": "\nzc 28173: 34.9274555/-80.7436141, 37179/Union"
      },
      {
       "output_type": "stream",
       "stream": "stdout",
       "text": "\nzc: 39.9583587 -75.1953934"
      },
      {
       "output_type": "stream",
       "stream": "stdout",
       "text": "\nzc 19104: 39.9583587/-75.1953934, 42101/Philadelphia"
      },
      {
       "output_type": "stream",
       "stream": "stdout",
       "text": "\nzc: 25.9400585 -80.2153998"
      },
      {
       "output_type": "stream",
       "stream": "stdout",
       "text": "\nzc 33169: 25.9400585/-80.2153998, 12086/Miami-Dade"
      },
      {
       "output_type": "stream",
       "stream": "stdout",
       "text": "\nzc: 33.7637689 -116.3426552"
      },
      {
       "output_type": "stream",
       "stream": "stdout",
       "text": "\nzc 92211: 33.7637689/-116.3426552, 06065/Riverside"
      },
      {
       "output_type": "stream",
       "stream": "stdout",
       "text": "\nzc: 34.6939733 -86.6107106"
      },
      {
       "output_type": "stream",
       "stream": "stdout",
       "text": "\nzc 35805: 34.6939733/-86.6107106, 01089/Madison"
      },
      {
       "output_type": "stream",
       "stream": "stdout",
       "text": "\nzc: 44.9465193 -93.3439291"
      },
      {
       "output_type": "stream",
       "stream": "stdout",
       "text": "\nzc 55416: 44.9465193/-93.3439291, 27053/Hennepin"
      },
      {
       "output_type": "stream",
       "stream": "stdout",
       "text": "\nzc: 42.0528293 -93.8655303"
      },
      {
       "output_type": "stream",
       "stream": "stdout",
       "text": "\nzc 50036: 42.0528293/-93.8655303, 19015/Boone"
      },
      {
       "output_type": "stream",
       "stream": "stdout",
       "text": "\nzc: 29.6156734 -82.3659168"
      },
      {
       "output_type": "stream",
       "stream": "stdout",
       "text": "\nzc 32608: 29.6156734/-82.3659168, 12001/Alachua"
      },
      {
       "output_type": "stream",
       "stream": "stdout",
       "text": "\nzc: 42.4966195 -83.2880591"
      },
      {
       "output_type": "stream",
       "stream": "stdout",
       "text": "\nzc 48034: 42.4966195/-83.2880591, 26125/Oakland"
      },
      {
       "output_type": "stream",
       "stream": "stdout",
       "text": "\nzc: 28.0133862 -82.5077593"
      },
      {
       "output_type": "stream",
       "stream": "stdout",
       "text": "\nzc 33614: 28.0133862/-82.5077593, 12057/Hillsborough"
      },
      {
       "output_type": "stream",
       "stream": "stdout",
       "text": "\nzc: 30.2906907 -81.5706109"
      },
      {
       "output_type": "stream",
       "stream": "stdout",
       "text": "\nzc 32216: 30.2906907/-81.5706109, 12031/Duval"
      },
      {
       "output_type": "stream",
       "stream": "stdout",
       "text": "\nzc: 29.9161683 -95.5302337"
      },
      {
       "output_type": "stream",
       "stream": "stdout",
       "text": "\nzc 77064: 29.9161683/-95.5302337, 48201/Harris"
      },
      {
       "output_type": "stream",
       "stream": "stdout",
       "text": "\nzc: 36.0564654 -80.3324514"
      },
      {
       "output_type": "stream",
       "stream": "stdout",
       "text": "\nzc 27103: 36.0564654/-80.3324514, 37067/Forsyth"
      },
      {
       "output_type": "stream",
       "stream": "stdout",
       "text": "\nzc: 37.2332092 -80.4244805"
      },
      {
       "output_type": "stream",
       "stream": "stdout",
       "text": "\nzc 24061: 37.2332092/-80.4244805, 51121/Montgomery"
      },
      {
       "output_type": "stream",
       "stream": "stdout",
       "text": "\nzc: 37.2724841 -80.4326521"
      },
      {
       "output_type": "stream",
       "stream": "stdout",
       "text": "\nzc 24060: 37.2724841/-80.4326521, 51121/Montgomery"
      },
      {
       "output_type": "stream",
       "stream": "stdout",
       "text": "\nzc: 27.9006925 -82.6861446"
      },
      {
       "output_type": "stream",
       "stream": "stdout",
       "text": "\nzc 33762: 27.9006925/-82.6861446, 12103/Pinellas"
      },
      {
       "output_type": "stream",
       "stream": "stdout",
       "text": "\nzc: 37.5481822 -77.4533454"
      },
      {
       "output_type": "stream",
       "stream": "stdout",
       "text": "\nzc 23284: 37.5481822/-77.4533454, 51760/Richmond"
      },
      {
       "output_type": "stream",
       "stream": "stdout",
       "text": "\nzc: 33.4514846 -86.7315785"
      },
      {
       "output_type": "stream",
       "stream": "stdout",
       "text": "\nzc 35243: 33.4514846/-86.7315785, 01073/Jefferson"
      },
      {
       "output_type": "stream",
       "stream": "stdout",
       "text": "\nzc: 44.9479845 -113.9660111"
      },
      {
       "output_type": "stream",
       "stream": "stdout",
       "text": "\nzc 83467: 44.9479845/-113.9660111, 16059/Lemhi"
      },
      {
       "output_type": "stream",
       "stream": "stdout",
       "text": "\nzc: 41.0875099 -81.6363869"
      },
      {
       "output_type": "stream",
       "stream": "stdout",
       "text": "\nzc 44321: 41.0875099/-81.6363869, 39153/Summit"
      },
      {
       "output_type": "stream",
       "stream": "stdout",
       "text": "\nzc: 42.4657318 -72.6269437"
      },
      {
       "output_type": "stream",
       "stream": "stdout",
       "text": "\nzc 01373: 42.4657318/-72.6269437, 25011/Franklin"
      },
      {
       "output_type": "stream",
       "stream": "stdout",
       "text": "\nzc: 42.4546495 -72.5559746"
      },
      {
       "output_type": "stream",
       "stream": "stdout",
       "text": "\nzc 01375: 42.4546495/-72.5559746, 25011/Franklin"
      },
      {
       "output_type": "stream",
       "stream": "stdout",
       "text": "\nzc: 35.9632133 -86.5299673"
      },
      {
       "output_type": "stream",
       "stream": "stdout",
       "text": "\nzc 37167: 35.9632133/-86.5299673, 47149/Rutherford"
      },
      {
       "output_type": "stream",
       "stream": "stdout",
       "text": "\nzc: 35.1030501 -106.5171626"
      },
      {
       "output_type": "stream",
       "stream": "stdout",
       "text": "\nzc 87112: 35.1030501/-106.5171626, 35001/Bernalillo"
      },
      {
       "output_type": "stream",
       "stream": "stdout",
       "text": "\nzc: 35.1894316 -106.5878723"
      },
      {
       "output_type": "stream",
       "stream": "stdout",
       "text": "\nzc 87113: 35.1894316/-106.5878723, 35001/Bernalillo"
      },
      {
       "output_type": "stream",
       "stream": "stdout",
       "text": "\nzc: 35.1322706 -106.4994889"
      },
      {
       "output_type": "stream",
       "stream": "stdout",
       "text": "\nzc 87111: 35.1322706/-106.4994889, 35001/Bernalillo"
      },
      {
       "output_type": "stream",
       "stream": "stdout",
       "text": "\nzc: 40.7111586 -73.3060197"
      },
      {
       "output_type": "stream",
       "stream": "stdout",
       "text": "\nzc 11795: 40.7111586/-73.3060197, 36103/Suffolk"
      },
      {
       "output_type": "stream",
       "stream": "stdout",
       "text": "\nzc: 30.432242 -97.7145152"
      },
      {
       "output_type": "stream",
       "stream": "stdout",
       "text": "\nzc 78727: 30.432242/-97.7145152, 48453/Travis"
      },
      {
       "output_type": "stream",
       "stream": "stdout",
       "text": "\nzc: 38.2586184 -85.5457689"
      },
      {
       "output_type": "stream",
       "stream": "stdout",
       "text": "\nzc 40223: 38.2586184/-85.5457689, 21111/Jefferson"
      },
      {
       "output_type": "stream",
       "stream": "stdout",
       "text": "\nzc: 33.4763518 -112.2980119"
      },
      {
       "output_type": "stream",
       "stream": "stdout",
       "text": "\nzc 85392: 33.4763518/-112.2980119, 04013/Maricopa"
      },
      {
       "output_type": "stream",
       "stream": "stdout",
       "text": "\nzc: 35.7418297 -78.713608"
      },
      {
       "output_type": "stream",
       "stream": "stdout",
       "text": "\nzc 27606: 35.7418297/-78.713608, 37183/Wake"
      },
      {
       "output_type": "stream",
       "stream": "stdout",
       "text": "\nzc: 35.8019142 -78.6875364"
      },
      {
       "output_type": "stream",
       "stream": "stdout",
       "text": "\nzc 27607: 35.8019142/-78.6875364, 37183/Wake"
      },
      {
       "output_type": "stream",
       "stream": "stdout",
       "text": "\nzc: 42.2356407 -71.6969985"
      },
      {
       "output_type": "stream",
       "stream": "stdout",
       "text": "\nzc 01536: 42.2356407/-71.6969985, 25027/Worcester"
      },
      {
       "output_type": "stream",
       "stream": "stdout",
       "text": "\nzc: 39.6696322 -104.9330448"
      },
      {
       "output_type": "stream",
       "stream": "stdout",
       "text": "\nzc 80222: 39.6696322/-104.9330448, 08031/Denver"
      },
      {
       "output_type": "stream",
       "stream": "stdout",
       "text": "\nzc: 34.1232517 -118.0830047"
      },
      {
       "output_type": "stream",
       "stream": "stdout",
       "text": "\nzc 91775: 34.1232517/-118.0830047, 06037/Los Angeles"
      },
      {
       "output_type": "stream",
       "stream": "stdout",
       "text": "\nzc: 39.703893 -84.2173403"
      },
      {
       "output_type": "stream",
       "stream": "stdout",
       "text": "\nzc 45439: 39.703893/-84.2173403, 39113/Montgomery"
      },
      {
       "output_type": "stream",
       "stream": "stdout",
       "text": "\nzc: 30.5368372 -96.3013432"
      },
      {
       "output_type": "stream",
       "stream": "stdout",
       "text": "\nzc 77845: 30.5368372/-96.3013432, 48041/Brazos"
      },
      {
       "output_type": "stream",
       "stream": "stdout",
       "text": "\nzc: 43.0282084 -89.5214505"
      },
      {
       "output_type": "stream",
       "stream": "stdout",
       "text": "\nzc 53719: 43.0282084/-89.5214505, 55025/Dane"
      },
      {
       "output_type": "stream",
       "stream": "stdout",
       "text": "\nzc: 39.1495912 -84.3909991"
      },
      {
       "output_type": "stream",
       "stream": "stdout",
       "text": "\nzc 45227: 39.1495912/-84.3909991, 39061/Hamilton"
      },
      {
       "output_type": "stream",
       "stream": "stdout",
       "text": "\nzc: 42.3097365 -71.1151431"
      },
      {
       "output_type": "stream",
       "stream": "stdout",
       "text": "\nzc 02130: 42.3097365/-71.1151431, 25025/Suffolk"
      },
      {
       "output_type": "stream",
       "stream": "stdout",
       "text": "\nzc: 43.0078309 -89.3321823"
      },
      {
       "output_type": "stream",
       "stream": "stdout",
       "text": "\nzc 53711: 43.0078309/-89.3321823, 55025/Dane"
      },
      {
       "output_type": "stream",
       "stream": "stdout",
       "text": "\nzc: 41.3983403 -71.4893013"
      },
      {
       "output_type": "stream",
       "stream": "stdout",
       "text": "\nzc 02882: 41.3983403/-71.4893013, 44009/Washington"
      },
      {
       "output_type": "stream",
       "stream": "stdout",
       "text": "\nzc: 41.7034769 -71.4655565"
      },
      {
       "output_type": "stream",
       "stream": "stdout",
       "text": "\nzc 02886: 41.7034769/-71.4655565, 44003/Kent"
      },
      {
       "output_type": "stream",
       "stream": "stdout",
       "text": "\nzc: 38.6299452 -90.6962853"
      },
      {
       "output_type": "stream",
       "stream": "stdout",
       "text": "\nzc 63005: 38.6299452/-90.6962853, 29189/St. Louis"
      },
      {
       "output_type": "stream",
       "stream": "stdout",
       "text": "\nzc: 42.758734 -84.448772"
      },
      {
       "output_type": "stream",
       "stream": "stdout",
       "text": "\nzc 48823: 42.758734/-84.448772, 26065/Ingham"
      },
      {
       "output_type": "stream",
       "stream": "stdout",
       "text": "\nzc: 39.919617 -76.7221082"
      },
      {
       "output_type": "stream",
       "stream": "stdout",
       "text": "\nzc 17403: 39.919617/-76.7221082, 42133/York"
      },
      {
       "output_type": "stream",
       "stream": "stdout",
       "text": "\nzc: 32.8958284 -96.8726295"
      },
      {
       "output_type": "stream",
       "stream": "stdout",
       "text": "\nzc 75229: 32.8958284/-96.8726295, 48113/Dallas"
      },
      {
       "output_type": "stream",
       "stream": "stdout",
       "text": "\nzc: 38.741877 -94.8313257"
      },
      {
       "output_type": "stream",
       "stream": "stdout",
       "text": "\nzc 66083: 38.741877/-94.8313257, 20091/Johnson"
      },
      {
       "output_type": "stream",
       "stream": "stdout",
       "text": "\nzc: 33.9226618 -117.9600466"
      },
      {
       "output_type": "stream",
       "stream": "stdout",
       "text": "\nzc 90631: 33.9226618/-117.9600466, 06059/Orange"
      },
      {
       "output_type": "stream",
       "stream": "stdout",
       "text": "\nzc: 39.7775841 -105.1083542"
      },
      {
       "output_type": "stream",
       "stream": "stdout",
       "text": "\nzc 80033: 39.7775841/-105.1083542, 08059/Jefferson"
      },
      {
       "output_type": "stream",
       "stream": "stdout",
       "text": "\nzc: 44.9790183 -93.1855735"
      },
      {
       "output_type": "stream",
       "stream": "stdout",
       "text": "\nzc 55108: 44.9790183/-93.1855735, 27123/Ramsey"
      },
      {
       "output_type": "stream",
       "stream": "stdout",
       "text": "\nzc: 45.0155505 -93.0435224"
      },
      {
       "output_type": "stream",
       "stream": "stdout",
       "text": "\nzc 55109: 45.0155505/-93.0435224, 27123/Ramsey"
      },
      {
       "output_type": "stream",
       "stream": "stdout",
       "text": "\nzc: 40.7295773 -74.5814773"
      },
      {
       "output_type": "stream",
       "stream": "stdout",
       "text": "\nzc 07924: 40.7295773/-74.5814773, 34035/Somerset"
      },
      {
       "output_type": "stream",
       "stream": "stdout",
       "text": "\nzc: 40.57 -105.09"
      },
      {
       "output_type": "stream",
       "stream": "stdout",
       "text": "\nzc 80523: 40.57/-105.09, 08069/Larimer"
      },
      {
       "output_type": "stream",
       "stream": "stdout",
       "text": "\nzc: 40.5293254 -105.1375908"
      },
      {
       "output_type": "stream",
       "stream": "stdout",
       "text": "\nzc 80526: 40.5293254/-105.1375908, 08069/Larimer"
      },
      {
       "output_type": "stream",
       "stream": "stdout",
       "text": "\nzc: 33.2891965 -86.9624086"
      },
      {
       "output_type": "stream",
       "stream": "stdout",
       "text": "\nzc 35022: 33.2891965/-86.9624086, 01073/Jefferson"
      },
      {
       "output_type": "stream",
       "stream": "stdout",
       "text": "\nzc: 40.6358803 -105.0089888"
      },
      {
       "output_type": "stream",
       "stream": "stdout",
       "text": "\nzc 80524: 40.6358803/-105.0089888, 08069/Larimer"
      },
      {
       "output_type": "stream",
       "stream": "stdout",
       "text": "\nzc: 40.5417839 -105.044052"
      },
      {
       "output_type": "stream",
       "stream": "stdout",
       "text": "\nzc 80525: 40.5417839/-105.044052, 08069/Larimer"
      },
      {
       "output_type": "stream",
       "stream": "stdout",
       "text": "\nzc: 34.0448583 -118.4484367"
      },
      {
       "output_type": "stream",
       "stream": "stdout",
       "text": "\nzc 90025: 34.0448583/-118.4484367, 06037/Los Angeles"
      },
      {
       "output_type": "stream",
       "stream": "stdout",
       "text": "\nzc: 30.0522464 -95.1588464"
      },
      {
       "output_type": "stream",
       "stream": "stdout",
       "text": "\nzc 77345: 30.0522464/-95.1588464, 48201/Harris"
      },
      {
       "output_type": "stream",
       "stream": "stdout",
       "text": "\nzc: 40.7848157 -73.471054"
      },
      {
       "output_type": "stream",
       "stream": "stdout",
       "text": "\nzc 11803: 40.7848157/-73.471054, 36059/Nassau"
      },
      {
       "output_type": "stream",
       "stream": "stdout",
       "text": "\nzc: 44.61665 33.525367"
      },
      {
       "output_type": "stream",
       "stream": "stdout",
       "text": "\nzc 99049: 44.61665/33.525367, /"
      },
      {
       "output_type": "stream",
       "stream": "stdout",
       "text": "\nzc: 39.9990626 -83.0173386"
      },
      {
       "output_type": "stream",
       "stream": "stdout",
       "text": "\nzc 43210: 39.9990626/-83.0173386, 39049/Franklin"
      },
      {
       "output_type": "stream",
       "stream": "stdout",
       "text": "\nzc: 46.7287207 -117.1542743"
      },
      {
       "output_type": "stream",
       "stream": "stdout",
       "text": "\nzc 99164: 46.7287207/-117.1542743, 53075/Whitman"
      },
      {
       "output_type": "stream",
       "stream": "stdout",
       "text": "\nzc: 42.1470851 -71.2517835"
      },
      {
       "output_type": "stream",
       "stream": "stdout",
       "text": "\nzc 02081: 42.1470851/-71.2517835, 25021/Norfolk"
      },
      {
       "output_type": "stream",
       "stream": "stdout",
       "text": "\nzc: 41.9013087 -87.6827676"
      },
      {
       "output_type": "stream",
       "stream": "stdout",
       "text": "\nzc 60622: 41.9013087/-87.6827676, 17031/Cook"
      },
      {
       "output_type": "stream",
       "stream": "stdout",
       "text": "\nzc: 40.3038147 -74.0887576"
      },
      {
       "output_type": "stream",
       "stream": "stdout",
       "text": "\nzc 07724: 40.3038147/-74.0887576, 34025/Monmouth"
      },
      {
       "output_type": "stream",
       "stream": "stdout",
       "text": "\nzc: 32.0149212 -110.6645683"
      },
      {
       "output_type": "stream",
       "stream": "stdout",
       "text": "\nzc 85641: 32.0149212/-110.6645683, 04019/Pima"
      },
      {
       "output_type": "stream",
       "stream": "stdout",
       "text": "\nzc: 41.375388 -88.8455037"
      },
      {
       "output_type": "stream",
       "stream": "stdout",
       "text": "\nzc 61350: 41.375388/-88.8455037, 17099/La Salle"
      },
      {
       "output_type": "stream",
       "stream": "stdout",
       "text": "\nzc: 26.6561841 -80.0926014"
      },
      {
       "output_type": "stream",
       "stream": "stdout",
       "text": "\nzc 33406: 26.6561841/-80.0926014, 12099/Palm Beach"
      },
      {
       "output_type": "stream",
       "stream": "stdout",
       "text": "\nzc: 25.6579955 -80.2878794"
      },
      {
       "output_type": "stream",
       "stream": "stdout",
       "text": "\nzc 33156: 25.6579955/-80.2878794, 12086/Miami-Dade"
      },
      {
       "output_type": "stream",
       "stream": "stdout",
       "text": "\nzc: 42.4004692 -71.2577233"
      },
      {
       "output_type": "stream",
       "stream": "stdout",
       "text": "\nzc 02451: 42.4004692/-71.2577233, 25017/Middlesex"
      },
      {
       "output_type": "stream",
       "stream": "stdout",
       "text": "\nzc: 38.9331391 -92.3738037"
      },
      {
       "output_type": "stream",
       "stream": "stdout",
       "text": "\nzc 65211: 38.9331391/-92.3738037, 29019/Boone"
      },
      {
       "output_type": "stream",
       "stream": "stdout",
       "text": "\nzc: 35.8722577 -84.1751648"
      },
      {
       "output_type": "stream",
       "stream": "stdout",
       "text": "\nzc 37934: 35.8722577/-84.1751648, 47093/Knox"
      },
      {
       "output_type": "stream",
       "stream": "stdout",
       "text": "\nzc: 29.6124152 -95.1901384"
      },
      {
       "output_type": "stream",
       "stream": "stdout",
       "text": "\nzc 77034: 29.6124152/-95.1901384, 48201/Harris"
      },
      {
       "output_type": "stream",
       "stream": "stdout",
       "text": "\nzc: 38.8825531 -104.7345937"
      },
      {
       "output_type": "stream",
       "stream": "stdout",
       "text": "\nzc 80917: 38.8825531/-104.7345937, 08041/El Paso"
      },
      {
       "output_type": "stream",
       "stream": "stdout",
       "text": "\nzc: 41.5083668 -72.9106202"
      },
      {
       "output_type": "stream",
       "stream": "stdout",
       "text": "\nzc 06410: 41.5083668/-72.9106202, 09009/New Haven"
      },
      {
       "output_type": "stream",
       "stream": "stdout",
       "text": "\nzc: 45.6405414 -122.6204002"
      },
      {
       "output_type": "stream",
       "stream": "stdout",
       "text": "\nzc 98661: 45.6405414/-122.6204002, 53011/Clark"
      },
      {
       "output_type": "stream",
       "stream": "stdout",
       "text": "\nzc: 45.6405989 -122.6234603"
      },
      {
       "output_type": "stream",
       "stream": "stdout",
       "text": "\nzc 98668: 45.6405989/-122.6234603, 53011/Clark"
      },
      {
       "output_type": "stream",
       "stream": "stdout",
       "text": "\nzc: 33.090285 -117.0499859"
      },
      {
       "output_type": "stream",
       "stream": "stdout",
       "text": "\nzc 92025: 33.090285/-117.0499859, 06073/San Diego"
      },
      {
       "output_type": "stream",
       "stream": "stdout",
       "text": "\nzc: 40.3610338 -75.0961549"
      },
      {
       "output_type": "stream",
       "stream": "stdout",
       "text": "\nzc 18902: 40.3610338/-75.0961549, 42017/Bucks"
      },
      {
       "output_type": "stream",
       "stream": "stdout",
       "text": "\nzc: 27.0236113 -82.3343375"
      },
      {
       "output_type": "stream",
       "stream": "stdout",
       "text": "\nzc 34293: 27.0236113/-82.3343375, 12115/Sarasota"
      },
      {
       "output_type": "stream",
       "stream": "stdout",
       "text": "\nzc: 40.6572331 -75.4985521"
      },
      {
       "output_type": "stream",
       "stream": "stdout",
       "text": "\nzc 18052: 40.6572331/-75.4985521, 42077/Lehigh"
      },
      {
       "output_type": "stream",
       "stream": "stdout",
       "text": "\nzc: 37.2260616 -121.9302449"
      },
      {
       "output_type": "stream",
       "stream": "stdout",
       "text": "\nzc 95032: 37.2260616/-121.9302449, 06085/Santa Clara"
      },
      {
       "output_type": "stream",
       "stream": "stdout",
       "text": "\nzc: 30.1643797 -81.7458845"
      },
      {
       "output_type": "stream",
       "stream": "stdout",
       "text": "\nzc 32073: 30.1643797/-81.7458845, 12019/Clay"
      },
      {
       "output_type": "stream",
       "stream": "stdout",
       "text": "\nzc: 36.1857974 -79.8184684"
      },
      {
       "output_type": "stream",
       "stream": "stdout",
       "text": "\nzc 27455: 36.1857974/-79.8184684, 37081/Guilford"
      },
      {
       "output_type": "stream",
       "stream": "stdout",
       "text": "\nzc: 40.0542448 -85.9508923"
      },
      {
       "output_type": "stream",
       "stream": "stdout",
       "text": "\nzc 46060: 40.0542448/-85.9508923, 18057/Hamilton"
      },
      {
       "output_type": "stream",
       "stream": "stdout",
       "text": "\nzc: 35.7315398 -78.7759559"
      },
      {
       "output_type": "stream",
       "stream": "stdout",
       "text": "\nzc 27518: 35.7315398/-78.7759559, 37183/Wake"
      },
      {
       "output_type": "stream",
       "stream": "stdout",
       "text": "\nzc: 35.1376546 -89.7661527"
      },
      {
       "output_type": "stream",
       "stream": "stdout",
       "text": "\nzc 38018: 35.1376546/-89.7661527, 47157/Shelby"
      },
      {
       "output_type": "stream",
       "stream": "stdout",
       "text": "\nzc: 37.9448915 -122.0723816"
      },
      {
       "output_type": "stream",
       "stream": "stdout",
       "text": "\nzc 94523: 37.9448915/-122.0723816, 06013/Contra Costa"
      },
      {
       "output_type": "stream",
       "stream": "stdout",
       "text": "\nzc: 37.9538109 -121.9643745"
      },
      {
       "output_type": "stream",
       "stream": "stdout",
       "text": "\nzc 94521: 37.9538109/-121.9643745, 06013/Contra Costa"
      },
      {
       "output_type": "stream",
       "stream": "stdout",
       "text": "\nzc: 39.1998042 -96.581008"
      },
      {
       "output_type": "stream",
       "stream": "stdout",
       "text": "\nzc 66506: 39.1998042/-96.581008, 20161/Riley"
      },
      {
       "output_type": "stream",
       "stream": "stdout",
       "text": "\nzc: 41.6597963 -91.6080974"
      },
      {
       "output_type": "stream",
       "stream": "stdout",
       "text": "\nzc 52246: 41.6597963/-91.6080974, 19103/Johnson"
      },
      {
       "output_type": "stream",
       "stream": "stdout",
       "text": "\nzc: 36.3790421 -79.6951103"
      },
      {
       "output_type": "stream",
       "stream": "stdout",
       "text": "\nzc 27320: 36.3790421/-79.6951103, 37157/Rockingham"
      },
      {
       "output_type": "stream",
       "stream": "stdout",
       "text": "\nzc: 39.0023604 -77.097455"
      },
      {
       "output_type": "stream",
       "stream": "stdout",
       "text": "\nzc 20892: 39.0023604/-77.097455, 24031/Montgomery"
      },
      {
       "output_type": "stream",
       "stream": "stdout",
       "text": "\nzc: 40.9445428 -74.0754189"
      },
      {
       "output_type": "stream",
       "stream": "stdout",
       "text": "\nzc 07652: 40.9445428/-74.0754189, 34003/Bergen"
      },
      {
       "output_type": "stream",
       "stream": "stdout",
       "text": "\nzc: 39.2724771 -76.745195"
      },
      {
       "output_type": "stream",
       "stream": "stdout",
       "text": "\nzc 21228: 39.2724771/-76.745195, 24005/Baltimore"
      },
      {
       "output_type": "stream",
       "stream": "stdout",
       "text": "\nzc: 32.8256427 -117.1558867"
      },
      {
       "output_type": "stream",
       "stream": "stdout",
       "text": "\nzc 92111: 32.8256427/-117.1558867, 06073/San Diego"
      },
      {
       "output_type": "stream",
       "stream": "stdout",
       "text": "\nzc: 40.7078639 -111.8508966"
      },
      {
       "output_type": "stream",
       "stream": "stdout",
       "text": "\nzc 84106: 40.7078639/-111.8508966, 49035/Salt Lake"
      },
      {
       "output_type": "stream",
       "stream": "stdout",
       "text": "\nzc: 43.0383054 -77.7680952"
      },
      {
       "output_type": "stream",
       "stream": "stdout",
       "text": "\nzc 14546: 43.0383054/-77.7680952, 36055/Monroe"
      },
      {
       "output_type": "stream",
       "stream": "stdout",
       "text": "\nzc: 42.1335205 -87.9187711"
      },
      {
       "output_type": "stream",
       "stream": "stdout",
       "text": "\nzc 60090: 42.1335205/-87.9187711, 17031/Cook"
      },
      {
       "output_type": "stream",
       "stream": "stdout",
       "text": "\nzc: 40.8380145 -73.0346244"
      },
      {
       "output_type": "stream",
       "stream": "stdout",
       "text": "\nzc 11738: 40.8380145/-73.0346244, 36103/Suffolk"
      },
      {
       "output_type": "stream",
       "stream": "stdout",
       "text": "\nzc: 34.0931603 -118.3783347"
      },
      {
       "output_type": "stream",
       "stream": "stdout",
       "text": "\nzc 90069: 34.0931603/-118.3783347, 06037/Los Angeles"
      },
      {
       "output_type": "stream",
       "stream": "stdout",
       "text": "\nzc: 21.2966976 -157.8480364"
      },
      {
       "output_type": "stream",
       "stream": "stdout",
       "text": "\nzc 96814: 21.2966976/-157.8480364, 15003/Honolulu"
      },
      {
       "output_type": "stream",
       "stream": "stdout",
       "text": "\nzc: 38.3286205 -121.9359339"
      },
      {
       "output_type": "stream",
       "stream": "stdout",
       "text": "\nzc 95687: 38.3286205/-121.9359339, 06095/Solano"
      },
      {
       "output_type": "stream",
       "stream": "stdout",
       "text": "\nzc: 42.4955325 -71.5130445"
      },
      {
       "output_type": "stream",
       "stream": "stdout",
       "text": "\nzc 01719: 42.4955325/-71.5130445, 25017/Middlesex"
      },
      {
       "output_type": "stream",
       "stream": "stdout",
       "text": "\nzc: 33.2543052 -86.9123217"
      },
      {
       "output_type": "stream",
       "stream": "stdout",
       "text": "\nzc 35080: 33.2543052/-86.9123217, 01117/Shelby"
      },
      {
       "output_type": "stream",
       "stream": "stdout",
       "text": "\nzc: 37.5488885 -77.4874049"
      },
      {
       "output_type": "stream",
       "stream": "stdout",
       "text": "\nzc 23221: 37.5488885/-77.4874049, 51760/Richmond"
      },
      {
       "output_type": "stream",
       "stream": "stdout",
       "text": "\nzc: 32.84 -96.78"
      },
      {
       "output_type": "stream",
       "stream": "stdout",
       "text": "\nzc 75275: 32.84/-96.78, 48113/Dallas"
      },
      {
       "output_type": "stream",
       "stream": "stdout",
       "text": "\nzc: 37.4975165 -122.2710602"
      },
      {
       "output_type": "stream",
       "stream": "stdout",
       "text": "\nzc 94070: 37.4975165/-122.2710602, 06081/San Mateo"
      },
      {
       "output_type": "stream",
       "stream": "stdout",
       "text": "\nzc: 42.2775281 -71.3468091"
      },
      {
       "output_type": "stream",
       "stream": "stdout",
       "text": "\nzc 01760: 42.2775281/-71.3468091, 25017/Middlesex"
      },
      {
       "output_type": "stream",
       "stream": "stdout",
       "text": "\nzc: 42.5805638 -83.3041061"
      },
      {
       "output_type": "stream",
       "stream": "stdout",
       "text": "\nzc 48302: 42.5805638/-83.3041061, 26125/Oakland"
      },
      {
       "output_type": "stream",
       "stream": "stdout",
       "text": "\nzc: 43.1819713 -70.8952337"
      },
      {
       "output_type": "stream",
       "stream": "stdout",
       "text": "\nzc 03820: 43.1819713/-70.8952337, 33017/Strafford"
      },
      {
       "output_type": "stream",
       "stream": "stdout",
       "text": "\nzc: 30.372807 -91.1833043"
      },
      {
       "output_type": "stream",
       "stream": "stdout",
       "text": "\nzc 70820: 30.372807/-91.1833043, 22033/East Baton Rouge"
      },
      {
       "output_type": "stream",
       "stream": "stdout",
       "text": "\nzc: 32.3395031 -110.9864294"
      },
      {
       "output_type": "stream",
       "stream": "stdout",
       "text": "\nzc 85704: 32.3395031/-110.9864294, 04019/Pima"
      },
      {
       "output_type": "stream",
       "stream": "stdout",
       "text": "\nzc: 41.0411194 -73.541744"
      },
      {
       "output_type": "stream",
       "stream": "stdout",
       "text": "\nzc 06902: 41.0411194/-73.541744, 09001/Fairfield"
      },
      {
       "output_type": "stream",
       "stream": "stdout",
       "text": "\nzc: 36.1198996 -97.0888415"
      },
      {
       "output_type": "stream",
       "stream": "stdout",
       "text": "\nzc 74078: 36.1198996/-97.0888415, 40119/Payne"
      },
      {
       "output_type": "stream",
       "stream": "stdout",
       "text": "\nzc: 28.0658088 -82.6159271"
      },
      {
       "output_type": "stream",
       "stream": "stdout",
       "text": "\nzc 33626: 28.0658088/-82.6159271, 12057/Hillsborough"
      },
      {
       "output_type": "stream",
       "stream": "stdout",
       "text": "\nzc: 39.6317596 -75.5975296"
      },
      {
       "output_type": "stream",
       "stream": "stdout",
       "text": "\nzc 19720: 39.6317596/-75.5975296, 10003/New Castle"
      },
      {
       "output_type": "stream",
       "stream": "stdout",
       "text": "\nzc: 43.6189362 -116.5346883"
      },
      {
       "output_type": "stream",
       "stream": "stdout",
       "text": "\nzc 83687: 43.6189362/-116.5346883, 16027/Canyon"
      },
      {
       "output_type": "stream",
       "stream": "stdout",
       "text": "\nzc: 40.103832 -83.0200245"
      },
      {
       "output_type": "stream",
       "stream": "stdout",
       "text": "\nzc 43085: 40.103832/-83.0200245, 39049/Franklin"
      },
      {
       "output_type": "stream",
       "stream": "stdout",
       "text": "\nzc: 41.012961 -73.8389657"
      },
      {
       "output_type": "stream",
       "stream": "stdout",
       "text": "\nzc 10502: 41.012961/-73.8389657, 36119/Westchester"
      },
      {
       "output_type": "stream",
       "stream": "stdout",
       "text": "\nzc: 42.8047254 -89.6439924"
      },
      {
       "output_type": "stream",
       "stream": "stdout",
       "text": "\nzc 53574: 42.8047254/-89.6439924, 55045/Green"
      },
      {
       "output_type": "stream",
       "stream": "stdout",
       "text": "\nzc: 41.2300691 -73.6948234"
      },
      {
       "output_type": "stream",
       "stream": "stdout",
       "text": "\nzc 10507: 41.2300691/-73.6948234, 36119/Westchester"
      },
      {
       "output_type": "stream",
       "stream": "stdout",
       "text": "\nzc: 38.518893 -121.6511258"
      },
      {
       "output_type": "stream",
       "stream": "stdout",
       "text": "\nzc 95618: 38.518893/-121.6511258, 06113/Yolo"
      },
      {
       "output_type": "stream",
       "stream": "stdout",
       "text": "\nzc: 38.5474428 -121.7765309"
      },
      {
       "output_type": "stream",
       "stream": "stdout",
       "text": "\nzc 95616: 38.5474428/-121.7765309, 06095/Solano"
      },
      {
       "output_type": "stream",
       "stream": "stdout",
       "text": "\nzc: 26.931397 -80.109357"
      },
      {
       "output_type": "stream",
       "stream": "stdout",
       "text": "\nzc 33458: 26.931397/-80.109357, 12099/Palm Beach"
      },
      {
       "output_type": "stream",
       "stream": "stdout",
       "text": "\nzc: 41.7962928 -88.1974148"
      },
      {
       "output_type": "stream",
       "stream": "stdout",
       "text": "\nzc 60563: 41.7962928/-88.1974148, 17043/DuPage"
      },
      {
       "output_type": "stream",
       "stream": "stdout",
       "text": "\nzc: 42.8842866 -71.4061876"
      },
      {
       "output_type": "stream",
       "stream": "stdout",
       "text": "\nzc 03053: 42.8842866/-71.4061876, 33015/Rockingham"
      },
      {
       "output_type": "stream",
       "stream": "stdout",
       "text": "\nzc: 48.6208 22.287883"
      },
      {
       "output_type": "stream",
       "stream": "stdout",
       "text": "\nzc 88088: 48.6208/22.287883, /"
      },
      {
       "output_type": "stream",
       "stream": "stdout",
       "text": "\nzc: 18.3419118 -66.058249"
      },
      {
       "output_type": "stream",
       "stream": "stdout",
       "text": "\nzc 00926: 18.3419118/-66.058249, /"
      },
      {
       "output_type": "stream",
       "stream": "stdout",
       "text": "\nzc: 33.5039207 -117.5613246"
      },
      {
       "output_type": "stream",
       "stream": "stdout",
       "text": "\nzc 92675: 33.5039207/-117.5613246, 06059/Orange"
      },
      {
       "output_type": "stream",
       "stream": "stdout",
       "text": "\nzc: 45.4923824 -122.8029665"
      },
      {
       "output_type": "stream",
       "stream": "stdout",
       "text": "\nzc 97005: 45.4923824/-122.8029665, 41067/Washington"
      },
      {
       "output_type": "stream",
       "stream": "stdout",
       "text": "\nzc: 32.8234848 -79.8520818"
      },
      {
       "output_type": "stream",
       "stream": "stdout",
       "text": "\nzc 29464: 32.8234848/-79.8520818, 45019/Charleston"
      },
      {
       "output_type": "stream",
       "stream": "stdout",
       "text": "\nzc: 35.1777937 -120.4818446"
      },
      {
       "output_type": "stream",
       "stream": "stdout",
       "text": "\nzc 93420: 35.1777937/-120.4818446, 06079/San Luis Obispo"
      },
      {
       "output_type": "stream",
       "stream": "stdout",
       "text": "\nzc: 36.1003494 -86.7718017"
      },
      {
       "output_type": "stream",
       "stream": "stdout",
       "text": "\nzc 37204: 36.1003494/-86.7718017, 47037/Davidson"
      },
      {
       "output_type": "stream",
       "stream": "stdout",
       "text": "\nzc: 34.2295937 -118.9761519"
      },
      {
       "output_type": "stream",
       "stream": "stdout",
       "text": "\nzc 93012: 34.2295937/-118.9761519, 06111/Ventura"
      },
      {
       "output_type": "stream",
       "stream": "stdout",
       "text": "\nzc: 43.5918446 -110.8417411"
      },
      {
       "output_type": "stream",
       "stream": "stdout",
       "text": "\nzc 83025: 43.5918446/-110.8417411, 56039/Teton"
      },
      {
       "output_type": "stream",
       "stream": "stdout",
       "text": "\nzc: 46.3537739 -118.9197656"
      },
      {
       "output_type": "stream",
       "stream": "stdout",
       "text": "\nzc 99301: 46.3537739/-118.9197656, 53021/Franklin"
      },
      {
       "output_type": "stream",
       "stream": "stdout",
       "text": "\nzc: 42.9616689 -85.6588999"
      },
      {
       "output_type": "stream",
       "stream": "stdout",
       "text": "\nzc 49503: 42.9616689/-85.6588999, 26081/Kent"
      },
      {
       "output_type": "stream",
       "stream": "stdout",
       "text": "\nzc: 30.3542409 -97.7742702"
      },
      {
       "output_type": "stream",
       "stream": "stdout",
       "text": "\nzc 78731: 30.3542409/-97.7742702, 48453/Travis"
      },
      {
       "output_type": "stream",
       "stream": "stdout",
       "text": "\nzc: 30.3315188 -97.8667182"
      },
      {
       "output_type": "stream",
       "stream": "stdout",
       "text": "\nzc 78733: 30.3315188/-97.8667182, 48453/Travis"
      },
      {
       "output_type": "stream",
       "stream": "stdout",
       "text": "\nzc: 28.0095179 -81.9261999"
      },
      {
       "output_type": "stream",
       "stream": "stdout",
       "text": "\nzc 33803: 28.0095179/-81.9261999, 12105/Polk"
      },
      {
       "output_type": "stream",
       "stream": "stdout",
       "text": "\nzc: 35.9433558 -83.9386991"
      },
      {
       "output_type": "stream",
       "stream": "stdout",
       "text": "\nzc 37996: 35.9433558/-83.9386991, 47093/Knox"
      },
      {
       "output_type": "stream",
       "stream": "stdout",
       "text": "\nzc: 60.3288295 24.2815628"
      },
      {
       "output_type": "stream",
       "stream": "stdout",
       "text": "\nzc 03100: 60.3288295/24.2815628, /"
      },
      {
       "output_type": "stream",
       "stream": "stdout",
       "text": "\nzc: 36.1148054 -115.2778317"
      },
      {
       "output_type": "stream",
       "stream": "stdout",
       "text": "\nzc 89147: 36.1148054/-115.2778317, 32003/Clark"
      },
      {
       "output_type": "stream",
       "stream": "stdout",
       "text": "\nzc: 40.5253926 -79.9472502"
      },
      {
       "output_type": "stream",
       "stream": "stdout",
       "text": "\nzc 15116: 40.5253926/-79.9472502, 42003/Allegheny"
      },
      {
       "output_type": "stream",
       "stream": "stdout",
       "text": "\nzc: 36.135635 -115.2304131"
      },
      {
       "output_type": "stream",
       "stream": "stdout",
       "text": "\nzc 89146: 36.135635/-115.2304131, 32003/Clark"
      },
      {
       "output_type": "stream",
       "stream": "stdout",
       "text": "\nzc: 30.620114 -88.2753144"
      },
      {
       "output_type": "stream",
       "stream": "stdout",
       "text": "\nzc 36695: 30.620114/-88.2753144, 01097/Mobile"
      },
      {
       "output_type": "stream",
       "stream": "stdout",
       "text": "\nzc: 40.1742648 -83.0898194"
      },
      {
       "output_type": "stream",
       "stream": "stdout",
       "text": "\nzc 43065: 40.1742648/-83.0898194, 39041/Delaware"
      },
      {
       "output_type": "stream",
       "stream": "stdout",
       "text": "\nzc: 39.9645049 -86.0223611"
      },
      {
       "output_type": "stream",
       "stream": "stdout",
       "text": "\nzc 46038: 39.9645049/-86.0223611, 18057/Hamilton"
      },
      {
       "output_type": "stream",
       "stream": "stdout",
       "text": "\nzc: 33.4986286 -111.9224398"
      },
      {
       "output_type": "stream",
       "stream": "stdout",
       "text": "\nzc 85251: 33.4986286/-111.9224398, 04013/Maricopa"
      },
      {
       "output_type": "stream",
       "stream": "stdout",
       "text": "\nzc: 33.5243639 -111.8985922"
      },
      {
       "output_type": "stream",
       "stream": "stdout",
       "text": "\nzc 85250: 33.5243639/-111.8985922, 04013/Maricopa"
      },
      {
       "output_type": "stream",
       "stream": "stdout",
       "text": "\nzc: 33.6071829 -111.9403254"
      },
      {
       "output_type": "stream",
       "stream": "stdout",
       "text": "\nzc 85254: 33.6071829/-111.9403254, 04013/Maricopa"
      },
      {
       "output_type": "stream",
       "stream": "stdout",
       "text": "\nzc: 42.1707499 -70.9427914"
      },
      {
       "output_type": "stream",
       "stream": "stdout",
       "text": "\nzc 02190: 42.1707499/-70.9427914, 25021/Norfolk"
      },
      {
       "output_type": "stream",
       "stream": "stdout",
       "text": "\nzc: 43.1054334 -89.4269287"
      },
      {
       "output_type": "stream",
       "stream": "stdout",
       "text": "\nzc 53706: 43.1054334/-89.4269287, 55025/Dane"
      },
      {
       "output_type": "stream",
       "stream": "stdout",
       "text": "\nzc: 42.5123116 -83.4750241"
      },
      {
       "output_type": "stream",
       "stream": "stdout",
       "text": "\nzc 48377: 42.5123116/-83.4750241, 26125/Oakland"
      },
      {
       "output_type": "stream",
       "stream": "stdout",
       "text": "\nzc: 36.025609 -78.9853813"
      },
      {
       "output_type": "stream",
       "stream": "stdout",
       "text": "\nzc 27705: 36.025609/-78.9853813, 37135/Orange"
      },
      {
       "output_type": "stream",
       "stream": "stdout",
       "text": "\nzc: 38.4739555 -122.7520139"
      },
      {
       "output_type": "stream",
       "stream": "stdout",
       "text": "\nzc 95403: 38.4739555/-122.7520139, 06097/Sonoma"
      },
      {
       "output_type": "stream",
       "stream": "stdout",
       "text": "\nzc: 32.8981142 -117.2029363"
      },
      {
       "output_type": "stream",
       "stream": "stdout",
       "text": "\nzc 92121: 32.8981142/-117.2029363, 06073/San Diego"
      },
      {
       "output_type": "stream",
       "stream": "stdout",
       "text": "\nzc: 38.0268596 -121.5141615"
      },
      {
       "output_type": "stream",
       "stream": "stdout",
       "text": "\nzc 95219: 38.0268596/-121.5141615, 06077/San Joaquin"
      },
      {
       "output_type": "stream",
       "stream": "stdout",
       "text": "\nzc: 29.9919028 -90.0795843"
      },
      {
       "output_type": "stream",
       "stream": "stdout",
       "text": "\nzc 70179: 29.9919028/-90.0795843, 22071/Orleans"
      },
      {
       "output_type": "stream",
       "stream": "stdout",
       "text": "\nzc: 39.040746 -77.2290193"
      },
      {
       "output_type": "stream",
       "stream": "stdout",
       "text": "\nzc 20854: 39.040746/-77.2290193, 24031/Montgomery"
      },
      {
       "output_type": "stream",
       "stream": "stdout",
       "text": "\nzc: 34.0236878 -118.3900204"
      },
      {
       "output_type": "stream",
       "stream": "stdout",
       "text": "\nzc 90232: 34.0236878/-118.3900204, 06037/Los Angeles"
      },
      {
       "output_type": "stream",
       "stream": "stdout",
       "text": "\nzc: 42.9007932 -78.7079381"
      },
      {
       "output_type": "stream",
       "stream": "stdout",
       "text": "\nzc 14043: 42.9007932/-78.7079381, 36029/Erie"
      },
      {
       "output_type": "stream",
       "stream": "stdout",
       "text": "\nzc: 38.5544039 -121.3255688"
      },
      {
       "output_type": "stream",
       "stream": "stdout",
       "text": "\nzc 95827: 38.5544039/-121.3255688, 06067/Sacramento"
      },
      {
       "output_type": "stream",
       "stream": "stdout",
       "text": "\nzc: 33.6832497 -117.8340735"
      },
      {
       "output_type": "stream",
       "stream": "stdout",
       "text": "\nzc 92614: 33.6832497/-117.8340735, 06059/Orange"
      },
      {
       "output_type": "stream",
       "stream": "stdout",
       "text": "\nzc: 40.196447 -74.9091853"
      },
      {
       "output_type": "stream",
       "stream": "stdout",
       "text": "\nzc 19047: 40.196447/-74.9091853, 42017/Bucks"
      },
      {
       "output_type": "stream",
       "stream": "stdout",
       "text": "\nzc: 40.5569121 -80.0199562"
      },
      {
       "output_type": "stream",
       "stream": "stdout",
       "text": "\nzc 15237: 40.5569121/-80.0199562, 42003/Allegheny"
      },
      {
       "output_type": "stream",
       "stream": "stdout",
       "text": "\nzc: 33.7027746 -117.7432015"
      },
      {
       "output_type": "stream",
       "stream": "stdout",
       "text": "\nzc 92620: 33.7027746/-117.7432015, 06059/Orange"
      },
      {
       "output_type": "stream",
       "stream": "stdout",
       "text": "\nzc: 26.6374761 -80.2432839"
      },
      {
       "output_type": "stream",
       "stream": "stdout",
       "text": "\nzc 33414: 26.6374761/-80.2432839, 12099/Palm Beach"
      },
      {
       "output_type": "stream",
       "stream": "stdout",
       "text": "\nzc: 38.8454321 -77.3209555"
      },
      {
       "output_type": "stream",
       "stream": "stdout",
       "text": "\nzc 22030: 38.8454321/-77.3209555, 51059/Fairfax"
      },
      {
       "output_type": "stream",
       "stream": "stdout",
       "text": "\nzc: 38.864187 -77.2577571"
      },
      {
       "output_type": "stream",
       "stream": "stdout",
       "text": "\nzc 22031: 38.864187/-77.2577571, 51059/Fairfax"
      },
      {
       "output_type": "stream",
       "stream": "stdout",
       "text": "\nzc: 39.8599257 -75.7255192"
      },
      {
       "output_type": "stream",
       "stream": "stdout",
       "text": "\nzc 19348: 39.8599257/-75.7255192, 42029/Chester"
      },
      {
       "output_type": "stream",
       "stream": "stdout",
       "text": "\nzc: 42.5412689 -71.1092012"
      },
      {
       "output_type": "stream",
       "stream": "stdout",
       "text": "\nzc 01867: 42.5412689/-71.1092012, 25017/Middlesex"
      },
      {
       "output_type": "stream",
       "stream": "stdout",
       "text": "\nzc: 38.8996376 -92.4406387"
      },
      {
       "output_type": "stream",
       "stream": "stdout",
       "text": "\nzc 65203: 38.8996376/-92.4406387, 29019/Boone"
      },
      {
       "output_type": "stream",
       "stream": "stdout",
       "text": "\nzc: 18.3656552 -66.1117828"
      },
      {
       "output_type": "stream",
       "stream": "stdout",
       "text": "\nzc 00969: 18.3656552/-66.1117828, /"
      },
      {
       "output_type": "stream",
       "stream": "stdout",
       "text": "\nzc: 40.215546 -74.6049061"
      },
      {
       "output_type": "stream",
       "stream": "stdout",
       "text": "\nzc 08691: 40.215546/-74.6049061, 34021/Mercer"
      },
      {
       "output_type": "stream",
       "stream": "stdout",
       "text": "\nzc: 47.7188906 -117.1509129"
      },
      {
       "output_type": "stream",
       "stream": "stdout",
       "text": "\nzc 99027: 47.7188906/-117.1509129, 53063/Spokane"
      },
      {
       "output_type": "stream",
       "stream": "stdout",
       "text": "\nzc: 35.3180691 -106.5466221"
      },
      {
       "output_type": "stream",
       "stream": "stdout",
       "text": "\nzc 87004: 35.3180691/-106.5466221, 35043/Sandoval"
      },
      {
       "output_type": "stream",
       "stream": "stdout",
       "text": "\nzc: 40.8811718 -74.2120629"
      },
      {
       "output_type": "stream",
       "stream": "stdout",
       "text": "\nzc 07424: 40.8811718/-74.2120629, 34031/Passaic"
      },
      {
       "output_type": "stream",
       "stream": "stdout",
       "text": "\nzc: 33.4776589 -88.8263006"
      },
      {
       "output_type": "stream",
       "stream": "stdout",
       "text": "\nzc 39759: 33.4776589/-88.8263006, 28105/Oktibbeha"
      },
      {
       "output_type": "stream",
       "stream": "stdout",
       "text": "\nzc: 45.1056514 -93.4892746"
      },
      {
       "output_type": "stream",
       "stream": "stdout",
       "text": "\nzc 55311: 45.1056514/-93.4892746, 27053/Hennepin"
      },
      {
       "output_type": "stream",
       "stream": "stdout",
       "text": "\nzc: 48.1129336 -96.1857655"
      },
      {
       "output_type": "stream",
       "stream": "stdout",
       "text": "\nzc 56701: 48.1129336/-96.1857655, 27113/Pennington"
      },
      {
       "output_type": "stream",
       "stream": "stdout",
       "text": "\nzc: 32.0371137 -81.1747498"
      },
      {
       "output_type": "stream",
       "stream": "stdout",
       "text": "\nzc 31405: 32.0371137/-81.1747498, 13051/Chatham"
      },
      {
       "output_type": "stream",
       "stream": "stdout",
       "text": "\nzc: 30.5007553 -88.9605365"
      },
      {
       "output_type": "stream",
       "stream": "stdout",
       "text": "\nzc 39532: 30.5007553/-88.9605365, 28047/Harrison"
      },
      {
       "output_type": "stream",
       "stream": "stdout",
       "text": "\nzc: 37.9202057 -122.2937428"
      },
      {
       "output_type": "stream",
       "stream": "stdout",
       "text": "\nzc 94530: 37.9202057/-122.2937428, 06013/Contra Costa"
      },
      {
       "output_type": "stream",
       "stream": "stdout",
       "text": "\nzc: 37.2770029 -121.9529992"
      },
      {
       "output_type": "stream",
       "stream": "stdout",
       "text": "\nzc 95008: 37.2770029/-121.9529992, 06085/Santa Clara"
      },
      {
       "output_type": "stream",
       "stream": "stdout",
       "text": "\nzc: 37.5148444 -121.9131761"
      },
      {
       "output_type": "stream",
       "stream": "stdout",
       "text": "\nzc 94539: 37.5148444/-121.9131761, 06001/Alameda"
      },
      {
       "output_type": "stream",
       "stream": "stdout",
       "text": "\nzc: 37.920558 -122.5089856"
      },
      {
       "output_type": "stream",
       "stream": "stdout",
       "text": "\nzc 94925: 37.920558/-122.5089856, 06041/Marin"
      },
      {
       "output_type": "stream",
       "stream": "stdout",
       "text": "\nzc: 35.7445072 -83.7942551"
      },
      {
       "output_type": "stream",
       "stream": "stdout",
       "text": "\nzc 37886: 35.7445072/-83.7942551, 47009/Blount"
      },
      {
       "output_type": "stream",
       "stream": "stdout",
       "text": "\nzc: 48.7562157 -122.4894588"
      },
      {
       "output_type": "stream",
       "stream": "stdout",
       "text": "\nzc 98225: 48.7562157/-122.4894588, 53073/Whatcom"
      },
      {
       "output_type": "stream",
       "stream": "stdout",
       "text": "\nzc: 34.1036996 -117.6610854"
      },
      {
       "output_type": "stream",
       "stream": "stdout",
       "text": "\nzc 91786: 34.1036996/-117.6610854, 06071/San Bernardino"
      },
      {
       "output_type": "stream",
       "stream": "stdout",
       "text": "\nzc: 41.6724038 -86.2539519"
      },
      {
       "output_type": "stream",
       "stream": "stdout",
       "text": "\nzc 46601: 41.6724038/-86.2539519, 18141/St. Joseph"
      },
      {
       "output_type": "stream",
       "stream": "stdout",
       "text": "\nzc: 41.9169525 -88.2947675"
      },
      {
       "output_type": "stream",
       "stream": "stdout",
       "text": "\nzc 60174: 41.9169525/-88.2947675, 17089/Kane"
      },
      {
       "output_type": "stream",
       "stream": "stdout",
       "text": "\nzc: 42.026064 -87.7271123"
      },
      {
       "output_type": "stream",
       "stream": "stdout",
       "text": "\nzc 60076: 42.026064/-87.7271123, 17031/Cook"
      },
      {
       "output_type": "stream",
       "stream": "stdout",
       "text": "\nzc: 38.9193108 -94.70189"
      },
      {
       "output_type": "stream",
       "stream": "stdout",
       "text": "\nzc 66210: 38.9193108/-94.70189, 20091/Johnson"
      },
      {
       "output_type": "stream",
       "stream": "stdout",
       "text": "\nzc: 35.1290557 -80.9539475"
      },
      {
       "output_type": "stream",
       "stream": "stdout",
       "text": "\nzc 28273: 35.1290557/-80.9539475, 37119/Mecklenburg"
      },
      {
       "output_type": "stream",
       "stream": "stdout",
       "text": "\nzc: 38.14 -84.47"
      },
      {
       "output_type": "stream",
       "stream": "stdout",
       "text": "\nzc 40580: 38.14/-84.47, 21067/Fayette"
      },
      {
       "output_type": "stream",
       "stream": "stdout",
       "text": "\nzc: 40.4401775 -86.9261008"
      },
      {
       "output_type": "stream",
       "stream": "stdout",
       "text": "\nzc 47907: 40.4401775/-86.9261008, 18157/Tippecanoe"
      },
      {
       "output_type": "stream",
       "stream": "stdout",
       "text": "\nzc: 40.4932743 -86.9624086"
      },
      {
       "output_type": "stream",
       "stream": "stdout",
       "text": "\nzc 47906: 40.4932743/-86.9624086, 18157/Tippecanoe"
      },
      {
       "output_type": "stream",
       "stream": "stdout",
       "text": "\nzc: 38.9516143 -77.1197521"
      },
      {
       "output_type": "stream",
       "stream": "stdout",
       "text": "\nzc 20816: 38.9516143/-77.1197521, 24031/Montgomery"
      },
      {
       "output_type": "stream",
       "stream": "stdout",
       "text": "\nzc: 42.9440633 -85.3342973"
      },
      {
       "output_type": "stream",
       "stream": "stdout",
       "text": "\nzc 49331: 42.9440633/-85.3342973, 26081/Kent"
      },
      {
       "output_type": "stream",
       "stream": "stdout",
       "text": "\nzc: 38.5600699 -122.0155491"
      },
      {
       "output_type": "stream",
       "stream": "stdout",
       "text": "\nzc 95694: 38.5600699/-122.0155491, 06113/Yolo"
      },
      {
       "output_type": "stream",
       "stream": "stdout",
       "text": "\nzc: 38.235851 -85.3652959"
      },
      {
       "output_type": "stream",
       "stream": "stdout",
       "text": "\nzc 40067: 38.235851/-85.3652959, 21211/Shelby"
      },
      {
       "output_type": "stream",
       "stream": "stdout",
       "text": "\nzc: 33.7372177 -117.8135579"
      },
      {
       "output_type": "stream",
       "stream": "stdout",
       "text": "\nzc 92780: 33.7372177/-117.8135579, 06059/Orange"
      },
      {
       "output_type": "stream",
       "stream": "stdout",
       "text": "\nzc: 46.7251492 -116.9667226"
      },
      {
       "output_type": "stream",
       "stream": "stdout",
       "text": "\nzc 83843: 46.7251492/-116.9667226, 16057/Latah"
      },
      {
       "output_type": "stream",
       "stream": "stdout",
       "text": "\nzc: 32.9481789 -96.7297205"
      },
      {
       "output_type": "stream",
       "stream": "stdout",
       "text": "\nzc 75080: 32.9481789/-96.7297205, 48113/Dallas"
      },
      {
       "output_type": "stream",
       "stream": "stdout",
       "text": "\nzc: 40.5747108 -74.6458987"
      },
      {
       "output_type": "stream",
       "stream": "stdout",
       "text": "\nzc 08869: 40.5747108/-74.6458987, 34035/Somerset"
      },
      {
       "output_type": "stream",
       "stream": "stdout",
       "text": "\nzc: 42.0288663 -93.6480307"
      },
      {
       "output_type": "stream",
       "stream": "stdout",
       "text": "\nzc 50011: 42.0288663/-93.6480307, 19169/Story"
      },
      {
       "output_type": "stream",
       "stream": "stdout",
       "text": "\nzc: 43.1699202 -123.2374563"
      },
      {
       "output_type": "stream",
       "stream": "stdout",
       "text": "\nzc 97470: 43.1699202/-123.2374563, 41019/Douglas"
      },
      {
       "output_type": "stream",
       "stream": "stdout",
       "text": "\nzc: 44.059912 -123.0179348"
      },
      {
       "output_type": "stream",
       "stream": "stdout",
       "text": "\nzc 97477: 44.059912/-123.0179348, 41039/Lane"
      },
      {
       "output_type": "stream",
       "stream": "stdout",
       "text": "\n"
      }
     ],
     "prompt_number": 13
    },
    {
     "cell_type": "code",
     "collapsed": false,
     "input": "lat = 43.376782\nlon = -86.3275351\nimport dstk\ndstk = dstk.DSTK()\nresults = dstk.coordinates2politics([lat,lon])\nresults",
     "language": "python",
     "metadata": {},
     "outputs": [
      {
       "metadata": {},
       "output_type": "pyout",
       "prompt_number": 14,
       "text": "[{u'location': {u'latitude': 43.376782, u'longitude': -86.3275351},\n  u'politics': [{u'code': u'usa',\n    u'friendly_type': u'country',\n    u'name': u'United States',\n    u'type': u'admin2'},\n   {u'code': u'us26',\n    u'friendly_type': u'state',\n    u'name': u'Michigan',\n    u'type': u'admin4'},\n   {u'code': u'26_02',\n    u'friendly_type': u'constituency',\n    u'name': u'Second district, MI',\n    u'type': u'constituency'},\n   {u'code': u'26_121',\n    u'friendly_type': u'county',\n    u'name': u'Muskegon',\n    u'type': u'admin6'},\n   {u'code': u'26_86780',\n    u'friendly_type': u'city',\n    u'name': u'Whitehall',\n    u'type': u'admin5'}]}]"
      }
     ],
     "prompt_number": 14
    },
    {
     "cell_type": "code",
     "collapsed": false,
     "input": "",
     "language": "python",
     "metadata": {},
     "outputs": []
    }
   ],
   "metadata": {}
  }
 ]
}